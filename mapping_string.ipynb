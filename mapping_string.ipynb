{
 "cells": [
  {
   "cell_type": "code",
   "execution_count": null,
   "id": "0cf6c387",
   "metadata": {},
   "outputs": [],
   "source": [
    "# Get the uniprot mapping IDs\n",
    "# ! wget https://ftp.uniprot.org/pub/databases/uniprot/current_release/knowledgebase/idmapping/by_organism/HUMAN_9606_idmapping.dat.gz\n",
    "\n",
    "# Grep mapping ids to string only\n",
    "# ! grep STRING HUMAN_9606_idmapping.dat > string.map\n",
    "\n",
    "\n",
    "# Get string interactions\n",
    "# ! wget https://stringdb-static.org/download/protein.links.v11.5/9606.protein.links.v11.5.txt.gz"
   ]
  },
  {
   "cell_type": "code",
   "execution_count": null,
   "id": "40d294d1",
   "metadata": {},
   "outputs": [],
   "source": [
    "import pandas as pd"
   ]
  },
  {
   "cell_type": "code",
   "execution_count": null,
   "id": "1c86c2db",
   "metadata": {},
   "outputs": [],
   "source": [
    "dfmap = pd.read_csv('../../Downloads/string.map', sep='\\t', names=['protid', 'db', 'ensmbl'])\n",
    "dfstring = pd.read_csv('../../Downloads/9606.protein.links.v11.5.txt', sep=' ')\n",
    "df = pd.read_csv('tmp/final_results_all.tsv', sep='\\t')"
   ]
  },
  {
   "cell_type": "code",
   "execution_count": null,
   "id": "e738dc76",
   "metadata": {},
   "outputs": [],
   "source": [
    "dfmap.head()"
   ]
  },
  {
   "cell_type": "code",
   "execution_count": null,
   "id": "f3cab105",
   "metadata": {},
   "outputs": [],
   "source": [
    "dfstring.head()"
   ]
  },
  {
   "cell_type": "code",
   "execution_count": null,
   "id": "dd3150f3",
   "metadata": {},
   "outputs": [],
   "source": [
    "df.head()"
   ]
  },
  {
   "cell_type": "code",
   "execution_count": null,
   "id": "7bb895c9",
   "metadata": {},
   "outputs": [],
   "source": [
    "#Getting second order interactions\n",
    "df = df[(df.order ==2) & df.coef_id.apply(lambda x: ':' in x)]\n",
    "df['prots'] = df.snps.apply(lambda x: x.split('.')[0]+'+'+x.split('+')[1].split('.')[0])\n",
    "df.head()"
   ]
  },
  {
   "cell_type": "code",
   "execution_count": null,
   "id": "10d75580",
   "metadata": {},
   "outputs": [],
   "source": [
    "# Applying bonferroni for multiple testing\n",
    "from  statsmodels.stats.multitest import multipletests\n",
    "df['p_corrected'] = multipletests(df['P>|z|'], alpha=0.05, method='bonferroni')[1]\n"
   ]
  },
  {
   "cell_type": "code",
   "execution_count": null,
   "id": "f3cf36ec",
   "metadata": {},
   "outputs": [],
   "source": [
    "# Mapping DB string to uniprot IDs\n",
    "dfmapped = dfstring.merge(dfmap, left_on='protein1', right_on='ensmbl').merge(dfmap, left_on='protein2', right_on='ensmbl')\n",
    "\n",
    "#Making the interactions the same way my tool does them\n",
    "dfmapped = dfmapped[['protein1','protein2','combined_score','protid_x','protid_y']]\n",
    "dfmapped['combined_col'] = dfmapped.apply(lambda row:'+'.join(sorted([row['protid_x'], row['protid_y']])), axis=1) #inefficient, takes a while. Probably faster with if, else function\n",
    "dfmapped.head()"
   ]
  },
  {
   "cell_type": "code",
   "execution_count": null,
   "id": "a0ef0c28",
   "metadata": {},
   "outputs": [],
   "source": [
    "#Combining string and RF\n",
    "dfcombi=df.merge(dfmapped, left_on='prots', right_on='combined_col')"
   ]
  },
  {
   "cell_type": "code",
   "execution_count": null,
   "id": "262c8cc1",
   "metadata": {},
   "outputs": [],
   "source": [
    "print('RF all interactions',len(df))\n",
    "print('RF all interactions NOT REPEATED',len(df.drop_duplicates('snps',keep='first')))\n",
    "print('Bonferroni corrected interactions', sum(df['p_corrected']<0.05))\n",
    "print('overlapping string&RF interactions',len(dfcombi))\n",
    "print('overlapping string&RF interactions NOT REPEATED',len(dfcombi.drop_duplicates('snps',keep='first')))\n",
    "print('overlapping string&RF SIGNIFICANT interactions', sum(dfcombi['p_corrected']<0.05))\n",
    "print('overlapping string&RF SIGNIFICANT interactions NOT REPEATED', sum((dfcombi.drop_duplicates('snps',keep='first')['p_corrected']<0.05)))"
   ]
  },
  {
   "cell_type": "code",
   "execution_count": null,
   "id": "8e30905d",
   "metadata": {},
   "outputs": [],
   "source": []
  }
 ],
 "metadata": {
  "kernelspec": {
   "display_name": "Python 3 (ipykernel)",
   "language": "python",
   "name": "python3"
  },
  "language_info": {
   "codemirror_mode": {
    "name": "ipython",
    "version": 3
   },
   "file_extension": ".py",
   "mimetype": "text/x-python",
   "name": "python",
   "nbconvert_exporter": "python",
   "pygments_lexer": "ipython3",
   "version": "3.8.12"
  }
 },
 "nbformat": 4,
 "nbformat_minor": 5
}
