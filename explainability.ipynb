{
 "cells": [
  {
   "cell_type": "code",
   "execution_count": 1,
   "id": "323bd8a9-866e-40d1-8446-1810da38a58b",
   "metadata": {},
   "outputs": [],
   "source": [
    "# Importing libraries\n",
    "import pandas as pd\n",
    "import numpy as np\n",
    "import os\n",
    "import sys\n",
    "import shutil\n",
    "\n",
    "import statsmodels.formula.api as smf\n",
    "from statsmodels.stats.multitest import fdrcorrection\n",
    "from itertools import combinations\n",
    "\n",
    "import matplotlib.pyplot as plt"
   ]
  },
  {
   "cell_type": "code",
   "execution_count": 2,
   "id": "fac41010-542d-4794-8b3c-46bf50884189",
   "metadata": {},
   "outputs": [],
   "source": [
    "from scipy.stats import pearsonr\n",
    "import seaborn as sns"
   ]
  },
  {
   "cell_type": "code",
   "execution_count": 3,
   "id": "14be76fa-cb05-4be7-83cb-5933c2eb5812",
   "metadata": {},
   "outputs": [],
   "source": [
    "working_dir = 'tmp/'\n",
    "\n",
    "# File inputs\n",
    "x_input = 'data/ProCan-DepMapSanger_protein_matrix_6692_averaged.xlsx'\n",
    "y_input = 'data/DrugResponse_PANCANCER_GDSC1_GDSC2_20200602.csv'"
   ]
  },
  {
   "cell_type": "code",
   "execution_count": 4,
   "id": "ab6f76c4-14a3-4751-83a8-39004501e2cd",
   "metadata": {},
   "outputs": [
    {
     "name": "stderr",
     "output_type": "stream",
     "text": [
      "C:\\Users\\wen068\\AppData\\Local\\Temp\\ipykernel_18464\\3472630815.py:1: DtypeWarning: Columns (2) have mixed types. Specify dtype option on import or set low_memory=False.\n",
      "  tested_interactions = pd.read_csv(working_dir+\"final3_aux.tsv\", sep=\"\\t\", index_col=False,  names=[\"coef_id\", \"coef\" ,\"std err\" ,\"z\", \"P>|z|\", \"[0.025\", \t\"0.975]\", \"converged\", \"pseudo_r2\", \"standard_fitting\", \"snps\", \"order\", \"drug\"])\n"
     ]
    }
   ],
   "source": [
    "tested_interactions = pd.read_csv(working_dir+\"final3_aux.tsv\", sep=\"\\t\", index_col=False,  names=[\"coef_id\", \"coef\" ,\"std err\" ,\"z\", \"P>|z|\", \"[0.025\", \t\"0.975]\", \"converged\", \"pseudo_r2\", \"standard_fitting\", \"snps\", \"order\", \"drug\"])"
   ]
  },
  {
   "cell_type": "code",
   "execution_count": 5,
   "id": "1095a63e-df92-4612-9671-2d0c8be97a28",
   "metadata": {},
   "outputs": [],
   "source": [
    "proteins = tested_interactions[tested_interactions[\"coef_id\"].str.contains(\"HUMAN\")].copy()\n",
    "drug_list = np.unique(tested_interactions[\"drug\"])"
   ]
  },
  {
   "cell_type": "markdown",
   "id": "866144f9-eee5-478a-b5ab-597efa0fa1c5",
   "metadata": {},
   "source": [
    "### Data"
   ]
  },
  {
   "cell_type": "code",
   "execution_count": 6,
   "id": "3263f00a-96fc-4d3f-b536-6dce5654f7ec",
   "metadata": {},
   "outputs": [
    {
     "data": {
      "text/html": [
       "<div>\n",
       "<style scoped>\n",
       "    .dataframe tbody tr th:only-of-type {\n",
       "        vertical-align: middle;\n",
       "    }\n",
       "\n",
       "    .dataframe tbody tr th {\n",
       "        vertical-align: top;\n",
       "    }\n",
       "\n",
       "    .dataframe thead th {\n",
       "        text-align: right;\n",
       "    }\n",
       "</style>\n",
       "<table border=\"1\" class=\"dataframe\">\n",
       "  <thead>\n",
       "    <tr style=\"text-align: right;\">\n",
       "      <th></th>\n",
       "      <th>Cell_Line</th>\n",
       "      <th>P37108.SRP14_HUMAN</th>\n",
       "      <th>Q96JP5.ZFP91_HUMAN</th>\n",
       "      <th>Q9Y4H2.IRS2_HUMAN</th>\n",
       "      <th>P36578.RL4_HUMAN</th>\n",
       "      <th>Q6SPF0.SAMD1_HUMAN</th>\n",
       "      <th>O76031.CLPX_HUMAN</th>\n",
       "      <th>Q8WUQ7.CATIN_HUMAN</th>\n",
       "      <th>A6NIH7.U119B_HUMAN</th>\n",
       "      <th>Q9BTD8.RBM42_HUMAN</th>\n",
       "      <th>...</th>\n",
       "      <th>P33151.CADH5_HUMAN</th>\n",
       "      <th>Q5EBL4.RIPL1_HUMAN</th>\n",
       "      <th>P49715.CEBPA_HUMAN</th>\n",
       "      <th>Q5TA45.INT11_HUMAN</th>\n",
       "      <th>O14924.RGS12_HUMAN</th>\n",
       "      <th>Q7Z3B1.NEGR1_HUMAN</th>\n",
       "      <th>O60669.MOT2_HUMAN</th>\n",
       "      <th>Q13571.LAPM5_HUMAN</th>\n",
       "      <th>Q96JM2.ZN462_HUMAN</th>\n",
       "      <th>P35558.PCKGC_HUMAN</th>\n",
       "    </tr>\n",
       "  </thead>\n",
       "  <tbody>\n",
       "    <tr>\n",
       "      <th>0</th>\n",
       "      <td>K052</td>\n",
       "      <td>7.109545</td>\n",
       "      <td>3.414941</td>\n",
       "      <td>NaN</td>\n",
       "      <td>7.866614</td>\n",
       "      <td>3.895467</td>\n",
       "      <td>4.196655</td>\n",
       "      <td>NaN</td>\n",
       "      <td>NaN</td>\n",
       "      <td>3.190877</td>\n",
       "      <td>...</td>\n",
       "      <td>NaN</td>\n",
       "      <td>NaN</td>\n",
       "      <td>3.90064</td>\n",
       "      <td>2.639977</td>\n",
       "      <td>NaN</td>\n",
       "      <td>NaN</td>\n",
       "      <td>NaN</td>\n",
       "      <td>NaN</td>\n",
       "      <td>NaN</td>\n",
       "      <td>NaN</td>\n",
       "    </tr>\n",
       "    <tr>\n",
       "      <th>1</th>\n",
       "      <td>TE-12</td>\n",
       "      <td>6.828022</td>\n",
       "      <td>4.143455</td>\n",
       "      <td>2.237808</td>\n",
       "      <td>7.628785</td>\n",
       "      <td>3.198109</td>\n",
       "      <td>4.609018</td>\n",
       "      <td>NaN</td>\n",
       "      <td>2.47059</td>\n",
       "      <td>3.695348</td>\n",
       "      <td>...</td>\n",
       "      <td>NaN</td>\n",
       "      <td>NaN</td>\n",
       "      <td>NaN</td>\n",
       "      <td>3.196077</td>\n",
       "      <td>NaN</td>\n",
       "      <td>NaN</td>\n",
       "      <td>NaN</td>\n",
       "      <td>NaN</td>\n",
       "      <td>NaN</td>\n",
       "      <td>NaN</td>\n",
       "    </tr>\n",
       "    <tr>\n",
       "      <th>2</th>\n",
       "      <td>TMK-1</td>\n",
       "      <td>7.014256</td>\n",
       "      <td>4.199872</td>\n",
       "      <td>2.440552</td>\n",
       "      <td>8.124585</td>\n",
       "      <td>NaN</td>\n",
       "      <td>4.768811</td>\n",
       "      <td>NaN</td>\n",
       "      <td>NaN</td>\n",
       "      <td>NaN</td>\n",
       "      <td>...</td>\n",
       "      <td>NaN</td>\n",
       "      <td>NaN</td>\n",
       "      <td>NaN</td>\n",
       "      <td>NaN</td>\n",
       "      <td>NaN</td>\n",
       "      <td>NaN</td>\n",
       "      <td>NaN</td>\n",
       "      <td>NaN</td>\n",
       "      <td>NaN</td>\n",
       "      <td>NaN</td>\n",
       "    </tr>\n",
       "    <tr>\n",
       "      <th>3</th>\n",
       "      <td>STS-0421</td>\n",
       "      <td>5.285911</td>\n",
       "      <td>3.357894</td>\n",
       "      <td>NaN</td>\n",
       "      <td>7.972680</td>\n",
       "      <td>NaN</td>\n",
       "      <td>4.520923</td>\n",
       "      <td>NaN</td>\n",
       "      <td>NaN</td>\n",
       "      <td>2.730884</td>\n",
       "      <td>...</td>\n",
       "      <td>NaN</td>\n",
       "      <td>NaN</td>\n",
       "      <td>NaN</td>\n",
       "      <td>2.790234</td>\n",
       "      <td>NaN</td>\n",
       "      <td>NaN</td>\n",
       "      <td>NaN</td>\n",
       "      <td>NaN</td>\n",
       "      <td>NaN</td>\n",
       "      <td>NaN</td>\n",
       "    </tr>\n",
       "    <tr>\n",
       "      <th>4</th>\n",
       "      <td>PL4</td>\n",
       "      <td>5.707857</td>\n",
       "      <td>NaN</td>\n",
       "      <td>NaN</td>\n",
       "      <td>6.225738</td>\n",
       "      <td>NaN</td>\n",
       "      <td>4.495795</td>\n",
       "      <td>NaN</td>\n",
       "      <td>NaN</td>\n",
       "      <td>2.879809</td>\n",
       "      <td>...</td>\n",
       "      <td>NaN</td>\n",
       "      <td>NaN</td>\n",
       "      <td>NaN</td>\n",
       "      <td>NaN</td>\n",
       "      <td>NaN</td>\n",
       "      <td>NaN</td>\n",
       "      <td>NaN</td>\n",
       "      <td>NaN</td>\n",
       "      <td>NaN</td>\n",
       "      <td>NaN</td>\n",
       "    </tr>\n",
       "    <tr>\n",
       "      <th>...</th>\n",
       "      <td>...</td>\n",
       "      <td>...</td>\n",
       "      <td>...</td>\n",
       "      <td>...</td>\n",
       "      <td>...</td>\n",
       "      <td>...</td>\n",
       "      <td>...</td>\n",
       "      <td>...</td>\n",
       "      <td>...</td>\n",
       "      <td>...</td>\n",
       "      <td>...</td>\n",
       "      <td>...</td>\n",
       "      <td>...</td>\n",
       "      <td>...</td>\n",
       "      <td>...</td>\n",
       "      <td>...</td>\n",
       "      <td>...</td>\n",
       "      <td>...</td>\n",
       "      <td>...</td>\n",
       "      <td>...</td>\n",
       "      <td>...</td>\n",
       "    </tr>\n",
       "    <tr>\n",
       "      <th>944</th>\n",
       "      <td>CGTH-W-1</td>\n",
       "      <td>6.316308</td>\n",
       "      <td>4.869332</td>\n",
       "      <td>NaN</td>\n",
       "      <td>7.624330</td>\n",
       "      <td>3.926891</td>\n",
       "      <td>4.472120</td>\n",
       "      <td>NaN</td>\n",
       "      <td>NaN</td>\n",
       "      <td>3.484641</td>\n",
       "      <td>...</td>\n",
       "      <td>NaN</td>\n",
       "      <td>NaN</td>\n",
       "      <td>NaN</td>\n",
       "      <td>NaN</td>\n",
       "      <td>NaN</td>\n",
       "      <td>NaN</td>\n",
       "      <td>NaN</td>\n",
       "      <td>NaN</td>\n",
       "      <td>NaN</td>\n",
       "      <td>NaN</td>\n",
       "    </tr>\n",
       "    <tr>\n",
       "      <th>945</th>\n",
       "      <td>H9</td>\n",
       "      <td>6.230865</td>\n",
       "      <td>2.716858</td>\n",
       "      <td>NaN</td>\n",
       "      <td>7.235027</td>\n",
       "      <td>3.420646</td>\n",
       "      <td>4.717799</td>\n",
       "      <td>NaN</td>\n",
       "      <td>NaN</td>\n",
       "      <td>3.625137</td>\n",
       "      <td>...</td>\n",
       "      <td>NaN</td>\n",
       "      <td>NaN</td>\n",
       "      <td>NaN</td>\n",
       "      <td>NaN</td>\n",
       "      <td>NaN</td>\n",
       "      <td>NaN</td>\n",
       "      <td>NaN</td>\n",
       "      <td>NaN</td>\n",
       "      <td>NaN</td>\n",
       "      <td>NaN</td>\n",
       "    </tr>\n",
       "    <tr>\n",
       "      <th>946</th>\n",
       "      <td>GR-ST</td>\n",
       "      <td>7.004074</td>\n",
       "      <td>NaN</td>\n",
       "      <td>NaN</td>\n",
       "      <td>7.581500</td>\n",
       "      <td>NaN</td>\n",
       "      <td>4.590818</td>\n",
       "      <td>NaN</td>\n",
       "      <td>NaN</td>\n",
       "      <td>3.329604</td>\n",
       "      <td>...</td>\n",
       "      <td>NaN</td>\n",
       "      <td>NaN</td>\n",
       "      <td>NaN</td>\n",
       "      <td>NaN</td>\n",
       "      <td>NaN</td>\n",
       "      <td>NaN</td>\n",
       "      <td>NaN</td>\n",
       "      <td>NaN</td>\n",
       "      <td>NaN</td>\n",
       "      <td>NaN</td>\n",
       "    </tr>\n",
       "    <tr>\n",
       "      <th>947</th>\n",
       "      <td>YMB-1-E</td>\n",
       "      <td>6.765316</td>\n",
       "      <td>3.757772</td>\n",
       "      <td>NaN</td>\n",
       "      <td>7.241326</td>\n",
       "      <td>3.054766</td>\n",
       "      <td>4.740301</td>\n",
       "      <td>NaN</td>\n",
       "      <td>NaN</td>\n",
       "      <td>2.562678</td>\n",
       "      <td>...</td>\n",
       "      <td>NaN</td>\n",
       "      <td>3.432128</td>\n",
       "      <td>NaN</td>\n",
       "      <td>2.463809</td>\n",
       "      <td>NaN</td>\n",
       "      <td>NaN</td>\n",
       "      <td>NaN</td>\n",
       "      <td>NaN</td>\n",
       "      <td>NaN</td>\n",
       "      <td>NaN</td>\n",
       "    </tr>\n",
       "    <tr>\n",
       "      <th>948</th>\n",
       "      <td>MM1S</td>\n",
       "      <td>6.919821</td>\n",
       "      <td>3.702843</td>\n",
       "      <td>NaN</td>\n",
       "      <td>6.783193</td>\n",
       "      <td>1.895493</td>\n",
       "      <td>4.402940</td>\n",
       "      <td>NaN</td>\n",
       "      <td>NaN</td>\n",
       "      <td>2.727669</td>\n",
       "      <td>...</td>\n",
       "      <td>NaN</td>\n",
       "      <td>NaN</td>\n",
       "      <td>NaN</td>\n",
       "      <td>NaN</td>\n",
       "      <td>NaN</td>\n",
       "      <td>NaN</td>\n",
       "      <td>NaN</td>\n",
       "      <td>NaN</td>\n",
       "      <td>NaN</td>\n",
       "      <td>NaN</td>\n",
       "    </tr>\n",
       "  </tbody>\n",
       "</table>\n",
       "<p>949 rows × 6693 columns</p>\n",
       "</div>"
      ],
      "text/plain": [
       "    Cell_Line  P37108.SRP14_HUMAN  Q96JP5.ZFP91_HUMAN  Q9Y4H2.IRS2_HUMAN  \\\n",
       "0        K052            7.109545            3.414941                NaN   \n",
       "1       TE-12            6.828022            4.143455           2.237808   \n",
       "2       TMK-1            7.014256            4.199872           2.440552   \n",
       "3    STS-0421            5.285911            3.357894                NaN   \n",
       "4         PL4            5.707857                 NaN                NaN   \n",
       "..        ...                 ...                 ...                ...   \n",
       "944  CGTH-W-1            6.316308            4.869332                NaN   \n",
       "945        H9            6.230865            2.716858                NaN   \n",
       "946     GR-ST            7.004074                 NaN                NaN   \n",
       "947   YMB-1-E            6.765316            3.757772                NaN   \n",
       "948      MM1S            6.919821            3.702843                NaN   \n",
       "\n",
       "     P36578.RL4_HUMAN  Q6SPF0.SAMD1_HUMAN  O76031.CLPX_HUMAN  \\\n",
       "0            7.866614            3.895467           4.196655   \n",
       "1            7.628785            3.198109           4.609018   \n",
       "2            8.124585                 NaN           4.768811   \n",
       "3            7.972680                 NaN           4.520923   \n",
       "4            6.225738                 NaN           4.495795   \n",
       "..                ...                 ...                ...   \n",
       "944          7.624330            3.926891           4.472120   \n",
       "945          7.235027            3.420646           4.717799   \n",
       "946          7.581500                 NaN           4.590818   \n",
       "947          7.241326            3.054766           4.740301   \n",
       "948          6.783193            1.895493           4.402940   \n",
       "\n",
       "     Q8WUQ7.CATIN_HUMAN  A6NIH7.U119B_HUMAN  Q9BTD8.RBM42_HUMAN  ...  \\\n",
       "0                   NaN                 NaN            3.190877  ...   \n",
       "1                   NaN             2.47059            3.695348  ...   \n",
       "2                   NaN                 NaN                 NaN  ...   \n",
       "3                   NaN                 NaN            2.730884  ...   \n",
       "4                   NaN                 NaN            2.879809  ...   \n",
       "..                  ...                 ...                 ...  ...   \n",
       "944                 NaN                 NaN            3.484641  ...   \n",
       "945                 NaN                 NaN            3.625137  ...   \n",
       "946                 NaN                 NaN            3.329604  ...   \n",
       "947                 NaN                 NaN            2.562678  ...   \n",
       "948                 NaN                 NaN            2.727669  ...   \n",
       "\n",
       "     P33151.CADH5_HUMAN  Q5EBL4.RIPL1_HUMAN  P49715.CEBPA_HUMAN  \\\n",
       "0                   NaN                 NaN             3.90064   \n",
       "1                   NaN                 NaN                 NaN   \n",
       "2                   NaN                 NaN                 NaN   \n",
       "3                   NaN                 NaN                 NaN   \n",
       "4                   NaN                 NaN                 NaN   \n",
       "..                  ...                 ...                 ...   \n",
       "944                 NaN                 NaN                 NaN   \n",
       "945                 NaN                 NaN                 NaN   \n",
       "946                 NaN                 NaN                 NaN   \n",
       "947                 NaN            3.432128                 NaN   \n",
       "948                 NaN                 NaN                 NaN   \n",
       "\n",
       "     Q5TA45.INT11_HUMAN  O14924.RGS12_HUMAN  Q7Z3B1.NEGR1_HUMAN  \\\n",
       "0              2.639977                 NaN                 NaN   \n",
       "1              3.196077                 NaN                 NaN   \n",
       "2                   NaN                 NaN                 NaN   \n",
       "3              2.790234                 NaN                 NaN   \n",
       "4                   NaN                 NaN                 NaN   \n",
       "..                  ...                 ...                 ...   \n",
       "944                 NaN                 NaN                 NaN   \n",
       "945                 NaN                 NaN                 NaN   \n",
       "946                 NaN                 NaN                 NaN   \n",
       "947            2.463809                 NaN                 NaN   \n",
       "948                 NaN                 NaN                 NaN   \n",
       "\n",
       "     O60669.MOT2_HUMAN  Q13571.LAPM5_HUMAN  Q96JM2.ZN462_HUMAN  \\\n",
       "0                  NaN                 NaN                 NaN   \n",
       "1                  NaN                 NaN                 NaN   \n",
       "2                  NaN                 NaN                 NaN   \n",
       "3                  NaN                 NaN                 NaN   \n",
       "4                  NaN                 NaN                 NaN   \n",
       "..                 ...                 ...                 ...   \n",
       "944                NaN                 NaN                 NaN   \n",
       "945                NaN                 NaN                 NaN   \n",
       "946                NaN                 NaN                 NaN   \n",
       "947                NaN                 NaN                 NaN   \n",
       "948                NaN                 NaN                 NaN   \n",
       "\n",
       "     P35558.PCKGC_HUMAN  \n",
       "0                   NaN  \n",
       "1                   NaN  \n",
       "2                   NaN  \n",
       "3                   NaN  \n",
       "4                   NaN  \n",
       "..                  ...  \n",
       "944                 NaN  \n",
       "945                 NaN  \n",
       "946                 NaN  \n",
       "947                 NaN  \n",
       "948                 NaN  \n",
       "\n",
       "[949 rows x 6693 columns]"
      ]
     },
     "execution_count": 6,
     "metadata": {},
     "output_type": "execute_result"
    }
   ],
   "source": [
    "#One row per cell line\n",
    "#DIR\n",
    "x = pd.read_excel(x_input, engine='openpyxl').drop(columns=['Project_Identifier'])\n",
    "c = [a.replace(';','.') for a in x.columns]\n",
    "x.columns = c\n",
    "x"
   ]
  },
  {
   "cell_type": "code",
   "execution_count": 7,
   "id": "e690b39f-c357-4390-86ba-c31e8ee8a822",
   "metadata": {},
   "outputs": [
    {
     "data": {
      "text/plain": [
       "3042799"
      ]
     },
     "execution_count": 7,
     "metadata": {},
     "output_type": "execute_result"
    }
   ],
   "source": [
    "x.isna().sum().sum()"
   ]
  },
  {
   "cell_type": "code",
   "execution_count": 7,
   "id": "cf6cbb82-f63c-415f-a9c3-85cd1cfaf954",
   "metadata": {},
   "outputs": [
    {
     "name": "stderr",
     "output_type": "stream",
     "text": [
      "C:\\Users\\wen068\\AppData\\Local\\Temp\\ipykernel_18464\\1999436348.py:2: DtypeWarning: Columns (24) have mixed types. Specify dtype option on import or set low_memory=False.\n",
      "  y = pd.read_csv(y_input)[['drug_id','cell_line_name','ln_IC50']]\n"
     ]
    },
    {
     "data": {
      "text/html": [
       "<div>\n",
       "<style scoped>\n",
       "    .dataframe tbody tr th:only-of-type {\n",
       "        vertical-align: middle;\n",
       "    }\n",
       "\n",
       "    .dataframe tbody tr th {\n",
       "        vertical-align: top;\n",
       "    }\n",
       "\n",
       "    .dataframe thead th {\n",
       "        text-align: right;\n",
       "    }\n",
       "</style>\n",
       "<table border=\"1\" class=\"dataframe\">\n",
       "  <thead>\n",
       "    <tr style=\"text-align: right;\">\n",
       "      <th></th>\n",
       "      <th>drug_id</th>\n",
       "      <th>cell_line_name</th>\n",
       "      <th>ln_IC50</th>\n",
       "    </tr>\n",
       "  </thead>\n",
       "  <tbody>\n",
       "    <tr>\n",
       "      <th>0</th>\n",
       "      <td>1409</td>\n",
       "      <td>697</td>\n",
       "      <td>-5.452393</td>\n",
       "    </tr>\n",
       "    <tr>\n",
       "      <th>1</th>\n",
       "      <td>1057</td>\n",
       "      <td>697</td>\n",
       "      <td>-3.891777</td>\n",
       "    </tr>\n",
       "    <tr>\n",
       "      <th>2</th>\n",
       "      <td>1060</td>\n",
       "      <td>697</td>\n",
       "      <td>-0.170167</td>\n",
       "    </tr>\n",
       "    <tr>\n",
       "      <th>3</th>\n",
       "      <td>252</td>\n",
       "      <td>697</td>\n",
       "      <td>-2.762333</td>\n",
       "    </tr>\n",
       "    <tr>\n",
       "      <th>4</th>\n",
       "      <td>282</td>\n",
       "      <td>697</td>\n",
       "      <td>-2.615651</td>\n",
       "    </tr>\n",
       "    <tr>\n",
       "      <th>...</th>\n",
       "      <td>...</td>\n",
       "      <td>...</td>\n",
       "      <td>...</td>\n",
       "    </tr>\n",
       "    <tr>\n",
       "      <th>605251</th>\n",
       "      <td>2290</td>\n",
       "      <td>ZR-75-30</td>\n",
       "      <td>6.547607</td>\n",
       "    </tr>\n",
       "    <tr>\n",
       "      <th>605252</th>\n",
       "      <td>1735</td>\n",
       "      <td>ZR-75-30</td>\n",
       "      <td>3.195281</td>\n",
       "    </tr>\n",
       "    <tr>\n",
       "      <th>605253</th>\n",
       "      <td>1034</td>\n",
       "      <td>ZR-75-30</td>\n",
       "      <td>1.052725</td>\n",
       "    </tr>\n",
       "    <tr>\n",
       "      <th>605254</th>\n",
       "      <td>1862</td>\n",
       "      <td>ZR-75-30</td>\n",
       "      <td>1.570232</td>\n",
       "    </tr>\n",
       "    <tr>\n",
       "      <th>605255</th>\n",
       "      <td>2093</td>\n",
       "      <td>ZR-75-30</td>\n",
       "      <td>2.844659</td>\n",
       "    </tr>\n",
       "  </tbody>\n",
       "</table>\n",
       "<p>605256 rows × 3 columns</p>\n",
       "</div>"
      ],
      "text/plain": [
       "        drug_id cell_line_name   ln_IC50\n",
       "0          1409            697 -5.452393\n",
       "1          1057            697 -3.891777\n",
       "2          1060            697 -0.170167\n",
       "3           252            697 -2.762333\n",
       "4           282            697 -2.615651\n",
       "...         ...            ...       ...\n",
       "605251     2290       ZR-75-30  6.547607\n",
       "605252     1735       ZR-75-30  3.195281\n",
       "605253     1034       ZR-75-30  1.052725\n",
       "605254     1862       ZR-75-30  1.570232\n",
       "605255     2093       ZR-75-30  2.844659\n",
       "\n",
       "[605256 rows x 3 columns]"
      ]
     },
     "execution_count": 7,
     "metadata": {},
     "output_type": "execute_result"
    }
   ],
   "source": [
    "#DIR\n",
    "y = pd.read_csv(y_input)[['drug_id','cell_line_name','ln_IC50']]\n",
    "y"
   ]
  },
  {
   "cell_type": "markdown",
   "id": "aee6489d-4abc-41ad-a151-5a16291e917d",
   "metadata": {},
   "source": [
    "### Regression"
   ]
  },
  {
   "cell_type": "markdown",
   "id": "4dc6e7dc-4029-49da-931e-6358c829e595",
   "metadata": {},
   "source": [
    "#### Functions"
   ]
  },
  {
   "cell_type": "code",
   "execution_count": 8,
   "id": "a489dc22-4819-4f38-b8b3-11d3e2810559",
   "metadata": {},
   "outputs": [],
   "source": [
    "def results_fit_to_df(results):\n",
    "    coeffs = results.params.tolist()\n",
    "    pvals = results.pvalues.tolist()\n",
    "    pseudo_r2 = results.rsquared\n",
    "    adj_r2 = results.rsquared_adj\n",
    "    tvals = results.tvalues.tolist()\n",
    "    mse = results.mse_resid\n",
    "    cint_low = results.conf_int()[0].tolist()\n",
    "    cint_high = results.conf_int()[1].tolist()\n",
    "\n",
    "    try:\n",
    "        results = results.summary()\n",
    "    except:\n",
    "        #ValueError: resids must contain at least 2 elements\n",
    "        r = pd.DataFrame([1,2,3]) #dirty...\n",
    "        r['z']='nan'\n",
    "        return r\n",
    "    converged = results.tables[0].data[5][1].strip()\n",
    "    results = results.tables[1].data\n",
    "    results = pd.DataFrame(results[1:], columns=['coef_id', 'coef', 'std err', 'z', 'P>|z|', '[0.025', '0.975]'])\n",
    "    results['P>|z|'] = pvals\n",
    "    results['z'] = tvals \n",
    "    results['coef'] = coeffs\n",
    "    results['converged'] = converged\n",
    "    results['pseudo_r2'] = pseudo_r2\n",
    "    results['adj_r2'] = adj_r2\n",
    "    results[\"MSE\"] = mse\n",
    "    results['[0.025'] = cint_low\n",
    "    results['0.975]'] = cint_high\n",
    "    return results"
   ]
  },
  {
   "cell_type": "code",
   "execution_count": 28,
   "id": "f8206c7b-b8d8-4fac-a631-db8cad9991fe",
   "metadata": {
    "scrolled": true
   },
   "outputs": [],
   "source": [
    "def regression_per_drug(proteins, drug_list, alpha=0.05, filter=0):\n",
    "    final_results = []\n",
    "    j = 0\n",
    "    for i,d in enumerate(drug_list):  # [[45,76]]\n",
    "        xy = x.merge(y[y[\"drug_id\"]==d], left_on='Cell_Line', right_on='cell_line_name')\n",
    "        xy.columns = [''.join([chr(int(y)+97) if y.isnumeric() else y for y in x.replace('_','').replace('.','')]) for x in xy.columns] \n",
    "        \n",
    "        interactions = proteins[proteins[\"drug\"]==d]\n",
    "        sig = fdrcorrection(interactions[\"P>|z|\"], alpha=alpha, method='indep', is_sorted=False)[0]\n",
    "        interactions = interactions[sig]\n",
    "    \n",
    "        sig_inter = interactions[np.abs(interactions.coef)>=filter][[\"coef_id\", \"order\"]] # all sig interaction independet from order\n",
    "        sig_inter[\"coef_id\"] = sig_inter[\"coef_id\"].str.strip(\"\\[01\\]\")  # remove certain characters\n",
    "        sig_inter.loc[~sig_inter[\"coef_id\"].str.contains(\":\"), 'order'] = 1  # denote single proteins as first interaction ( by it self)\n",
    "        sig_inter = sig_inter.drop_duplicates(ignore_index=True)\n",
    "        prot_list = [str(y).rstrip(\"\\[01\\]\") for x in sig_inter[\"coef_id\"] for y in x.split(\":\")]  # all proteins connected to any sig information (needed for the regression)\n",
    "        prot_list = np.unique(prot_list).tolist()\n",
    "        n_prot = len(sig_inter[\"coef_id\"][sig_inter[\"order\"]<=1])\n",
    "\n",
    "        data = xy[[\"lnICfa\"] + prot_list].fillna(0)\n",
    "        # with each interation add more interaction information to the regression formula\n",
    "        for o in range(1,5):\n",
    "            # print(\"Order: \", o)\n",
    "            formular = \"lnICfa\" + \" ~ \"\n",
    "            formular = formular + \" + \".join(sig_inter[\"coef_id\"][sig_inter[\"order\"]<=o].drop_duplicates(ignore_index=True))\n",
    "\n",
    "            try:\n",
    "                ols = smf.ols(formular,data=data)\n",
    "            except:\n",
    "                print('error in OLS, drug', d, \"number of variables (+)\", formular.count('+') )\n",
    "                j += 1\n",
    "                \n",
    "                break  # we do not need to check any higher order, if the lower order already fails due to recursion depth\n",
    "            ols.raise_on_perfect_prediction = False #preventing the perfect separation error\n",
    "            results = ols.fit(disp=False, maxiter=1000) #method prevents singular matrix\n",
    "            pred_y = ols.predict(results.params)\n",
    "            pear_R = pearsonr(pred_y, data[\"lnICfa\"].to_list())\n",
    "            results = results_fit_to_df(results)\n",
    "            results[\"order\"] = o\n",
    "            results[\"drug\"] = d\n",
    "            results[\"pearsonR\"] = pear_R.statistic\n",
    "            results[\"n_prot\"] = n_prot\n",
    "            results[\"MSE\"] = np.square(data[\"lnICfa\"].to_list() - pred_y).mean()\n",
    "            final_results.append(results)\n",
    "    final_results = pd.concat(final_results)\n",
    "    print(j/(len(drug_list)), \" % of drugs failed OLS at some point\")        \n",
    "    print(\"The largest amount of proteins used for a regression was: \", final_results.n_prot.max())\n",
    "    return final_results"
   ]
  },
  {
   "cell_type": "code",
   "execution_count": 11,
   "id": "2e0065c4-56ca-4826-a0e7-a3e6440d5118",
   "metadata": {},
   "outputs": [],
   "source": [
    "def r2_hist(result, title=\"Histogram of $R^2$ values\", save=\"r_squared\", x_label=\"$R^2$\"):\n",
    "    \n",
    "    r2 = result.iloc[:,0]\n",
    "    mu_1 = np.round(r2[result.order == 1].median(axis=0), 3)\n",
    "    mu_2 = np.round(r2[result.order == 2].median(axis=0), 3)\n",
    "    mu_3 = np.round(r2[result.order == 3].median(axis=0), 3)\n",
    "    mu_4 = np.round(r2[result.order == 4].median(axis=0), 3)\n",
    "    \n",
    "    fig, ax = plt.subplots()\n",
    "    \n",
    "    ax.hist([r2[result.order == 1], r2[result.order == 2], r2[result.order == 3], \n",
    "             r2[result.order == 4]], bins=10, alpha=0.7)\n",
    "    \n",
    "    ax.legend([\"1st order $\\mu$ = \" + str(mu_1), \"2nd order $\\mu$ = \" + str(mu_2), \"3rd order $\\mu$ = \" + str(mu_3), \"4th order $\\mu$ = \" + str(mu_4)])\n",
    "    ax.set_xlabel(x_label)\n",
    "    ax.set_ylabel(\"Frequency\")\n",
    "    ax.set_title(title)\n",
    "    plt.savefig(save)\n",
    "    plt.close()\n",
    "    # plt.show()\n",
    "    return"
   ]
  },
  {
   "cell_type": "markdown",
   "id": "883ce7fa-e37c-4906-b36e-a242863a1d29",
   "metadata": {},
   "source": [
    "#### Results"
   ]
  },
  {
   "cell_type": "code",
   "execution_count": 22,
   "id": "b8fd7c31-0a77-4879-a49f-11ff08853a5d",
   "metadata": {
    "scrolled": true
   },
   "outputs": [
    {
     "name": "stderr",
     "output_type": "stream",
     "text": [
      "C:\\Users\\wen068\\AppData\\Roaming\\Python\\Python311\\site-packages\\statsmodels\\regression\\linear_model.py:1794: RuntimeWarning: divide by zero encountered in divide\n",
      "  return 1 - (np.divide(self.nobs - self.k_constant, self.df_resid)\n",
      "C:\\Users\\wen068\\AppData\\Roaming\\Python\\Python311\\site-packages\\statsmodels\\regression\\linear_model.py:1794: RuntimeWarning: invalid value encountered in double_scalars\n",
      "  return 1 - (np.divide(self.nobs - self.k_constant, self.df_resid)\n",
      "C:\\Users\\wen068\\AppData\\Roaming\\Python\\Python311\\site-packages\\statsmodels\\regression\\linear_model.py:1794: RuntimeWarning: divide by zero encountered in divide\n",
      "  return 1 - (np.divide(self.nobs - self.k_constant, self.df_resid)\n",
      "C:\\Users\\wen068\\AppData\\Roaming\\Python\\Python311\\site-packages\\statsmodels\\regression\\linear_model.py:1794: RuntimeWarning: invalid value encountered in double_scalars\n",
      "  return 1 - (np.divide(self.nobs - self.k_constant, self.df_resid)\n",
      "C:\\Users\\wen068\\AppData\\Roaming\\Python\\Python311\\site-packages\\statsmodels\\regression\\linear_model.py:1794: RuntimeWarning: divide by zero encountered in divide\n",
      "  return 1 - (np.divide(self.nobs - self.k_constant, self.df_resid)\n",
      "C:\\Users\\wen068\\AppData\\Roaming\\Python\\Python311\\site-packages\\statsmodels\\regression\\linear_model.py:1794: RuntimeWarning: invalid value encountered in double_scalars\n",
      "  return 1 - (np.divide(self.nobs - self.k_constant, self.df_resid)\n",
      "C:\\Users\\wen068\\AppData\\Roaming\\Python\\Python311\\site-packages\\statsmodels\\regression\\linear_model.py:1794: RuntimeWarning: divide by zero encountered in divide\n",
      "  return 1 - (np.divide(self.nobs - self.k_constant, self.df_resid)\n",
      "C:\\Users\\wen068\\AppData\\Roaming\\Python\\Python311\\site-packages\\statsmodels\\regression\\linear_model.py:1794: RuntimeWarning: invalid value encountered in double_scalars\n",
      "  return 1 - (np.divide(self.nobs - self.k_constant, self.df_resid)\n"
     ]
    },
    {
     "name": "stdout",
     "output_type": "stream",
     "text": [
      "error in OLS, drug 203 number of variables (+) 2383\n",
      "error in OLS, drug 223 number of variables (+) 1699\n",
      "error in OLS, drug 253 number of variables (+) 2746\n",
      "error in OLS, drug 263 number of variables (+) 1685\n",
      "error in OLS, drug 273 number of variables (+) 2105\n"
     ]
    },
    {
     "name": "stderr",
     "output_type": "stream",
     "text": [
      "C:\\Users\\wen068\\AppData\\Roaming\\Python\\Python311\\site-packages\\statsmodels\\regression\\linear_model.py:1794: RuntimeWarning: divide by zero encountered in divide\n",
      "  return 1 - (np.divide(self.nobs - self.k_constant, self.df_resid)\n",
      "C:\\Users\\wen068\\AppData\\Roaming\\Python\\Python311\\site-packages\\statsmodels\\regression\\linear_model.py:1794: RuntimeWarning: invalid value encountered in double_scalars\n",
      "  return 1 - (np.divide(self.nobs - self.k_constant, self.df_resid)\n",
      "C:\\Users\\wen068\\AppData\\Roaming\\Python\\Python311\\site-packages\\statsmodels\\regression\\linear_model.py:1794: RuntimeWarning: divide by zero encountered in divide\n",
      "  return 1 - (np.divide(self.nobs - self.k_constant, self.df_resid)\n",
      "C:\\Users\\wen068\\AppData\\Roaming\\Python\\Python311\\site-packages\\statsmodels\\regression\\linear_model.py:1794: RuntimeWarning: invalid value encountered in double_scalars\n",
      "  return 1 - (np.divide(self.nobs - self.k_constant, self.df_resid)\n",
      "C:\\Users\\wen068\\AppData\\Roaming\\Python\\Python311\\site-packages\\statsmodels\\regression\\linear_model.py:1794: RuntimeWarning: divide by zero encountered in divide\n",
      "  return 1 - (np.divide(self.nobs - self.k_constant, self.df_resid)\n",
      "C:\\Users\\wen068\\AppData\\Roaming\\Python\\Python311\\site-packages\\statsmodels\\regression\\linear_model.py:1794: RuntimeWarning: invalid value encountered in double_scalars\n",
      "  return 1 - (np.divide(self.nobs - self.k_constant, self.df_resid)\n",
      "C:\\Users\\wen068\\AppData\\Roaming\\Python\\Python311\\site-packages\\statsmodels\\regression\\linear_model.py:1794: RuntimeWarning: divide by zero encountered in divide\n",
      "  return 1 - (np.divide(self.nobs - self.k_constant, self.df_resid)\n",
      "C:\\Users\\wen068\\AppData\\Roaming\\Python\\Python311\\site-packages\\statsmodels\\regression\\linear_model.py:1794: RuntimeWarning: invalid value encountered in double_scalars\n",
      "  return 1 - (np.divide(self.nobs - self.k_constant, self.df_resid)\n"
     ]
    },
    {
     "name": "stdout",
     "output_type": "stream",
     "text": [
      "error in OLS, drug 303 number of variables (+) 2790\n",
      "error in OLS, drug 333 number of variables (+) 3093\n",
      "error in OLS, drug 1003 number of variables (+) 2986\n",
      "error in OLS, drug 1013 number of variables (+) 4191\n",
      "error in OLS, drug 1033 number of variables (+) 3629\n",
      "error in OLS, drug 1043 number of variables (+) 2550\n",
      "error in OLS, drug 1053 number of variables (+) 3444\n",
      "error in OLS, drug 1073 number of variables (+) 2702\n",
      "error in OLS, drug 1083 number of variables (+) 2938\n",
      "error in OLS, drug 1093 number of variables (+) 2753\n",
      "error in OLS, drug 1133 number of variables (+) 2436\n",
      "error in OLS, drug 1193 number of variables (+) 2554\n"
     ]
    },
    {
     "name": "stderr",
     "output_type": "stream",
     "text": [
      "C:\\Users\\wen068\\AppData\\Roaming\\Python\\Python311\\site-packages\\statsmodels\\regression\\linear_model.py:1794: RuntimeWarning: divide by zero encountered in divide\n",
      "  return 1 - (np.divide(self.nobs - self.k_constant, self.df_resid)\n",
      "C:\\Users\\wen068\\AppData\\Roaming\\Python\\Python311\\site-packages\\statsmodels\\regression\\linear_model.py:1794: RuntimeWarning: invalid value encountered in double_scalars\n",
      "  return 1 - (np.divide(self.nobs - self.k_constant, self.df_resid)\n",
      "C:\\Users\\wen068\\AppData\\Roaming\\Python\\Python311\\site-packages\\statsmodels\\regression\\linear_model.py:1794: RuntimeWarning: divide by zero encountered in divide\n",
      "  return 1 - (np.divide(self.nobs - self.k_constant, self.df_resid)\n",
      "C:\\Users\\wen068\\AppData\\Roaming\\Python\\Python311\\site-packages\\statsmodels\\regression\\linear_model.py:1794: RuntimeWarning: invalid value encountered in double_scalars\n",
      "  return 1 - (np.divide(self.nobs - self.k_constant, self.df_resid)\n",
      "C:\\Users\\wen068\\AppData\\Roaming\\Python\\Python311\\site-packages\\statsmodels\\regression\\linear_model.py:1794: RuntimeWarning: divide by zero encountered in divide\n",
      "  return 1 - (np.divide(self.nobs - self.k_constant, self.df_resid)\n",
      "C:\\Users\\wen068\\AppData\\Roaming\\Python\\Python311\\site-packages\\statsmodels\\regression\\linear_model.py:1794: RuntimeWarning: invalid value encountered in double_scalars\n",
      "  return 1 - (np.divide(self.nobs - self.k_constant, self.df_resid)\n",
      "C:\\Users\\wen068\\AppData\\Roaming\\Python\\Python311\\site-packages\\statsmodels\\regression\\linear_model.py:1794: RuntimeWarning: divide by zero encountered in divide\n",
      "  return 1 - (np.divide(self.nobs - self.k_constant, self.df_resid)\n",
      "C:\\Users\\wen068\\AppData\\Roaming\\Python\\Python311\\site-packages\\statsmodels\\regression\\linear_model.py:1794: RuntimeWarning: invalid value encountered in double_scalars\n",
      "  return 1 - (np.divide(self.nobs - self.k_constant, self.df_resid)\n",
      "C:\\Users\\wen068\\AppData\\Roaming\\Python\\Python311\\site-packages\\statsmodels\\regression\\linear_model.py:1794: RuntimeWarning: divide by zero encountered in divide\n",
      "  return 1 - (np.divide(self.nobs - self.k_constant, self.df_resid)\n",
      "C:\\Users\\wen068\\AppData\\Roaming\\Python\\Python311\\site-packages\\statsmodels\\regression\\linear_model.py:1794: RuntimeWarning: invalid value encountered in double_scalars\n",
      "  return 1 - (np.divide(self.nobs - self.k_constant, self.df_resid)\n",
      "C:\\Users\\wen068\\AppData\\Roaming\\Python\\Python311\\site-packages\\statsmodels\\regression\\linear_model.py:1794: RuntimeWarning: divide by zero encountered in divide\n",
      "  return 1 - (np.divide(self.nobs - self.k_constant, self.df_resid)\n",
      "C:\\Users\\wen068\\AppData\\Roaming\\Python\\Python311\\site-packages\\statsmodels\\regression\\linear_model.py:1794: RuntimeWarning: invalid value encountered in double_scalars\n",
      "  return 1 - (np.divide(self.nobs - self.k_constant, self.df_resid)\n",
      "C:\\Users\\wen068\\AppData\\Roaming\\Python\\Python311\\site-packages\\statsmodels\\regression\\linear_model.py:1794: RuntimeWarning: divide by zero encountered in divide\n",
      "  return 1 - (np.divide(self.nobs - self.k_constant, self.df_resid)\n",
      "C:\\Users\\wen068\\AppData\\Roaming\\Python\\Python311\\site-packages\\statsmodels\\regression\\linear_model.py:1794: RuntimeWarning: invalid value encountered in double_scalars\n",
      "  return 1 - (np.divide(self.nobs - self.k_constant, self.df_resid)\n",
      "C:\\Users\\wen068\\AppData\\Roaming\\Python\\Python311\\site-packages\\statsmodels\\regression\\linear_model.py:1794: RuntimeWarning: divide by zero encountered in divide\n",
      "  return 1 - (np.divide(self.nobs - self.k_constant, self.df_resid)\n",
      "C:\\Users\\wen068\\AppData\\Roaming\\Python\\Python311\\site-packages\\statsmodels\\regression\\linear_model.py:1794: RuntimeWarning: invalid value encountered in double_scalars\n",
      "  return 1 - (np.divide(self.nobs - self.k_constant, self.df_resid)\n"
     ]
    },
    {
     "name": "stdout",
     "output_type": "stream",
     "text": [
      "error in OLS, drug 1373 number of variables (+) 3575\n"
     ]
    },
    {
     "name": "stderr",
     "output_type": "stream",
     "text": [
      "C:\\Users\\wen068\\AppData\\Roaming\\Python\\Python311\\site-packages\\statsmodels\\regression\\linear_model.py:1794: RuntimeWarning: divide by zero encountered in divide\n",
      "  return 1 - (np.divide(self.nobs - self.k_constant, self.df_resid)\n",
      "C:\\Users\\wen068\\AppData\\Roaming\\Python\\Python311\\site-packages\\statsmodels\\regression\\linear_model.py:1794: RuntimeWarning: invalid value encountered in double_scalars\n",
      "  return 1 - (np.divide(self.nobs - self.k_constant, self.df_resid)\n"
     ]
    },
    {
     "name": "stdout",
     "output_type": "stream",
     "text": [
      "error in OLS, drug 1393 number of variables (+) 1821\n"
     ]
    },
    {
     "name": "stderr",
     "output_type": "stream",
     "text": [
      "C:\\Users\\wen068\\AppData\\Roaming\\Python\\Python311\\site-packages\\statsmodels\\regression\\linear_model.py:1794: RuntimeWarning: divide by zero encountered in divide\n",
      "  return 1 - (np.divide(self.nobs - self.k_constant, self.df_resid)\n",
      "C:\\Users\\wen068\\AppData\\Roaming\\Python\\Python311\\site-packages\\statsmodels\\regression\\linear_model.py:1794: RuntimeWarning: invalid value encountered in double_scalars\n",
      "  return 1 - (np.divide(self.nobs - self.k_constant, self.df_resid)\n"
     ]
    },
    {
     "name": "stdout",
     "output_type": "stream",
     "text": [
      "error in OLS, drug 1413 number of variables (+) 1522\n",
      "error in OLS, drug 1433 number of variables (+) 1545\n",
      "error in OLS, drug 1453 number of variables (+) 1496\n"
     ]
    },
    {
     "name": "stderr",
     "output_type": "stream",
     "text": [
      "C:\\Users\\wen068\\AppData\\Roaming\\Python\\Python311\\site-packages\\statsmodels\\regression\\linear_model.py:1794: RuntimeWarning: divide by zero encountered in divide\n",
      "  return 1 - (np.divide(self.nobs - self.k_constant, self.df_resid)\n",
      "C:\\Users\\wen068\\AppData\\Roaming\\Python\\Python311\\site-packages\\statsmodels\\regression\\linear_model.py:1794: RuntimeWarning: invalid value encountered in double_scalars\n",
      "  return 1 - (np.divide(self.nobs - self.k_constant, self.df_resid)\n",
      "C:\\Users\\wen068\\AppData\\Roaming\\Python\\Python311\\site-packages\\statsmodels\\regression\\linear_model.py:1794: RuntimeWarning: divide by zero encountered in divide\n",
      "  return 1 - (np.divide(self.nobs - self.k_constant, self.df_resid)\n",
      "C:\\Users\\wen068\\AppData\\Roaming\\Python\\Python311\\site-packages\\statsmodels\\regression\\linear_model.py:1794: RuntimeWarning: invalid value encountered in double_scalars\n",
      "  return 1 - (np.divide(self.nobs - self.k_constant, self.df_resid)\n",
      "C:\\Users\\wen068\\AppData\\Roaming\\Python\\Python311\\site-packages\\statsmodels\\regression\\linear_model.py:1794: RuntimeWarning: divide by zero encountered in divide\n",
      "  return 1 - (np.divide(self.nobs - self.k_constant, self.df_resid)\n",
      "C:\\Users\\wen068\\AppData\\Roaming\\Python\\Python311\\site-packages\\statsmodels\\regression\\linear_model.py:1794: RuntimeWarning: invalid value encountered in double_scalars\n",
      "  return 1 - (np.divide(self.nobs - self.k_constant, self.df_resid)\n"
     ]
    },
    {
     "name": "stdout",
     "output_type": "stream",
     "text": [
      "error in OLS, drug 1563 number of variables (+) 3064\n"
     ]
    },
    {
     "name": "stderr",
     "output_type": "stream",
     "text": [
      "C:\\Users\\wen068\\AppData\\Roaming\\Python\\Python311\\site-packages\\statsmodels\\regression\\linear_model.py:1794: RuntimeWarning: divide by zero encountered in divide\n",
      "  return 1 - (np.divide(self.nobs - self.k_constant, self.df_resid)\n",
      "C:\\Users\\wen068\\AppData\\Roaming\\Python\\Python311\\site-packages\\statsmodels\\regression\\linear_model.py:1794: RuntimeWarning: invalid value encountered in double_scalars\n",
      "  return 1 - (np.divide(self.nobs - self.k_constant, self.df_resid)\n",
      "C:\\Users\\wen068\\AppData\\Roaming\\Python\\Python311\\site-packages\\statsmodels\\regression\\linear_model.py:1794: RuntimeWarning: divide by zero encountered in divide\n",
      "  return 1 - (np.divide(self.nobs - self.k_constant, self.df_resid)\n",
      "C:\\Users\\wen068\\AppData\\Roaming\\Python\\Python311\\site-packages\\statsmodels\\regression\\linear_model.py:1794: RuntimeWarning: invalid value encountered in double_scalars\n",
      "  return 1 - (np.divide(self.nobs - self.k_constant, self.df_resid)\n",
      "C:\\Users\\wen068\\AppData\\Roaming\\Python\\Python311\\site-packages\\statsmodels\\regression\\linear_model.py:1794: RuntimeWarning: divide by zero encountered in divide\n",
      "  return 1 - (np.divide(self.nobs - self.k_constant, self.df_resid)\n",
      "C:\\Users\\wen068\\AppData\\Roaming\\Python\\Python311\\site-packages\\statsmodels\\regression\\linear_model.py:1794: RuntimeWarning: invalid value encountered in double_scalars\n",
      "  return 1 - (np.divide(self.nobs - self.k_constant, self.df_resid)\n",
      "C:\\Users\\wen068\\AppData\\Roaming\\Python\\Python311\\site-packages\\statsmodels\\regression\\linear_model.py:1794: RuntimeWarning: divide by zero encountered in divide\n",
      "  return 1 - (np.divide(self.nobs - self.k_constant, self.df_resid)\n",
      "C:\\Users\\wen068\\AppData\\Roaming\\Python\\Python311\\site-packages\\statsmodels\\regression\\linear_model.py:1794: RuntimeWarning: invalid value encountered in double_scalars\n",
      "  return 1 - (np.divide(self.nobs - self.k_constant, self.df_resid)\n"
     ]
    },
    {
     "name": "stdout",
     "output_type": "stream",
     "text": [
      "error in OLS, drug 1633 number of variables (+) 1721\n"
     ]
    },
    {
     "name": "stderr",
     "output_type": "stream",
     "text": [
      "C:\\Users\\wen068\\AppData\\Roaming\\Python\\Python311\\site-packages\\statsmodels\\regression\\linear_model.py:1794: RuntimeWarning: divide by zero encountered in divide\n",
      "  return 1 - (np.divide(self.nobs - self.k_constant, self.df_resid)\n",
      "C:\\Users\\wen068\\AppData\\Roaming\\Python\\Python311\\site-packages\\statsmodels\\regression\\linear_model.py:1794: RuntimeWarning: invalid value encountered in double_scalars\n",
      "  return 1 - (np.divide(self.nobs - self.k_constant, self.df_resid)\n",
      "C:\\Users\\wen068\\AppData\\Roaming\\Python\\Python311\\site-packages\\statsmodels\\regression\\linear_model.py:1794: RuntimeWarning: divide by zero encountered in divide\n",
      "  return 1 - (np.divide(self.nobs - self.k_constant, self.df_resid)\n",
      "C:\\Users\\wen068\\AppData\\Roaming\\Python\\Python311\\site-packages\\statsmodels\\regression\\linear_model.py:1794: RuntimeWarning: invalid value encountered in double_scalars\n",
      "  return 1 - (np.divide(self.nobs - self.k_constant, self.df_resid)\n",
      "C:\\Users\\wen068\\AppData\\Roaming\\Python\\Python311\\site-packages\\statsmodels\\regression\\linear_model.py:1794: RuntimeWarning: divide by zero encountered in divide\n",
      "  return 1 - (np.divide(self.nobs - self.k_constant, self.df_resid)\n",
      "C:\\Users\\wen068\\AppData\\Roaming\\Python\\Python311\\site-packages\\statsmodels\\regression\\linear_model.py:1794: RuntimeWarning: invalid value encountered in double_scalars\n",
      "  return 1 - (np.divide(self.nobs - self.k_constant, self.df_resid)\n",
      "C:\\Users\\wen068\\AppData\\Roaming\\Python\\Python311\\site-packages\\statsmodels\\regression\\linear_model.py:1794: RuntimeWarning: divide by zero encountered in divide\n",
      "  return 1 - (np.divide(self.nobs - self.k_constant, self.df_resid)\n",
      "C:\\Users\\wen068\\AppData\\Roaming\\Python\\Python311\\site-packages\\statsmodels\\regression\\linear_model.py:1794: RuntimeWarning: invalid value encountered in double_scalars\n",
      "  return 1 - (np.divide(self.nobs - self.k_constant, self.df_resid)\n"
     ]
    },
    {
     "name": "stdout",
     "output_type": "stream",
     "text": [
      "error in OLS, drug 1873 number of variables (+) 2362\n",
      "error in OLS, drug 1913 number of variables (+) 2699\n",
      "error in OLS, drug 1933 number of variables (+) 2865\n",
      "error in OLS, drug 1973 number of variables (+) 2372\n",
      "error in OLS, drug 1993 number of variables (+) 2145\n"
     ]
    },
    {
     "name": "stderr",
     "output_type": "stream",
     "text": [
      "C:\\Users\\wen068\\AppData\\Roaming\\Python\\Python311\\site-packages\\statsmodels\\regression\\linear_model.py:1794: RuntimeWarning: divide by zero encountered in divide\n",
      "  return 1 - (np.divide(self.nobs - self.k_constant, self.df_resid)\n",
      "C:\\Users\\wen068\\AppData\\Roaming\\Python\\Python311\\site-packages\\statsmodels\\regression\\linear_model.py:1794: RuntimeWarning: invalid value encountered in double_scalars\n",
      "  return 1 - (np.divide(self.nobs - self.k_constant, self.df_resid)\n",
      "C:\\Users\\wen068\\AppData\\Roaming\\Python\\Python311\\site-packages\\statsmodels\\regression\\linear_model.py:1794: RuntimeWarning: divide by zero encountered in divide\n",
      "  return 1 - (np.divide(self.nobs - self.k_constant, self.df_resid)\n",
      "C:\\Users\\wen068\\AppData\\Roaming\\Python\\Python311\\site-packages\\statsmodels\\regression\\linear_model.py:1794: RuntimeWarning: invalid value encountered in double_scalars\n",
      "  return 1 - (np.divide(self.nobs - self.k_constant, self.df_resid)\n",
      "C:\\Users\\wen068\\AppData\\Roaming\\Python\\Python311\\site-packages\\statsmodels\\regression\\linear_model.py:1794: RuntimeWarning: divide by zero encountered in divide\n",
      "  return 1 - (np.divide(self.nobs - self.k_constant, self.df_resid)\n",
      "C:\\Users\\wen068\\AppData\\Roaming\\Python\\Python311\\site-packages\\statsmodels\\regression\\linear_model.py:1794: RuntimeWarning: invalid value encountered in double_scalars\n",
      "  return 1 - (np.divide(self.nobs - self.k_constant, self.df_resid)\n",
      "C:\\Users\\wen068\\AppData\\Roaming\\Python\\Python311\\site-packages\\statsmodels\\regression\\linear_model.py:1794: RuntimeWarning: divide by zero encountered in divide\n",
      "  return 1 - (np.divide(self.nobs - self.k_constant, self.df_resid)\n",
      "C:\\Users\\wen068\\AppData\\Roaming\\Python\\Python311\\site-packages\\statsmodels\\regression\\linear_model.py:1794: RuntimeWarning: invalid value encountered in double_scalars\n",
      "  return 1 - (np.divide(self.nobs - self.k_constant, self.df_resid)\n"
     ]
    },
    {
     "name": "stdout",
     "output_type": "stream",
     "text": [
      "error in OLS, drug 2023 number of variables (+) 2388\n",
      "error in OLS, drug 2043 number of variables (+) 2783\n"
     ]
    },
    {
     "name": "stderr",
     "output_type": "stream",
     "text": [
      "C:\\Users\\wen068\\AppData\\Roaming\\Python\\Python311\\site-packages\\statsmodels\\regression\\linear_model.py:1794: RuntimeWarning: divide by zero encountered in divide\n",
      "  return 1 - (np.divide(self.nobs - self.k_constant, self.df_resid)\n",
      "C:\\Users\\wen068\\AppData\\Roaming\\Python\\Python311\\site-packages\\statsmodels\\regression\\linear_model.py:1794: RuntimeWarning: invalid value encountered in double_scalars\n",
      "  return 1 - (np.divide(self.nobs - self.k_constant, self.df_resid)\n"
     ]
    },
    {
     "name": "stdout",
     "output_type": "stream",
     "text": [
      "error in OLS, drug 2063 number of variables (+) 1950\n"
     ]
    },
    {
     "name": "stderr",
     "output_type": "stream",
     "text": [
      "C:\\Users\\wen068\\AppData\\Roaming\\Python\\Python311\\site-packages\\statsmodels\\regression\\linear_model.py:1794: RuntimeWarning: divide by zero encountered in divide\n",
      "  return 1 - (np.divide(self.nobs - self.k_constant, self.df_resid)\n",
      "C:\\Users\\wen068\\AppData\\Roaming\\Python\\Python311\\site-packages\\statsmodels\\regression\\linear_model.py:1794: RuntimeWarning: invalid value encountered in double_scalars\n",
      "  return 1 - (np.divide(self.nobs - self.k_constant, self.df_resid)\n",
      "C:\\Users\\wen068\\AppData\\Roaming\\Python\\Python311\\site-packages\\statsmodels\\regression\\linear_model.py:1794: RuntimeWarning: divide by zero encountered in divide\n",
      "  return 1 - (np.divide(self.nobs - self.k_constant, self.df_resid)\n",
      "C:\\Users\\wen068\\AppData\\Roaming\\Python\\Python311\\site-packages\\statsmodels\\regression\\linear_model.py:1794: RuntimeWarning: invalid value encountered in double_scalars\n",
      "  return 1 - (np.divide(self.nobs - self.k_constant, self.df_resid)\n",
      "C:\\Users\\wen068\\AppData\\Roaming\\Python\\Python311\\site-packages\\statsmodels\\regression\\linear_model.py:1794: RuntimeWarning: divide by zero encountered in divide\n",
      "  return 1 - (np.divide(self.nobs - self.k_constant, self.df_resid)\n",
      "C:\\Users\\wen068\\AppData\\Roaming\\Python\\Python311\\site-packages\\statsmodels\\regression\\linear_model.py:1794: RuntimeWarning: invalid value encountered in double_scalars\n",
      "  return 1 - (np.divide(self.nobs - self.k_constant, self.df_resid)\n",
      "C:\\Users\\wen068\\AppData\\Roaming\\Python\\Python311\\site-packages\\statsmodels\\regression\\linear_model.py:1794: RuntimeWarning: divide by zero encountered in divide\n",
      "  return 1 - (np.divide(self.nobs - self.k_constant, self.df_resid)\n",
      "C:\\Users\\wen068\\AppData\\Roaming\\Python\\Python311\\site-packages\\statsmodels\\regression\\linear_model.py:1794: RuntimeWarning: invalid value encountered in double_scalars\n",
      "  return 1 - (np.divide(self.nobs - self.k_constant, self.df_resid)\n"
     ]
    },
    {
     "name": "stdout",
     "output_type": "stream",
     "text": [
      "error in OLS, drug 2103 number of variables (+) 1590\n",
      "error in OLS, drug 2153 number of variables (+) 2178\n",
      "error in OLS, drug 2163 number of variables (+) 2298\n",
      "error in OLS, drug 2173 number of variables (+) 2891\n"
     ]
    },
    {
     "name": "stderr",
     "output_type": "stream",
     "text": [
      "C:\\Users\\wen068\\AppData\\Roaming\\Python\\Python311\\site-packages\\statsmodels\\regression\\linear_model.py:1794: RuntimeWarning: divide by zero encountered in divide\n",
      "  return 1 - (np.divide(self.nobs - self.k_constant, self.df_resid)\n",
      "C:\\Users\\wen068\\AppData\\Roaming\\Python\\Python311\\site-packages\\statsmodels\\regression\\linear_model.py:1794: RuntimeWarning: invalid value encountered in double_scalars\n",
      "  return 1 - (np.divide(self.nobs - self.k_constant, self.df_resid)\n",
      "C:\\Users\\wen068\\AppData\\Roaming\\Python\\Python311\\site-packages\\statsmodels\\regression\\linear_model.py:1794: RuntimeWarning: divide by zero encountered in divide\n",
      "  return 1 - (np.divide(self.nobs - self.k_constant, self.df_resid)\n",
      "C:\\Users\\wen068\\AppData\\Roaming\\Python\\Python311\\site-packages\\statsmodels\\regression\\linear_model.py:1794: RuntimeWarning: invalid value encountered in double_scalars\n",
      "  return 1 - (np.divide(self.nobs - self.k_constant, self.df_resid)\n",
      "C:\\Users\\wen068\\AppData\\Roaming\\Python\\Python311\\site-packages\\statsmodels\\regression\\linear_model.py:1794: RuntimeWarning: divide by zero encountered in divide\n",
      "  return 1 - (np.divide(self.nobs - self.k_constant, self.df_resid)\n",
      "C:\\Users\\wen068\\AppData\\Roaming\\Python\\Python311\\site-packages\\statsmodels\\regression\\linear_model.py:1794: RuntimeWarning: invalid value encountered in double_scalars\n",
      "  return 1 - (np.divide(self.nobs - self.k_constant, self.df_resid)\n",
      "C:\\Users\\wen068\\AppData\\Roaming\\Python\\Python311\\site-packages\\statsmodels\\regression\\linear_model.py:1794: RuntimeWarning: divide by zero encountered in divide\n",
      "  return 1 - (np.divide(self.nobs - self.k_constant, self.df_resid)\n",
      "C:\\Users\\wen068\\AppData\\Roaming\\Python\\Python311\\site-packages\\statsmodels\\regression\\linear_model.py:1794: RuntimeWarning: invalid value encountered in double_scalars\n",
      "  return 1 - (np.divide(self.nobs - self.k_constant, self.df_resid)\n",
      "C:\\Users\\wen068\\AppData\\Roaming\\Python\\Python311\\site-packages\\statsmodels\\regression\\linear_model.py:1794: RuntimeWarning: divide by zero encountered in divide\n",
      "  return 1 - (np.divide(self.nobs - self.k_constant, self.df_resid)\n",
      "C:\\Users\\wen068\\AppData\\Roaming\\Python\\Python311\\site-packages\\statsmodels\\regression\\linear_model.py:1794: RuntimeWarning: invalid value encountered in double_scalars\n",
      "  return 1 - (np.divide(self.nobs - self.k_constant, self.df_resid)\n",
      "C:\\Users\\wen068\\AppData\\Roaming\\Python\\Python311\\site-packages\\statsmodels\\regression\\linear_model.py:1794: RuntimeWarning: divide by zero encountered in divide\n",
      "  return 1 - (np.divide(self.nobs - self.k_constant, self.df_resid)\n",
      "C:\\Users\\wen068\\AppData\\Roaming\\Python\\Python311\\site-packages\\statsmodels\\regression\\linear_model.py:1794: RuntimeWarning: invalid value encountered in double_scalars\n",
      "  return 1 - (np.divide(self.nobs - self.k_constant, self.df_resid)\n",
      "C:\\Users\\wen068\\AppData\\Roaming\\Python\\Python311\\site-packages\\statsmodels\\regression\\linear_model.py:1794: RuntimeWarning: divide by zero encountered in divide\n",
      "  return 1 - (np.divide(self.nobs - self.k_constant, self.df_resid)\n",
      "C:\\Users\\wen068\\AppData\\Roaming\\Python\\Python311\\site-packages\\statsmodels\\regression\\linear_model.py:1794: RuntimeWarning: invalid value encountered in double_scalars\n",
      "  return 1 - (np.divide(self.nobs - self.k_constant, self.df_resid)\n",
      "C:\\Users\\wen068\\AppData\\Roaming\\Python\\Python311\\site-packages\\statsmodels\\regression\\linear_model.py:1794: RuntimeWarning: divide by zero encountered in divide\n",
      "  return 1 - (np.divide(self.nobs - self.k_constant, self.df_resid)\n",
      "C:\\Users\\wen068\\AppData\\Roaming\\Python\\Python311\\site-packages\\statsmodels\\regression\\linear_model.py:1794: RuntimeWarning: invalid value encountered in double_scalars\n",
      "  return 1 - (np.divide(self.nobs - self.k_constant, self.df_resid)\n"
     ]
    },
    {
     "name": "stdout",
     "output_type": "stream",
     "text": [
      "error in OLS, drug 2273 number of variables (+) 1880\n",
      "error in OLS, drug 2283 number of variables (+) 1814\n",
      "error in OLS, drug 2293 number of variables (+) 1595\n"
     ]
    },
    {
     "name": "stderr",
     "output_type": "stream",
     "text": [
      "C:\\Users\\wen068\\AppData\\Roaming\\Python\\Python311\\site-packages\\statsmodels\\regression\\linear_model.py:1794: RuntimeWarning: divide by zero encountered in divide\n",
      "  return 1 - (np.divide(self.nobs - self.k_constant, self.df_resid)\n",
      "C:\\Users\\wen068\\AppData\\Roaming\\Python\\Python311\\site-packages\\statsmodels\\regression\\linear_model.py:1794: RuntimeWarning: invalid value encountered in double_scalars\n",
      "  return 1 - (np.divide(self.nobs - self.k_constant, self.df_resid)\n",
      "C:\\Users\\wen068\\AppData\\Roaming\\Python\\Python311\\site-packages\\statsmodels\\regression\\linear_model.py:1794: RuntimeWarning: divide by zero encountered in divide\n",
      "  return 1 - (np.divide(self.nobs - self.k_constant, self.df_resid)\n",
      "C:\\Users\\wen068\\AppData\\Roaming\\Python\\Python311\\site-packages\\statsmodels\\regression\\linear_model.py:1794: RuntimeWarning: invalid value encountered in double_scalars\n",
      "  return 1 - (np.divide(self.nobs - self.k_constant, self.df_resid)\n",
      "C:\\Users\\wen068\\AppData\\Roaming\\Python\\Python311\\site-packages\\statsmodels\\regression\\linear_model.py:1794: RuntimeWarning: divide by zero encountered in divide\n",
      "  return 1 - (np.divide(self.nobs - self.k_constant, self.df_resid)\n",
      "C:\\Users\\wen068\\AppData\\Roaming\\Python\\Python311\\site-packages\\statsmodels\\regression\\linear_model.py:1794: RuntimeWarning: invalid value encountered in double_scalars\n",
      "  return 1 - (np.divide(self.nobs - self.k_constant, self.df_resid)\n",
      "C:\\Users\\wen068\\AppData\\Roaming\\Python\\Python311\\site-packages\\statsmodels\\regression\\linear_model.py:1794: RuntimeWarning: divide by zero encountered in divide\n",
      "  return 1 - (np.divide(self.nobs - self.k_constant, self.df_resid)\n",
      "C:\\Users\\wen068\\AppData\\Roaming\\Python\\Python311\\site-packages\\statsmodels\\regression\\linear_model.py:1794: RuntimeWarning: invalid value encountered in double_scalars\n",
      "  return 1 - (np.divide(self.nobs - self.k_constant, self.df_resid)\n"
     ]
    },
    {
     "name": "stdout",
     "output_type": "stream",
     "text": [
      "error in OLS, drug 2313 number of variables (+) 1568\n"
     ]
    },
    {
     "name": "stderr",
     "output_type": "stream",
     "text": [
      "C:\\Users\\wen068\\AppData\\Roaming\\Python\\Python311\\site-packages\\statsmodels\\regression\\linear_model.py:1794: RuntimeWarning: divide by zero encountered in divide\n",
      "  return 1 - (np.divide(self.nobs - self.k_constant, self.df_resid)\n",
      "C:\\Users\\wen068\\AppData\\Roaming\\Python\\Python311\\site-packages\\statsmodels\\regression\\linear_model.py:1794: RuntimeWarning: invalid value encountered in double_scalars\n",
      "  return 1 - (np.divide(self.nobs - self.k_constant, self.df_resid)\n"
     ]
    },
    {
     "name": "stdout",
     "output_type": "stream",
     "text": [
      "error in OLS, drug 2323 number of variables (+) 2202\n",
      "error in OLS, drug 2333 number of variables (+) 2146\n"
     ]
    },
    {
     "name": "stderr",
     "output_type": "stream",
     "text": [
      "C:\\Users\\wen068\\AppData\\Roaming\\Python\\Python311\\site-packages\\statsmodels\\regression\\linear_model.py:1794: RuntimeWarning: divide by zero encountered in divide\n",
      "  return 1 - (np.divide(self.nobs - self.k_constant, self.df_resid)\n",
      "C:\\Users\\wen068\\AppData\\Roaming\\Python\\Python311\\site-packages\\statsmodels\\regression\\linear_model.py:1794: RuntimeWarning: invalid value encountered in double_scalars\n",
      "  return 1 - (np.divide(self.nobs - self.k_constant, self.df_resid)\n"
     ]
    },
    {
     "name": "stdout",
     "output_type": "stream",
     "text": [
      "error in OLS, drug 2363 number of variables (+) 1502\n",
      "error in OLS, drug 2503 number of variables (+) 2639\n",
      "0.5569620253164557  % of drugs failed OLS at some point\n",
      "The largest amount of proteins used for a regression was:  1453\n"
     ]
    }
   ],
   "source": [
    "r2_5 = regression_per_drug(proteins, drug_list, filter=0.5)"
   ]
  },
  {
   "cell_type": "code",
   "execution_count": 23,
   "id": "298a9a5a-9d2d-4a21-b782-ed07041c040b",
   "metadata": {},
   "outputs": [
    {
     "data": {
      "text/plain": [
       "40"
      ]
     },
     "execution_count": 23,
     "metadata": {},
     "output_type": "execute_result"
    }
   ],
   "source": [
    "len(r2_5[[\"drug\"]].drop_duplicates())"
   ]
  },
  {
   "cell_type": "code",
   "execution_count": 24,
   "id": "40c34fe8-d394-4c27-abae-ec573b83e086",
   "metadata": {},
   "outputs": [],
   "source": [
    "r2_5.to_csv(working_dir+\"r2_5.csv\", index=False)"
   ]
  },
  {
   "cell_type": "code",
   "execution_count": 25,
   "id": "b906260b-49eb-41d0-a953-a14b2261070d",
   "metadata": {
    "collapsed": true,
    "jupyter": {
     "outputs_hidden": true
    }
   },
   "outputs": [
    {
     "data": {
      "text/plain": [
       "<Axes: xlabel='n_prot', ylabel='pseudo_r2'>"
      ]
     },
     "execution_count": 25,
     "metadata": {},
     "output_type": "execute_result"
    },
    {
     "data": {
      "image/png": "[encoded data removed]",
      "text/plain": [
       "<Figure size 640x480 with 1 Axes>"
      ]
     },
     "metadata": {},
     "output_type": "display_data"
    }
   ],
   "source": [
    "sns.scatterplot(data=r2_5[[\"adj_r2\", \"pseudo_r2\", \"order\", \"n_prot\"]].drop_duplicates(ignore_index=True), x=\"n_prot\", y=\"pseudo_r2\", hue=\"order\", palette=\"Set2\", alpha=0.5)"
   ]
  },
  {
   "cell_type": "code",
   "execution_count": 100,
   "id": "1c0b50bb-ecce-4c4b-bea6-ccdae7ea701e",
   "metadata": {
    "collapsed": true,
    "jupyter": {
     "outputs_hidden": true
    },
    "scrolled": true
   },
   "outputs": [
    {
     "data": {
      "text/plain": [
       "<Axes: xlabel='n_prot', ylabel='pearsonR'>"
      ]
     },
     "execution_count": 100,
     "metadata": {},
     "output_type": "execute_result"
    },
    {
     "data": {
      "image/png": "[encoded data removed]",
      "text/plain": [
       "<Figure size 640x480 with 1 Axes>"
      ]
     },
     "metadata": {},
     "output_type": "display_data"
    }
   ],
   "source": [
    "sns.scatterplot(data=r2_5[[\"pearsonR\", \"adj_r2\", \"pseudo_r2\", \"order\", \"n_prot\"]].drop_duplicates(ignore_index=True), x=\"n_prot\", y=\"pearsonR\", hue=\"order\", palette=\"Set2\", alpha=0.5)"
   ]
  },
  {
   "cell_type": "code",
   "execution_count": 26,
   "id": "ed41d219-b7f2-4028-8844-29e25441a914",
   "metadata": {
    "collapsed": true,
    "jupyter": {
     "outputs_hidden": true
    }
   },
   "outputs": [
    {
     "data": {
      "text/plain": [
       "<Axes: xlabel='n_prot', ylabel='adj_r2'>"
      ]
     },
     "execution_count": 26,
     "metadata": {},
     "output_type": "execute_result"
    },
    {
     "data": {
      "image/png": "[encoded data removed]",
      "text/plain": [
       "<Figure size 640x480 with 1 Axes>"
      ]
     },
     "metadata": {},
     "output_type": "display_data"
    }
   ],
   "source": [
    "# adj includes nan if to few observations for amount of variables\n",
    "sns.scatterplot(data=r2_5[[\"adj_r2\", \"pseudo_r2\", \"order\", \"n_prot\"]].drop_duplicates(ignore_index=True), x=\"n_prot\", y=\"adj_r2\", hue=\"order\", palette=\"Set2\", alpha=0.5) "
   ]
  },
  {
   "cell_type": "code",
   "execution_count": 74,
   "id": "2d410b4c-7d1a-47d9-a98f-dab8423bf0b5",
   "metadata": {
    "collapsed": true,
    "jupyter": {
     "outputs_hidden": true
    },
    "scrolled": true
   },
   "outputs": [
    {
     "name": "stdout",
     "output_type": "stream",
     "text": [
      "63\n",
      "52\n",
      "114\n",
      "125\n",
      "555\n",
      "778\n"
     ]
    },
    {
     "name": "stderr",
     "output_type": "stream",
     "text": [
      "C:\\Users\\wen068\\AppData\\Roaming\\Python\\Python311\\site-packages\\statsmodels\\regression\\linear_model.py:1794: RuntimeWarning: divide by zero encountered in divide\n",
      "  return 1 - (np.divide(self.nobs - self.k_constant, self.df_resid)\n",
      "C:\\Users\\wen068\\AppData\\Roaming\\Python\\Python311\\site-packages\\statsmodels\\regression\\linear_model.py:1794: RuntimeWarning: invalid value encountered in double_scalars\n",
      "  return 1 - (np.divide(self.nobs - self.k_constant, self.df_resid)\n",
      "C:\\Users\\wen068\\AppData\\Roaming\\Python\\Python311\\site-packages\\statsmodels\\regression\\linear_model.py:1794: RuntimeWarning: divide by zero encountered in divide\n",
      "  return 1 - (np.divide(self.nobs - self.k_constant, self.df_resid)\n",
      "C:\\Users\\wen068\\AppData\\Roaming\\Python\\Python311\\site-packages\\statsmodels\\regression\\linear_model.py:1794: RuntimeWarning: invalid value encountered in double_scalars\n",
      "  return 1 - (np.divide(self.nobs - self.k_constant, self.df_resid)\n"
     ]
    },
    {
     "name": "stdout",
     "output_type": "stream",
     "text": [
      "608\n",
      "1280\n"
     ]
    },
    {
     "name": "stderr",
     "output_type": "stream",
     "text": [
      "C:\\Users\\wen068\\AppData\\Roaming\\Python\\Python311\\site-packages\\statsmodels\\regression\\linear_model.py:1794: RuntimeWarning: divide by zero encountered in divide\n",
      "  return 1 - (np.divide(self.nobs - self.k_constant, self.df_resid)\n",
      "C:\\Users\\wen068\\AppData\\Roaming\\Python\\Python311\\site-packages\\statsmodels\\regression\\linear_model.py:1794: RuntimeWarning: invalid value encountered in double_scalars\n",
      "  return 1 - (np.divide(self.nobs - self.k_constant, self.df_resid)\n",
      "C:\\Users\\wen068\\AppData\\Roaming\\Python\\Python311\\site-packages\\statsmodels\\regression\\linear_model.py:1794: RuntimeWarning: divide by zero encountered in divide\n",
      "  return 1 - (np.divide(self.nobs - self.k_constant, self.df_resid)\n",
      "C:\\Users\\wen068\\AppData\\Roaming\\Python\\Python311\\site-packages\\statsmodels\\regression\\linear_model.py:1794: RuntimeWarning: invalid value encountered in double_scalars\n",
      "  return 1 - (np.divide(self.nobs - self.k_constant, self.df_resid)\n",
      "C:\\Users\\wen068\\AppData\\Roaming\\Python\\Python311\\site-packages\\statsmodels\\regression\\linear_model.py:1794: RuntimeWarning: divide by zero encountered in divide\n",
      "  return 1 - (np.divide(self.nobs - self.k_constant, self.df_resid)\n",
      "C:\\Users\\wen068\\AppData\\Roaming\\Python\\Python311\\site-packages\\statsmodels\\regression\\linear_model.py:1794: RuntimeWarning: invalid value encountered in double_scalars\n",
      "  return 1 - (np.divide(self.nobs - self.k_constant, self.df_resid)\n",
      "C:\\Users\\wen068\\AppData\\Roaming\\Python\\Python311\\site-packages\\statsmodels\\regression\\linear_model.py:1794: RuntimeWarning: divide by zero encountered in divide\n",
      "  return 1 - (np.divide(self.nobs - self.k_constant, self.df_resid)\n",
      "C:\\Users\\wen068\\AppData\\Roaming\\Python\\Python311\\site-packages\\statsmodels\\regression\\linear_model.py:1794: RuntimeWarning: invalid value encountered in double_scalars\n",
      "  return 1 - (np.divide(self.nobs - self.k_constant, self.df_resid)\n"
     ]
    },
    {
     "name": "stdout",
     "output_type": "stream",
     "text": [
      "2149\n",
      "error in OLS, drug  193 number of variables (+) 2148\n",
      "2962\n",
      "error in OLS, drug  203 number of variables (+) 2961\n",
      "2260\n",
      "error in OLS, drug  223 number of variables (+) 2259\n",
      "3170\n",
      "error in OLS, drug  253 number of variables (+) 3169\n",
      "2539\n",
      "error in OLS, drug  263 number of variables (+) 2538\n",
      "2572\n",
      "error in OLS, drug  273 number of variables (+) 2571\n",
      "1805\n",
      "error in OLS, drug  283 number of variables (+) 1804\n",
      "1391\n"
     ]
    },
    {
     "name": "stderr",
     "output_type": "stream",
     "text": [
      "C:\\Users\\wen068\\AppData\\Roaming\\Python\\Python311\\site-packages\\statsmodels\\regression\\linear_model.py:1794: RuntimeWarning: divide by zero encountered in divide\n",
      "  return 1 - (np.divide(self.nobs - self.k_constant, self.df_resid)\n",
      "C:\\Users\\wen068\\AppData\\Roaming\\Python\\Python311\\site-packages\\statsmodels\\regression\\linear_model.py:1794: RuntimeWarning: invalid value encountered in double_scalars\n",
      "  return 1 - (np.divide(self.nobs - self.k_constant, self.df_resid)\n"
     ]
    },
    {
     "name": "stdout",
     "output_type": "stream",
     "text": [
      "error in OLS, drug 293 number of variables (+) 1534\n",
      "error in OLS, drug 293 number of variables (+) 1539\n",
      "error in OLS, drug 293 number of variables (+) 1541\n",
      "3101\n",
      "error in OLS, drug  303 number of variables (+) 3100\n",
      "3384\n",
      "error in OLS, drug  333 number of variables (+) 3383\n",
      "1321\n"
     ]
    },
    {
     "name": "stderr",
     "output_type": "stream",
     "text": [
      "C:\\Users\\wen068\\AppData\\Roaming\\Python\\Python311\\site-packages\\statsmodels\\regression\\linear_model.py:1794: RuntimeWarning: divide by zero encountered in divide\n",
      "  return 1 - (np.divide(self.nobs - self.k_constant, self.df_resid)\n",
      "C:\\Users\\wen068\\AppData\\Roaming\\Python\\Python311\\site-packages\\statsmodels\\regression\\linear_model.py:1794: RuntimeWarning: invalid value encountered in double_scalars\n",
      "  return 1 - (np.divide(self.nobs - self.k_constant, self.df_resid)\n",
      "C:\\Users\\wen068\\AppData\\Roaming\\Python\\Python311\\site-packages\\statsmodels\\regression\\linear_model.py:1794: RuntimeWarning: divide by zero encountered in divide\n",
      "  return 1 - (np.divide(self.nobs - self.k_constant, self.df_resid)\n",
      "C:\\Users\\wen068\\AppData\\Roaming\\Python\\Python311\\site-packages\\statsmodels\\regression\\linear_model.py:1794: RuntimeWarning: invalid value encountered in double_scalars\n",
      "  return 1 - (np.divide(self.nobs - self.k_constant, self.df_resid)\n",
      "C:\\Users\\wen068\\AppData\\Roaming\\Python\\Python311\\site-packages\\statsmodels\\regression\\linear_model.py:1794: RuntimeWarning: divide by zero encountered in divide\n",
      "  return 1 - (np.divide(self.nobs - self.k_constant, self.df_resid)\n",
      "C:\\Users\\wen068\\AppData\\Roaming\\Python\\Python311\\site-packages\\statsmodels\\regression\\linear_model.py:1794: RuntimeWarning: invalid value encountered in double_scalars\n",
      "  return 1 - (np.divide(self.nobs - self.k_constant, self.df_resid)\n",
      "C:\\Users\\wen068\\AppData\\Roaming\\Python\\Python311\\site-packages\\statsmodels\\regression\\linear_model.py:1794: RuntimeWarning: divide by zero encountered in divide\n",
      "  return 1 - (np.divide(self.nobs - self.k_constant, self.df_resid)\n",
      "C:\\Users\\wen068\\AppData\\Roaming\\Python\\Python311\\site-packages\\statsmodels\\regression\\linear_model.py:1794: RuntimeWarning: invalid value encountered in double_scalars\n",
      "  return 1 - (np.divide(self.nobs - self.k_constant, self.df_resid)\n"
     ]
    },
    {
     "name": "stdout",
     "output_type": "stream",
     "text": [
      "1971\n",
      "error in OLS, drug  563 number of variables (+) 1970\n",
      "1978\n",
      "error in OLS, drug  573 number of variables (+) 1977\n",
      "3340\n",
      "error in OLS, drug  1003 number of variables (+) 3339\n",
      "4419\n",
      "error in OLS, drug  1013 number of variables (+) 4418\n",
      "2804\n",
      "error in OLS, drug  1023 number of variables (+) 2803\n",
      "3990\n",
      "error in OLS, drug  1033 number of variables (+) 3989\n",
      "3582\n",
      "error in OLS, drug  1043 number of variables (+) 3581\n",
      "3993\n",
      "error in OLS, drug  1053 number of variables (+) 3992\n",
      "3082\n",
      "error in OLS, drug  1073 number of variables (+) 3081\n",
      "3306\n",
      "error in OLS, drug  1083 number of variables (+) 3305\n",
      "3246\n",
      "error in OLS, drug  1093 number of variables (+) 3245\n",
      "3480\n",
      "error in OLS, drug  1133 number of variables (+) 3479\n",
      "143\n",
      "2982\n",
      "error in OLS, drug  1193 number of variables (+) 2981\n",
      "1194\n"
     ]
    },
    {
     "name": "stderr",
     "output_type": "stream",
     "text": [
      "C:\\Users\\wen068\\AppData\\Roaming\\Python\\Python311\\site-packages\\statsmodels\\regression\\linear_model.py:1794: RuntimeWarning: divide by zero encountered in divide\n",
      "  return 1 - (np.divide(self.nobs - self.k_constant, self.df_resid)\n",
      "C:\\Users\\wen068\\AppData\\Roaming\\Python\\Python311\\site-packages\\statsmodels\\regression\\linear_model.py:1794: RuntimeWarning: invalid value encountered in double_scalars\n",
      "  return 1 - (np.divide(self.nobs - self.k_constant, self.df_resid)\n",
      "C:\\Users\\wen068\\AppData\\Roaming\\Python\\Python311\\site-packages\\statsmodels\\regression\\linear_model.py:1794: RuntimeWarning: divide by zero encountered in divide\n",
      "  return 1 - (np.divide(self.nobs - self.k_constant, self.df_resid)\n",
      "C:\\Users\\wen068\\AppData\\Roaming\\Python\\Python311\\site-packages\\statsmodels\\regression\\linear_model.py:1794: RuntimeWarning: invalid value encountered in double_scalars\n",
      "  return 1 - (np.divide(self.nobs - self.k_constant, self.df_resid)\n",
      "C:\\Users\\wen068\\AppData\\Roaming\\Python\\Python311\\site-packages\\statsmodels\\regression\\linear_model.py:1794: RuntimeWarning: divide by zero encountered in divide\n",
      "  return 1 - (np.divide(self.nobs - self.k_constant, self.df_resid)\n",
      "C:\\Users\\wen068\\AppData\\Roaming\\Python\\Python311\\site-packages\\statsmodels\\regression\\linear_model.py:1794: RuntimeWarning: invalid value encountered in double_scalars\n",
      "  return 1 - (np.divide(self.nobs - self.k_constant, self.df_resid)\n",
      "C:\\Users\\wen068\\AppData\\Roaming\\Python\\Python311\\site-packages\\statsmodels\\regression\\linear_model.py:1794: RuntimeWarning: divide by zero encountered in divide\n",
      "  return 1 - (np.divide(self.nobs - self.k_constant, self.df_resid)\n",
      "C:\\Users\\wen068\\AppData\\Roaming\\Python\\Python311\\site-packages\\statsmodels\\regression\\linear_model.py:1794: RuntimeWarning: invalid value encountered in double_scalars\n",
      "  return 1 - (np.divide(self.nobs - self.k_constant, self.df_resid)\n"
     ]
    },
    {
     "name": "stdout",
     "output_type": "stream",
     "text": [
      "1889\n",
      "error in OLS, drug  1243 number of variables (+) 1888\n",
      "2152\n",
      "error in OLS, drug  1263 number of variables (+) 2151\n",
      "3945\n",
      "error in OLS, drug  1373 number of variables (+) 3944\n",
      "2295\n",
      "error in OLS, drug  1393 number of variables (+) 2294\n",
      "1636\n",
      "error in OLS, drug  1403 number of variables (+) 1635\n",
      "2142\n",
      "error in OLS, drug  1413 number of variables (+) 2141\n",
      "2460\n",
      "error in OLS, drug  1433 number of variables (+) 2459\n",
      "1998\n",
      "error in OLS, drug  1453 number of variables (+) 1997\n",
      "1722\n",
      "error in OLS, drug  1463 number of variables (+) 1721\n",
      "584\n"
     ]
    },
    {
     "name": "stderr",
     "output_type": "stream",
     "text": [
      "C:\\Users\\wen068\\AppData\\Roaming\\Python\\Python311\\site-packages\\statsmodels\\regression\\linear_model.py:1794: RuntimeWarning: divide by zero encountered in divide\n",
      "  return 1 - (np.divide(self.nobs - self.k_constant, self.df_resid)\n",
      "C:\\Users\\wen068\\AppData\\Roaming\\Python\\Python311\\site-packages\\statsmodels\\regression\\linear_model.py:1794: RuntimeWarning: invalid value encountered in double_scalars\n",
      "  return 1 - (np.divide(self.nobs - self.k_constant, self.df_resid)\n",
      "C:\\Users\\wen068\\AppData\\Roaming\\Python\\Python311\\site-packages\\statsmodels\\regression\\linear_model.py:1794: RuntimeWarning: divide by zero encountered in divide\n",
      "  return 1 - (np.divide(self.nobs - self.k_constant, self.df_resid)\n",
      "C:\\Users\\wen068\\AppData\\Roaming\\Python\\Python311\\site-packages\\statsmodels\\regression\\linear_model.py:1794: RuntimeWarning: invalid value encountered in double_scalars\n",
      "  return 1 - (np.divide(self.nobs - self.k_constant, self.df_resid)\n",
      "C:\\Users\\wen068\\AppData\\Roaming\\Python\\Python311\\site-packages\\statsmodels\\regression\\linear_model.py:1794: RuntimeWarning: divide by zero encountered in divide\n",
      "  return 1 - (np.divide(self.nobs - self.k_constant, self.df_resid)\n",
      "C:\\Users\\wen068\\AppData\\Roaming\\Python\\Python311\\site-packages\\statsmodels\\regression\\linear_model.py:1794: RuntimeWarning: invalid value encountered in double_scalars\n",
      "  return 1 - (np.divide(self.nobs - self.k_constant, self.df_resid)\n",
      "C:\\Users\\wen068\\AppData\\Roaming\\Python\\Python311\\site-packages\\statsmodels\\regression\\linear_model.py:1794: RuntimeWarning: divide by zero encountered in divide\n",
      "  return 1 - (np.divide(self.nobs - self.k_constant, self.df_resid)\n",
      "C:\\Users\\wen068\\AppData\\Roaming\\Python\\Python311\\site-packages\\statsmodels\\regression\\linear_model.py:1794: RuntimeWarning: invalid value encountered in double_scalars\n",
      "  return 1 - (np.divide(self.nobs - self.k_constant, self.df_resid)\n"
     ]
    },
    {
     "name": "stdout",
     "output_type": "stream",
     "text": [
      "187\n"
     ]
    },
    {
     "name": "stderr",
     "output_type": "stream",
     "text": [
      "C:\\Users\\wen068\\AppData\\Roaming\\Python\\Python311\\site-packages\\statsmodels\\regression\\linear_model.py:1794: RuntimeWarning: divide by zero encountered in divide\n",
      "  return 1 - (np.divide(self.nobs - self.k_constant, self.df_resid)\n",
      "C:\\Users\\wen068\\AppData\\Roaming\\Python\\Python311\\site-packages\\statsmodels\\regression\\linear_model.py:1794: RuntimeWarning: invalid value encountered in double_scalars\n",
      "  return 1 - (np.divide(self.nobs - self.k_constant, self.df_resid)\n",
      "C:\\Users\\wen068\\AppData\\Roaming\\Python\\Python311\\site-packages\\statsmodels\\regression\\linear_model.py:1794: RuntimeWarning: divide by zero encountered in divide\n",
      "  return 1 - (np.divide(self.nobs - self.k_constant, self.df_resid)\n",
      "C:\\Users\\wen068\\AppData\\Roaming\\Python\\Python311\\site-packages\\statsmodels\\regression\\linear_model.py:1794: RuntimeWarning: invalid value encountered in double_scalars\n",
      "  return 1 - (np.divide(self.nobs - self.k_constant, self.df_resid)\n",
      "C:\\Users\\wen068\\AppData\\Roaming\\Python\\Python311\\site-packages\\statsmodels\\regression\\linear_model.py:1794: RuntimeWarning: divide by zero encountered in divide\n",
      "  return 1 - (np.divide(self.nobs - self.k_constant, self.df_resid)\n",
      "C:\\Users\\wen068\\AppData\\Roaming\\Python\\Python311\\site-packages\\statsmodels\\regression\\linear_model.py:1794: RuntimeWarning: invalid value encountered in double_scalars\n",
      "  return 1 - (np.divide(self.nobs - self.k_constant, self.df_resid)\n"
     ]
    },
    {
     "name": "stdout",
     "output_type": "stream",
     "text": [
      "3466\n",
      "error in OLS, drug  1563 number of variables (+) 3465\n",
      "840\n"
     ]
    },
    {
     "name": "stderr",
     "output_type": "stream",
     "text": [
      "C:\\Users\\wen068\\AppData\\Roaming\\Python\\Python311\\site-packages\\statsmodels\\regression\\linear_model.py:1794: RuntimeWarning: divide by zero encountered in divide\n",
      "  return 1 - (np.divide(self.nobs - self.k_constant, self.df_resid)\n",
      "C:\\Users\\wen068\\AppData\\Roaming\\Python\\Python311\\site-packages\\statsmodels\\regression\\linear_model.py:1794: RuntimeWarning: invalid value encountered in double_scalars\n",
      "  return 1 - (np.divide(self.nobs - self.k_constant, self.df_resid)\n",
      "C:\\Users\\wen068\\AppData\\Roaming\\Python\\Python311\\site-packages\\statsmodels\\regression\\linear_model.py:1794: RuntimeWarning: divide by zero encountered in divide\n",
      "  return 1 - (np.divide(self.nobs - self.k_constant, self.df_resid)\n",
      "C:\\Users\\wen068\\AppData\\Roaming\\Python\\Python311\\site-packages\\statsmodels\\regression\\linear_model.py:1794: RuntimeWarning: invalid value encountered in double_scalars\n",
      "  return 1 - (np.divide(self.nobs - self.k_constant, self.df_resid)\n",
      "C:\\Users\\wen068\\AppData\\Roaming\\Python\\Python311\\site-packages\\statsmodels\\regression\\linear_model.py:1794: RuntimeWarning: divide by zero encountered in divide\n",
      "  return 1 - (np.divide(self.nobs - self.k_constant, self.df_resid)\n",
      "C:\\Users\\wen068\\AppData\\Roaming\\Python\\Python311\\site-packages\\statsmodels\\regression\\linear_model.py:1794: RuntimeWarning: invalid value encountered in double_scalars\n",
      "  return 1 - (np.divide(self.nobs - self.k_constant, self.df_resid)\n",
      "C:\\Users\\wen068\\AppData\\Roaming\\Python\\Python311\\site-packages\\statsmodels\\regression\\linear_model.py:1794: RuntimeWarning: divide by zero encountered in divide\n",
      "  return 1 - (np.divide(self.nobs - self.k_constant, self.df_resid)\n",
      "C:\\Users\\wen068\\AppData\\Roaming\\Python\\Python311\\site-packages\\statsmodels\\regression\\linear_model.py:1794: RuntimeWarning: invalid value encountered in double_scalars\n",
      "  return 1 - (np.divide(self.nobs - self.k_constant, self.df_resid)\n"
     ]
    },
    {
     "name": "stdout",
     "output_type": "stream",
     "text": [
      "174\n",
      "2112\n",
      "error in OLS, drug  1633 number of variables (+) 2111\n",
      "502\n"
     ]
    },
    {
     "name": "stderr",
     "output_type": "stream",
     "text": [
      "C:\\Users\\wen068\\AppData\\Roaming\\Python\\Python311\\site-packages\\statsmodels\\regression\\linear_model.py:1794: RuntimeWarning: divide by zero encountered in divide\n",
      "  return 1 - (np.divide(self.nobs - self.k_constant, self.df_resid)\n",
      "C:\\Users\\wen068\\AppData\\Roaming\\Python\\Python311\\site-packages\\statsmodels\\regression\\linear_model.py:1794: RuntimeWarning: invalid value encountered in double_scalars\n",
      "  return 1 - (np.divide(self.nobs - self.k_constant, self.df_resid)\n",
      "C:\\Users\\wen068\\AppData\\Roaming\\Python\\Python311\\site-packages\\statsmodels\\regression\\linear_model.py:1794: RuntimeWarning: divide by zero encountered in divide\n",
      "  return 1 - (np.divide(self.nobs - self.k_constant, self.df_resid)\n",
      "C:\\Users\\wen068\\AppData\\Roaming\\Python\\Python311\\site-packages\\statsmodels\\regression\\linear_model.py:1794: RuntimeWarning: invalid value encountered in double_scalars\n",
      "  return 1 - (np.divide(self.nobs - self.k_constant, self.df_resid)\n",
      "C:\\Users\\wen068\\AppData\\Roaming\\Python\\Python311\\site-packages\\statsmodels\\regression\\linear_model.py:1794: RuntimeWarning: divide by zero encountered in divide\n",
      "  return 1 - (np.divide(self.nobs - self.k_constant, self.df_resid)\n",
      "C:\\Users\\wen068\\AppData\\Roaming\\Python\\Python311\\site-packages\\statsmodels\\regression\\linear_model.py:1794: RuntimeWarning: invalid value encountered in double_scalars\n",
      "  return 1 - (np.divide(self.nobs - self.k_constant, self.df_resid)\n",
      "C:\\Users\\wen068\\AppData\\Roaming\\Python\\Python311\\site-packages\\statsmodels\\regression\\linear_model.py:1794: RuntimeWarning: divide by zero encountered in divide\n",
      "  return 1 - (np.divide(self.nobs - self.k_constant, self.df_resid)\n",
      "C:\\Users\\wen068\\AppData\\Roaming\\Python\\Python311\\site-packages\\statsmodels\\regression\\linear_model.py:1794: RuntimeWarning: invalid value encountered in double_scalars\n",
      "  return 1 - (np.divide(self.nobs - self.k_constant, self.df_resid)\n"
     ]
    },
    {
     "name": "stdout",
     "output_type": "stream",
     "text": [
      "31\n",
      "3070\n",
      "error in OLS, drug  1873 number of variables (+) 3069\n",
      "3265\n",
      "error in OLS, drug  1913 number of variables (+) 3264\n",
      "98\n",
      "3284\n",
      "error in OLS, drug  1933 number of variables (+) 3283\n",
      "2784\n",
      "error in OLS, drug  1973 number of variables (+) 2783\n",
      "2495\n",
      "error in OLS, drug  1993 number of variables (+) 2494\n",
      "1652\n",
      "error in OLS, drug  2013 number of variables (+) 1651\n",
      "2735\n",
      "error in OLS, drug  2023 number of variables (+) 2734\n",
      "3276\n",
      "error in OLS, drug  2043 number of variables (+) 3275\n",
      "1994\n",
      "error in OLS, drug  2063 number of variables (+) 1993\n",
      "1995\n",
      "error in OLS, drug  2093 number of variables (+) 1994\n",
      "2108\n",
      "error in OLS, drug  2103 number of variables (+) 2107\n",
      "2440\n",
      "error in OLS, drug  2153 number of variables (+) 2439\n",
      "2637\n",
      "error in OLS, drug  2163 number of variables (+) 2636\n",
      "3292\n",
      "error in OLS, drug  2173 number of variables (+) 3291\n",
      "445\n"
     ]
    },
    {
     "name": "stderr",
     "output_type": "stream",
     "text": [
      "C:\\Users\\wen068\\AppData\\Roaming\\Python\\Python311\\site-packages\\statsmodels\\regression\\linear_model.py:1794: RuntimeWarning: divide by zero encountered in divide\n",
      "  return 1 - (np.divide(self.nobs - self.k_constant, self.df_resid)\n",
      "C:\\Users\\wen068\\AppData\\Roaming\\Python\\Python311\\site-packages\\statsmodels\\regression\\linear_model.py:1794: RuntimeWarning: invalid value encountered in double_scalars\n",
      "  return 1 - (np.divide(self.nobs - self.k_constant, self.df_resid)\n",
      "C:\\Users\\wen068\\AppData\\Roaming\\Python\\Python311\\site-packages\\statsmodels\\regression\\linear_model.py:1794: RuntimeWarning: divide by zero encountered in divide\n",
      "  return 1 - (np.divide(self.nobs - self.k_constant, self.df_resid)\n",
      "C:\\Users\\wen068\\AppData\\Roaming\\Python\\Python311\\site-packages\\statsmodels\\regression\\linear_model.py:1794: RuntimeWarning: invalid value encountered in double_scalars\n",
      "  return 1 - (np.divide(self.nobs - self.k_constant, self.df_resid)\n",
      "C:\\Users\\wen068\\AppData\\Roaming\\Python\\Python311\\site-packages\\statsmodels\\regression\\linear_model.py:1794: RuntimeWarning: divide by zero encountered in divide\n",
      "  return 1 - (np.divide(self.nobs - self.k_constant, self.df_resid)\n",
      "C:\\Users\\wen068\\AppData\\Roaming\\Python\\Python311\\site-packages\\statsmodels\\regression\\linear_model.py:1794: RuntimeWarning: invalid value encountered in double_scalars\n",
      "  return 1 - (np.divide(self.nobs - self.k_constant, self.df_resid)\n",
      "C:\\Users\\wen068\\AppData\\Roaming\\Python\\Python311\\site-packages\\statsmodels\\regression\\linear_model.py:1794: RuntimeWarning: divide by zero encountered in divide\n",
      "  return 1 - (np.divide(self.nobs - self.k_constant, self.df_resid)\n",
      "C:\\Users\\wen068\\AppData\\Roaming\\Python\\Python311\\site-packages\\statsmodels\\regression\\linear_model.py:1794: RuntimeWarning: invalid value encountered in double_scalars\n",
      "  return 1 - (np.divide(self.nobs - self.k_constant, self.df_resid)\n"
     ]
    },
    {
     "name": "stdout",
     "output_type": "stream",
     "text": [
      "1216\n"
     ]
    },
    {
     "name": "stderr",
     "output_type": "stream",
     "text": [
      "C:\\Users\\wen068\\AppData\\Roaming\\Python\\Python311\\site-packages\\statsmodels\\regression\\linear_model.py:1794: RuntimeWarning: divide by zero encountered in divide\n",
      "  return 1 - (np.divide(self.nobs - self.k_constant, self.df_resid)\n",
      "C:\\Users\\wen068\\AppData\\Roaming\\Python\\Python311\\site-packages\\statsmodels\\regression\\linear_model.py:1794: RuntimeWarning: invalid value encountered in double_scalars\n",
      "  return 1 - (np.divide(self.nobs - self.k_constant, self.df_resid)\n"
     ]
    },
    {
     "name": "stdout",
     "output_type": "stream",
     "text": [
      "error in OLS, drug 2243 number of variables (+) 1713\n",
      "error in OLS, drug 2243 number of variables (+) 1716\n",
      "error in OLS, drug 2243 number of variables (+) 1720\n",
      "530\n"
     ]
    },
    {
     "name": "stderr",
     "output_type": "stream",
     "text": [
      "C:\\Users\\wen068\\AppData\\Roaming\\Python\\Python311\\site-packages\\statsmodels\\regression\\linear_model.py:1794: RuntimeWarning: divide by zero encountered in divide\n",
      "  return 1 - (np.divide(self.nobs - self.k_constant, self.df_resid)\n",
      "C:\\Users\\wen068\\AppData\\Roaming\\Python\\Python311\\site-packages\\statsmodels\\regression\\linear_model.py:1794: RuntimeWarning: invalid value encountered in double_scalars\n",
      "  return 1 - (np.divide(self.nobs - self.k_constant, self.df_resid)\n",
      "C:\\Users\\wen068\\AppData\\Roaming\\Python\\Python311\\site-packages\\statsmodels\\regression\\linear_model.py:1794: RuntimeWarning: divide by zero encountered in divide\n",
      "  return 1 - (np.divide(self.nobs - self.k_constant, self.df_resid)\n",
      "C:\\Users\\wen068\\AppData\\Roaming\\Python\\Python311\\site-packages\\statsmodels\\regression\\linear_model.py:1794: RuntimeWarning: invalid value encountered in double_scalars\n",
      "  return 1 - (np.divide(self.nobs - self.k_constant, self.df_resid)\n",
      "C:\\Users\\wen068\\AppData\\Roaming\\Python\\Python311\\site-packages\\statsmodels\\regression\\linear_model.py:1794: RuntimeWarning: divide by zero encountered in divide\n",
      "  return 1 - (np.divide(self.nobs - self.k_constant, self.df_resid)\n",
      "C:\\Users\\wen068\\AppData\\Roaming\\Python\\Python311\\site-packages\\statsmodels\\regression\\linear_model.py:1794: RuntimeWarning: invalid value encountered in double_scalars\n",
      "  return 1 - (np.divide(self.nobs - self.k_constant, self.df_resid)\n"
     ]
    },
    {
     "name": "stdout",
     "output_type": "stream",
     "text": [
      "2414\n",
      "error in OLS, drug  2273 number of variables (+) 2413\n",
      "2307\n",
      "error in OLS, drug  2283 number of variables (+) 2306\n",
      "1857\n",
      "error in OLS, drug  2293 number of variables (+) 1856\n",
      "1610\n",
      "error in OLS, drug  2303 number of variables (+) 1609\n",
      "2077\n",
      "error in OLS, drug  2313 number of variables (+) 2076\n",
      "1644\n",
      "error in OLS, drug  2323 number of variables (+) 1643\n",
      "2574\n",
      "error in OLS, drug  2333 number of variables (+) 2573\n",
      "1494\n",
      "error in OLS, drug  2363 number of variables (+) 1493\n",
      "93\n",
      "3028\n",
      "error in OLS, drug  2503 number of variables (+) 3027\n",
      "0.1962025316455696  percentage failed OLS\n"
     ]
    }
   ],
   "source": [
    "r2_hist(r2_5[[\"adj_r2\", \"order\", \"drug\"]].drop_duplicates(ignore_index=True), \"adj $R^2$, |Coef| > 0.5\", \"r2_adj_005-05\")\n",
    "r2_hist(r2_5[[\"pseudo_r2\", \"order\", \"drug\"]].drop_duplicates(ignore_index=True), \"|Coef| > 0.5\", \"r2_005-05\")\n",
    "r2_hist(r2_5[[\"pearsonR\", \"order\", \"drug\"]].drop_duplicates(ignore_index=True), \"Pearson's r, |Coef| > 0.5\", \"pR_005-05\", x_label=\"Pearson's r\")"
   ]
  },
  {
   "cell_type": "code",
   "execution_count": 29,
   "id": "a65edc1c-409b-4bd7-83f8-ba6fe046a624",
   "metadata": {
    "scrolled": true
   },
   "outputs": [
    {
     "name": "stderr",
     "output_type": "stream",
     "text": [
      "C:\\Users\\wen068\\AppData\\Roaming\\Python\\Python311\\site-packages\\statsmodels\\regression\\linear_model.py:1794: RuntimeWarning: divide by zero encountered in divide\n",
      "  return 1 - (np.divide(self.nobs - self.k_constant, self.df_resid)\n",
      "C:\\Users\\wen068\\AppData\\Roaming\\Python\\Python311\\site-packages\\statsmodels\\regression\\linear_model.py:1794: RuntimeWarning: invalid value encountered in double_scalars\n",
      "  return 1 - (np.divide(self.nobs - self.k_constant, self.df_resid)\n",
      "C:\\Users\\wen068\\AppData\\Roaming\\Python\\Python311\\site-packages\\statsmodels\\regression\\linear_model.py:1794: RuntimeWarning: divide by zero encountered in divide\n",
      "  return 1 - (np.divide(self.nobs - self.k_constant, self.df_resid)\n",
      "C:\\Users\\wen068\\AppData\\Roaming\\Python\\Python311\\site-packages\\statsmodels\\regression\\linear_model.py:1794: RuntimeWarning: invalid value encountered in double_scalars\n",
      "  return 1 - (np.divide(self.nobs - self.k_constant, self.df_resid)\n",
      "C:\\Users\\wen068\\AppData\\Roaming\\Python\\Python311\\site-packages\\statsmodels\\regression\\linear_model.py:1794: RuntimeWarning: divide by zero encountered in divide\n",
      "  return 1 - (np.divide(self.nobs - self.k_constant, self.df_resid)\n",
      "C:\\Users\\wen068\\AppData\\Roaming\\Python\\Python311\\site-packages\\statsmodels\\regression\\linear_model.py:1794: RuntimeWarning: invalid value encountered in double_scalars\n",
      "  return 1 - (np.divide(self.nobs - self.k_constant, self.df_resid)\n"
     ]
    },
    {
     "name": "stdout",
     "output_type": "stream",
     "text": [
      "error in OLS, drug 193 number of variables (+) 1485\n",
      "error in OLS, drug 203 number of variables (+) 2425\n",
      "error in OLS, drug 223 number of variables (+) 1705\n",
      "error in OLS, drug 253 number of variables (+) 2844\n",
      "error in OLS, drug 263 number of variables (+) 1798\n",
      "error in OLS, drug 273 number of variables (+) 2112\n"
     ]
    },
    {
     "name": "stderr",
     "output_type": "stream",
     "text": [
      "C:\\Users\\wen068\\AppData\\Roaming\\Python\\Python311\\site-packages\\statsmodels\\regression\\linear_model.py:1794: RuntimeWarning: divide by zero encountered in divide\n",
      "  return 1 - (np.divide(self.nobs - self.k_constant, self.df_resid)\n",
      "C:\\Users\\wen068\\AppData\\Roaming\\Python\\Python311\\site-packages\\statsmodels\\regression\\linear_model.py:1794: RuntimeWarning: invalid value encountered in double_scalars\n",
      "  return 1 - (np.divide(self.nobs - self.k_constant, self.df_resid)\n"
     ]
    },
    {
     "name": "stdout",
     "output_type": "stream",
     "text": [
      "error in OLS, drug 283 number of variables (+) 2032\n",
      "error in OLS, drug 303 number of variables (+) 2796\n",
      "error in OLS, drug 333 number of variables (+) 3161\n"
     ]
    },
    {
     "name": "stderr",
     "output_type": "stream",
     "text": [
      "C:\\Users\\wen068\\AppData\\Roaming\\Python\\Python311\\site-packages\\statsmodels\\regression\\linear_model.py:1794: RuntimeWarning: divide by zero encountered in divide\n",
      "  return 1 - (np.divide(self.nobs - self.k_constant, self.df_resid)\n",
      "C:\\Users\\wen068\\AppData\\Roaming\\Python\\Python311\\site-packages\\statsmodels\\regression\\linear_model.py:1794: RuntimeWarning: invalid value encountered in double_scalars\n",
      "  return 1 - (np.divide(self.nobs - self.k_constant, self.df_resid)\n",
      "C:\\Users\\wen068\\AppData\\Roaming\\Python\\Python311\\site-packages\\statsmodels\\regression\\linear_model.py:1794: RuntimeWarning: divide by zero encountered in divide\n",
      "  return 1 - (np.divide(self.nobs - self.k_constant, self.df_resid)\n",
      "C:\\Users\\wen068\\AppData\\Roaming\\Python\\Python311\\site-packages\\statsmodels\\regression\\linear_model.py:1794: RuntimeWarning: invalid value encountered in double_scalars\n",
      "  return 1 - (np.divide(self.nobs - self.k_constant, self.df_resid)\n",
      "C:\\Users\\wen068\\AppData\\Roaming\\Python\\Python311\\site-packages\\statsmodels\\regression\\linear_model.py:1794: RuntimeWarning: divide by zero encountered in divide\n",
      "  return 1 - (np.divide(self.nobs - self.k_constant, self.df_resid)\n",
      "C:\\Users\\wen068\\AppData\\Roaming\\Python\\Python311\\site-packages\\statsmodels\\regression\\linear_model.py:1794: RuntimeWarning: invalid value encountered in double_scalars\n",
      "  return 1 - (np.divide(self.nobs - self.k_constant, self.df_resid)\n",
      "C:\\Users\\wen068\\AppData\\Roaming\\Python\\Python311\\site-packages\\statsmodels\\regression\\linear_model.py:1794: RuntimeWarning: divide by zero encountered in divide\n",
      "  return 1 - (np.divide(self.nobs - self.k_constant, self.df_resid)\n",
      "C:\\Users\\wen068\\AppData\\Roaming\\Python\\Python311\\site-packages\\statsmodels\\regression\\linear_model.py:1794: RuntimeWarning: invalid value encountered in double_scalars\n",
      "  return 1 - (np.divide(self.nobs - self.k_constant, self.df_resid)\n",
      "C:\\Users\\wen068\\AppData\\Roaming\\Python\\Python311\\site-packages\\statsmodels\\regression\\linear_model.py:1794: RuntimeWarning: divide by zero encountered in divide\n",
      "  return 1 - (np.divide(self.nobs - self.k_constant, self.df_resid)\n",
      "C:\\Users\\wen068\\AppData\\Roaming\\Python\\Python311\\site-packages\\statsmodels\\regression\\linear_model.py:1794: RuntimeWarning: invalid value encountered in double_scalars\n",
      "  return 1 - (np.divide(self.nobs - self.k_constant, self.df_resid)\n",
      "C:\\Users\\wen068\\AppData\\Roaming\\Python\\Python311\\site-packages\\statsmodels\\regression\\linear_model.py:1794: RuntimeWarning: divide by zero encountered in divide\n",
      "  return 1 - (np.divide(self.nobs - self.k_constant, self.df_resid)\n",
      "C:\\Users\\wen068\\AppData\\Roaming\\Python\\Python311\\site-packages\\statsmodels\\regression\\linear_model.py:1794: RuntimeWarning: invalid value encountered in double_scalars\n",
      "  return 1 - (np.divide(self.nobs - self.k_constant, self.df_resid)\n",
      "C:\\Users\\wen068\\AppData\\Roaming\\Python\\Python311\\site-packages\\statsmodels\\regression\\linear_model.py:1794: RuntimeWarning: divide by zero encountered in divide\n",
      "  return 1 - (np.divide(self.nobs - self.k_constant, self.df_resid)\n",
      "C:\\Users\\wen068\\AppData\\Roaming\\Python\\Python311\\site-packages\\statsmodels\\regression\\linear_model.py:1794: RuntimeWarning: invalid value encountered in double_scalars\n",
      "  return 1 - (np.divide(self.nobs - self.k_constant, self.df_resid)\n",
      "C:\\Users\\wen068\\AppData\\Roaming\\Python\\Python311\\site-packages\\statsmodels\\regression\\linear_model.py:1794: RuntimeWarning: divide by zero encountered in divide\n",
      "  return 1 - (np.divide(self.nobs - self.k_constant, self.df_resid)\n",
      "C:\\Users\\wen068\\AppData\\Roaming\\Python\\Python311\\site-packages\\statsmodels\\regression\\linear_model.py:1794: RuntimeWarning: invalid value encountered in double_scalars\n",
      "  return 1 - (np.divide(self.nobs - self.k_constant, self.df_resid)\n",
      "C:\\Users\\wen068\\AppData\\Roaming\\Python\\Python311\\site-packages\\statsmodels\\regression\\linear_model.py:1794: RuntimeWarning: divide by zero encountered in divide\n",
      "  return 1 - (np.divide(self.nobs - self.k_constant, self.df_resid)\n",
      "C:\\Users\\wen068\\AppData\\Roaming\\Python\\Python311\\site-packages\\statsmodels\\regression\\linear_model.py:1794: RuntimeWarning: invalid value encountered in double_scalars\n",
      "  return 1 - (np.divide(self.nobs - self.k_constant, self.df_resid)\n"
     ]
    },
    {
     "name": "stdout",
     "output_type": "stream",
     "text": [
      "error in OLS, drug 1003 number of variables (+) 2991\n",
      "error in OLS, drug 1013 number of variables (+) 4211\n",
      "error in OLS, drug 1023 number of variables (+) 1766\n",
      "error in OLS, drug 1033 number of variables (+) 3740\n",
      "error in OLS, drug 1043 number of variables (+) 2682\n",
      "error in OLS, drug 1053 number of variables (+) 3470\n",
      "error in OLS, drug 1073 number of variables (+) 2704\n",
      "error in OLS, drug 1083 number of variables (+) 2948\n",
      "error in OLS, drug 1093 number of variables (+) 2789\n",
      "error in OLS, drug 1133 number of variables (+) 2498\n",
      "error in OLS, drug 1193 number of variables (+) 2559\n"
     ]
    },
    {
     "name": "stderr",
     "output_type": "stream",
     "text": [
      "C:\\Users\\wen068\\AppData\\Roaming\\Python\\Python311\\site-packages\\statsmodels\\regression\\linear_model.py:1794: RuntimeWarning: divide by zero encountered in divide\n",
      "  return 1 - (np.divide(self.nobs - self.k_constant, self.df_resid)\n",
      "C:\\Users\\wen068\\AppData\\Roaming\\Python\\Python311\\site-packages\\statsmodels\\regression\\linear_model.py:1794: RuntimeWarning: invalid value encountered in double_scalars\n",
      "  return 1 - (np.divide(self.nobs - self.k_constant, self.df_resid)\n",
      "C:\\Users\\wen068\\AppData\\Roaming\\Python\\Python311\\site-packages\\statsmodels\\regression\\linear_model.py:1794: RuntimeWarning: divide by zero encountered in divide\n",
      "  return 1 - (np.divide(self.nobs - self.k_constant, self.df_resid)\n",
      "C:\\Users\\wen068\\AppData\\Roaming\\Python\\Python311\\site-packages\\statsmodels\\regression\\linear_model.py:1794: RuntimeWarning: invalid value encountered in double_scalars\n",
      "  return 1 - (np.divide(self.nobs - self.k_constant, self.df_resid)\n",
      "C:\\Users\\wen068\\AppData\\Roaming\\Python\\Python311\\site-packages\\statsmodels\\regression\\linear_model.py:1794: RuntimeWarning: divide by zero encountered in divide\n",
      "  return 1 - (np.divide(self.nobs - self.k_constant, self.df_resid)\n",
      "C:\\Users\\wen068\\AppData\\Roaming\\Python\\Python311\\site-packages\\statsmodels\\regression\\linear_model.py:1794: RuntimeWarning: invalid value encountered in double_scalars\n",
      "  return 1 - (np.divide(self.nobs - self.k_constant, self.df_resid)\n",
      "C:\\Users\\wen068\\AppData\\Roaming\\Python\\Python311\\site-packages\\statsmodels\\regression\\linear_model.py:1794: RuntimeWarning: divide by zero encountered in divide\n",
      "  return 1 - (np.divide(self.nobs - self.k_constant, self.df_resid)\n",
      "C:\\Users\\wen068\\AppData\\Roaming\\Python\\Python311\\site-packages\\statsmodels\\regression\\linear_model.py:1794: RuntimeWarning: invalid value encountered in double_scalars\n",
      "  return 1 - (np.divide(self.nobs - self.k_constant, self.df_resid)\n"
     ]
    },
    {
     "name": "stdout",
     "output_type": "stream",
     "text": [
      "error in OLS, drug 1263 number of variables (+) 1765\n",
      "error in OLS, drug 1373 number of variables (+) 3579\n"
     ]
    },
    {
     "name": "stderr",
     "output_type": "stream",
     "text": [
      "C:\\Users\\wen068\\AppData\\Roaming\\Python\\Python311\\site-packages\\statsmodels\\regression\\linear_model.py:1794: RuntimeWarning: divide by zero encountered in divide\n",
      "  return 1 - (np.divide(self.nobs - self.k_constant, self.df_resid)\n",
      "C:\\Users\\wen068\\AppData\\Roaming\\Python\\Python311\\site-packages\\statsmodels\\regression\\linear_model.py:1794: RuntimeWarning: invalid value encountered in double_scalars\n",
      "  return 1 - (np.divide(self.nobs - self.k_constant, self.df_resid)\n"
     ]
    },
    {
     "name": "stdout",
     "output_type": "stream",
     "text": [
      "error in OLS, drug 1393 number of variables (+) 3007\n",
      "error in OLS, drug 1403 number of variables (+) 1502\n"
     ]
    },
    {
     "name": "stderr",
     "output_type": "stream",
     "text": [
      "C:\\Users\\wen068\\AppData\\Roaming\\Python\\Python311\\site-packages\\statsmodels\\regression\\linear_model.py:1794: RuntimeWarning: divide by zero encountered in divide\n",
      "  return 1 - (np.divide(self.nobs - self.k_constant, self.df_resid)\n",
      "C:\\Users\\wen068\\AppData\\Roaming\\Python\\Python311\\site-packages\\statsmodels\\regression\\linear_model.py:1794: RuntimeWarning: invalid value encountered in double_scalars\n",
      "  return 1 - (np.divide(self.nobs - self.k_constant, self.df_resid)\n"
     ]
    },
    {
     "name": "stdout",
     "output_type": "stream",
     "text": [
      "error in OLS, drug 1413 number of variables (+) 2430\n",
      "error in OLS, drug 1433 number of variables (+) 1645\n",
      "error in OLS, drug 1453 number of variables (+) 1514\n"
     ]
    },
    {
     "name": "stderr",
     "output_type": "stream",
     "text": [
      "C:\\Users\\wen068\\AppData\\Roaming\\Python\\Python311\\site-packages\\statsmodels\\regression\\linear_model.py:1794: RuntimeWarning: divide by zero encountered in divide\n",
      "  return 1 - (np.divide(self.nobs - self.k_constant, self.df_resid)\n",
      "C:\\Users\\wen068\\AppData\\Roaming\\Python\\Python311\\site-packages\\statsmodels\\regression\\linear_model.py:1794: RuntimeWarning: invalid value encountered in double_scalars\n",
      "  return 1 - (np.divide(self.nobs - self.k_constant, self.df_resid)\n",
      "C:\\Users\\wen068\\AppData\\Roaming\\Python\\Python311\\site-packages\\statsmodels\\regression\\linear_model.py:1794: RuntimeWarning: divide by zero encountered in divide\n",
      "  return 1 - (np.divide(self.nobs - self.k_constant, self.df_resid)\n",
      "C:\\Users\\wen068\\AppData\\Roaming\\Python\\Python311\\site-packages\\statsmodels\\regression\\linear_model.py:1794: RuntimeWarning: invalid value encountered in double_scalars\n",
      "  return 1 - (np.divide(self.nobs - self.k_constant, self.df_resid)\n",
      "C:\\Users\\wen068\\AppData\\Roaming\\Python\\Python311\\site-packages\\statsmodels\\regression\\linear_model.py:1794: RuntimeWarning: divide by zero encountered in divide\n",
      "  return 1 - (np.divide(self.nobs - self.k_constant, self.df_resid)\n",
      "C:\\Users\\wen068\\AppData\\Roaming\\Python\\Python311\\site-packages\\statsmodels\\regression\\linear_model.py:1794: RuntimeWarning: invalid value encountered in double_scalars\n",
      "  return 1 - (np.divide(self.nobs - self.k_constant, self.df_resid)\n",
      "C:\\Users\\wen068\\AppData\\Roaming\\Python\\Python311\\site-packages\\statsmodels\\regression\\linear_model.py:1794: RuntimeWarning: divide by zero encountered in divide\n",
      "  return 1 - (np.divide(self.nobs - self.k_constant, self.df_resid)\n",
      "C:\\Users\\wen068\\AppData\\Roaming\\Python\\Python311\\site-packages\\statsmodels\\regression\\linear_model.py:1794: RuntimeWarning: invalid value encountered in double_scalars\n",
      "  return 1 - (np.divide(self.nobs - self.k_constant, self.df_resid)\n",
      "C:\\Users\\wen068\\AppData\\Roaming\\Python\\Python311\\site-packages\\statsmodels\\regression\\linear_model.py:1794: RuntimeWarning: divide by zero encountered in divide\n",
      "  return 1 - (np.divide(self.nobs - self.k_constant, self.df_resid)\n",
      "C:\\Users\\wen068\\AppData\\Roaming\\Python\\Python311\\site-packages\\statsmodels\\regression\\linear_model.py:1794: RuntimeWarning: invalid value encountered in double_scalars\n",
      "  return 1 - (np.divide(self.nobs - self.k_constant, self.df_resid)\n",
      "C:\\Users\\wen068\\AppData\\Roaming\\Python\\Python311\\site-packages\\statsmodels\\regression\\linear_model.py:1794: RuntimeWarning: divide by zero encountered in divide\n",
      "  return 1 - (np.divide(self.nobs - self.k_constant, self.df_resid)\n",
      "C:\\Users\\wen068\\AppData\\Roaming\\Python\\Python311\\site-packages\\statsmodels\\regression\\linear_model.py:1794: RuntimeWarning: invalid value encountered in double_scalars\n",
      "  return 1 - (np.divide(self.nobs - self.k_constant, self.df_resid)\n"
     ]
    },
    {
     "name": "stdout",
     "output_type": "stream",
     "text": [
      "error in OLS, drug 1563 number of variables (+) 3119\n"
     ]
    },
    {
     "name": "stderr",
     "output_type": "stream",
     "text": [
      "C:\\Users\\wen068\\AppData\\Roaming\\Python\\Python311\\site-packages\\statsmodels\\regression\\linear_model.py:1794: RuntimeWarning: divide by zero encountered in divide\n",
      "  return 1 - (np.divide(self.nobs - self.k_constant, self.df_resid)\n",
      "C:\\Users\\wen068\\AppData\\Roaming\\Python\\Python311\\site-packages\\statsmodels\\regression\\linear_model.py:1794: RuntimeWarning: invalid value encountered in double_scalars\n",
      "  return 1 - (np.divide(self.nobs - self.k_constant, self.df_resid)\n",
      "C:\\Users\\wen068\\AppData\\Roaming\\Python\\Python311\\site-packages\\statsmodels\\regression\\linear_model.py:1794: RuntimeWarning: divide by zero encountered in divide\n",
      "  return 1 - (np.divide(self.nobs - self.k_constant, self.df_resid)\n",
      "C:\\Users\\wen068\\AppData\\Roaming\\Python\\Python311\\site-packages\\statsmodels\\regression\\linear_model.py:1794: RuntimeWarning: invalid value encountered in double_scalars\n",
      "  return 1 - (np.divide(self.nobs - self.k_constant, self.df_resid)\n",
      "C:\\Users\\wen068\\AppData\\Roaming\\Python\\Python311\\site-packages\\statsmodels\\regression\\linear_model.py:1794: RuntimeWarning: divide by zero encountered in divide\n",
      "  return 1 - (np.divide(self.nobs - self.k_constant, self.df_resid)\n",
      "C:\\Users\\wen068\\AppData\\Roaming\\Python\\Python311\\site-packages\\statsmodels\\regression\\linear_model.py:1794: RuntimeWarning: invalid value encountered in double_scalars\n",
      "  return 1 - (np.divide(self.nobs - self.k_constant, self.df_resid)\n",
      "C:\\Users\\wen068\\AppData\\Roaming\\Python\\Python311\\site-packages\\statsmodels\\regression\\linear_model.py:1794: RuntimeWarning: divide by zero encountered in divide\n",
      "  return 1 - (np.divide(self.nobs - self.k_constant, self.df_resid)\n",
      "C:\\Users\\wen068\\AppData\\Roaming\\Python\\Python311\\site-packages\\statsmodels\\regression\\linear_model.py:1794: RuntimeWarning: invalid value encountered in double_scalars\n",
      "  return 1 - (np.divide(self.nobs - self.k_constant, self.df_resid)\n"
     ]
    },
    {
     "name": "stdout",
     "output_type": "stream",
     "text": [
      "error in OLS, drug 1633 number of variables (+) 1722\n"
     ]
    },
    {
     "name": "stderr",
     "output_type": "stream",
     "text": [
      "C:\\Users\\wen068\\AppData\\Roaming\\Python\\Python311\\site-packages\\statsmodels\\regression\\linear_model.py:1794: RuntimeWarning: divide by zero encountered in divide\n",
      "  return 1 - (np.divide(self.nobs - self.k_constant, self.df_resid)\n",
      "C:\\Users\\wen068\\AppData\\Roaming\\Python\\Python311\\site-packages\\statsmodels\\regression\\linear_model.py:1794: RuntimeWarning: invalid value encountered in double_scalars\n",
      "  return 1 - (np.divide(self.nobs - self.k_constant, self.df_resid)\n",
      "C:\\Users\\wen068\\AppData\\Roaming\\Python\\Python311\\site-packages\\statsmodels\\regression\\linear_model.py:1794: RuntimeWarning: divide by zero encountered in divide\n",
      "  return 1 - (np.divide(self.nobs - self.k_constant, self.df_resid)\n",
      "C:\\Users\\wen068\\AppData\\Roaming\\Python\\Python311\\site-packages\\statsmodels\\regression\\linear_model.py:1794: RuntimeWarning: invalid value encountered in double_scalars\n",
      "  return 1 - (np.divide(self.nobs - self.k_constant, self.df_resid)\n",
      "C:\\Users\\wen068\\AppData\\Roaming\\Python\\Python311\\site-packages\\statsmodels\\regression\\linear_model.py:1794: RuntimeWarning: divide by zero encountered in divide\n",
      "  return 1 - (np.divide(self.nobs - self.k_constant, self.df_resid)\n",
      "C:\\Users\\wen068\\AppData\\Roaming\\Python\\Python311\\site-packages\\statsmodels\\regression\\linear_model.py:1794: RuntimeWarning: invalid value encountered in double_scalars\n",
      "  return 1 - (np.divide(self.nobs - self.k_constant, self.df_resid)\n",
      "C:\\Users\\wen068\\AppData\\Roaming\\Python\\Python311\\site-packages\\statsmodels\\regression\\linear_model.py:1794: RuntimeWarning: divide by zero encountered in divide\n",
      "  return 1 - (np.divide(self.nobs - self.k_constant, self.df_resid)\n",
      "C:\\Users\\wen068\\AppData\\Roaming\\Python\\Python311\\site-packages\\statsmodels\\regression\\linear_model.py:1794: RuntimeWarning: invalid value encountered in double_scalars\n",
      "  return 1 - (np.divide(self.nobs - self.k_constant, self.df_resid)\n"
     ]
    },
    {
     "name": "stdout",
     "output_type": "stream",
     "text": [
      "error in OLS, drug 1873 number of variables (+) 2445\n",
      "error in OLS, drug 1913 number of variables (+) 2779\n",
      "error in OLS, drug 1933 number of variables (+) 2873\n",
      "error in OLS, drug 1973 number of variables (+) 2374\n",
      "error in OLS, drug 1993 number of variables (+) 2146\n"
     ]
    },
    {
     "name": "stderr",
     "output_type": "stream",
     "text": [
      "C:\\Users\\wen068\\AppData\\Roaming\\Python\\Python311\\site-packages\\statsmodels\\regression\\linear_model.py:1794: RuntimeWarning: divide by zero encountered in divide\n",
      "  return 1 - (np.divide(self.nobs - self.k_constant, self.df_resid)\n",
      "C:\\Users\\wen068\\AppData\\Roaming\\Python\\Python311\\site-packages\\statsmodels\\regression\\linear_model.py:1794: RuntimeWarning: invalid value encountered in double_scalars\n",
      "  return 1 - (np.divide(self.nobs - self.k_constant, self.df_resid)\n"
     ]
    },
    {
     "name": "stdout",
     "output_type": "stream",
     "text": [
      "error in OLS, drug 2013 number of variables (+) 1740\n",
      "error in OLS, drug 2023 number of variables (+) 2401\n",
      "error in OLS, drug 2043 number of variables (+) 2864\n"
     ]
    },
    {
     "name": "stderr",
     "output_type": "stream",
     "text": [
      "C:\\Users\\wen068\\AppData\\Roaming\\Python\\Python311\\site-packages\\statsmodels\\regression\\linear_model.py:1794: RuntimeWarning: divide by zero encountered in divide\n",
      "  return 1 - (np.divide(self.nobs - self.k_constant, self.df_resid)\n",
      "C:\\Users\\wen068\\AppData\\Roaming\\Python\\Python311\\site-packages\\statsmodels\\regression\\linear_model.py:1794: RuntimeWarning: invalid value encountered in double_scalars\n",
      "  return 1 - (np.divide(self.nobs - self.k_constant, self.df_resid)\n"
     ]
    },
    {
     "name": "stdout",
     "output_type": "stream",
     "text": [
      "error in OLS, drug 2063 number of variables (+) 2562\n"
     ]
    },
    {
     "name": "stderr",
     "output_type": "stream",
     "text": [
      "C:\\Users\\wen068\\AppData\\Roaming\\Python\\Python311\\site-packages\\statsmodels\\regression\\linear_model.py:1794: RuntimeWarning: divide by zero encountered in divide\n",
      "  return 1 - (np.divide(self.nobs - self.k_constant, self.df_resid)\n",
      "C:\\Users\\wen068\\AppData\\Roaming\\Python\\Python311\\site-packages\\statsmodels\\regression\\linear_model.py:1794: RuntimeWarning: invalid value encountered in double_scalars\n",
      "  return 1 - (np.divide(self.nobs - self.k_constant, self.df_resid)\n"
     ]
    },
    {
     "name": "stdout",
     "output_type": "stream",
     "text": [
      "error in OLS, drug 2093 number of variables (+) 1928\n",
      "error in OLS, drug 2103 number of variables (+) 1609\n",
      "error in OLS, drug 2153 number of variables (+) 2178\n",
      "error in OLS, drug 2163 number of variables (+) 2316\n",
      "error in OLS, drug 2173 number of variables (+) 2916\n"
     ]
    },
    {
     "name": "stderr",
     "output_type": "stream",
     "text": [
      "C:\\Users\\wen068\\AppData\\Roaming\\Python\\Python311\\site-packages\\statsmodels\\regression\\linear_model.py:1794: RuntimeWarning: divide by zero encountered in divide\n",
      "  return 1 - (np.divide(self.nobs - self.k_constant, self.df_resid)\n",
      "C:\\Users\\wen068\\AppData\\Roaming\\Python\\Python311\\site-packages\\statsmodels\\regression\\linear_model.py:1794: RuntimeWarning: invalid value encountered in double_scalars\n",
      "  return 1 - (np.divide(self.nobs - self.k_constant, self.df_resid)\n",
      "C:\\Users\\wen068\\AppData\\Roaming\\Python\\Python311\\site-packages\\statsmodels\\regression\\linear_model.py:1794: RuntimeWarning: divide by zero encountered in divide\n",
      "  return 1 - (np.divide(self.nobs - self.k_constant, self.df_resid)\n",
      "C:\\Users\\wen068\\AppData\\Roaming\\Python\\Python311\\site-packages\\statsmodels\\regression\\linear_model.py:1794: RuntimeWarning: invalid value encountered in double_scalars\n",
      "  return 1 - (np.divide(self.nobs - self.k_constant, self.df_resid)\n",
      "C:\\Users\\wen068\\AppData\\Roaming\\Python\\Python311\\site-packages\\statsmodels\\regression\\linear_model.py:1794: RuntimeWarning: divide by zero encountered in divide\n",
      "  return 1 - (np.divide(self.nobs - self.k_constant, self.df_resid)\n",
      "C:\\Users\\wen068\\AppData\\Roaming\\Python\\Python311\\site-packages\\statsmodels\\regression\\linear_model.py:1794: RuntimeWarning: invalid value encountered in double_scalars\n",
      "  return 1 - (np.divide(self.nobs - self.k_constant, self.df_resid)\n",
      "C:\\Users\\wen068\\AppData\\Roaming\\Python\\Python311\\site-packages\\statsmodels\\regression\\linear_model.py:1794: RuntimeWarning: divide by zero encountered in divide\n",
      "  return 1 - (np.divide(self.nobs - self.k_constant, self.df_resid)\n",
      "C:\\Users\\wen068\\AppData\\Roaming\\Python\\Python311\\site-packages\\statsmodels\\regression\\linear_model.py:1794: RuntimeWarning: invalid value encountered in double_scalars\n",
      "  return 1 - (np.divide(self.nobs - self.k_constant, self.df_resid)\n",
      "C:\\Users\\wen068\\AppData\\Roaming\\Python\\Python311\\site-packages\\statsmodels\\regression\\linear_model.py:1794: RuntimeWarning: divide by zero encountered in divide\n",
      "  return 1 - (np.divide(self.nobs - self.k_constant, self.df_resid)\n",
      "C:\\Users\\wen068\\AppData\\Roaming\\Python\\Python311\\site-packages\\statsmodels\\regression\\linear_model.py:1794: RuntimeWarning: invalid value encountered in double_scalars\n",
      "  return 1 - (np.divide(self.nobs - self.k_constant, self.df_resid)\n"
     ]
    },
    {
     "name": "stdout",
     "output_type": "stream",
     "text": [
      "error in OLS, drug 2243 number of variables (+) 1617\n",
      "error in OLS, drug 2273 number of variables (+) 1912\n",
      "error in OLS, drug 2283 number of variables (+) 1824\n",
      "error in OLS, drug 2293 number of variables (+) 1595\n"
     ]
    },
    {
     "name": "stderr",
     "output_type": "stream",
     "text": [
      "C:\\Users\\wen068\\AppData\\Roaming\\Python\\Python311\\site-packages\\statsmodels\\regression\\linear_model.py:1794: RuntimeWarning: divide by zero encountered in divide\n",
      "  return 1 - (np.divide(self.nobs - self.k_constant, self.df_resid)\n",
      "C:\\Users\\wen068\\AppData\\Roaming\\Python\\Python311\\site-packages\\statsmodels\\regression\\linear_model.py:1794: RuntimeWarning: invalid value encountered in double_scalars\n",
      "  return 1 - (np.divide(self.nobs - self.k_constant, self.df_resid)\n",
      "C:\\Users\\wen068\\AppData\\Roaming\\Python\\Python311\\site-packages\\statsmodels\\regression\\linear_model.py:1794: RuntimeWarning: divide by zero encountered in divide\n",
      "  return 1 - (np.divide(self.nobs - self.k_constant, self.df_resid)\n",
      "C:\\Users\\wen068\\AppData\\Roaming\\Python\\Python311\\site-packages\\statsmodels\\regression\\linear_model.py:1794: RuntimeWarning: invalid value encountered in double_scalars\n",
      "  return 1 - (np.divide(self.nobs - self.k_constant, self.df_resid)\n",
      "C:\\Users\\wen068\\AppData\\Roaming\\Python\\Python311\\site-packages\\statsmodels\\regression\\linear_model.py:1794: RuntimeWarning: divide by zero encountered in divide\n",
      "  return 1 - (np.divide(self.nobs - self.k_constant, self.df_resid)\n",
      "C:\\Users\\wen068\\AppData\\Roaming\\Python\\Python311\\site-packages\\statsmodels\\regression\\linear_model.py:1794: RuntimeWarning: invalid value encountered in double_scalars\n",
      "  return 1 - (np.divide(self.nobs - self.k_constant, self.df_resid)\n",
      "C:\\Users\\wen068\\AppData\\Roaming\\Python\\Python311\\site-packages\\statsmodels\\regression\\linear_model.py:1794: RuntimeWarning: divide by zero encountered in divide\n",
      "  return 1 - (np.divide(self.nobs - self.k_constant, self.df_resid)\n",
      "C:\\Users\\wen068\\AppData\\Roaming\\Python\\Python311\\site-packages\\statsmodels\\regression\\linear_model.py:1794: RuntimeWarning: invalid value encountered in double_scalars\n",
      "  return 1 - (np.divide(self.nobs - self.k_constant, self.df_resid)\n"
     ]
    },
    {
     "name": "stdout",
     "output_type": "stream",
     "text": [
      "error in OLS, drug 2313 number of variables (+) 1572\n"
     ]
    },
    {
     "name": "stderr",
     "output_type": "stream",
     "text": [
      "C:\\Users\\wen068\\AppData\\Roaming\\Python\\Python311\\site-packages\\statsmodels\\regression\\linear_model.py:1794: RuntimeWarning: divide by zero encountered in divide\n",
      "  return 1 - (np.divide(self.nobs - self.k_constant, self.df_resid)\n",
      "C:\\Users\\wen068\\AppData\\Roaming\\Python\\Python311\\site-packages\\statsmodels\\regression\\linear_model.py:1794: RuntimeWarning: invalid value encountered in double_scalars\n",
      "  return 1 - (np.divide(self.nobs - self.k_constant, self.df_resid)\n"
     ]
    },
    {
     "name": "stdout",
     "output_type": "stream",
     "text": [
      "error in OLS, drug 2323 number of variables (+) 2848\n",
      "error in OLS, drug 2333 number of variables (+) 2157\n"
     ]
    },
    {
     "name": "stderr",
     "output_type": "stream",
     "text": [
      "C:\\Users\\wen068\\AppData\\Roaming\\Python\\Python311\\site-packages\\statsmodels\\regression\\linear_model.py:1794: RuntimeWarning: divide by zero encountered in divide\n",
      "  return 1 - (np.divide(self.nobs - self.k_constant, self.df_resid)\n",
      "C:\\Users\\wen068\\AppData\\Roaming\\Python\\Python311\\site-packages\\statsmodels\\regression\\linear_model.py:1794: RuntimeWarning: invalid value encountered in double_scalars\n",
      "  return 1 - (np.divide(self.nobs - self.k_constant, self.df_resid)\n"
     ]
    },
    {
     "name": "stdout",
     "output_type": "stream",
     "text": [
      "error in OLS, drug 2363 number of variables (+) 2302\n",
      "error in OLS, drug 2503 number of variables (+) 2689\n",
      "0.6582278481012658  % of drugs failed OLS at some point\n",
      "The largest amount of proteins used for a regression was:  1463\n"
     ]
    }
   ],
   "source": [
    "r2_05 = regression_per_drug(proteins, drug_list)"
   ]
  },
  {
   "cell_type": "code",
   "execution_count": 30,
   "id": "ced673c4-4c66-4183-bab0-c17952b90205",
   "metadata": {},
   "outputs": [
    {
     "data": {
      "text/plain": [
       "38"
      ]
     },
     "execution_count": 30,
     "metadata": {},
     "output_type": "execute_result"
    }
   ],
   "source": [
    "len(r2_05[[\"drug\"]].drop_duplicates())"
   ]
  },
  {
   "cell_type": "code",
   "execution_count": 31,
   "id": "ea21c153-75cb-4917-ac2c-233b014864e4",
   "metadata": {},
   "outputs": [],
   "source": [
    "r2_05.to_csv(working_dir+\"baseline.csv\", index=False)"
   ]
  },
  {
   "cell_type": "code",
   "execution_count": 33,
   "id": "d1971e0c-1f6a-4907-950c-80a48ff6e0f9",
   "metadata": {},
   "outputs": [
    {
     "data": {
      "image/png": "[encoded data removed]",
      "text/plain": [
       "<Figure size 640x480 with 1 Axes>"
      ]
     },
     "metadata": {},
     "output_type": "display_data"
    }
   ],
   "source": [
    "r2_5[\"batch\"] = \"|Coef| > 0.5\"\n",
    "r2_05[\"batch\"] = \"baseline\"\n",
    "\n",
    "r_combined = pd.concat([r2_5, r2_05], ignore_index=True)\n",
    "r_combined = r_combined[[\"MSE\", \"pearsonR\", \"order\", \"drug\", \"batch\"]].drop_duplicates(ignore_index=True)\n",
    "sns.violinplot(data=r_combined, x=\"MSE\", y=\"order\", hue=\"batch\", cut=0, orient=\"h\" )\n",
    "plt.savefig(working_dir+\"img/mse.png\")"
   ]
  },
  {
   "cell_type": "code",
   "execution_count": 52,
   "id": "befa24a1-36f4-46fa-b027-95cab470675e",
   "metadata": {
    "scrolled": true
   },
   "outputs": [],
   "source": [
    "r2_hist(r2_05[[\"adj_r2\", \"order\", \"drug\"]].drop_duplicates(ignore_index=True), \"adj $R^2$, alpha = 0.05\", working_dir+\"img/r2_adj_005\")\n",
    "r2_hist(r2_05[[\"pseudo_r2\", \"order\", \"drug\"]].drop_duplicates(ignore_index=True), \"alpha = 0.05\", working_dir+\"img/r2_005\")\n",
    "\n",
    "r2_hist(r2_05[[\"pearsonR\", \"order\", \"drug\"]].drop_duplicates(ignore_index=True), \"Pearson\\'s r\", working_dir+\"img/pR_005\", x_label=\"Pearson\\'s r\")"
   ]
  },
  {
   "cell_type": "code",
   "execution_count": 59,
   "id": "8a682730-050f-49c3-bccc-44db62f9c98d",
   "metadata": {},
   "outputs": [],
   "source": [
    "del r2_05"
   ]
  },
  {
   "cell_type": "code",
   "execution_count": 51,
   "id": "1b0d82e5-e7ee-4003-9e10-70586298f7ee",
   "metadata": {
    "collapsed": true,
    "jupyter": {
     "outputs_hidden": true
    },
    "scrolled": true
   },
   "outputs": [
    {
     "name": "stdout",
     "output_type": "stream",
     "text": [
      "error in OLS, drug  3\n",
      "error in OLS, drug  63\n",
      "error in OLS, drug  83\n",
      "error in OLS, drug  163\n",
      "error in OLS, drug  193\n",
      "error in OLS, drug  193\n",
      "error in OLS, drug  193\n",
      "error in OLS, drug  203\n",
      "error in OLS, drug  223\n",
      "error in OLS, drug  253\n",
      "error in OLS, drug  263\n",
      "error in OLS, drug  273\n",
      "error in OLS, drug  303\n",
      "error in OLS, drug  333\n",
      "error in OLS, drug  1003\n",
      "error in OLS, drug  1013\n",
      "error in OLS, drug  1033\n",
      "error in OLS, drug  1043\n",
      "error in OLS, drug  1053\n",
      "error in OLS, drug  1073\n",
      "error in OLS, drug  1083\n",
      "error in OLS, drug  1093\n",
      "error in OLS, drug  1133\n",
      "error in OLS, drug  1193\n",
      "error in OLS, drug  1263\n",
      "error in OLS, drug  1373\n",
      "error in OLS, drug  1393\n",
      "error in OLS, drug  1393\n",
      "error in OLS, drug  1393\n",
      "error in OLS, drug  1413\n",
      "error in OLS, drug  1413\n",
      "error in OLS, drug  1413\n",
      "error in OLS, drug  1433\n",
      "error in OLS, drug  1453\n",
      "error in OLS, drug  1563\n"
     ]
    },
    {
     "name": "stderr",
     "output_type": "stream",
     "text": [
      "C:\\Users\\wen068\\AppData\\Roaming\\Python\\Python311\\site-packages\\statsmodels\\regression\\linear_model.py:1794: RuntimeWarning: divide by zero encountered in divide\n",
      "  return 1 - (np.divide(self.nobs - self.k_constant, self.df_resid)\n",
      "C:\\Users\\wen068\\AppData\\Roaming\\Python\\Python311\\site-packages\\statsmodels\\regression\\linear_model.py:1794: RuntimeWarning: invalid value encountered in scalar multiply\n",
      "  return 1 - (np.divide(self.nobs - self.k_constant, self.df_resid)\n",
      "C:\\Users\\wen068\\AppData\\Roaming\\Python\\Python311\\site-packages\\statsmodels\\regression\\linear_model.py:1794: RuntimeWarning: divide by zero encountered in divide\n",
      "  return 1 - (np.divide(self.nobs - self.k_constant, self.df_resid)\n",
      "C:\\Users\\wen068\\AppData\\Roaming\\Python\\Python311\\site-packages\\statsmodels\\regression\\linear_model.py:1794: RuntimeWarning: invalid value encountered in scalar multiply\n",
      "  return 1 - (np.divide(self.nobs - self.k_constant, self.df_resid)\n",
      "C:\\Users\\wen068\\AppData\\Roaming\\Python\\Python311\\site-packages\\statsmodels\\regression\\linear_model.py:1794: RuntimeWarning: divide by zero encountered in divide\n",
      "  return 1 - (np.divide(self.nobs - self.k_constant, self.df_resid)\n",
      "C:\\Users\\wen068\\AppData\\Roaming\\Python\\Python311\\site-packages\\statsmodels\\regression\\linear_model.py:1794: RuntimeWarning: invalid value encountered in scalar multiply\n",
      "  return 1 - (np.divide(self.nobs - self.k_constant, self.df_resid)\n"
     ]
    },
    {
     "name": "stdout",
     "output_type": "stream",
     "text": [
      "error in OLS, drug  1633\n"
     ]
    },
    {
     "name": "stderr",
     "output_type": "stream",
     "text": [
      "C:\\Users\\wen068\\AppData\\Roaming\\Python\\Python311\\site-packages\\statsmodels\\regression\\linear_model.py:1794: RuntimeWarning: divide by zero encountered in divide\n",
      "  return 1 - (np.divide(self.nobs - self.k_constant, self.df_resid)\n",
      "C:\\Users\\wen068\\AppData\\Roaming\\Python\\Python311\\site-packages\\statsmodels\\regression\\linear_model.py:1794: RuntimeWarning: invalid value encountered in scalar multiply\n",
      "  return 1 - (np.divide(self.nobs - self.k_constant, self.df_resid)\n",
      "C:\\Users\\wen068\\AppData\\Roaming\\Python\\Python311\\site-packages\\statsmodels\\regression\\linear_model.py:1794: RuntimeWarning: divide by zero encountered in divide\n",
      "  return 1 - (np.divide(self.nobs - self.k_constant, self.df_resid)\n",
      "C:\\Users\\wen068\\AppData\\Roaming\\Python\\Python311\\site-packages\\statsmodels\\regression\\linear_model.py:1794: RuntimeWarning: invalid value encountered in scalar multiply\n",
      "  return 1 - (np.divide(self.nobs - self.k_constant, self.df_resid)\n",
      "C:\\Users\\wen068\\AppData\\Roaming\\Python\\Python311\\site-packages\\statsmodels\\regression\\linear_model.py:1794: RuntimeWarning: divide by zero encountered in divide\n",
      "  return 1 - (np.divide(self.nobs - self.k_constant, self.df_resid)\n",
      "C:\\Users\\wen068\\AppData\\Roaming\\Python\\Python311\\site-packages\\statsmodels\\regression\\linear_model.py:1794: RuntimeWarning: invalid value encountered in scalar multiply\n",
      "  return 1 - (np.divide(self.nobs - self.k_constant, self.df_resid)\n"
     ]
    },
    {
     "name": "stdout",
     "output_type": "stream",
     "text": [
      "error in OLS, drug  1853\n",
      "error in OLS, drug  1873\n",
      "error in OLS, drug  1913\n",
      "error in OLS, drug  1933\n",
      "error in OLS, drug  1973\n",
      "error in OLS, drug  1993\n",
      "error in OLS, drug  2023\n",
      "error in OLS, drug  2043\n",
      "error in OLS, drug  2063\n",
      "error in OLS, drug  2063\n",
      "error in OLS, drug  2063\n",
      "error in OLS, drug  2103\n",
      "error in OLS, drug  2153\n",
      "error in OLS, drug  2163\n",
      "error in OLS, drug  2173\n"
     ]
    },
    {
     "name": "stderr",
     "output_type": "stream",
     "text": [
      "C:\\Users\\wen068\\AppData\\Roaming\\Python\\Python311\\site-packages\\statsmodels\\regression\\linear_model.py:1794: RuntimeWarning: divide by zero encountered in divide\n",
      "  return 1 - (np.divide(self.nobs - self.k_constant, self.df_resid)\n",
      "C:\\Users\\wen068\\AppData\\Roaming\\Python\\Python311\\site-packages\\statsmodels\\regression\\linear_model.py:1794: RuntimeWarning: invalid value encountered in scalar multiply\n",
      "  return 1 - (np.divide(self.nobs - self.k_constant, self.df_resid)\n",
      "C:\\Users\\wen068\\AppData\\Roaming\\Python\\Python311\\site-packages\\statsmodels\\regression\\linear_model.py:1794: RuntimeWarning: divide by zero encountered in divide\n",
      "  return 1 - (np.divide(self.nobs - self.k_constant, self.df_resid)\n",
      "C:\\Users\\wen068\\AppData\\Roaming\\Python\\Python311\\site-packages\\statsmodels\\regression\\linear_model.py:1794: RuntimeWarning: invalid value encountered in scalar multiply\n",
      "  return 1 - (np.divide(self.nobs - self.k_constant, self.df_resid)\n",
      "C:\\Users\\wen068\\AppData\\Roaming\\Python\\Python311\\site-packages\\statsmodels\\regression\\linear_model.py:1794: RuntimeWarning: divide by zero encountered in divide\n",
      "  return 1 - (np.divide(self.nobs - self.k_constant, self.df_resid)\n",
      "C:\\Users\\wen068\\AppData\\Roaming\\Python\\Python311\\site-packages\\statsmodels\\regression\\linear_model.py:1794: RuntimeWarning: invalid value encountered in scalar multiply\n",
      "  return 1 - (np.divide(self.nobs - self.k_constant, self.df_resid)\n",
      "C:\\Users\\wen068\\AppData\\Roaming\\Python\\Python311\\site-packages\\statsmodels\\regression\\linear_model.py:1794: RuntimeWarning: divide by zero encountered in divide\n",
      "  return 1 - (np.divide(self.nobs - self.k_constant, self.df_resid)\n",
      "C:\\Users\\wen068\\AppData\\Roaming\\Python\\Python311\\site-packages\\statsmodels\\regression\\linear_model.py:1794: RuntimeWarning: invalid value encountered in scalar multiply\n",
      "  return 1 - (np.divide(self.nobs - self.k_constant, self.df_resid)\n",
      "C:\\Users\\wen068\\AppData\\Roaming\\Python\\Python311\\site-packages\\statsmodels\\regression\\linear_model.py:1794: RuntimeWarning: divide by zero encountered in divide\n",
      "  return 1 - (np.divide(self.nobs - self.k_constant, self.df_resid)\n",
      "C:\\Users\\wen068\\AppData\\Roaming\\Python\\Python311\\site-packages\\statsmodels\\regression\\linear_model.py:1794: RuntimeWarning: invalid value encountered in scalar multiply\n",
      "  return 1 - (np.divide(self.nobs - self.k_constant, self.df_resid)\n",
      "C:\\Users\\wen068\\AppData\\Roaming\\Python\\Python311\\site-packages\\statsmodels\\regression\\linear_model.py:1794: RuntimeWarning: divide by zero encountered in divide\n",
      "  return 1 - (np.divide(self.nobs - self.k_constant, self.df_resid)\n",
      "C:\\Users\\wen068\\AppData\\Roaming\\Python\\Python311\\site-packages\\statsmodels\\regression\\linear_model.py:1794: RuntimeWarning: invalid value encountered in scalar multiply\n",
      "  return 1 - (np.divide(self.nobs - self.k_constant, self.df_resid)\n",
      "C:\\Users\\wen068\\AppData\\Roaming\\Python\\Python311\\site-packages\\statsmodels\\regression\\linear_model.py:1794: RuntimeWarning: divide by zero encountered in divide\n",
      "  return 1 - (np.divide(self.nobs - self.k_constant, self.df_resid)\n",
      "C:\\Users\\wen068\\AppData\\Roaming\\Python\\Python311\\site-packages\\statsmodels\\regression\\linear_model.py:1794: RuntimeWarning: invalid value encountered in scalar multiply\n",
      "  return 1 - (np.divide(self.nobs - self.k_constant, self.df_resid)\n"
     ]
    },
    {
     "name": "stdout",
     "output_type": "stream",
     "text": [
      "error in OLS, drug  2273\n",
      "error in OLS, drug  2283\n",
      "error in OLS, drug  2293\n",
      "error in OLS, drug  2313\n",
      "error in OLS, drug  2323\n",
      "error in OLS, drug  2333\n",
      "error in OLS, drug  2363\n",
      "error in OLS, drug  2463\n",
      "error in OLS, drug  2503\n",
      "       adj_r2  order  drug\n",
      "0    0.017865      1    53\n",
      "1    0.017865      2    53\n",
      "2    0.017865      3    53\n",
      "3    0.017865      4    53\n",
      "4    0.091678      1   133\n",
      "..        ...    ...   ...\n",
      "107  0.258243      4  2253\n",
      "108  0.371835      1  2303\n",
      "109  0.472916      2  2303\n",
      "110  0.481190      3  2303\n",
      "111  0.481190      4  2303\n",
      "\n",
      "[112 rows x 3 columns]\n",
      "0      0.017865\n",
      "1      0.017865\n",
      "2      0.017865\n",
      "3      0.017865\n",
      "4      0.091678\n",
      "         ...   \n",
      "107    0.258243\n",
      "108    0.371835\n",
      "109    0.472916\n",
      "110    0.481190\n",
      "111    0.481190\n",
      "Name: adj_r2, Length: 112, dtype: float64\n"
     ]
    },
    {
     "data": {
      "image/png": "[encoded data removed]",
      "text/plain": [
       "<Figure size 640x480 with 1 Axes>"
      ]
     },
     "metadata": {},
     "output_type": "display_data"
    },
    {
     "name": "stdout",
     "output_type": "stream",
     "text": [
      "     pseudo_r2  order  drug\n",
      "0     0.020456      1    53\n",
      "1     0.020456      2    53\n",
      "2     0.020456      3    53\n",
      "3     0.020456      4    53\n",
      "4     0.100329      1   133\n",
      "..         ...    ...   ...\n",
      "107   0.336525      4  2253\n",
      "108   0.599784      1  2303\n",
      "109   0.760549      2  2303\n",
      "110   0.766464      3  2303\n",
      "111   0.766464      4  2303\n",
      "\n",
      "[112 rows x 3 columns]\n",
      "0      0.020456\n",
      "1      0.020456\n",
      "2      0.020456\n",
      "3      0.020456\n",
      "4      0.100329\n",
      "         ...   \n",
      "107    0.336525\n",
      "108    0.599784\n",
      "109    0.760549\n",
      "110    0.766464\n",
      "111    0.766464\n",
      "Name: pseudo_r2, Length: 112, dtype: float64\n"
     ]
    },
    {
     "data": {
      "image/png": "[encoded data removed]",
      "text/plain": [
       "<Figure size 640x480 with 1 Axes>"
      ]
     },
     "metadata": {},
     "output_type": "display_data"
    }
   ],
   "source": [
    "r2_01 = regression_per_drug(proteins, drug_list, 0.01)\n",
    "r2_hist(r2_01[[\"adj_r2\", \"order\", \"drug\"]].drop_duplicates(ignore_index=True), \"adj $R^2$, alpha = 0.01\", working_dir+\"img/r2_adj_001\")\n",
    "r2_hist(r2_01[[\"pseudo_r2\", \"order\", \"drug\"]].drop_duplicates(ignore_index=True), \"alpha = 0.01\", working_dir+\"img/r2_001\")"
   ]
  },
  {
   "cell_type": "code",
   "execution_count": 58,
   "id": "ab65808c-f1cb-41e7-b0e4-28ea90eb8b5d",
   "metadata": {},
   "outputs": [],
   "source": [
    "del r2_01"
   ]
  },
  {
   "cell_type": "code",
   "execution_count": 52,
   "id": "3f6ac385-1162-4fb2-8fe4-afb6931ad7df",
   "metadata": {
    "collapsed": true,
    "jupyter": {
     "outputs_hidden": true
    },
    "scrolled": true
   },
   "outputs": [
    {
     "name": "stdout",
     "output_type": "stream",
     "text": [
      "error in OLS, drug  3\n",
      "error in OLS, drug  53\n",
      "error in OLS, drug  63\n",
      "error in OLS, drug  83\n",
      "error in OLS, drug  133\n",
      "error in OLS, drug  163\n",
      "error in OLS, drug  203\n",
      "error in OLS, drug  253\n",
      "error in OLS, drug  273\n",
      "error in OLS, drug  303\n",
      "error in OLS, drug  333\n",
      "error in OLS, drug  1003\n",
      "error in OLS, drug  1013\n",
      "error in OLS, drug  1033\n",
      "error in OLS, drug  1053\n",
      "error in OLS, drug  1073\n",
      "error in OLS, drug  1083\n",
      "error in OLS, drug  1093\n",
      "error in OLS, drug  1143\n",
      "error in OLS, drug  1193\n",
      "error in OLS, drug  1373\n",
      "error in OLS, drug  1563\n",
      "error in OLS, drug  1853\n",
      "error in OLS, drug  1873\n",
      "error in OLS, drug  1873\n",
      "error in OLS, drug  1873\n",
      "error in OLS, drug  1913\n",
      "error in OLS, drug  1923\n",
      "error in OLS, drug  1933\n",
      "error in OLS, drug  1973\n",
      "error in OLS, drug  1993\n",
      "error in OLS, drug  1993\n",
      "error in OLS, drug  1993\n",
      "error in OLS, drug  2023\n",
      "error in OLS, drug  2043\n"
     ]
    },
    {
     "name": "stderr",
     "output_type": "stream",
     "text": [
      "C:\\Users\\wen068\\AppData\\Roaming\\Python\\Python311\\site-packages\\statsmodels\\regression\\linear_model.py:1794: RuntimeWarning: divide by zero encountered in divide\n",
      "  return 1 - (np.divide(self.nobs - self.k_constant, self.df_resid)\n",
      "C:\\Users\\wen068\\AppData\\Roaming\\Python\\Python311\\site-packages\\statsmodels\\regression\\linear_model.py:1794: RuntimeWarning: invalid value encountered in scalar multiply\n",
      "  return 1 - (np.divide(self.nobs - self.k_constant, self.df_resid)\n",
      "C:\\Users\\wen068\\AppData\\Roaming\\Python\\Python311\\site-packages\\statsmodels\\regression\\linear_model.py:1794: RuntimeWarning: divide by zero encountered in divide\n",
      "  return 1 - (np.divide(self.nobs - self.k_constant, self.df_resid)\n",
      "C:\\Users\\wen068\\AppData\\Roaming\\Python\\Python311\\site-packages\\statsmodels\\regression\\linear_model.py:1794: RuntimeWarning: invalid value encountered in scalar multiply\n",
      "  return 1 - (np.divide(self.nobs - self.k_constant, self.df_resid)\n",
      "C:\\Users\\wen068\\AppData\\Roaming\\Python\\Python311\\site-packages\\statsmodels\\regression\\linear_model.py:1794: RuntimeWarning: divide by zero encountered in divide\n",
      "  return 1 - (np.divide(self.nobs - self.k_constant, self.df_resid)\n",
      "C:\\Users\\wen068\\AppData\\Roaming\\Python\\Python311\\site-packages\\statsmodels\\regression\\linear_model.py:1794: RuntimeWarning: invalid value encountered in scalar multiply\n",
      "  return 1 - (np.divide(self.nobs - self.k_constant, self.df_resid)\n"
     ]
    },
    {
     "name": "stdout",
     "output_type": "stream",
     "text": [
      "error in OLS, drug  2153\n",
      "error in OLS, drug  2163\n",
      "error in OLS, drug  2173\n",
      "error in OLS, drug  2273\n",
      "error in OLS, drug  2273\n",
      "error in OLS, drug  2273\n"
     ]
    },
    {
     "name": "stderr",
     "output_type": "stream",
     "text": [
      "C:\\Users\\wen068\\AppData\\Roaming\\Python\\Python311\\site-packages\\statsmodels\\regression\\linear_model.py:1794: RuntimeWarning: divide by zero encountered in divide\n",
      "  return 1 - (np.divide(self.nobs - self.k_constant, self.df_resid)\n",
      "C:\\Users\\wen068\\AppData\\Roaming\\Python\\Python311\\site-packages\\statsmodels\\regression\\linear_model.py:1794: RuntimeWarning: invalid value encountered in scalar multiply\n",
      "  return 1 - (np.divide(self.nobs - self.k_constant, self.df_resid)\n",
      "C:\\Users\\wen068\\AppData\\Roaming\\Python\\Python311\\site-packages\\statsmodels\\regression\\linear_model.py:1794: RuntimeWarning: divide by zero encountered in divide\n",
      "  return 1 - (np.divide(self.nobs - self.k_constant, self.df_resid)\n",
      "C:\\Users\\wen068\\AppData\\Roaming\\Python\\Python311\\site-packages\\statsmodels\\regression\\linear_model.py:1794: RuntimeWarning: invalid value encountered in scalar multiply\n",
      "  return 1 - (np.divide(self.nobs - self.k_constant, self.df_resid)\n",
      "C:\\Users\\wen068\\AppData\\Roaming\\Python\\Python311\\site-packages\\statsmodels\\regression\\linear_model.py:1794: RuntimeWarning: divide by zero encountered in divide\n",
      "  return 1 - (np.divide(self.nobs - self.k_constant, self.df_resid)\n",
      "C:\\Users\\wen068\\AppData\\Roaming\\Python\\Python311\\site-packages\\statsmodels\\regression\\linear_model.py:1794: RuntimeWarning: invalid value encountered in scalar multiply\n",
      "  return 1 - (np.divide(self.nobs - self.k_constant, self.df_resid)\n"
     ]
    },
    {
     "name": "stdout",
     "output_type": "stream",
     "text": [
      "error in OLS, drug  2293\n",
      "error in OLS, drug  2293\n",
      "error in OLS, drug  2293\n",
      "error in OLS, drug  2333\n"
     ]
    },
    {
     "name": "stderr",
     "output_type": "stream",
     "text": [
      "C:\\Users\\wen068\\AppData\\Roaming\\Python\\Python311\\site-packages\\statsmodels\\regression\\linear_model.py:1794: RuntimeWarning: divide by zero encountered in divide\n",
      "  return 1 - (np.divide(self.nobs - self.k_constant, self.df_resid)\n",
      "C:\\Users\\wen068\\AppData\\Roaming\\Python\\Python311\\site-packages\\statsmodels\\regression\\linear_model.py:1794: RuntimeWarning: invalid value encountered in scalar multiply\n",
      "  return 1 - (np.divide(self.nobs - self.k_constant, self.df_resid)\n",
      "C:\\Users\\wen068\\AppData\\Roaming\\Python\\Python311\\site-packages\\statsmodels\\regression\\linear_model.py:1794: RuntimeWarning: divide by zero encountered in divide\n",
      "  return 1 - (np.divide(self.nobs - self.k_constant, self.df_resid)\n",
      "C:\\Users\\wen068\\AppData\\Roaming\\Python\\Python311\\site-packages\\statsmodels\\regression\\linear_model.py:1794: RuntimeWarning: invalid value encountered in scalar multiply\n",
      "  return 1 - (np.divide(self.nobs - self.k_constant, self.df_resid)\n",
      "C:\\Users\\wen068\\AppData\\Roaming\\Python\\Python311\\site-packages\\statsmodels\\regression\\linear_model.py:1794: RuntimeWarning: divide by zero encountered in divide\n",
      "  return 1 - (np.divide(self.nobs - self.k_constant, self.df_resid)\n",
      "C:\\Users\\wen068\\AppData\\Roaming\\Python\\Python311\\site-packages\\statsmodels\\regression\\linear_model.py:1794: RuntimeWarning: invalid value encountered in scalar multiply\n",
      "  return 1 - (np.divide(self.nobs - self.k_constant, self.df_resid)\n"
     ]
    },
    {
     "name": "stdout",
     "output_type": "stream",
     "text": [
      "error in OLS, drug  2463\n",
      "error in OLS, drug  2503\n",
      "       adj_r2  order  drug\n",
      "0    0.050753      1   153\n",
      "1    0.050753      2   153\n",
      "2    0.050753      3   153\n",
      "3    0.050753      4   153\n",
      "4    0.127558      1   173\n",
      "..        ...    ...   ...\n",
      "159  0.473830      4  2323\n",
      "160  0.535317      1  2363\n",
      "161       NaN      2  2363\n",
      "162       NaN      3  2363\n",
      "163       NaN      4  2363\n",
      "\n",
      "[164 rows x 3 columns]\n",
      "0      0.050753\n",
      "1      0.050753\n",
      "2      0.050753\n",
      "3      0.050753\n",
      "4      0.127558\n",
      "         ...   \n",
      "159    0.473830\n",
      "160    0.535317\n",
      "161         NaN\n",
      "162         NaN\n",
      "163         NaN\n",
      "Name: adj_r2, Length: 164, dtype: float64\n"
     ]
    },
    {
     "data": {
      "image/png": "[encoded data removed]",
      "text/plain": [
       "<Figure size 640x480 with 1 Axes>"
      ]
     },
     "metadata": {},
     "output_type": "display_data"
    },
    {
     "name": "stdout",
     "output_type": "stream",
     "text": [
      "     pseudo_r2  order  drug\n",
      "0     0.052984      1   153\n",
      "1     0.052984      2   153\n",
      "2     0.052984      3   153\n",
      "3     0.052984      4   153\n",
      "4     0.170294      1   173\n",
      "..         ...    ...   ...\n",
      "159   0.933442      4  2323\n",
      "160   0.897719      1  2363\n",
      "161   1.000000      2  2363\n",
      "162   1.000000      3  2363\n",
      "163   1.000000      4  2363\n",
      "\n",
      "[164 rows x 3 columns]\n",
      "0      0.052984\n",
      "1      0.052984\n",
      "2      0.052984\n",
      "3      0.052984\n",
      "4      0.170294\n",
      "         ...   \n",
      "159    0.933442\n",
      "160    0.897719\n",
      "161    1.000000\n",
      "162    1.000000\n",
      "163    1.000000\n",
      "Name: pseudo_r2, Length: 164, dtype: float64\n"
     ]
    },
    {
     "data": {
      "image/png": "[encoded data removed]",
      "text/plain": [
       "<Figure size 640x480 with 1 Axes>"
      ]
     },
     "metadata": {},
     "output_type": "display_data"
    }
   ],
   "source": [
    "r2_001 = regression_per_drug(proteins, drug_list, 0.001)\n",
    "r2_hist(r2_001[[\"adj_r2\", \"order\", \"drug\"]].drop_duplicates(ignore_index=True), \"adj $R^2$, alpha = 0.001\", working_dir+\"img/r2_adj_0001\")\n",
    "r2_hist(r2_001[[\"pseudo_r2\", \"order\", \"drug\"]].drop_duplicates(ignore_index=True), \"alpha = 0.001\", working_dir+\"img/r2_0001\")"
   ]
  },
  {
   "cell_type": "code",
   "execution_count": 57,
   "id": "7ee2e7fe-f284-48c9-8243-bb82730bd303",
   "metadata": {},
   "outputs": [],
   "source": [
    "del r2_001"
   ]
  },
  {
   "cell_type": "code",
   "execution_count": 64,
   "id": "e8e5df0b-d9da-42c8-a249-23a27c712463",
   "metadata": {},
   "outputs": [],
   "source": [
    "del r2_5"
   ]
  }
 ],
 "metadata": {
  "kernelspec": {
   "display_name": "Python 3 (ipykernel)",
   "language": "python",
   "name": "python3"
  },
  "language_info": {
   "codemirror_mode": {
    "name": "ipython",
    "version": 3
   },
   "file_extension": ".py",
   "mimetype": "text/x-python",
   "name": "python",
   "nbconvert_exporter": "python",
   "pygments_lexer": "ipython3",
   "version": "3.11.0"
  }
 },
 "nbformat": 4,
 "nbformat_minor": 5
}
