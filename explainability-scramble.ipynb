{
 "cells": [
  {
   "cell_type": "code",
   "execution_count": 1,
   "id": "323bd8a9-866e-40d1-8446-1810da38a58b",
   "metadata": {
    "execution": {
     "iopub.execute_input": "2023-07-27T23:29:27.833506Z",
     "iopub.status.busy": "2023-07-27T23:29:27.833506Z",
     "iopub.status.idle": "2023-07-27T23:29:34.378633Z",
     "shell.execute_reply": "2023-07-27T23:29:34.377632Z",
     "shell.execute_reply.started": "2023-07-27T23:29:27.833506Z"
    }
   },
   "outputs": [],
   "source": [
    "# Importing libraries\n",
    "import pandas as pd\n",
    "import numpy as np\n",
    "import os\n",
    "import sys\n",
    "import shutil\n",
    "\n",
    "import statsmodels.formula.api as smf\n",
    "from statsmodels.stats.multitest import fdrcorrection\n",
    "from itertools import combinations\n",
    "\n",
    "import matplotlib.pyplot as plt"
   ]
  },
  {
   "cell_type": "markdown",
   "id": "866144f9-eee5-478a-b5ab-597efa0fa1c5",
   "metadata": {},
   "source": [
    "### Data"
   ]
  },
  {
   "cell_type": "code",
   "execution_count": 2,
   "id": "fac41010-542d-4794-8b3c-46bf50884189",
   "metadata": {
    "execution": {
     "iopub.execute_input": "2023-07-27T23:29:34.380630Z",
     "iopub.status.busy": "2023-07-27T23:29:34.379639Z",
     "iopub.status.idle": "2023-07-27T23:29:34.559722Z",
     "shell.execute_reply": "2023-07-27T23:29:34.559722Z",
     "shell.execute_reply.started": "2023-07-27T23:29:34.380630Z"
    }
   },
   "outputs": [],
   "source": [
    "from scipy.stats import pearsonr\n",
    "import seaborn as sns\n",
    "from random import sample, seed"
   ]
  },
  {
   "cell_type": "code",
   "execution_count": 3,
   "id": "14be76fa-cb05-4be7-83cb-5933c2eb5812",
   "metadata": {
    "execution": {
     "iopub.execute_input": "2023-07-27T23:29:34.559722Z",
     "iopub.status.busy": "2023-07-27T23:29:34.559722Z",
     "iopub.status.idle": "2023-07-27T23:29:34.567482Z",
     "shell.execute_reply": "2023-07-27T23:29:34.567482Z",
     "shell.execute_reply.started": "2023-07-27T23:29:34.559722Z"
    }
   },
   "outputs": [],
   "source": [
    "working_dir = 'tmp/'\n",
    "\n",
    "# File inputs\n",
    "# x_input = 'data/ProCan-DepMapSanger_protein_matrix_6692_averaged.xlsx'\n",
    "x_input = 'data/train_protein_matrix.csv'\n",
    "y_input = 'data/DrugResponse_PANCANCER_GDSC1_GDSC2_20200602.csv'\n",
    "\n",
    "test_input = 'data/test_protein_matrix.csv'\n",
    "\n",
    "interaction_input = 'tmp/final3_aux.tsv'\n"
   ]
  },
  {
   "cell_type": "code",
   "execution_count": 4,
   "id": "3263f00a-96fc-4d3f-b536-6dce5654f7ec",
   "metadata": {
    "execution": {
     "iopub.execute_input": "2023-07-27T23:29:34.567482Z",
     "iopub.status.busy": "2023-07-27T23:29:34.567482Z",
     "iopub.status.idle": "2023-07-27T23:29:38.004846Z",
     "shell.execute_reply": "2023-07-27T23:29:38.004846Z",
     "shell.execute_reply.started": "2023-07-27T23:29:34.567482Z"
    }
   },
   "outputs": [
    {
     "name": "stdout",
     "output_type": "stream",
     "text": [
      "loading data: data/test_protein_matrix.csv\n"
     ]
    }
   ],
   "source": [
    "x = pd.read_csv(x_input)\n",
    "\n",
    "y = pd.read_csv(y_input, usecols=['drug_id','cell_line_name','ln_IC50', 'max_screening_conc'])\n",
    "y = y[[c for c in y if c != 'ln_IC50'] + ['ln_IC50']]\n",
    "\n",
    "print(\"loading data:\", test_input)\n",
    "x_test = pd.read_csv(test_input)"
   ]
  },
  {
   "cell_type": "code",
   "execution_count": 5,
   "id": "f8cbfab9-eac9-4514-8178-0f773732b7e1",
   "metadata": {
    "execution": {
     "iopub.execute_input": "2023-07-27T23:29:38.004846Z",
     "iopub.status.busy": "2023-07-27T23:29:38.004846Z",
     "iopub.status.idle": "2023-07-27T23:29:38.421703Z",
     "shell.execute_reply": "2023-07-27T23:29:38.421703Z",
     "shell.execute_reply.started": "2023-07-27T23:29:38.004846Z"
    }
   },
   "outputs": [
    {
     "name": "stdout",
     "output_type": "stream",
     "text": [
      "[7.10954535 3.41494105        nan ...        nan        nan        nan]\n",
      "[3.71536094        nan        nan ... 7.55729871        nan        nan]\n"
     ]
    }
   ],
   "source": [
    "to_scramble = x[x.columns[1:]].to_numpy()\n",
    "o_dim = to_scramble.shape\n",
    "to_scramble = to_scramble.reshape(-1)\n",
    "print(to_scramble)\n",
    "np.random.shuffle(to_scramble)\n",
    "print(to_scramble)\n",
    "scramble = to_scramble.reshape(o_dim)"
   ]
  },
  {
   "cell_type": "code",
   "execution_count": 6,
   "id": "517b51d3-836d-44d5-a313-a1f5597f789c",
   "metadata": {
    "execution": {
     "iopub.execute_input": "2023-07-27T23:29:38.668380Z",
     "iopub.status.busy": "2023-07-27T23:29:38.668380Z",
     "iopub.status.idle": "2023-07-27T23:29:40.045637Z",
     "shell.execute_reply": "2023-07-27T23:29:40.045637Z",
     "shell.execute_reply.started": "2023-07-27T23:29:38.668380Z"
    }
   },
   "outputs": [],
   "source": [
    "x[x.columns[1:]] = scramble"
   ]
  },
  {
   "cell_type": "code",
   "execution_count": 26,
   "id": "5a8b9b3f-7463-4a5c-977d-74abfa463b54",
   "metadata": {
    "execution": {
     "iopub.execute_input": "2023-07-27T01:12:52.069752Z",
     "iopub.status.busy": "2023-07-27T01:12:52.069752Z",
     "iopub.status.idle": "2023-07-27T01:12:52.194862Z",
     "shell.execute_reply": "2023-07-27T01:12:52.194862Z",
     "shell.execute_reply.started": "2023-07-27T01:12:52.069752Z"
    }
   },
   "outputs": [
    {
     "data": {
      "text/html": [
       "<div>\n",
       "<style scoped>\n",
       "    .dataframe tbody tr th:only-of-type {\n",
       "        vertical-align: middle;\n",
       "    }\n",
       "\n",
       "    .dataframe tbody tr th {\n",
       "        vertical-align: top;\n",
       "    }\n",
       "\n",
       "    .dataframe thead th {\n",
       "        text-align: right;\n",
       "    }\n",
       "</style>\n",
       "<table border=\"1\" class=\"dataframe\">\n",
       "  <thead>\n",
       "    <tr style=\"text-align: right;\">\n",
       "      <th></th>\n",
       "      <th>Cell_Line</th>\n",
       "      <th>P37108.SRP14_HUMAN</th>\n",
       "      <th>Q96JP5.ZFP91_HUMAN</th>\n",
       "      <th>Q9Y4H2.IRS2_HUMAN</th>\n",
       "      <th>P36578.RL4_HUMAN</th>\n",
       "      <th>Q6SPF0.SAMD1_HUMAN</th>\n",
       "      <th>O76031.CLPX_HUMAN</th>\n",
       "      <th>Q8WUQ7.CATIN_HUMAN</th>\n",
       "      <th>A6NIH7.U119B_HUMAN</th>\n",
       "      <th>Q9BTD8.RBM42_HUMAN</th>\n",
       "      <th>...</th>\n",
       "      <th>P33151.CADH5_HUMAN</th>\n",
       "      <th>Q5EBL4.RIPL1_HUMAN</th>\n",
       "      <th>P49715.CEBPA_HUMAN</th>\n",
       "      <th>Q5TA45.INT11_HUMAN</th>\n",
       "      <th>O14924.RGS12_HUMAN</th>\n",
       "      <th>Q7Z3B1.NEGR1_HUMAN</th>\n",
       "      <th>O60669.MOT2_HUMAN</th>\n",
       "      <th>Q13571.LAPM5_HUMAN</th>\n",
       "      <th>Q96JM2.ZN462_HUMAN</th>\n",
       "      <th>P35558.PCKGC_HUMAN</th>\n",
       "    </tr>\n",
       "  </thead>\n",
       "  <tbody>\n",
       "    <tr>\n",
       "      <th>0</th>\n",
       "      <td>K052</td>\n",
       "      <td>NaN</td>\n",
       "      <td>4.929402</td>\n",
       "      <td>8.004404</td>\n",
       "      <td>NaN</td>\n",
       "      <td>1.144421</td>\n",
       "      <td>NaN</td>\n",
       "      <td>3.574096</td>\n",
       "      <td>NaN</td>\n",
       "      <td>NaN</td>\n",
       "      <td>...</td>\n",
       "      <td>4.436789</td>\n",
       "      <td>4.620690</td>\n",
       "      <td>4.334215</td>\n",
       "      <td>6.092690</td>\n",
       "      <td>4.131182</td>\n",
       "      <td>2.619486</td>\n",
       "      <td>4.017847</td>\n",
       "      <td>NaN</td>\n",
       "      <td>4.804563</td>\n",
       "      <td>NaN</td>\n",
       "    </tr>\n",
       "    <tr>\n",
       "      <th>1</th>\n",
       "      <td>TE-12</td>\n",
       "      <td>6.009653</td>\n",
       "      <td>6.154423</td>\n",
       "      <td>3.485806</td>\n",
       "      <td>8.321176</td>\n",
       "      <td>3.667042</td>\n",
       "      <td>NaN</td>\n",
       "      <td>NaN</td>\n",
       "      <td>NaN</td>\n",
       "      <td>5.947554</td>\n",
       "      <td>...</td>\n",
       "      <td>5.768915</td>\n",
       "      <td>NaN</td>\n",
       "      <td>NaN</td>\n",
       "      <td>NaN</td>\n",
       "      <td>10.667845</td>\n",
       "      <td>3.099953</td>\n",
       "      <td>NaN</td>\n",
       "      <td>5.031965</td>\n",
       "      <td>2.365907</td>\n",
       "      <td>5.317815</td>\n",
       "    </tr>\n",
       "    <tr>\n",
       "      <th>2</th>\n",
       "      <td>TMK-1</td>\n",
       "      <td>4.848174</td>\n",
       "      <td>NaN</td>\n",
       "      <td>NaN</td>\n",
       "      <td>4.815965</td>\n",
       "      <td>NaN</td>\n",
       "      <td>3.459160</td>\n",
       "      <td>3.234122</td>\n",
       "      <td>3.034205</td>\n",
       "      <td>3.418693</td>\n",
       "      <td>...</td>\n",
       "      <td>NaN</td>\n",
       "      <td>2.433190</td>\n",
       "      <td>3.841091</td>\n",
       "      <td>6.194678</td>\n",
       "      <td>3.787055</td>\n",
       "      <td>NaN</td>\n",
       "      <td>4.110621</td>\n",
       "      <td>2.714184</td>\n",
       "      <td>NaN</td>\n",
       "      <td>3.553993</td>\n",
       "    </tr>\n",
       "    <tr>\n",
       "      <th>3</th>\n",
       "      <td>STS-0421</td>\n",
       "      <td>4.594441</td>\n",
       "      <td>7.968016</td>\n",
       "      <td>5.350268</td>\n",
       "      <td>2.764335</td>\n",
       "      <td>5.674240</td>\n",
       "      <td>NaN</td>\n",
       "      <td>6.208650</td>\n",
       "      <td>NaN</td>\n",
       "      <td>NaN</td>\n",
       "      <td>...</td>\n",
       "      <td>5.670244</td>\n",
       "      <td>NaN</td>\n",
       "      <td>4.403562</td>\n",
       "      <td>2.991663</td>\n",
       "      <td>2.866235</td>\n",
       "      <td>5.731136</td>\n",
       "      <td>8.527055</td>\n",
       "      <td>NaN</td>\n",
       "      <td>NaN</td>\n",
       "      <td>3.054413</td>\n",
       "    </tr>\n",
       "    <tr>\n",
       "      <th>4</th>\n",
       "      <td>PL4</td>\n",
       "      <td>6.739053</td>\n",
       "      <td>NaN</td>\n",
       "      <td>6.265790</td>\n",
       "      <td>3.403826</td>\n",
       "      <td>4.141028</td>\n",
       "      <td>3.399104</td>\n",
       "      <td>4.208503</td>\n",
       "      <td>NaN</td>\n",
       "      <td>4.095387</td>\n",
       "      <td>...</td>\n",
       "      <td>5.395807</td>\n",
       "      <td>NaN</td>\n",
       "      <td>NaN</td>\n",
       "      <td>4.310355</td>\n",
       "      <td>NaN</td>\n",
       "      <td>10.971454</td>\n",
       "      <td>4.253512</td>\n",
       "      <td>NaN</td>\n",
       "      <td>2.620276</td>\n",
       "      <td>NaN</td>\n",
       "    </tr>\n",
       "    <tr>\n",
       "      <th>...</th>\n",
       "      <td>...</td>\n",
       "      <td>...</td>\n",
       "      <td>...</td>\n",
       "      <td>...</td>\n",
       "      <td>...</td>\n",
       "      <td>...</td>\n",
       "      <td>...</td>\n",
       "      <td>...</td>\n",
       "      <td>...</td>\n",
       "      <td>...</td>\n",
       "      <td>...</td>\n",
       "      <td>...</td>\n",
       "      <td>...</td>\n",
       "      <td>...</td>\n",
       "      <td>...</td>\n",
       "      <td>...</td>\n",
       "      <td>...</td>\n",
       "      <td>...</td>\n",
       "      <td>...</td>\n",
       "      <td>...</td>\n",
       "      <td>...</td>\n",
       "    </tr>\n",
       "    <tr>\n",
       "      <th>754</th>\n",
       "      <td>BE-13</td>\n",
       "      <td>NaN</td>\n",
       "      <td>6.709596</td>\n",
       "      <td>9.238373</td>\n",
       "      <td>NaN</td>\n",
       "      <td>3.601286</td>\n",
       "      <td>2.387853</td>\n",
       "      <td>2.622544</td>\n",
       "      <td>3.466446</td>\n",
       "      <td>NaN</td>\n",
       "      <td>...</td>\n",
       "      <td>7.342526</td>\n",
       "      <td>2.649687</td>\n",
       "      <td>NaN</td>\n",
       "      <td>2.548505</td>\n",
       "      <td>5.166112</td>\n",
       "      <td>2.432302</td>\n",
       "      <td>3.307832</td>\n",
       "      <td>5.412707</td>\n",
       "      <td>NaN</td>\n",
       "      <td>2.664151</td>\n",
       "    </tr>\n",
       "    <tr>\n",
       "      <th>755</th>\n",
       "      <td>H9</td>\n",
       "      <td>2.974064</td>\n",
       "      <td>1.444923</td>\n",
       "      <td>3.051184</td>\n",
       "      <td>NaN</td>\n",
       "      <td>3.591991</td>\n",
       "      <td>7.674403</td>\n",
       "      <td>NaN</td>\n",
       "      <td>NaN</td>\n",
       "      <td>NaN</td>\n",
       "      <td>...</td>\n",
       "      <td>NaN</td>\n",
       "      <td>NaN</td>\n",
       "      <td>NaN</td>\n",
       "      <td>4.306652</td>\n",
       "      <td>2.789480</td>\n",
       "      <td>NaN</td>\n",
       "      <td>6.987776</td>\n",
       "      <td>8.736715</td>\n",
       "      <td>NaN</td>\n",
       "      <td>NaN</td>\n",
       "    </tr>\n",
       "    <tr>\n",
       "      <th>756</th>\n",
       "      <td>GR-ST</td>\n",
       "      <td>NaN</td>\n",
       "      <td>3.482400</td>\n",
       "      <td>3.455776</td>\n",
       "      <td>NaN</td>\n",
       "      <td>NaN</td>\n",
       "      <td>NaN</td>\n",
       "      <td>4.349766</td>\n",
       "      <td>4.710933</td>\n",
       "      <td>NaN</td>\n",
       "      <td>...</td>\n",
       "      <td>3.520311</td>\n",
       "      <td>5.574086</td>\n",
       "      <td>6.413635</td>\n",
       "      <td>4.988744</td>\n",
       "      <td>NaN</td>\n",
       "      <td>5.843853</td>\n",
       "      <td>2.933494</td>\n",
       "      <td>NaN</td>\n",
       "      <td>NaN</td>\n",
       "      <td>NaN</td>\n",
       "    </tr>\n",
       "    <tr>\n",
       "      <th>757</th>\n",
       "      <td>YMB-1-E</td>\n",
       "      <td>4.742852</td>\n",
       "      <td>NaN</td>\n",
       "      <td>3.109887</td>\n",
       "      <td>10.326661</td>\n",
       "      <td>NaN</td>\n",
       "      <td>NaN</td>\n",
       "      <td>5.664830</td>\n",
       "      <td>4.831515</td>\n",
       "      <td>NaN</td>\n",
       "      <td>...</td>\n",
       "      <td>3.502657</td>\n",
       "      <td>2.982236</td>\n",
       "      <td>NaN</td>\n",
       "      <td>3.213678</td>\n",
       "      <td>3.984745</td>\n",
       "      <td>NaN</td>\n",
       "      <td>4.108075</td>\n",
       "      <td>7.085648</td>\n",
       "      <td>2.772606</td>\n",
       "      <td>NaN</td>\n",
       "    </tr>\n",
       "    <tr>\n",
       "      <th>758</th>\n",
       "      <td>MM1S</td>\n",
       "      <td>NaN</td>\n",
       "      <td>NaN</td>\n",
       "      <td>6.496190</td>\n",
       "      <td>3.033757</td>\n",
       "      <td>6.448339</td>\n",
       "      <td>NaN</td>\n",
       "      <td>3.417486</td>\n",
       "      <td>5.220854</td>\n",
       "      <td>NaN</td>\n",
       "      <td>...</td>\n",
       "      <td>0.938552</td>\n",
       "      <td>5.263717</td>\n",
       "      <td>2.580092</td>\n",
       "      <td>2.759790</td>\n",
       "      <td>3.719343</td>\n",
       "      <td>7.031068</td>\n",
       "      <td>2.379840</td>\n",
       "      <td>NaN</td>\n",
       "      <td>NaN</td>\n",
       "      <td>NaN</td>\n",
       "    </tr>\n",
       "  </tbody>\n",
       "</table>\n",
       "<p>759 rows × 6693 columns</p>\n",
       "</div>"
      ],
      "text/plain": [
       "    Cell_Line  P37108.SRP14_HUMAN  Q96JP5.ZFP91_HUMAN  Q9Y4H2.IRS2_HUMAN  \\\n",
       "0        K052                 NaN            4.929402           8.004404   \n",
       "1       TE-12            6.009653            6.154423           3.485806   \n",
       "2       TMK-1            4.848174                 NaN                NaN   \n",
       "3    STS-0421            4.594441            7.968016           5.350268   \n",
       "4         PL4            6.739053                 NaN           6.265790   \n",
       "..        ...                 ...                 ...                ...   \n",
       "754     BE-13                 NaN            6.709596           9.238373   \n",
       "755        H9            2.974064            1.444923           3.051184   \n",
       "756     GR-ST                 NaN            3.482400           3.455776   \n",
       "757   YMB-1-E            4.742852                 NaN           3.109887   \n",
       "758      MM1S                 NaN                 NaN           6.496190   \n",
       "\n",
       "     P36578.RL4_HUMAN  Q6SPF0.SAMD1_HUMAN  O76031.CLPX_HUMAN  \\\n",
       "0                 NaN            1.144421                NaN   \n",
       "1            8.321176            3.667042                NaN   \n",
       "2            4.815965                 NaN           3.459160   \n",
       "3            2.764335            5.674240                NaN   \n",
       "4            3.403826            4.141028           3.399104   \n",
       "..                ...                 ...                ...   \n",
       "754               NaN            3.601286           2.387853   \n",
       "755               NaN            3.591991           7.674403   \n",
       "756               NaN                 NaN                NaN   \n",
       "757         10.326661                 NaN                NaN   \n",
       "758          3.033757            6.448339                NaN   \n",
       "\n",
       "     Q8WUQ7.CATIN_HUMAN  A6NIH7.U119B_HUMAN  Q9BTD8.RBM42_HUMAN  ...  \\\n",
       "0              3.574096                 NaN                 NaN  ...   \n",
       "1                   NaN                 NaN            5.947554  ...   \n",
       "2              3.234122            3.034205            3.418693  ...   \n",
       "3              6.208650                 NaN                 NaN  ...   \n",
       "4              4.208503                 NaN            4.095387  ...   \n",
       "..                  ...                 ...                 ...  ...   \n",
       "754            2.622544            3.466446                 NaN  ...   \n",
       "755                 NaN                 NaN                 NaN  ...   \n",
       "756            4.349766            4.710933                 NaN  ...   \n",
       "757            5.664830            4.831515                 NaN  ...   \n",
       "758            3.417486            5.220854                 NaN  ...   \n",
       "\n",
       "     P33151.CADH5_HUMAN  Q5EBL4.RIPL1_HUMAN  P49715.CEBPA_HUMAN  \\\n",
       "0              4.436789            4.620690            4.334215   \n",
       "1              5.768915                 NaN                 NaN   \n",
       "2                   NaN            2.433190            3.841091   \n",
       "3              5.670244                 NaN            4.403562   \n",
       "4              5.395807                 NaN                 NaN   \n",
       "..                  ...                 ...                 ...   \n",
       "754            7.342526            2.649687                 NaN   \n",
       "755                 NaN                 NaN                 NaN   \n",
       "756            3.520311            5.574086            6.413635   \n",
       "757            3.502657            2.982236                 NaN   \n",
       "758            0.938552            5.263717            2.580092   \n",
       "\n",
       "     Q5TA45.INT11_HUMAN  O14924.RGS12_HUMAN  Q7Z3B1.NEGR1_HUMAN  \\\n",
       "0              6.092690            4.131182            2.619486   \n",
       "1                   NaN           10.667845            3.099953   \n",
       "2              6.194678            3.787055                 NaN   \n",
       "3              2.991663            2.866235            5.731136   \n",
       "4              4.310355                 NaN           10.971454   \n",
       "..                  ...                 ...                 ...   \n",
       "754            2.548505            5.166112            2.432302   \n",
       "755            4.306652            2.789480                 NaN   \n",
       "756            4.988744                 NaN            5.843853   \n",
       "757            3.213678            3.984745                 NaN   \n",
       "758            2.759790            3.719343            7.031068   \n",
       "\n",
       "     O60669.MOT2_HUMAN  Q13571.LAPM5_HUMAN  Q96JM2.ZN462_HUMAN  \\\n",
       "0             4.017847                 NaN            4.804563   \n",
       "1                  NaN            5.031965            2.365907   \n",
       "2             4.110621            2.714184                 NaN   \n",
       "3             8.527055                 NaN                 NaN   \n",
       "4             4.253512                 NaN            2.620276   \n",
       "..                 ...                 ...                 ...   \n",
       "754           3.307832            5.412707                 NaN   \n",
       "755           6.987776            8.736715                 NaN   \n",
       "756           2.933494                 NaN                 NaN   \n",
       "757           4.108075            7.085648            2.772606   \n",
       "758           2.379840                 NaN                 NaN   \n",
       "\n",
       "     P35558.PCKGC_HUMAN  \n",
       "0                   NaN  \n",
       "1              5.317815  \n",
       "2              3.553993  \n",
       "3              3.054413  \n",
       "4                   NaN  \n",
       "..                  ...  \n",
       "754            2.664151  \n",
       "755                 NaN  \n",
       "756                 NaN  \n",
       "757                 NaN  \n",
       "758                 NaN  \n",
       "\n",
       "[759 rows x 6693 columns]"
      ]
     },
     "execution_count": 26,
     "metadata": {},
     "output_type": "execute_result"
    }
   ],
   "source": [
    "x"
   ]
  },
  {
   "cell_type": "code",
   "execution_count": 7,
   "id": "ab6f76c4-14a3-4751-83a8-39004501e2cd",
   "metadata": {
    "execution": {
     "iopub.execute_input": "2023-07-27T23:29:41.102315Z",
     "iopub.status.busy": "2023-07-27T23:29:41.102315Z",
     "iopub.status.idle": "2023-07-27T23:30:52.891055Z",
     "shell.execute_reply": "2023-07-27T23:30:52.875511Z",
     "shell.execute_reply.started": "2023-07-27T23:29:41.102315Z"
    }
   },
   "outputs": [
    {
     "name": "stderr",
     "output_type": "stream",
     "text": [
      "C:\\Users\\wen068\\AppData\\Local\\Temp\\ipykernel_9584\\2839908837.py:1: DtypeWarning: Columns (2) have mixed types. Specify dtype option on import or set low_memory=False.\n",
      "  tested_regression = pd.read_csv(interaction_input, sep=\"\\t\", index_col=False,  names=[\"coef_id\", \"coef\" ,\"std err\" ,\"z\", \"P>|z|\", \"[0.025\", \t\"0.975]\", \"converged\", \"pseudo_r2\", \"standard_fitting\", \"snps\", \"order\", \"drug\"])\n"
     ]
    }
   ],
   "source": [
    "tested_regression = pd.read_csv(interaction_input, sep=\"\\t\", index_col=False,  names=[\"coef_id\", \"coef\" ,\"std err\" ,\"z\", \"P>|z|\", \"[0.025\", \t\"0.975]\", \"converged\", \"pseudo_r2\", \"standard_fitting\", \"snps\", \"order\", \"drug\"])"
   ]
  },
  {
   "cell_type": "code",
   "execution_count": 8,
   "id": "8b650447-4a48-4fd5-8c4a-c70d1211be9e",
   "metadata": {
    "execution": {
     "iopub.execute_input": "2023-07-27T23:30:52.932195Z",
     "iopub.status.busy": "2023-07-27T23:30:52.922333Z",
     "iopub.status.idle": "2023-07-27T23:31:00.383764Z",
     "shell.execute_reply": "2023-07-27T23:31:00.383764Z",
     "shell.execute_reply.started": "2023-07-27T23:30:52.922333Z"
    }
   },
   "outputs": [],
   "source": [
    "tested_mask = tested_regression.order == tested_regression.coef_id.str.count(\":\")+1\n",
    "interactions = tested_regression[tested_mask]"
   ]
  },
  {
   "cell_type": "code",
   "execution_count": 24,
   "id": "d1689c60-8bb0-411f-b695-6b674560501f",
   "metadata": {
    "execution": {
     "iopub.execute_input": "2023-07-28T04:18:02.005833Z",
     "iopub.status.busy": "2023-07-28T04:18:02.003839Z",
     "iopub.status.idle": "2023-07-28T04:18:06.829122Z",
     "shell.execute_reply": "2023-07-28T04:18:06.824134Z",
     "shell.execute_reply.started": "2023-07-28T04:18:02.005833Z"
    }
   },
   "outputs": [
    {
     "data": {
      "text/html": [
       "<div>\n",
       "<style scoped>\n",
       "    .dataframe tbody tr th:only-of-type {\n",
       "        vertical-align: middle;\n",
       "    }\n",
       "\n",
       "    .dataframe tbody tr th {\n",
       "        vertical-align: top;\n",
       "    }\n",
       "\n",
       "    .dataframe thead th {\n",
       "        text-align: right;\n",
       "    }\n",
       "</style>\n",
       "<table border=\"1\" class=\"dataframe\">\n",
       "  <thead>\n",
       "    <tr style=\"text-align: right;\">\n",
       "      <th></th>\n",
       "      <th>coef_id</th>\n",
       "      <th>coef</th>\n",
       "      <th>std err</th>\n",
       "      <th>z</th>\n",
       "      <th>P&gt;|z|</th>\n",
       "      <th>[0.025</th>\n",
       "      <th>0.975]</th>\n",
       "      <th>converged</th>\n",
       "      <th>pseudo_r2</th>\n",
       "      <th>standard_fitting</th>\n",
       "      <th>snps</th>\n",
       "      <th>order</th>\n",
       "      <th>drug</th>\n",
       "    </tr>\n",
       "  </thead>\n",
       "  <tbody>\n",
       "    <tr>\n",
       "      <th>19</th>\n",
       "      <td>OjfiibTXDbcHUMAN:QbafijBSTcHUMAN</td>\n",
       "      <td>-0.549450</td>\n",
       "      <td>0.152</td>\n",
       "      <td>-3.624144</td>\n",
       "      <td>0.000382</td>\n",
       "      <td>-0.848702</td>\n",
       "      <td>-0.250198</td>\n",
       "      <td>176</td>\n",
       "      <td>0.108532</td>\n",
       "      <td>True</td>\n",
       "      <td>O95881.TXD12_HUMAN+Q10589.BST2_HUMAN</td>\n",
       "      <td>2</td>\n",
       "      <td>3</td>\n",
       "    </tr>\n",
       "    <tr>\n",
       "      <th>63</th>\n",
       "      <td>OedhjfMYObBHUMAN:PaebidKITHHUMAN</td>\n",
       "      <td>-0.499558</td>\n",
       "      <td>0.225</td>\n",
       "      <td>-2.218813</td>\n",
       "      <td>0.028145</td>\n",
       "      <td>-0.944769</td>\n",
       "      <td>-0.054346</td>\n",
       "      <td>141</td>\n",
       "      <td>0.046890</td>\n",
       "      <td>True</td>\n",
       "      <td>O43795.MYO1B_HUMAN+P04183.KITH_HUMAN</td>\n",
       "      <td>2</td>\n",
       "      <td>3</td>\n",
       "    </tr>\n",
       "    <tr>\n",
       "      <th>75</th>\n",
       "      <td>PbbebdGgPDHUMAN:PgbccfRAPcBHUMAN</td>\n",
       "      <td>-0.494371</td>\n",
       "      <td>0.165</td>\n",
       "      <td>-3.000220</td>\n",
       "      <td>0.003076</td>\n",
       "      <td>-0.819493</td>\n",
       "      <td>-0.169250</td>\n",
       "      <td>186</td>\n",
       "      <td>0.048494</td>\n",
       "      <td>True</td>\n",
       "      <td>P11413.G6PD_HUMAN+P61225.RAP2B_HUMAN</td>\n",
       "      <td>2</td>\n",
       "      <td>3</td>\n",
       "    </tr>\n",
       "    <tr>\n",
       "      <th>83</th>\n",
       "      <td>PaihchKbCbjHUMAN:QjUMXfNENFHUMAN</td>\n",
       "      <td>-0.097265</td>\n",
       "      <td>0.044</td>\n",
       "      <td>-2.199397</td>\n",
       "      <td>0.029013</td>\n",
       "      <td>-0.184477</td>\n",
       "      <td>-0.010053</td>\n",
       "      <td>201</td>\n",
       "      <td>0.030547</td>\n",
       "      <td>True</td>\n",
       "      <td>P08727.K1C19_HUMAN+Q9UMX5.NENF_HUMAN</td>\n",
       "      <td>2</td>\n",
       "      <td>3</td>\n",
       "    </tr>\n",
       "    <tr>\n",
       "      <th>91</th>\n",
       "      <td>PffbefMANFHUMAN:QjUMXfNENFHUMAN</td>\n",
       "      <td>-0.346805</td>\n",
       "      <td>0.150</td>\n",
       "      <td>-2.313115</td>\n",
       "      <td>0.021346</td>\n",
       "      <td>-0.641770</td>\n",
       "      <td>-0.051839</td>\n",
       "      <td>326</td>\n",
       "      <td>0.055095</td>\n",
       "      <td>True</td>\n",
       "      <td>P55145.MANF_HUMAN+Q9UMX5.NENF_HUMAN</td>\n",
       "      <td>2</td>\n",
       "      <td>3</td>\n",
       "    </tr>\n",
       "    <tr>\n",
       "      <th>...</th>\n",
       "      <td>...</td>\n",
       "      <td>...</td>\n",
       "      <td>...</td>\n",
       "      <td>...</td>\n",
       "      <td>...</td>\n",
       "      <td>...</td>\n",
       "      <td>...</td>\n",
       "      <td>...</td>\n",
       "      <td>...</td>\n",
       "      <td>...</td>\n",
       "      <td>...</td>\n",
       "      <td>...</td>\n",
       "      <td>...</td>\n",
       "    </tr>\n",
       "    <tr>\n",
       "      <th>10771266</th>\n",
       "      <td>PcicjaITPIcHUMAN:PhidhbTCPBHUMAN:QjBVQhSPAfLHU...</td>\n",
       "      <td>-0.006748</td>\n",
       "      <td>0.003</td>\n",
       "      <td>-2.510656</td>\n",
       "      <td>0.012527</td>\n",
       "      <td>-0.012035</td>\n",
       "      <td>-0.001461</td>\n",
       "      <td>338</td>\n",
       "      <td>0.152788</td>\n",
       "      <td>True</td>\n",
       "      <td>P28290.ITPI2_HUMAN+P78371.TCPB_HUMAN+Q9BVQ7.SP...</td>\n",
       "      <td>4</td>\n",
       "      <td>1973</td>\n",
       "    </tr>\n",
       "    <tr>\n",
       "      <th>10771287</th>\n",
       "      <td>PcgaagITAdHUMAN:QiWUYbTHEMgHUMAN:QjjiciCIBbHUM...</td>\n",
       "      <td>-0.004123</td>\n",
       "      <td>0.002</td>\n",
       "      <td>-2.039282</td>\n",
       "      <td>0.042821</td>\n",
       "      <td>-0.008111</td>\n",
       "      <td>-0.000135</td>\n",
       "      <td>195</td>\n",
       "      <td>0.161154</td>\n",
       "      <td>True</td>\n",
       "      <td>P26006.ITA3_HUMAN+Q8WUY1.THEM6_HUMAN+Q99828.CI...</td>\n",
       "      <td>4</td>\n",
       "      <td>1973</td>\n",
       "    </tr>\n",
       "    <tr>\n",
       "      <th>10771371</th>\n",
       "      <td>PbedhdTRIchHUMAN:PechgfTHIMHUMAN:QbcjjgCSTFdHU...</td>\n",
       "      <td>-0.012376</td>\n",
       "      <td>0.006</td>\n",
       "      <td>-2.245624</td>\n",
       "      <td>0.025979</td>\n",
       "      <td>-0.023252</td>\n",
       "      <td>-0.001499</td>\n",
       "      <td>182</td>\n",
       "      <td>0.123411</td>\n",
       "      <td>True</td>\n",
       "      <td>P14373.TRI27_HUMAN+P42765.THIM_HUMAN+Q12996.CS...</td>\n",
       "      <td>4</td>\n",
       "      <td>1973</td>\n",
       "    </tr>\n",
       "    <tr>\n",
       "      <th>10771392</th>\n",
       "      <td>PaghdaIFeEHUMAN:PbccgiIMDHcHUMAN:QjgDBfRMDbHUM...</td>\n",
       "      <td>-0.002498</td>\n",
       "      <td>0.001</td>\n",
       "      <td>-2.010075</td>\n",
       "      <td>0.044873</td>\n",
       "      <td>-0.004940</td>\n",
       "      <td>-0.000057</td>\n",
       "      <td>603</td>\n",
       "      <td>0.238394</td>\n",
       "      <td>True</td>\n",
       "      <td>P06730.IF4E_HUMAN+P12268.IMDH2_HUMAN+Q96DB5.RM...</td>\n",
       "      <td>4</td>\n",
       "      <td>1973</td>\n",
       "    </tr>\n",
       "    <tr>\n",
       "      <th>10771406</th>\n",
       "      <td>OhfbfaBREbBHUMAN:PcagefMPRDHUMAN:QiNeTiCBReHUM...</td>\n",
       "      <td>-0.030255</td>\n",
       "      <td>0.012</td>\n",
       "      <td>-2.544074</td>\n",
       "      <td>0.011640</td>\n",
       "      <td>-0.053691</td>\n",
       "      <td>-0.006818</td>\n",
       "      <td>228</td>\n",
       "      <td>0.193978</td>\n",
       "      <td>True</td>\n",
       "      <td>O75150.BRE1B_HUMAN+P20645.MPRD_HUMAN+Q8N4T8.CB...</td>\n",
       "      <td>4</td>\n",
       "      <td>1973</td>\n",
       "    </tr>\n",
       "  </tbody>\n",
       "</table>\n",
       "<p>541273 rows × 13 columns</p>\n",
       "</div>"
      ],
      "text/plain": [
       "                                                    coef_id      coef  \\\n",
       "19                         OjfiibTXDbcHUMAN:QbafijBSTcHUMAN -0.549450   \n",
       "63                         OedhjfMYObBHUMAN:PaebidKITHHUMAN -0.499558   \n",
       "75                         PbbebdGgPDHUMAN:PgbccfRAPcBHUMAN -0.494371   \n",
       "83                         PaihchKbCbjHUMAN:QjUMXfNENFHUMAN -0.097265   \n",
       "91                          PffbefMANFHUMAN:QjUMXfNENFHUMAN -0.346805   \n",
       "...                                                     ...       ...   \n",
       "10771266  PcicjaITPIcHUMAN:PhidhbTCPBHUMAN:QjBVQhSPAfLHU... -0.006748   \n",
       "10771287  PcgaagITAdHUMAN:QiWUYbTHEMgHUMAN:QjjiciCIBbHUM... -0.004123   \n",
       "10771371  PbedhdTRIchHUMAN:PechgfTHIMHUMAN:QbcjjgCSTFdHU... -0.012376   \n",
       "10771392  PaghdaIFeEHUMAN:PbccgiIMDHcHUMAN:QjgDBfRMDbHUM... -0.002498   \n",
       "10771406  OhfbfaBREbBHUMAN:PcagefMPRDHUMAN:QiNeTiCBReHUM... -0.030255   \n",
       "\n",
       "            std err         z     P>|z|    [0.025    0.975]  converged  \\\n",
       "19            0.152 -3.624144  0.000382 -0.848702 -0.250198        176   \n",
       "63            0.225 -2.218813  0.028145 -0.944769 -0.054346        141   \n",
       "75            0.165 -3.000220  0.003076 -0.819493 -0.169250        186   \n",
       "83            0.044 -2.199397  0.029013 -0.184477 -0.010053        201   \n",
       "91            0.150 -2.313115  0.021346 -0.641770 -0.051839        326   \n",
       "...             ...       ...       ...       ...       ...        ...   \n",
       "10771266      0.003 -2.510656  0.012527 -0.012035 -0.001461        338   \n",
       "10771287      0.002 -2.039282  0.042821 -0.008111 -0.000135        195   \n",
       "10771371      0.006 -2.245624  0.025979 -0.023252 -0.001499        182   \n",
       "10771392      0.001 -2.010075  0.044873 -0.004940 -0.000057        603   \n",
       "10771406      0.012 -2.544074  0.011640 -0.053691 -0.006818        228   \n",
       "\n",
       "          pseudo_r2  standard_fitting  \\\n",
       "19         0.108532              True   \n",
       "63         0.046890              True   \n",
       "75         0.048494              True   \n",
       "83         0.030547              True   \n",
       "91         0.055095              True   \n",
       "...             ...               ...   \n",
       "10771266   0.152788              True   \n",
       "10771287   0.161154              True   \n",
       "10771371   0.123411              True   \n",
       "10771392   0.238394              True   \n",
       "10771406   0.193978              True   \n",
       "\n",
       "                                                       snps  order  drug  \n",
       "19                     O95881.TXD12_HUMAN+Q10589.BST2_HUMAN      2     3  \n",
       "63                     O43795.MYO1B_HUMAN+P04183.KITH_HUMAN      2     3  \n",
       "75                     P11413.G6PD_HUMAN+P61225.RAP2B_HUMAN      2     3  \n",
       "83                     P08727.K1C19_HUMAN+Q9UMX5.NENF_HUMAN      2     3  \n",
       "91                      P55145.MANF_HUMAN+Q9UMX5.NENF_HUMAN      2     3  \n",
       "...                                                     ...    ...   ...  \n",
       "10771266  P28290.ITPI2_HUMAN+P78371.TCPB_HUMAN+Q9BVQ7.SP...      4  1973  \n",
       "10771287  P26006.ITA3_HUMAN+Q8WUY1.THEM6_HUMAN+Q99828.CI...      4  1973  \n",
       "10771371  P14373.TRI27_HUMAN+P42765.THIM_HUMAN+Q12996.CS...      4  1973  \n",
       "10771392  P06730.IF4E_HUMAN+P12268.IMDH2_HUMAN+Q96DB5.RM...      4  1973  \n",
       "10771406  O75150.BRE1B_HUMAN+P20645.MPRD_HUMAN+Q8N4T8.CB...      4  1973  \n",
       "\n",
       "[541273 rows x 13 columns]"
      ]
     },
     "execution_count": 24,
     "metadata": {},
     "output_type": "execute_result"
    }
   ],
   "source": [
    "interactions[interactions['P>|z|']< 0.05]"
   ]
  },
  {
   "cell_type": "code",
   "execution_count": 9,
   "id": "1095a63e-df92-4612-9671-2d0c8be97a28",
   "metadata": {
    "execution": {
     "iopub.execute_input": "2023-07-27T23:31:00.383764Z",
     "iopub.status.busy": "2023-07-27T23:31:00.383764Z",
     "iopub.status.idle": "2023-07-27T23:31:00.461746Z",
     "shell.execute_reply": "2023-07-27T23:31:00.461746Z",
     "shell.execute_reply.started": "2023-07-27T23:31:00.383764Z"
    }
   },
   "outputs": [],
   "source": [
    "drug_list = np.unique(interactions.drug)"
   ]
  },
  {
   "cell_type": "markdown",
   "id": "aee6489d-4abc-41ad-a151-5a16291e917d",
   "metadata": {},
   "source": [
    "### Regression"
   ]
  },
  {
   "cell_type": "markdown",
   "id": "4dc6e7dc-4029-49da-931e-6358c829e595",
   "metadata": {},
   "source": [
    "#### Functions"
   ]
  },
  {
   "cell_type": "code",
   "execution_count": 10,
   "id": "a489dc22-4819-4f38-b8b3-11d3e2810559",
   "metadata": {
    "execution": {
     "iopub.execute_input": "2023-07-27T23:31:00.471726Z",
     "iopub.status.busy": "2023-07-27T23:31:00.470731Z",
     "iopub.status.idle": "2023-07-27T23:31:00.547993Z",
     "shell.execute_reply": "2023-07-27T23:31:00.547993Z",
     "shell.execute_reply.started": "2023-07-27T23:31:00.471726Z"
    }
   },
   "outputs": [],
   "source": [
    "def results_fit_to_df(results, ols, y, test_data):\n",
    "    coeffs = results.params.tolist()\n",
    "    pvals = results.pvalues.tolist()\n",
    "    pseudo_r2 = results.rsquared\n",
    "    adj_r2 = results.rsquared_adj\n",
    "    tvals = results.tvalues.tolist()\n",
    "    cint_low = results.conf_int()[0].tolist()\n",
    "    cint_high = results.conf_int()[1].tolist()\n",
    "\n",
    "    pred_y = results.predict()\n",
    "    train_pear_R = pearsonr(pred_y, y)\n",
    "    train_mse = np.square(y - pred_y).mean()\n",
    "\n",
    "    test_y = test_data.lnICfa.to_list()\n",
    "    pred_y = results.predict(test_data)\n",
    "    test_pear_R = pearsonr(pred_y, test_y)\n",
    "    test_mse = np.square(test_y - pred_y).mean()\n",
    "\n",
    "    \n",
    "    try:\n",
    "        results = results.summary()\n",
    "    except:\n",
    "        #ValueError: resids must contain at least 2 elements\n",
    "        r = pd.DataFrame([1,2,3]) #dirty...\n",
    "        r['z']='nan'\n",
    "        return r\n",
    "    converged = results.tables[0].data[5][1].strip()\n",
    "    results = results.tables[1].data\n",
    "    results = pd.DataFrame(results[1:], columns=['coef_id', 'coef', 'std err', 'z', 'P>|z|', '[0.025', '0.975]'])\n",
    "    results['P>|z|'] = pvals\n",
    "    results['z'] = tvals \n",
    "    results['coef'] = coeffs\n",
    "    results['converged'] = converged\n",
    "    results['pseudo_r2'] = pseudo_r2\n",
    "    results['adj_r2'] = adj_r2\n",
    "    results[\"train_MSE\"] = train_mse\n",
    "    results[\"MSE\"] = test_mse\n",
    "    results['[0.025'] = cint_low\n",
    "    results['0.975]'] = cint_high\n",
    "    results[\"train_pearsonR\"] = train_pear_R.statistic\n",
    "    results[\"pearsonR\"] = test_pear_R.statistic\n",
    "    return results"
   ]
  },
  {
   "cell_type": "code",
   "execution_count": 11,
   "id": "f8206c7b-b8d8-4fac-a631-db8cad9991fe",
   "metadata": {
    "execution": {
     "iopub.execute_input": "2023-07-27T23:31:00.552002Z",
     "iopub.status.busy": "2023-07-27T23:31:00.552002Z",
     "iopub.status.idle": "2023-07-27T23:31:00.614397Z",
     "shell.execute_reply": "2023-07-27T23:31:00.614397Z",
     "shell.execute_reply.started": "2023-07-27T23:31:00.552002Z"
    },
    "scrolled": true
   },
   "outputs": [],
   "source": [
    "def regression_per_drug(interactions, drug_list, alpha=0.05, filter=0):\n",
    "    final_results = []\n",
    "    j = 0\n",
    "    for i,d in enumerate(drug_list):\n",
    "        xy = x.merge(y[y[\"drug_id\"]==d], left_on='Cell_Line', right_on='cell_line_name')\n",
    "        xy.columns = [''.join([chr(int(y)+97) if y.isnumeric() else y for y in x.replace('_','').replace('.','')]) for x in xy.columns] \n",
    "\n",
    "        test_xy = x_test.merge(y[y[\"drug_id\"] == d], left_on='Cell_Line', right_on='cell_line_name')\n",
    "        test_xy.columns = [''.join([chr(int(y)+97) if y.isnumeric() else y for y in x_test.replace('_','').replace('.','')]) for x_test in test_xy.columns] \n",
    "        \n",
    "        drug_interactions = interactions[interactions.drug == d].drop_duplicates(ignore_index=True)\n",
    "        sig = fdrcorrection(drug_interactions[\"P>|z|\"], alpha=alpha, method='indep', is_sorted=False)[0]\n",
    "        \n",
    "        drug_interactions = drug_interactions[sig]\n",
    "        sig_interactions = drug_interactions[np.abs(drug_interactions.coef)>=filter][[\"coef_id\", \"order\"]]\n",
    "        # sig_interactions[\"coef_id\"] = sig_interactions[\"coef_id\"].str.strip(\"\\[01\\]\")\n",
    "        protein_list = np.unique([y for x in sig_interactions.coef_id for y in x.split(\":\")]).tolist()  # all proteins used in significant synergies of that drug\n",
    "        print(\"for drug\", d, \"reduced from\", drug_interactions.shape[0], \"to\", sig_interactions.shape[0], \"with\", len(protein_list), \"proteins\")\n",
    "        \n",
    "        data = xy[[\"lnICfa\", \"maxscreeningconc\"] + protein_list].fillna(0)\n",
    "        test_data = test_xy[[\"lnICfa\", \"maxscreeningconc\"] + protein_list].fillna(0)\n",
    "        print(test_data.shape, data.shape)\n",
    "        del xy, test_xy\n",
    "        # with each interration add more interaction information to the regression formula\n",
    "        for o in [1,5]: # TODO add 2 as layer\n",
    "            # print(\"Order: \", o)\n",
    "            excluded = sig_interactions.coef_id[sig_interactions.order<=o].drop_duplicates(ignore_index=True).to_list() + protein_list\n",
    "            included = []\n",
    "            print(\"number of possible variables:\", len(excluded))\n",
    "            seed(42)\n",
    "            while excluded and len(included) < 100:\n",
    "                p_vals = []\n",
    "                sub_set = [excluded[i] for i in sample(range(len(excluded)), np.min([200, len(excluded)]))] # maybe increase to 500?\n",
    "                for variable in sub_set:\n",
    "                    formular = \"lnICfa\" + \" ~ maxscreeningconc + \"\n",
    "                    formular = formular + \" + \".join(included + [variable])\n",
    "            \n",
    "                    results = smf.ols(formular, data=data).fit(disp=False, maxiter=1000)\n",
    "                    p_vals.append(results.pvalues[variable])\n",
    "                best_p = np.min(p_vals)\n",
    "                if best_p < alpha:\n",
    "                    i = np.argmin(p_vals)\n",
    "                    # print('Add {} with p-value {}'.format(sub_set[i], best_p))\n",
    "                    included.append(sub_set[i])\n",
    "                    excluded.remove(sub_set[i])\n",
    "                else:\n",
    "                    print(best_p)\n",
    "                    break\n",
    "                # backward\n",
    "                formular = \"lnICfa\" + \" ~ maxscreeningconc + \"\n",
    "                formular = formular + \" + \".join(included)\n",
    "                results = smf.ols(formular, data=data).fit(disp=False, maxiter=1000)\n",
    "                worst_p = np.max(results.pvalues)\n",
    "                i = np.argmax(results.pvalues) - 2  #  (intercept and maxscreen)\n",
    "                if i <= 0: continue\n",
    "                if worst_p > alpha:\n",
    "                    # print('Remove {} with p-value {}'.format(included[i], worst_p))\n",
    "                    del included[i]\n",
    "            formular = \"lnICfa\" + \" ~ maxscreeningconc + \"\n",
    "            formular = formular + \" + \".join(included)\n",
    "            \n",
    "            try:\n",
    "                ols = smf.ols(formular,data=data)\n",
    "            except Exception as inst:\n",
    "                print(type(inst))\n",
    "                print('error in OLS, drug', d, \"order: \", o, \"number of variables (+)\", formular.count('+') )\n",
    "                print(sig_interactions.shape, len(protein_list))\n",
    "                j += 1\n",
    "                \n",
    "                break  # we do not need to check any higher order, if the lower order already fails due to recursion depth\n",
    "            ols.raise_on_perfect_prediction = False #preventing the perfect separation error\n",
    "            results = ols.fit(maxiter=100) #method prevents singular matrix\n",
    "            results = results_fit_to_df(results, ols, data[\"lnICfa\"].to_list(), test_data)\n",
    "            results[\"order\"] = o\n",
    "            results[\"drug\"] = d\n",
    "            results[\"n_prot\"] = len(protein_list) \n",
    "            results[\"n_obs\"] = len(data.lnICfa)\n",
    "            results[\"n_feat\"] = len(included)\n",
    "            final_results.append(results)\n",
    "    final_results = pd.concat(final_results)\n",
    "    print(j/(len(drug_list)), \" % of drugs failed OLS at some point\")        \n",
    "    print(\"The largest amount of features used for a regression was: \", final_results.n_feat.max())\n",
    "    return final_results"
   ]
  },
  {
   "cell_type": "markdown",
   "id": "883ce7fa-e37c-4906-b36e-a242863a1d29",
   "metadata": {},
   "source": [
    "#### Results"
   ]
  },
  {
   "cell_type": "code",
   "execution_count": 55,
   "id": "298a9a5a-9d2d-4a21-b782-ed07041c040b",
   "metadata": {},
   "outputs": [
    {
     "data": {
      "text/plain": [
       "(75, 79)"
      ]
     },
     "execution_count": 55,
     "metadata": {},
     "output_type": "execute_result"
    }
   ],
   "source": [
    "len(coef_05[[\"drug\"]].drop_duplicates()), len(drug_list)"
   ]
  },
  {
   "cell_type": "markdown",
   "id": "5abba7e6-1cb4-4f49-b64d-fc5ea96eb606",
   "metadata": {},
   "source": [
    "Drugs with error/ols problems: 233, 273, 333, 1003, 1013"
   ]
  },
  {
   "cell_type": "code",
   "execution_count": 12,
   "id": "b8fd7c31-0a77-4879-a49f-11ff08853a5d",
   "metadata": {
    "execution": {
     "iopub.execute_input": "2023-07-27T23:31:00.618407Z",
     "iopub.status.busy": "2023-07-27T23:31:00.618407Z",
     "iopub.status.idle": "2023-07-28T01:05:44.720556Z",
     "shell.execute_reply": "2023-07-28T01:05:44.719562Z",
     "shell.execute_reply.started": "2023-07-27T23:31:00.618407Z"
    },
    "scrolled": true
   },
   "outputs": [
    {
     "name": "stdout",
     "output_type": "stream",
     "text": [
      "for drug 233 reduced from 0 to 0 with 0 proteins\n",
      "(0, 2) (0, 2)\n",
      "number of possible variables: 0\n",
      "<class 'patsy.PatsyError'>\n",
      "error in OLS, drug 233 order:  1 number of variables (+) 1\n",
      "(0, 2) 0\n",
      "for drug 273 reduced from 2907 to 751 with 819 proteins\n",
      "(174, 821) (688, 821)\n",
      "number of possible variables: 819\n",
      "0.05889658235055523\n",
      "number of possible variables: 1570\n",
      "0.06302904591802393\n",
      "for drug 333 reduced from 9151 to 404 with 476 proteins\n",
      "(175, 478) (702, 478)\n",
      "number of possible variables: 476\n",
      "0.07804373579748956\n",
      "number of possible variables: 880\n",
      "0.0594104767025471\n",
      "for drug 1003 reduced from 4140 to 1009 with 1095 proteins\n",
      "(188, 1097) (756, 1097)\n",
      "number of possible variables: 1095\n",
      "0.058477666668944786\n",
      "number of possible variables: 2104\n",
      "for drug 1403 reduced from 701 to 145 with 134 proteins\n",
      "(182, 136) (709, 136)\n",
      "number of possible variables: 134\n",
      "0.054016746429268785\n",
      "number of possible variables: 279\n",
      "0.057621931834846304\n",
      "0.2  % of drugs failed OLS at some point\n",
      "The largest amount of features used for a regression was:  100\n"
     ]
    }
   ],
   "source": [
    "coef_05 = regression_per_drug(interactions, [233, 273, 333, 1003, 1403], filter=0.5) #, 1013"
   ]
  },
  {
   "cell_type": "code",
   "execution_count": 14,
   "id": "c23d52ff-f650-4df0-a579-f46a31520298",
   "metadata": {
    "execution": {
     "iopub.execute_input": "2023-07-28T01:43:24.809629Z",
     "iopub.status.busy": "2023-07-28T01:43:24.798583Z",
     "iopub.status.idle": "2023-07-28T01:43:25.176571Z",
     "shell.execute_reply": "2023-07-28T01:43:25.174608Z",
     "shell.execute_reply.started": "2023-07-28T01:43:24.808633Z"
    }
   },
   "outputs": [
    {
     "data": {
      "text/html": [
       "<div>\n",
       "<style scoped>\n",
       "    .dataframe tbody tr th:only-of-type {\n",
       "        vertical-align: middle;\n",
       "    }\n",
       "\n",
       "    .dataframe tbody tr th {\n",
       "        vertical-align: top;\n",
       "    }\n",
       "\n",
       "    .dataframe thead th {\n",
       "        text-align: right;\n",
       "    }\n",
       "</style>\n",
       "<table border=\"1\" class=\"dataframe\">\n",
       "  <thead>\n",
       "    <tr style=\"text-align: right;\">\n",
       "      <th></th>\n",
       "      <th>adj_r2</th>\n",
       "      <th>pseudo_r2</th>\n",
       "      <th>train_MSE</th>\n",
       "      <th>MSE</th>\n",
       "      <th>pearsonR</th>\n",
       "      <th>train_pearsonR</th>\n",
       "      <th>drug</th>\n",
       "      <th>n_prot</th>\n",
       "      <th>n_feat</th>\n",
       "    </tr>\n",
       "  </thead>\n",
       "  <tbody>\n",
       "    <tr>\n",
       "      <th>0</th>\n",
       "      <td>0.202395</td>\n",
       "      <td>0.233742</td>\n",
       "      <td>2.208365</td>\n",
       "      <td>4.144887</td>\n",
       "      <td>-0.260971</td>\n",
       "      <td>0.483469</td>\n",
       "      <td>273</td>\n",
       "      <td>819</td>\n",
       "      <td>27</td>\n",
       "    </tr>\n",
       "    <tr>\n",
       "      <th>1</th>\n",
       "      <td>0.276878</td>\n",
       "      <td>0.314771</td>\n",
       "      <td>1.974839</td>\n",
       "      <td>8.069965</td>\n",
       "      <td>-0.060153</td>\n",
       "      <td>0.561044</td>\n",
       "      <td>273</td>\n",
       "      <td>819</td>\n",
       "      <td>36</td>\n",
       "    </tr>\n",
       "    <tr>\n",
       "      <th>2</th>\n",
       "      <td>0.173195</td>\n",
       "      <td>0.200322</td>\n",
       "      <td>0.822435</td>\n",
       "      <td>1.535310</td>\n",
       "      <td>0.040290</td>\n",
       "      <td>0.447574</td>\n",
       "      <td>333</td>\n",
       "      <td>476</td>\n",
       "      <td>23</td>\n",
       "    </tr>\n",
       "    <tr>\n",
       "      <th>3</th>\n",
       "      <td>0.262217</td>\n",
       "      <td>0.298001</td>\n",
       "      <td>0.721977</td>\n",
       "      <td>4.839853</td>\n",
       "      <td>-0.278194</td>\n",
       "      <td>0.545894</td>\n",
       "      <td>333</td>\n",
       "      <td>476</td>\n",
       "      <td>34</td>\n",
       "    </tr>\n",
       "    <tr>\n",
       "      <th>4</th>\n",
       "      <td>0.350391</td>\n",
       "      <td>0.403736</td>\n",
       "      <td>2.030351</td>\n",
       "      <td>4.763815</td>\n",
       "      <td>0.199202</td>\n",
       "      <td>0.635402</td>\n",
       "      <td>1003</td>\n",
       "      <td>1095</td>\n",
       "      <td>62</td>\n",
       "    </tr>\n",
       "    <tr>\n",
       "      <th>5</th>\n",
       "      <td>0.544552</td>\n",
       "      <td>0.604876</td>\n",
       "      <td>1.345444</td>\n",
       "      <td>13.652142</td>\n",
       "      <td>-0.155011</td>\n",
       "      <td>0.777738</td>\n",
       "      <td>1003</td>\n",
       "      <td>1095</td>\n",
       "      <td>100</td>\n",
       "    </tr>\n",
       "    <tr>\n",
       "      <th>6</th>\n",
       "      <td>0.060096</td>\n",
       "      <td>0.072044</td>\n",
       "      <td>0.870410</td>\n",
       "      <td>0.490062</td>\n",
       "      <td>0.140054</td>\n",
       "      <td>0.268410</td>\n",
       "      <td>1403</td>\n",
       "      <td>134</td>\n",
       "      <td>9</td>\n",
       "    </tr>\n",
       "    <tr>\n",
       "      <th>7</th>\n",
       "      <td>0.101374</td>\n",
       "      <td>0.119144</td>\n",
       "      <td>0.826231</td>\n",
       "      <td>0.674249</td>\n",
       "      <td>0.226221</td>\n",
       "      <td>0.345172</td>\n",
       "      <td>1403</td>\n",
       "      <td>134</td>\n",
       "      <td>14</td>\n",
       "    </tr>\n",
       "  </tbody>\n",
       "</table>\n",
       "</div>"
      ],
      "text/plain": [
       "     adj_r2  pseudo_r2  train_MSE        MSE  pearsonR  train_pearsonR  drug  \\\n",
       "0  0.202395   0.233742   2.208365   4.144887 -0.260971        0.483469   273   \n",
       "1  0.276878   0.314771   1.974839   8.069965 -0.060153        0.561044   273   \n",
       "2  0.173195   0.200322   0.822435   1.535310  0.040290        0.447574   333   \n",
       "3  0.262217   0.298001   0.721977   4.839853 -0.278194        0.545894   333   \n",
       "4  0.350391   0.403736   2.030351   4.763815  0.199202        0.635402  1003   \n",
       "5  0.544552   0.604876   1.345444  13.652142 -0.155011        0.777738  1003   \n",
       "6  0.060096   0.072044   0.870410   0.490062  0.140054        0.268410  1403   \n",
       "7  0.101374   0.119144   0.826231   0.674249  0.226221        0.345172  1403   \n",
       "\n",
       "   n_prot  n_feat  \n",
       "0     819      27  \n",
       "1     819      36  \n",
       "2     476      23  \n",
       "3     476      34  \n",
       "4    1095      62  \n",
       "5    1095     100  \n",
       "6     134       9  \n",
       "7     134      14  "
      ]
     },
     "execution_count": 14,
     "metadata": {},
     "output_type": "execute_result"
    }
   ],
   "source": [
    "coef_05[[\"adj_r2\", \"pseudo_r2\", 'train_MSE', 'MSE', 'pearsonR', 'train_pearsonR', 'drug', 'n_prot', 'n_feat']].drop_duplicates(ignore_index=True)"
   ]
  },
  {
   "cell_type": "code",
   "execution_count": 22,
   "id": "0a21dc1f-8d31-4421-bf36-e41b31120890",
   "metadata": {
    "execution": {
     "iopub.execute_input": "2023-07-28T02:20:29.784338Z",
     "iopub.status.busy": "2023-07-28T02:20:29.779283Z",
     "iopub.status.idle": "2023-07-28T02:20:29.874045Z",
     "shell.execute_reply": "2023-07-28T02:20:29.873047Z",
     "shell.execute_reply.started": "2023-07-28T02:20:29.784338Z"
    }
   },
   "outputs": [
    {
     "data": {
      "text/plain": [
       "drug\n",
       "273     16\n",
       "333     14\n",
       "1003    46\n",
       "1403     6\n",
       "dtype: int64"
      ]
     },
     "execution_count": 22,
     "metadata": {},
     "output_type": "execute_result"
    }
   ],
   "source": [
    "coef_05[coef_05.coef_id.apply(lambda x: x.count(':') > 0)].groupby('drug').size()"
   ]
  },
  {
   "cell_type": "code",
   "execution_count": 18,
   "id": "48fb47f1-055a-4da8-a301-b9075b8ded55",
   "metadata": {
    "execution": {
     "iopub.execute_input": "2023-07-25T03:43:34.090975Z",
     "iopub.status.busy": "2023-07-25T03:43:34.090975Z",
     "iopub.status.idle": "2023-07-25T03:43:34.104980Z",
     "shell.execute_reply": "2023-07-25T03:43:34.104980Z",
     "shell.execute_reply.started": "2023-07-25T03:43:34.090975Z"
    }
   },
   "outputs": [
    {
     "data": {
      "text/html": [
       "<div>\n",
       "<style scoped>\n",
       "    .dataframe tbody tr th:only-of-type {\n",
       "        vertical-align: middle;\n",
       "    }\n",
       "\n",
       "    .dataframe tbody tr th {\n",
       "        vertical-align: top;\n",
       "    }\n",
       "\n",
       "    .dataframe thead th {\n",
       "        text-align: right;\n",
       "    }\n",
       "</style>\n",
       "<table border=\"1\" class=\"dataframe\">\n",
       "  <thead>\n",
       "    <tr style=\"text-align: right;\">\n",
       "      <th></th>\n",
       "      <th>adj_r2</th>\n",
       "      <th>pseudo_r2</th>\n",
       "      <th>train_MSE</th>\n",
       "      <th>MSE</th>\n",
       "      <th>pearsonR</th>\n",
       "      <th>train_pearsonR</th>\n",
       "      <th>drug</th>\n",
       "      <th>n_prot</th>\n",
       "    </tr>\n",
       "  </thead>\n",
       "  <tbody>\n",
       "    <tr>\n",
       "      <th>0</th>\n",
       "      <td>NaN</td>\n",
       "      <td>1.000000</td>\n",
       "      <td>3.741299e-27</td>\n",
       "      <td>19.797882</td>\n",
       "      <td>0.113822</td>\n",
       "      <td>1.000000</td>\n",
       "      <td>273</td>\n",
       "      <td>819</td>\n",
       "    </tr>\n",
       "    <tr>\n",
       "      <th>1</th>\n",
       "      <td>0.482801</td>\n",
       "      <td>0.833995</td>\n",
       "      <td>1.707295e-01</td>\n",
       "      <td>2.647130</td>\n",
       "      <td>0.264800</td>\n",
       "      <td>0.913233</td>\n",
       "      <td>333</td>\n",
       "      <td>476</td>\n",
       "    </tr>\n",
       "    <tr>\n",
       "      <th>2</th>\n",
       "      <td>NaN</td>\n",
       "      <td>1.000000</td>\n",
       "      <td>1.944908e-26</td>\n",
       "      <td>6.842633</td>\n",
       "      <td>0.058441</td>\n",
       "      <td>1.000000</td>\n",
       "      <td>333</td>\n",
       "      <td>476</td>\n",
       "    </tr>\n",
       "    <tr>\n",
       "      <th>3</th>\n",
       "      <td>NaN</td>\n",
       "      <td>1.000000</td>\n",
       "      <td>8.996787e-28</td>\n",
       "      <td>9.352385</td>\n",
       "      <td>0.351122</td>\n",
       "      <td>1.000000</td>\n",
       "      <td>1003</td>\n",
       "      <td>1095</td>\n",
       "    </tr>\n",
       "    <tr>\n",
       "      <th>4</th>\n",
       "      <td>0.258834</td>\n",
       "      <td>0.399111</td>\n",
       "      <td>5.636250e-01</td>\n",
       "      <td>0.620222</td>\n",
       "      <td>0.370182</td>\n",
       "      <td>0.631753</td>\n",
       "      <td>1403</td>\n",
       "      <td>134</td>\n",
       "    </tr>\n",
       "    <tr>\n",
       "      <th>5</th>\n",
       "      <td>0.505561</td>\n",
       "      <td>0.700404</td>\n",
       "      <td>2.810171e-01</td>\n",
       "      <td>0.753289</td>\n",
       "      <td>0.318975</td>\n",
       "      <td>0.836901</td>\n",
       "      <td>1403</td>\n",
       "      <td>134</td>\n",
       "    </tr>\n",
       "  </tbody>\n",
       "</table>\n",
       "</div>"
      ],
      "text/plain": [
       "     adj_r2  pseudo_r2     train_MSE        MSE  pearsonR  train_pearsonR  \\\n",
       "0       NaN   1.000000  3.741299e-27  19.797882  0.113822        1.000000   \n",
       "1  0.482801   0.833995  1.707295e-01   2.647130  0.264800        0.913233   \n",
       "2       NaN   1.000000  1.944908e-26   6.842633  0.058441        1.000000   \n",
       "3       NaN   1.000000  8.996787e-28   9.352385  0.351122        1.000000   \n",
       "4  0.258834   0.399111  5.636250e-01   0.620222  0.370182        0.631753   \n",
       "5  0.505561   0.700404  2.810171e-01   0.753289  0.318975        0.836901   \n",
       "\n",
       "   drug  n_prot  \n",
       "0   273     819  \n",
       "1   333     476  \n",
       "2   333     476  \n",
       "3  1003    1095  \n",
       "4  1403     134  \n",
       "5  1403     134  "
      ]
     },
     "execution_count": 18,
     "metadata": {},
     "output_type": "execute_result"
    }
   ],
   "source": [
    "coef_05[[\"adj_r2\", \"pseudo_r2\", 'train_MSE', 'MSE', 'pearsonR', 'train_pearsonR', 'drug', 'n_prot']].drop_duplicates(ignore_index=True)"
   ]
  },
  {
   "cell_type": "code",
   "execution_count": 12,
   "id": "40c34fe8-d394-4c27-abae-ec573b83e086",
   "metadata": {
    "execution": {
     "iopub.execute_input": "2023-06-30T05:10:46.943469Z",
     "iopub.status.busy": "2023-06-30T05:10:46.942472Z",
     "iopub.status.idle": "2023-06-30T05:10:48.681550Z",
     "shell.execute_reply": "2023-06-30T05:10:48.681550Z",
     "shell.execute_reply.started": "2023-06-30T05:10:46.943469Z"
    }
   },
   "outputs": [],
   "source": [
    "coef_05.to_csv(working_dir+\"coef_05.csv\", index=False)"
   ]
  },
  {
   "cell_type": "code",
   "execution_count": 48,
   "id": "b906260b-49eb-41d0-a953-a14b2261070d",
   "metadata": {
    "collapsed": true,
    "jupyter": {
     "outputs_hidden": true
    }
   },
   "outputs": [
    {
     "data": {
      "text/plain": [
       "<Axes: xlabel='n_prot', ylabel='pseudo_r2'>"
      ]
     },
     "execution_count": 48,
     "metadata": {},
     "output_type": "execute_result"
    },
    {
     "data": {
      "image/png": "[encoded data removed]",
      "text/plain": [
       "<Figure size 640x480 with 1 Axes>"
      ]
     },
     "metadata": {},
     "output_type": "display_data"
    }
   ],
   "source": [
    "sns.scatterplot(data=coef_05[[\"adj_r2\", \"pseudo_r2\", \"order\", \"n_prot\"]].drop_duplicates(ignore_index=True), x=\"n_prot\", y=\"pseudo_r2\", hue=\"order\", palette=\"Set2\", alpha=0.5)"
   ]
  },
  {
   "cell_type": "code",
   "execution_count": 29,
   "id": "1c0b50bb-ecce-4c4b-bea6-ccdae7ea701e",
   "metadata": {
    "collapsed": true,
    "jupyter": {
     "outputs_hidden": true
    },
    "scrolled": true
   },
   "outputs": [
    {
     "data": {
      "text/plain": [
       "<Axes: xlabel='n_prot', ylabel='pearsonR'>"
      ]
     },
     "execution_count": 29,
     "metadata": {},
     "output_type": "execute_result"
    },
    {
     "data": {
      "image/png": "[encoded data removed]",
      "text/plain": [
       "<Figure size 640x480 with 1 Axes>"
      ]
     },
     "metadata": {},
     "output_type": "display_data"
    }
   ],
   "source": [
    "sns.scatterplot(data=coef_05[[\"pearsonR\", \"adj_r2\", \"pseudo_r2\", \"order\", \"n_prot\"]].drop_duplicates(ignore_index=True), x=\"n_prot\", y=\"pearsonR\", hue=\"order\", palette=\"Set2\", alpha=0.5)"
   ]
  },
  {
   "cell_type": "code",
   "execution_count": 34,
   "id": "ed41d219-b7f2-4028-8844-29e25441a914",
   "metadata": {
    "collapsed": true,
    "jupyter": {
     "outputs_hidden": true
    },
    "scrolled": true
   },
   "outputs": [
    {
     "data": {
      "text/plain": [
       "<Axes: xlabel='n_prot', ylabel='adj_r2'>"
      ]
     },
     "execution_count": 34,
     "metadata": {},
     "output_type": "execute_result"
    },
    {
     "data": {
      "image/png": "[encoded data removed]",
      "text/plain": [
       "<Figure size 640x480 with 1 Axes>"
      ]
     },
     "metadata": {},
     "output_type": "display_data"
    }
   ],
   "source": [
    "# adj includes nan if to few observations for amount of variables\n",
    "sns.scatterplot(data=coef_05[[\"adj_r2\", \"pseudo_r2\", \"order\", \"n_prot\"]].drop_duplicates(ignore_index=True), x=\"n_prot\", y=\"adj_r2\", hue=\"order\", palette=\"Set2\", alpha=0.5) "
   ]
  },
  {
   "cell_type": "code",
   "execution_count": 13,
   "id": "25e1e9a2-8f49-4b2c-b80b-59cde3a68cab",
   "metadata": {
    "execution": {
     "iopub.execute_input": "2023-06-30T05:10:48.684569Z",
     "iopub.status.busy": "2023-06-30T05:10:48.683537Z",
     "iopub.status.idle": "2023-06-30T05:14:18.376742Z",
     "shell.execute_reply": "2023-06-30T05:14:18.376742Z",
     "shell.execute_reply.started": "2023-06-30T05:10:48.684569Z"
    },
    "scrolled": true
   },
   "outputs": [
    {
     "name": "stdout",
     "output_type": "stream",
     "text": [
      "for drug 3 reduced from 15 to 15\n",
      "for drug 53 reduced from 3 to 3\n",
      "for drug 63 reduced from 6 to 6\n",
      "for drug 83 reduced from 17 to 17\n",
      "for drug 133 reduced from 30 to 30\n",
      "for drug 153 reduced from 28 to 28\n",
      "for drug 163 reduced from 45 to 45\n",
      "for drug 173 reduced from 595 to 595\n"
     ]
    },
    {
     "name": "stderr",
     "output_type": "stream",
     "text": [
      "C:\\Users\\wen068\\AppData\\Roaming\\Python\\Python311\\site-packages\\statsmodels\\regression\\linear_model.py:1794: RuntimeWarning: divide by zero encountered in divide\n",
      "  return 1 - (np.divide(self.nobs - self.k_constant, self.df_resid)\n",
      "C:\\Users\\wen068\\AppData\\Roaming\\Python\\Python311\\site-packages\\statsmodels\\regression\\linear_model.py:1794: RuntimeWarning: invalid value encountered in double_scalars\n",
      "  return 1 - (np.divide(self.nobs - self.k_constant, self.df_resid)\n",
      "C:\\Users\\wen068\\AppData\\Roaming\\Python\\Python311\\site-packages\\statsmodels\\regression\\linear_model.py:1794: RuntimeWarning: divide by zero encountered in divide\n",
      "  return 1 - (np.divide(self.nobs - self.k_constant, self.df_resid)\n",
      "C:\\Users\\wen068\\AppData\\Roaming\\Python\\Python311\\site-packages\\statsmodels\\regression\\linear_model.py:1794: RuntimeWarning: invalid value encountered in double_scalars\n",
      "  return 1 - (np.divide(self.nobs - self.k_constant, self.df_resid)\n",
      "C:\\Users\\wen068\\AppData\\Roaming\\Python\\Python311\\site-packages\\statsmodels\\regression\\linear_model.py:1794: RuntimeWarning: divide by zero encountered in divide\n",
      "  return 1 - (np.divide(self.nobs - self.k_constant, self.df_resid)\n",
      "C:\\Users\\wen068\\AppData\\Roaming\\Python\\Python311\\site-packages\\statsmodels\\regression\\linear_model.py:1794: RuntimeWarning: invalid value encountered in double_scalars\n",
      "  return 1 - (np.divide(self.nobs - self.k_constant, self.df_resid)\n"
     ]
    },
    {
     "name": "stdout",
     "output_type": "stream",
     "text": [
      "for drug 193 reduced from 881 to 881\n",
      "error in OLS, drug 193 order:  2 number of variables (+) 1721\n",
      "(881, 2) 848\n",
      "for drug 203 reduced from 3294 to 3294\n",
      "error in OLS, drug 203 order:  1 number of variables (+) 1947\n",
      "(3294, 2) 1948\n",
      "for drug 223 reduced from 1754 to 1754\n"
     ]
    },
    {
     "name": "stderr",
     "output_type": "stream",
     "text": [
      "C:\\Users\\wen068\\AppData\\Roaming\\Python\\Python311\\site-packages\\statsmodels\\regression\\linear_model.py:1794: RuntimeWarning: divide by zero encountered in divide\n",
      "  return 1 - (np.divide(self.nobs - self.k_constant, self.df_resid)\n",
      "C:\\Users\\wen068\\AppData\\Roaming\\Python\\Python311\\site-packages\\statsmodels\\regression\\linear_model.py:1794: RuntimeWarning: invalid value encountered in double_scalars\n",
      "  return 1 - (np.divide(self.nobs - self.k_constant, self.df_resid)\n"
     ]
    },
    {
     "name": "stdout",
     "output_type": "stream",
     "text": [
      "error in OLS, drug 223 order:  2 number of variables (+) 3165\n",
      "(1754, 2) 1415\n",
      "for drug 253 reduced from 4571 to 4571\n",
      "error in OLS, drug 253 order:  1 number of variables (+) 2293\n",
      "(4571, 2) 2294\n",
      "for drug 263 reduced from 1987 to 1987\n"
     ]
    },
    {
     "name": "stderr",
     "output_type": "stream",
     "text": [
      "C:\\Users\\wen068\\AppData\\Roaming\\Python\\Python311\\site-packages\\statsmodels\\regression\\linear_model.py:1794: RuntimeWarning: divide by zero encountered in divide\n",
      "  return 1 - (np.divide(self.nobs - self.k_constant, self.df_resid)\n",
      "C:\\Users\\wen068\\AppData\\Roaming\\Python\\Python311\\site-packages\\statsmodels\\regression\\linear_model.py:1794: RuntimeWarning: invalid value encountered in double_scalars\n",
      "  return 1 - (np.divide(self.nobs - self.k_constant, self.df_resid)\n"
     ]
    },
    {
     "name": "stdout",
     "output_type": "stream",
     "text": [
      "error in OLS, drug 263 order:  2 number of variables (+) 3456\n",
      "(1987, 2) 1474\n",
      "for drug 273 reduced from 2907 to 2907\n",
      "error in OLS, drug 273 order:  1 number of variables (+) 1828\n",
      "(2907, 2) 1829\n",
      "for drug 283 reduced from 629 to 629\n"
     ]
    },
    {
     "name": "stderr",
     "output_type": "stream",
     "text": [
      "C:\\Users\\wen068\\AppData\\Roaming\\Python\\Python311\\site-packages\\statsmodels\\regression\\linear_model.py:1794: RuntimeWarning: divide by zero encountered in divide\n",
      "  return 1 - (np.divide(self.nobs - self.k_constant, self.df_resid)\n",
      "C:\\Users\\wen068\\AppData\\Roaming\\Python\\Python311\\site-packages\\statsmodels\\regression\\linear_model.py:1794: RuntimeWarning: invalid value encountered in double_scalars\n",
      "  return 1 - (np.divide(self.nobs - self.k_constant, self.df_resid)\n",
      "C:\\Users\\wen068\\AppData\\Roaming\\Python\\Python311\\site-packages\\statsmodels\\regression\\linear_model.py:1794: RuntimeWarning: divide by zero encountered in divide\n",
      "  return 1 - (np.divide(self.nobs - self.k_constant, self.df_resid)\n",
      "C:\\Users\\wen068\\AppData\\Roaming\\Python\\Python311\\site-packages\\statsmodels\\regression\\linear_model.py:1794: RuntimeWarning: invalid value encountered in double_scalars\n",
      "  return 1 - (np.divide(self.nobs - self.k_constant, self.df_resid)\n",
      "C:\\Users\\wen068\\AppData\\Roaming\\Python\\Python311\\site-packages\\statsmodels\\regression\\linear_model.py:1794: RuntimeWarning: divide by zero encountered in divide\n",
      "  return 1 - (np.divide(self.nobs - self.k_constant, self.df_resid)\n",
      "C:\\Users\\wen068\\AppData\\Roaming\\Python\\Python311\\site-packages\\statsmodels\\regression\\linear_model.py:1794: RuntimeWarning: invalid value encountered in double_scalars\n",
      "  return 1 - (np.divide(self.nobs - self.k_constant, self.df_resid)\n"
     ]
    },
    {
     "name": "stdout",
     "output_type": "stream",
     "text": [
      "for drug 293 reduced from 43 to 43\n",
      "for drug 303 reduced from 5798 to 5798\n",
      "error in OLS, drug 303 order:  1 number of variables (+) 2589\n",
      "(5798, 2) 2590\n",
      "for drug 333 reduced from 9151 to 9151\n",
      "error in OLS, drug 333 order:  1 number of variables (+) 2903\n",
      "(9151, 2) 2904\n",
      "for drug 363 reduced from 536 to 536\n"
     ]
    },
    {
     "name": "stderr",
     "output_type": "stream",
     "text": [
      "C:\\Users\\wen068\\AppData\\Roaming\\Python\\Python311\\site-packages\\statsmodels\\regression\\linear_model.py:1794: RuntimeWarning: divide by zero encountered in divide\n",
      "  return 1 - (np.divide(self.nobs - self.k_constant, self.df_resid)\n",
      "C:\\Users\\wen068\\AppData\\Roaming\\Python\\Python311\\site-packages\\statsmodels\\regression\\linear_model.py:1794: RuntimeWarning: invalid value encountered in double_scalars\n",
      "  return 1 - (np.divide(self.nobs - self.k_constant, self.df_resid)\n",
      "C:\\Users\\wen068\\AppData\\Roaming\\Python\\Python311\\site-packages\\statsmodels\\regression\\linear_model.py:1794: RuntimeWarning: divide by zero encountered in divide\n",
      "  return 1 - (np.divide(self.nobs - self.k_constant, self.df_resid)\n",
      "C:\\Users\\wen068\\AppData\\Roaming\\Python\\Python311\\site-packages\\statsmodels\\regression\\linear_model.py:1794: RuntimeWarning: invalid value encountered in double_scalars\n",
      "  return 1 - (np.divide(self.nobs - self.k_constant, self.df_resid)\n",
      "C:\\Users\\wen068\\AppData\\Roaming\\Python\\Python311\\site-packages\\statsmodels\\regression\\linear_model.py:1794: RuntimeWarning: divide by zero encountered in divide\n",
      "  return 1 - (np.divide(self.nobs - self.k_constant, self.df_resid)\n",
      "C:\\Users\\wen068\\AppData\\Roaming\\Python\\Python311\\site-packages\\statsmodels\\regression\\linear_model.py:1794: RuntimeWarning: invalid value encountered in double_scalars\n",
      "  return 1 - (np.divide(self.nobs - self.k_constant, self.df_resid)\n"
     ]
    },
    {
     "name": "stdout",
     "output_type": "stream",
     "text": [
      "for drug 563 reduced from 162 to 162\n",
      "for drug 573 reduced from 151 to 151\n",
      "for drug 1003 reduced from 4140 to 4140\n",
      "error in OLS, drug 1003 order:  1 number of variables (+) 2284\n",
      "(4140, 2) 2285\n",
      "for drug 1013 reduced from 31476 to 31476\n",
      "error in OLS, drug 1013 order:  1 number of variables (+) 4074\n",
      "(31476, 2) 4075\n",
      "for drug 1023 reduced from 133 to 133\n",
      "for drug 1033 reduced from 15015 to 15015\n",
      "error in OLS, drug 1033 order:  1 number of variables (+) 3489\n",
      "(15015, 2) 3490\n",
      "for drug 1043 reduced from 2611 to 2611\n",
      "error in OLS, drug 1043 order:  1 number of variables (+) 1663\n",
      "(2611, 2) 1664\n",
      "for drug 1053 reduced from 9030 to 9030\n",
      "error in OLS, drug 1053 order:  1 number of variables (+) 3135\n",
      "(9030, 2) 3136\n",
      "for drug 1073 reduced from 3556 to 3556\n",
      "error in OLS, drug 1073 order:  1 number of variables (+) 2040\n",
      "(3556, 2) 2041\n",
      "for drug 1083 reduced from 5125 to 5125\n",
      "error in OLS, drug 1083 order:  1 number of variables (+) 2372\n",
      "(5125, 2) 2373\n",
      "for drug 1093 reduced from 5240 to 5240\n",
      "error in OLS, drug 1093 order:  1 number of variables (+) 2334\n",
      "(5240, 2) 2335\n",
      "for drug 1133 reduced from 2209 to 2209\n",
      "error in OLS, drug 1133 order:  1 number of variables (+) 1691\n",
      "(2209, 2) 1692\n",
      "for drug 1143 reduced from 21 to 21\n",
      "for drug 1193 reduced from 2866 to 2866\n",
      "error in OLS, drug 1193 order:  1 number of variables (+) 1860\n",
      "(2866, 2) 1861\n",
      "for drug 1203 reduced from 380 to 380\n"
     ]
    },
    {
     "name": "stderr",
     "output_type": "stream",
     "text": [
      "C:\\Users\\wen068\\AppData\\Roaming\\Python\\Python311\\site-packages\\statsmodels\\regression\\linear_model.py:1794: RuntimeWarning: divide by zero encountered in divide\n",
      "  return 1 - (np.divide(self.nobs - self.k_constant, self.df_resid)\n",
      "C:\\Users\\wen068\\AppData\\Roaming\\Python\\Python311\\site-packages\\statsmodels\\regression\\linear_model.py:1794: RuntimeWarning: invalid value encountered in double_scalars\n",
      "  return 1 - (np.divide(self.nobs - self.k_constant, self.df_resid)\n",
      "C:\\Users\\wen068\\AppData\\Roaming\\Python\\Python311\\site-packages\\statsmodels\\regression\\linear_model.py:1794: RuntimeWarning: divide by zero encountered in divide\n",
      "  return 1 - (np.divide(self.nobs - self.k_constant, self.df_resid)\n",
      "C:\\Users\\wen068\\AppData\\Roaming\\Python\\Python311\\site-packages\\statsmodels\\regression\\linear_model.py:1794: RuntimeWarning: invalid value encountered in double_scalars\n",
      "  return 1 - (np.divide(self.nobs - self.k_constant, self.df_resid)\n",
      "C:\\Users\\wen068\\AppData\\Roaming\\Python\\Python311\\site-packages\\statsmodels\\regression\\linear_model.py:1794: RuntimeWarning: divide by zero encountered in divide\n",
      "  return 1 - (np.divide(self.nobs - self.k_constant, self.df_resid)\n",
      "C:\\Users\\wen068\\AppData\\Roaming\\Python\\Python311\\site-packages\\statsmodels\\regression\\linear_model.py:1794: RuntimeWarning: invalid value encountered in double_scalars\n",
      "  return 1 - (np.divide(self.nobs - self.k_constant, self.df_resid)\n",
      "C:\\Users\\wen068\\AppData\\Roaming\\Python\\Python311\\site-packages\\statsmodels\\regression\\linear_model.py:1794: RuntimeWarning: divide by zero encountered in divide\n",
      "  return 1 - (np.divide(self.nobs - self.k_constant, self.df_resid)\n",
      "C:\\Users\\wen068\\AppData\\Roaming\\Python\\Python311\\site-packages\\statsmodels\\regression\\linear_model.py:1794: RuntimeWarning: invalid value encountered in double_scalars\n",
      "  return 1 - (np.divide(self.nobs - self.k_constant, self.df_resid)\n"
     ]
    },
    {
     "name": "stdout",
     "output_type": "stream",
     "text": [
      "for drug 1243 reduced from 265 to 265\n",
      "for drug 1263 reduced from 832 to 832\n"
     ]
    },
    {
     "name": "stderr",
     "output_type": "stream",
     "text": [
      "C:\\Users\\wen068\\AppData\\Roaming\\Python\\Python311\\site-packages\\statsmodels\\regression\\linear_model.py:1794: RuntimeWarning: divide by zero encountered in divide\n",
      "  return 1 - (np.divide(self.nobs - self.k_constant, self.df_resid)\n",
      "C:\\Users\\wen068\\AppData\\Roaming\\Python\\Python311\\site-packages\\statsmodels\\regression\\linear_model.py:1794: RuntimeWarning: invalid value encountered in double_scalars\n",
      "  return 1 - (np.divide(self.nobs - self.k_constant, self.df_resid)\n"
     ]
    },
    {
     "name": "stdout",
     "output_type": "stream",
     "text": [
      "error in OLS, drug 1263 order:  2 number of variables (+) 1728\n",
      "(832, 2) 899\n",
      "for drug 1373 reduced from 8902 to 8902\n",
      "error in OLS, drug 1373 order:  1 number of variables (+) 3381\n",
      "(8902, 2) 3382\n",
      "for drug 1393 reduced from 1242 to 1242\n"
     ]
    },
    {
     "name": "stderr",
     "output_type": "stream",
     "text": [
      "C:\\Users\\wen068\\AppData\\Roaming\\Python\\Python311\\site-packages\\statsmodels\\regression\\linear_model.py:1794: RuntimeWarning: divide by zero encountered in divide\n",
      "  return 1 - (np.divide(self.nobs - self.k_constant, self.df_resid)\n",
      "C:\\Users\\wen068\\AppData\\Roaming\\Python\\Python311\\site-packages\\statsmodels\\regression\\linear_model.py:1794: RuntimeWarning: invalid value encountered in double_scalars\n",
      "  return 1 - (np.divide(self.nobs - self.k_constant, self.df_resid)\n"
     ]
    },
    {
     "name": "stdout",
     "output_type": "stream",
     "text": [
      "error in OLS, drug 1393 order:  2 number of variables (+) 2354\n",
      "(1242, 2) 1117\n",
      "for drug 1403 reduced from 701 to 701\n"
     ]
    },
    {
     "name": "stderr",
     "output_type": "stream",
     "text": [
      "C:\\Users\\wen068\\AppData\\Roaming\\Python\\Python311\\site-packages\\statsmodels\\regression\\linear_model.py:1794: RuntimeWarning: divide by zero encountered in divide\n",
      "  return 1 - (np.divide(self.nobs - self.k_constant, self.df_resid)\n",
      "C:\\Users\\wen068\\AppData\\Roaming\\Python\\Python311\\site-packages\\statsmodels\\regression\\linear_model.py:1794: RuntimeWarning: invalid value encountered in double_scalars\n",
      "  return 1 - (np.divide(self.nobs - self.k_constant, self.df_resid)\n",
      "C:\\Users\\wen068\\AppData\\Roaming\\Python\\Python311\\site-packages\\statsmodels\\regression\\linear_model.py:1794: RuntimeWarning: divide by zero encountered in divide\n",
      "  return 1 - (np.divide(self.nobs - self.k_constant, self.df_resid)\n",
      "C:\\Users\\wen068\\AppData\\Roaming\\Python\\Python311\\site-packages\\statsmodels\\regression\\linear_model.py:1794: RuntimeWarning: invalid value encountered in double_scalars\n",
      "  return 1 - (np.divide(self.nobs - self.k_constant, self.df_resid)\n",
      "C:\\Users\\wen068\\AppData\\Roaming\\Python\\Python311\\site-packages\\statsmodels\\regression\\linear_model.py:1794: RuntimeWarning: divide by zero encountered in divide\n",
      "  return 1 - (np.divide(self.nobs - self.k_constant, self.df_resid)\n",
      "C:\\Users\\wen068\\AppData\\Roaming\\Python\\Python311\\site-packages\\statsmodels\\regression\\linear_model.py:1794: RuntimeWarning: invalid value encountered in double_scalars\n",
      "  return 1 - (np.divide(self.nobs - self.k_constant, self.df_resid)\n"
     ]
    },
    {
     "name": "stdout",
     "output_type": "stream",
     "text": [
      "for drug 1413 reduced from 860 to 860\n"
     ]
    },
    {
     "name": "stderr",
     "output_type": "stream",
     "text": [
      "C:\\Users\\wen068\\AppData\\Roaming\\Python\\Python311\\site-packages\\statsmodels\\regression\\linear_model.py:1794: RuntimeWarning: divide by zero encountered in divide\n",
      "  return 1 - (np.divide(self.nobs - self.k_constant, self.df_resid)\n",
      "C:\\Users\\wen068\\AppData\\Roaming\\Python\\Python311\\site-packages\\statsmodels\\regression\\linear_model.py:1794: RuntimeWarning: invalid value encountered in double_scalars\n",
      "  return 1 - (np.divide(self.nobs - self.k_constant, self.df_resid)\n"
     ]
    },
    {
     "name": "stdout",
     "output_type": "stream",
     "text": [
      "error in OLS, drug 1413 order:  2 number of variables (+) 1749\n",
      "(860, 2) 896\n",
      "for drug 1433 reduced from 1149 to 1149\n"
     ]
    },
    {
     "name": "stderr",
     "output_type": "stream",
     "text": [
      "C:\\Users\\wen068\\AppData\\Roaming\\Python\\Python311\\site-packages\\statsmodels\\regression\\linear_model.py:1794: RuntimeWarning: divide by zero encountered in divide\n",
      "  return 1 - (np.divide(self.nobs - self.k_constant, self.df_resid)\n",
      "C:\\Users\\wen068\\AppData\\Roaming\\Python\\Python311\\site-packages\\statsmodels\\regression\\linear_model.py:1794: RuntimeWarning: invalid value encountered in double_scalars\n",
      "  return 1 - (np.divide(self.nobs - self.k_constant, self.df_resid)\n"
     ]
    },
    {
     "name": "stdout",
     "output_type": "stream",
     "text": [
      "error in OLS, drug 1433 order:  2 number of variables (+) 2177\n",
      "(1149, 2) 1037\n",
      "for drug 1453 reduced from 1875 to 1875\n"
     ]
    },
    {
     "name": "stderr",
     "output_type": "stream",
     "text": [
      "C:\\Users\\wen068\\AppData\\Roaming\\Python\\Python311\\site-packages\\statsmodels\\regression\\linear_model.py:1794: RuntimeWarning: divide by zero encountered in divide\n",
      "  return 1 - (np.divide(self.nobs - self.k_constant, self.df_resid)\n",
      "C:\\Users\\wen068\\AppData\\Roaming\\Python\\Python311\\site-packages\\statsmodels\\regression\\linear_model.py:1794: RuntimeWarning: invalid value encountered in double_scalars\n",
      "  return 1 - (np.divide(self.nobs - self.k_constant, self.df_resid)\n"
     ]
    },
    {
     "name": "stdout",
     "output_type": "stream",
     "text": [
      "error in OLS, drug 1453 order:  2 number of variables (+) 3299\n",
      "(1875, 2) 1434\n",
      "for drug 1463 reduced from 496 to 496\n"
     ]
    },
    {
     "name": "stderr",
     "output_type": "stream",
     "text": [
      "C:\\Users\\wen068\\AppData\\Roaming\\Python\\Python311\\site-packages\\statsmodels\\regression\\linear_model.py:1794: RuntimeWarning: divide by zero encountered in divide\n",
      "  return 1 - (np.divide(self.nobs - self.k_constant, self.df_resid)\n",
      "C:\\Users\\wen068\\AppData\\Roaming\\Python\\Python311\\site-packages\\statsmodels\\regression\\linear_model.py:1794: RuntimeWarning: invalid value encountered in double_scalars\n",
      "  return 1 - (np.divide(self.nobs - self.k_constant, self.df_resid)\n",
      "C:\\Users\\wen068\\AppData\\Roaming\\Python\\Python311\\site-packages\\statsmodels\\regression\\linear_model.py:1794: RuntimeWarning: divide by zero encountered in divide\n",
      "  return 1 - (np.divide(self.nobs - self.k_constant, self.df_resid)\n",
      "C:\\Users\\wen068\\AppData\\Roaming\\Python\\Python311\\site-packages\\statsmodels\\regression\\linear_model.py:1794: RuntimeWarning: invalid value encountered in double_scalars\n",
      "  return 1 - (np.divide(self.nobs - self.k_constant, self.df_resid)\n",
      "C:\\Users\\wen068\\AppData\\Roaming\\Python\\Python311\\site-packages\\statsmodels\\regression\\linear_model.py:1794: RuntimeWarning: divide by zero encountered in divide\n",
      "  return 1 - (np.divide(self.nobs - self.k_constant, self.df_resid)\n",
      "C:\\Users\\wen068\\AppData\\Roaming\\Python\\Python311\\site-packages\\statsmodels\\regression\\linear_model.py:1794: RuntimeWarning: invalid value encountered in double_scalars\n",
      "  return 1 - (np.divide(self.nobs - self.k_constant, self.df_resid)\n"
     ]
    },
    {
     "name": "stdout",
     "output_type": "stream",
     "text": [
      "for drug 1543 reduced from 99 to 99\n",
      "for drug 1553 reduced from 50 to 50\n",
      "for drug 1563 reduced from 7592 to 7592\n",
      "error in OLS, drug 1563 order:  1 number of variables (+) 2708\n",
      "(7592, 2) 2709\n",
      "for drug 1593 reduced from 318 to 318\n"
     ]
    },
    {
     "name": "stderr",
     "output_type": "stream",
     "text": [
      "C:\\Users\\wen068\\AppData\\Roaming\\Python\\Python311\\site-packages\\statsmodels\\regression\\linear_model.py:1794: RuntimeWarning: divide by zero encountered in divide\n",
      "  return 1 - (np.divide(self.nobs - self.k_constant, self.df_resid)\n",
      "C:\\Users\\wen068\\AppData\\Roaming\\Python\\Python311\\site-packages\\statsmodels\\regression\\linear_model.py:1794: RuntimeWarning: invalid value encountered in double_scalars\n",
      "  return 1 - (np.divide(self.nobs - self.k_constant, self.df_resid)\n",
      "C:\\Users\\wen068\\AppData\\Roaming\\Python\\Python311\\site-packages\\statsmodels\\regression\\linear_model.py:1794: RuntimeWarning: divide by zero encountered in divide\n",
      "  return 1 - (np.divide(self.nobs - self.k_constant, self.df_resid)\n",
      "C:\\Users\\wen068\\AppData\\Roaming\\Python\\Python311\\site-packages\\statsmodels\\regression\\linear_model.py:1794: RuntimeWarning: invalid value encountered in double_scalars\n",
      "  return 1 - (np.divide(self.nobs - self.k_constant, self.df_resid)\n",
      "C:\\Users\\wen068\\AppData\\Roaming\\Python\\Python311\\site-packages\\statsmodels\\regression\\linear_model.py:1794: RuntimeWarning: divide by zero encountered in divide\n",
      "  return 1 - (np.divide(self.nobs - self.k_constant, self.df_resid)\n",
      "C:\\Users\\wen068\\AppData\\Roaming\\Python\\Python311\\site-packages\\statsmodels\\regression\\linear_model.py:1794: RuntimeWarning: invalid value encountered in double_scalars\n",
      "  return 1 - (np.divide(self.nobs - self.k_constant, self.df_resid)\n",
      "C:\\Users\\wen068\\AppData\\Roaming\\Python\\Python311\\site-packages\\statsmodels\\regression\\linear_model.py:1794: RuntimeWarning: divide by zero encountered in divide\n",
      "  return 1 - (np.divide(self.nobs - self.k_constant, self.df_resid)\n",
      "C:\\Users\\wen068\\AppData\\Roaming\\Python\\Python311\\site-packages\\statsmodels\\regression\\linear_model.py:1794: RuntimeWarning: invalid value encountered in double_scalars\n",
      "  return 1 - (np.divide(self.nobs - self.k_constant, self.df_resid)\n"
     ]
    },
    {
     "name": "stdout",
     "output_type": "stream",
     "text": [
      "for drug 1613 reduced from 16 to 16\n",
      "for drug 1633 reduced from 1104 to 1104\n"
     ]
    },
    {
     "name": "stderr",
     "output_type": "stream",
     "text": [
      "C:\\Users\\wen068\\AppData\\Roaming\\Python\\Python311\\site-packages\\statsmodels\\regression\\linear_model.py:1794: RuntimeWarning: divide by zero encountered in divide\n",
      "  return 1 - (np.divide(self.nobs - self.k_constant, self.df_resid)\n",
      "C:\\Users\\wen068\\AppData\\Roaming\\Python\\Python311\\site-packages\\statsmodels\\regression\\linear_model.py:1794: RuntimeWarning: invalid value encountered in double_scalars\n",
      "  return 1 - (np.divide(self.nobs - self.k_constant, self.df_resid)\n"
     ]
    },
    {
     "name": "stdout",
     "output_type": "stream",
     "text": [
      "error in OLS, drug 1633 order:  2 number of variables (+) 2105\n",
      "(1104, 2) 1003\n",
      "for drug 1793 reduced from 157 to 157\n"
     ]
    },
    {
     "name": "stderr",
     "output_type": "stream",
     "text": [
      "C:\\Users\\wen068\\AppData\\Roaming\\Python\\Python311\\site-packages\\statsmodels\\regression\\linear_model.py:1794: RuntimeWarning: divide by zero encountered in divide\n",
      "  return 1 - (np.divide(self.nobs - self.k_constant, self.df_resid)\n",
      "C:\\Users\\wen068\\AppData\\Roaming\\Python\\Python311\\site-packages\\statsmodels\\regression\\linear_model.py:1794: RuntimeWarning: invalid value encountered in double_scalars\n",
      "  return 1 - (np.divide(self.nobs - self.k_constant, self.df_resid)\n",
      "C:\\Users\\wen068\\AppData\\Roaming\\Python\\Python311\\site-packages\\statsmodels\\regression\\linear_model.py:1794: RuntimeWarning: divide by zero encountered in divide\n",
      "  return 1 - (np.divide(self.nobs - self.k_constant, self.df_resid)\n",
      "C:\\Users\\wen068\\AppData\\Roaming\\Python\\Python311\\site-packages\\statsmodels\\regression\\linear_model.py:1794: RuntimeWarning: invalid value encountered in double_scalars\n",
      "  return 1 - (np.divide(self.nobs - self.k_constant, self.df_resid)\n",
      "C:\\Users\\wen068\\AppData\\Roaming\\Python\\Python311\\site-packages\\statsmodels\\regression\\linear_model.py:1794: RuntimeWarning: divide by zero encountered in divide\n",
      "  return 1 - (np.divide(self.nobs - self.k_constant, self.df_resid)\n",
      "C:\\Users\\wen068\\AppData\\Roaming\\Python\\Python311\\site-packages\\statsmodels\\regression\\linear_model.py:1794: RuntimeWarning: invalid value encountered in double_scalars\n",
      "  return 1 - (np.divide(self.nobs - self.k_constant, self.df_resid)\n"
     ]
    },
    {
     "name": "stdout",
     "output_type": "stream",
     "text": [
      "for drug 1853 reduced from 0 to 0\n",
      "error in OLS, drug 1853 order:  1 number of variables (+) 0\n",
      "(0, 2) 0\n",
      "for drug 1873 reduced from 2211 to 2211\n",
      "error in OLS, drug 1873 order:  1 number of variables (+) 1692\n",
      "(2211, 2) 1693\n",
      "for drug 1913 reduced from 4213 to 4213\n",
      "error in OLS, drug 1913 order:  1 number of variables (+) 2188\n",
      "(4213, 2) 2189\n",
      "for drug 1923 reduced from 10 to 10\n",
      "for drug 1933 reduced from 4221 to 4221\n",
      "error in OLS, drug 1933 order:  1 number of variables (+) 2247\n",
      "(4221, 2) 2248\n",
      "for drug 1973 reduced from 1596 to 1596\n"
     ]
    },
    {
     "name": "stderr",
     "output_type": "stream",
     "text": [
      "C:\\Users\\wen068\\AppData\\Roaming\\Python\\Python311\\site-packages\\statsmodels\\regression\\linear_model.py:1794: RuntimeWarning: divide by zero encountered in divide\n",
      "  return 1 - (np.divide(self.nobs - self.k_constant, self.df_resid)\n",
      "C:\\Users\\wen068\\AppData\\Roaming\\Python\\Python311\\site-packages\\statsmodels\\regression\\linear_model.py:1794: RuntimeWarning: invalid value encountered in double_scalars\n",
      "  return 1 - (np.divide(self.nobs - self.k_constant, self.df_resid)\n"
     ]
    },
    {
     "name": "stdout",
     "output_type": "stream",
     "text": [
      "error in OLS, drug 1973 order:  2 number of variables (+) 2939\n",
      "(1596, 2) 1357\n",
      "for drug 1993 reduced from 1726 to 1726\n"
     ]
    },
    {
     "name": "stderr",
     "output_type": "stream",
     "text": [
      "C:\\Users\\wen068\\AppData\\Roaming\\Python\\Python311\\site-packages\\statsmodels\\regression\\linear_model.py:1794: RuntimeWarning: divide by zero encountered in divide\n",
      "  return 1 - (np.divide(self.nobs - self.k_constant, self.df_resid)\n",
      "C:\\Users\\wen068\\AppData\\Roaming\\Python\\Python311\\site-packages\\statsmodels\\regression\\linear_model.py:1794: RuntimeWarning: invalid value encountered in double_scalars\n",
      "  return 1 - (np.divide(self.nobs - self.k_constant, self.df_resid)\n"
     ]
    },
    {
     "name": "stdout",
     "output_type": "stream",
     "text": [
      "error in OLS, drug 1993 order:  2 number of variables (+) 3113\n",
      "(1726, 2) 1398\n",
      "for drug 2013 reduced from 465 to 465\n"
     ]
    },
    {
     "name": "stderr",
     "output_type": "stream",
     "text": [
      "C:\\Users\\wen068\\AppData\\Roaming\\Python\\Python311\\site-packages\\statsmodels\\regression\\linear_model.py:1794: RuntimeWarning: divide by zero encountered in divide\n",
      "  return 1 - (np.divide(self.nobs - self.k_constant, self.df_resid)\n",
      "C:\\Users\\wen068\\AppData\\Roaming\\Python\\Python311\\site-packages\\statsmodels\\regression\\linear_model.py:1794: RuntimeWarning: invalid value encountered in double_scalars\n",
      "  return 1 - (np.divide(self.nobs - self.k_constant, self.df_resid)\n",
      "C:\\Users\\wen068\\AppData\\Roaming\\Python\\Python311\\site-packages\\statsmodels\\regression\\linear_model.py:1794: RuntimeWarning: divide by zero encountered in divide\n",
      "  return 1 - (np.divide(self.nobs - self.k_constant, self.df_resid)\n",
      "C:\\Users\\wen068\\AppData\\Roaming\\Python\\Python311\\site-packages\\statsmodels\\regression\\linear_model.py:1794: RuntimeWarning: invalid value encountered in double_scalars\n",
      "  return 1 - (np.divide(self.nobs - self.k_constant, self.df_resid)\n",
      "C:\\Users\\wen068\\AppData\\Roaming\\Python\\Python311\\site-packages\\statsmodels\\regression\\linear_model.py:1794: RuntimeWarning: divide by zero encountered in divide\n",
      "  return 1 - (np.divide(self.nobs - self.k_constant, self.df_resid)\n",
      "C:\\Users\\wen068\\AppData\\Roaming\\Python\\Python311\\site-packages\\statsmodels\\regression\\linear_model.py:1794: RuntimeWarning: invalid value encountered in double_scalars\n",
      "  return 1 - (np.divide(self.nobs - self.k_constant, self.df_resid)\n"
     ]
    },
    {
     "name": "stdout",
     "output_type": "stream",
     "text": [
      "for drug 2023 reduced from 3792 to 3792\n",
      "error in OLS, drug 2023 order:  1 number of variables (+) 2010\n",
      "(3792, 2) 2011\n",
      "for drug 2043 reduced from 4975 to 4975\n",
      "error in OLS, drug 2043 order:  1 number of variables (+) 2385\n",
      "(4975, 2) 2386\n",
      "for drug 2063 reduced from 825 to 825\n"
     ]
    },
    {
     "name": "stderr",
     "output_type": "stream",
     "text": [
      "C:\\Users\\wen068\\AppData\\Roaming\\Python\\Python311\\site-packages\\statsmodels\\regression\\linear_model.py:1794: RuntimeWarning: divide by zero encountered in divide\n",
      "  return 1 - (np.divide(self.nobs - self.k_constant, self.df_resid)\n",
      "C:\\Users\\wen068\\AppData\\Roaming\\Python\\Python311\\site-packages\\statsmodels\\regression\\linear_model.py:1794: RuntimeWarning: invalid value encountered in double_scalars\n",
      "  return 1 - (np.divide(self.nobs - self.k_constant, self.df_resid)\n"
     ]
    },
    {
     "name": "stdout",
     "output_type": "stream",
     "text": [
      "error in OLS, drug 2063 order:  2 number of variables (+) 1666\n",
      "(825, 2) 843\n",
      "for drug 2093 reduced from 423 to 423\n"
     ]
    },
    {
     "name": "stderr",
     "output_type": "stream",
     "text": [
      "C:\\Users\\wen068\\AppData\\Roaming\\Python\\Python311\\site-packages\\statsmodels\\regression\\linear_model.py:1794: RuntimeWarning: divide by zero encountered in divide\n",
      "  return 1 - (np.divide(self.nobs - self.k_constant, self.df_resid)\n",
      "C:\\Users\\wen068\\AppData\\Roaming\\Python\\Python311\\site-packages\\statsmodels\\regression\\linear_model.py:1794: RuntimeWarning: invalid value encountered in double_scalars\n",
      "  return 1 - (np.divide(self.nobs - self.k_constant, self.df_resid)\n",
      "C:\\Users\\wen068\\AppData\\Roaming\\Python\\Python311\\site-packages\\statsmodels\\regression\\linear_model.py:1794: RuntimeWarning: divide by zero encountered in divide\n",
      "  return 1 - (np.divide(self.nobs - self.k_constant, self.df_resid)\n",
      "C:\\Users\\wen068\\AppData\\Roaming\\Python\\Python311\\site-packages\\statsmodels\\regression\\linear_model.py:1794: RuntimeWarning: invalid value encountered in double_scalars\n",
      "  return 1 - (np.divide(self.nobs - self.k_constant, self.df_resid)\n",
      "C:\\Users\\wen068\\AppData\\Roaming\\Python\\Python311\\site-packages\\statsmodels\\regression\\linear_model.py:1794: RuntimeWarning: divide by zero encountered in divide\n",
      "  return 1 - (np.divide(self.nobs - self.k_constant, self.df_resid)\n",
      "C:\\Users\\wen068\\AppData\\Roaming\\Python\\Python311\\site-packages\\statsmodels\\regression\\linear_model.py:1794: RuntimeWarning: invalid value encountered in double_scalars\n",
      "  return 1 - (np.divide(self.nobs - self.k_constant, self.df_resid)\n"
     ]
    },
    {
     "name": "stdout",
     "output_type": "stream",
     "text": [
      "for drug 2103 reduced from 1628 to 1628\n"
     ]
    },
    {
     "name": "stderr",
     "output_type": "stream",
     "text": [
      "C:\\Users\\wen068\\AppData\\Roaming\\Python\\Python311\\site-packages\\statsmodels\\regression\\linear_model.py:1794: RuntimeWarning: divide by zero encountered in divide\n",
      "  return 1 - (np.divide(self.nobs - self.k_constant, self.df_resid)\n",
      "C:\\Users\\wen068\\AppData\\Roaming\\Python\\Python311\\site-packages\\statsmodels\\regression\\linear_model.py:1794: RuntimeWarning: invalid value encountered in double_scalars\n",
      "  return 1 - (np.divide(self.nobs - self.k_constant, self.df_resid)\n"
     ]
    },
    {
     "name": "stdout",
     "output_type": "stream",
     "text": [
      "error in OLS, drug 2103 order:  2 number of variables (+) 2709\n",
      "(1628, 2) 1095\n",
      "for drug 2153 reduced from 2365 to 2365\n",
      "error in OLS, drug 2153 order:  1 number of variables (+) 1624\n",
      "(2365, 2) 1625\n",
      "for drug 2163 reduced from 3427 to 3427\n",
      "error in OLS, drug 2163 order:  1 number of variables (+) 1852\n",
      "(3427, 2) 1853\n",
      "for drug 2173 reduced from 6214 to 6214\n",
      "error in OLS, drug 2173 order:  1 number of variables (+) 2589\n",
      "(6214, 2) 2590\n",
      "for drug 2183 reduced from 147 to 147\n"
     ]
    },
    {
     "name": "stderr",
     "output_type": "stream",
     "text": [
      "C:\\Users\\wen068\\AppData\\Roaming\\Python\\Python311\\site-packages\\statsmodels\\regression\\linear_model.py:1794: RuntimeWarning: divide by zero encountered in divide\n",
      "  return 1 - (np.divide(self.nobs - self.k_constant, self.df_resid)\n",
      "C:\\Users\\wen068\\AppData\\Roaming\\Python\\Python311\\site-packages\\statsmodels\\regression\\linear_model.py:1794: RuntimeWarning: invalid value encountered in double_scalars\n",
      "  return 1 - (np.divide(self.nobs - self.k_constant, self.df_resid)\n",
      "C:\\Users\\wen068\\AppData\\Roaming\\Python\\Python311\\site-packages\\statsmodels\\regression\\linear_model.py:1794: RuntimeWarning: divide by zero encountered in divide\n",
      "  return 1 - (np.divide(self.nobs - self.k_constant, self.df_resid)\n",
      "C:\\Users\\wen068\\AppData\\Roaming\\Python\\Python311\\site-packages\\statsmodels\\regression\\linear_model.py:1794: RuntimeWarning: invalid value encountered in double_scalars\n",
      "  return 1 - (np.divide(self.nobs - self.k_constant, self.df_resid)\n",
      "C:\\Users\\wen068\\AppData\\Roaming\\Python\\Python311\\site-packages\\statsmodels\\regression\\linear_model.py:1794: RuntimeWarning: divide by zero encountered in divide\n",
      "  return 1 - (np.divide(self.nobs - self.k_constant, self.df_resid)\n",
      "C:\\Users\\wen068\\AppData\\Roaming\\Python\\Python311\\site-packages\\statsmodels\\regression\\linear_model.py:1794: RuntimeWarning: invalid value encountered in double_scalars\n",
      "  return 1 - (np.divide(self.nobs - self.k_constant, self.df_resid)\n"
     ]
    },
    {
     "name": "stdout",
     "output_type": "stream",
     "text": [
      "for drug 2243 reduced from 489 to 489\n"
     ]
    },
    {
     "name": "stderr",
     "output_type": "stream",
     "text": [
      "C:\\Users\\wen068\\AppData\\Roaming\\Python\\Python311\\site-packages\\statsmodels\\regression\\linear_model.py:1794: RuntimeWarning: divide by zero encountered in divide\n",
      "  return 1 - (np.divide(self.nobs - self.k_constant, self.df_resid)\n",
      "C:\\Users\\wen068\\AppData\\Roaming\\Python\\Python311\\site-packages\\statsmodels\\regression\\linear_model.py:1794: RuntimeWarning: invalid value encountered in double_scalars\n",
      "  return 1 - (np.divide(self.nobs - self.k_constant, self.df_resid)\n",
      "C:\\Users\\wen068\\AppData\\Roaming\\Python\\Python311\\site-packages\\statsmodels\\regression\\linear_model.py:1794: RuntimeWarning: divide by zero encountered in divide\n",
      "  return 1 - (np.divide(self.nobs - self.k_constant, self.df_resid)\n",
      "C:\\Users\\wen068\\AppData\\Roaming\\Python\\Python311\\site-packages\\statsmodels\\regression\\linear_model.py:1794: RuntimeWarning: invalid value encountered in double_scalars\n",
      "  return 1 - (np.divide(self.nobs - self.k_constant, self.df_resid)\n",
      "C:\\Users\\wen068\\AppData\\Roaming\\Python\\Python311\\site-packages\\statsmodels\\regression\\linear_model.py:1794: RuntimeWarning: divide by zero encountered in divide\n",
      "  return 1 - (np.divide(self.nobs - self.k_constant, self.df_resid)\n",
      "C:\\Users\\wen068\\AppData\\Roaming\\Python\\Python311\\site-packages\\statsmodels\\regression\\linear_model.py:1794: RuntimeWarning: invalid value encountered in double_scalars\n",
      "  return 1 - (np.divide(self.nobs - self.k_constant, self.df_resid)\n",
      "C:\\Users\\wen068\\AppData\\Roaming\\Python\\Python311\\site-packages\\statsmodels\\regression\\linear_model.py:1794: RuntimeWarning: divide by zero encountered in divide\n",
      "  return 1 - (np.divide(self.nobs - self.k_constant, self.df_resid)\n",
      "C:\\Users\\wen068\\AppData\\Roaming\\Python\\Python311\\site-packages\\statsmodels\\regression\\linear_model.py:1794: RuntimeWarning: invalid value encountered in double_scalars\n",
      "  return 1 - (np.divide(self.nobs - self.k_constant, self.df_resid)\n"
     ]
    },
    {
     "name": "stdout",
     "output_type": "stream",
     "text": [
      "for drug 2253 reduced from 80 to 80\n",
      "for drug 2273 reduced from 1698 to 1698\n"
     ]
    },
    {
     "name": "stderr",
     "output_type": "stream",
     "text": [
      "C:\\Users\\wen068\\AppData\\Roaming\\Python\\Python311\\site-packages\\statsmodels\\regression\\linear_model.py:1794: RuntimeWarning: divide by zero encountered in divide\n",
      "  return 1 - (np.divide(self.nobs - self.k_constant, self.df_resid)\n",
      "C:\\Users\\wen068\\AppData\\Roaming\\Python\\Python311\\site-packages\\statsmodels\\regression\\linear_model.py:1794: RuntimeWarning: invalid value encountered in double_scalars\n",
      "  return 1 - (np.divide(self.nobs - self.k_constant, self.df_resid)\n"
     ]
    },
    {
     "name": "stdout",
     "output_type": "stream",
     "text": [
      "error in OLS, drug 2273 order:  2 number of variables (+) 3005\n",
      "(1698, 2) 1316\n",
      "for drug 2283 reduced from 1441 to 1441\n"
     ]
    },
    {
     "name": "stderr",
     "output_type": "stream",
     "text": [
      "C:\\Users\\wen068\\AppData\\Roaming\\Python\\Python311\\site-packages\\statsmodels\\regression\\linear_model.py:1794: RuntimeWarning: divide by zero encountered in divide\n",
      "  return 1 - (np.divide(self.nobs - self.k_constant, self.df_resid)\n",
      "C:\\Users\\wen068\\AppData\\Roaming\\Python\\Python311\\site-packages\\statsmodels\\regression\\linear_model.py:1794: RuntimeWarning: invalid value encountered in double_scalars\n",
      "  return 1 - (np.divide(self.nobs - self.k_constant, self.df_resid)\n"
     ]
    },
    {
     "name": "stdout",
     "output_type": "stream",
     "text": [
      "error in OLS, drug 2283 order:  2 number of variables (+) 2669\n",
      "(1441, 2) 1233\n",
      "for drug 2293 reduced from 1663 to 1663\n"
     ]
    },
    {
     "name": "stderr",
     "output_type": "stream",
     "text": [
      "C:\\Users\\wen068\\AppData\\Roaming\\Python\\Python311\\site-packages\\statsmodels\\regression\\linear_model.py:1794: RuntimeWarning: divide by zero encountered in divide\n",
      "  return 1 - (np.divide(self.nobs - self.k_constant, self.df_resid)\n",
      "C:\\Users\\wen068\\AppData\\Roaming\\Python\\Python311\\site-packages\\statsmodels\\regression\\linear_model.py:1794: RuntimeWarning: invalid value encountered in double_scalars\n",
      "  return 1 - (np.divide(self.nobs - self.k_constant, self.df_resid)\n"
     ]
    },
    {
     "name": "stdout",
     "output_type": "stream",
     "text": [
      "error in OLS, drug 2293 order:  2 number of variables (+) 2791\n",
      "(1663, 2) 1131\n",
      "for drug 2303 reduced from 468 to 468\n"
     ]
    },
    {
     "name": "stderr",
     "output_type": "stream",
     "text": [
      "C:\\Users\\wen068\\AppData\\Roaming\\Python\\Python311\\site-packages\\statsmodels\\regression\\linear_model.py:1794: RuntimeWarning: divide by zero encountered in divide\n",
      "  return 1 - (np.divide(self.nobs - self.k_constant, self.df_resid)\n",
      "C:\\Users\\wen068\\AppData\\Roaming\\Python\\Python311\\site-packages\\statsmodels\\regression\\linear_model.py:1794: RuntimeWarning: invalid value encountered in double_scalars\n",
      "  return 1 - (np.divide(self.nobs - self.k_constant, self.df_resid)\n",
      "C:\\Users\\wen068\\AppData\\Roaming\\Python\\Python311\\site-packages\\statsmodels\\regression\\linear_model.py:1794: RuntimeWarning: divide by zero encountered in divide\n",
      "  return 1 - (np.divide(self.nobs - self.k_constant, self.df_resid)\n",
      "C:\\Users\\wen068\\AppData\\Roaming\\Python\\Python311\\site-packages\\statsmodels\\regression\\linear_model.py:1794: RuntimeWarning: invalid value encountered in double_scalars\n",
      "  return 1 - (np.divide(self.nobs - self.k_constant, self.df_resid)\n",
      "C:\\Users\\wen068\\AppData\\Roaming\\Python\\Python311\\site-packages\\statsmodels\\regression\\linear_model.py:1794: RuntimeWarning: divide by zero encountered in divide\n",
      "  return 1 - (np.divide(self.nobs - self.k_constant, self.df_resid)\n",
      "C:\\Users\\wen068\\AppData\\Roaming\\Python\\Python311\\site-packages\\statsmodels\\regression\\linear_model.py:1794: RuntimeWarning: invalid value encountered in double_scalars\n",
      "  return 1 - (np.divide(self.nobs - self.k_constant, self.df_resid)\n"
     ]
    },
    {
     "name": "stdout",
     "output_type": "stream",
     "text": [
      "for drug 2313 reduced from 758 to 758\n"
     ]
    },
    {
     "name": "stderr",
     "output_type": "stream",
     "text": [
      "C:\\Users\\wen068\\AppData\\Roaming\\Python\\Python311\\site-packages\\statsmodels\\regression\\linear_model.py:1794: RuntimeWarning: divide by zero encountered in divide\n",
      "  return 1 - (np.divide(self.nobs - self.k_constant, self.df_resid)\n",
      "C:\\Users\\wen068\\AppData\\Roaming\\Python\\Python311\\site-packages\\statsmodels\\regression\\linear_model.py:1794: RuntimeWarning: invalid value encountered in double_scalars\n",
      "  return 1 - (np.divide(self.nobs - self.k_constant, self.df_resid)\n"
     ]
    },
    {
     "name": "stdout",
     "output_type": "stream",
     "text": [
      "error in OLS, drug 2313 order:  2 number of variables (+) 1572\n",
      "(758, 2) 820\n",
      "for drug 2323 reduced from 1534 to 1534\n"
     ]
    },
    {
     "name": "stderr",
     "output_type": "stream",
     "text": [
      "C:\\Users\\wen068\\AppData\\Roaming\\Python\\Python311\\site-packages\\statsmodels\\regression\\linear_model.py:1794: RuntimeWarning: divide by zero encountered in divide\n",
      "  return 1 - (np.divide(self.nobs - self.k_constant, self.df_resid)\n",
      "C:\\Users\\wen068\\AppData\\Roaming\\Python\\Python311\\site-packages\\statsmodels\\regression\\linear_model.py:1794: RuntimeWarning: invalid value encountered in double_scalars\n",
      "  return 1 - (np.divide(self.nobs - self.k_constant, self.df_resid)\n"
     ]
    },
    {
     "name": "stdout",
     "output_type": "stream",
     "text": [
      "error in OLS, drug 2323 order:  2 number of variables (+) 2699\n",
      "(1534, 2) 1174\n",
      "for drug 2333 reduced from 1608 to 1608\n"
     ]
    },
    {
     "name": "stderr",
     "output_type": "stream",
     "text": [
      "C:\\Users\\wen068\\AppData\\Roaming\\Python\\Python311\\site-packages\\statsmodels\\regression\\linear_model.py:1794: RuntimeWarning: divide by zero encountered in divide\n",
      "  return 1 - (np.divide(self.nobs - self.k_constant, self.df_resid)\n",
      "C:\\Users\\wen068\\AppData\\Roaming\\Python\\Python311\\site-packages\\statsmodels\\regression\\linear_model.py:1794: RuntimeWarning: invalid value encountered in double_scalars\n",
      "  return 1 - (np.divide(self.nobs - self.k_constant, self.df_resid)\n"
     ]
    },
    {
     "name": "stdout",
     "output_type": "stream",
     "text": [
      "error in OLS, drug 2333 order:  2 number of variables (+) 2879\n",
      "(1608, 2) 1285\n",
      "for drug 2363 reduced from 860 to 860\n"
     ]
    },
    {
     "name": "stderr",
     "output_type": "stream",
     "text": [
      "C:\\Users\\wen068\\AppData\\Roaming\\Python\\Python311\\site-packages\\statsmodels\\regression\\linear_model.py:1794: RuntimeWarning: divide by zero encountered in divide\n",
      "  return 1 - (np.divide(self.nobs - self.k_constant, self.df_resid)\n",
      "C:\\Users\\wen068\\AppData\\Roaming\\Python\\Python311\\site-packages\\statsmodels\\regression\\linear_model.py:1794: RuntimeWarning: invalid value encountered in double_scalars\n",
      "  return 1 - (np.divide(self.nobs - self.k_constant, self.df_resid)\n"
     ]
    },
    {
     "name": "stdout",
     "output_type": "stream",
     "text": [
      "error in OLS, drug 2363 order:  2 number of variables (+) 1617\n",
      "(860, 2) 763\n",
      "for drug 2463 reduced from 2 to 2\n",
      "for drug 2503 reduced from 4393 to 4393\n",
      "error in OLS, drug 2503 order:  1 number of variables (+) 2250\n",
      "(4393, 2) 2251\n",
      "0.5949367088607594  % of drugs failed OLS at some point\n",
      "The largest amount of proteins used for a regression was:  1474\n"
     ]
    }
   ],
   "source": [
    "baseline = regression_per_drug(interactions, drug_list)"
   ]
  },
  {
   "cell_type": "code",
   "execution_count": 28,
   "id": "ced673c4-4c66-4183-bab0-c17952b90205",
   "metadata": {},
   "outputs": [
    {
     "data": {
      "text/plain": [
       "52"
      ]
     },
     "execution_count": 28,
     "metadata": {},
     "output_type": "execute_result"
    }
   ],
   "source": [
    "len(baseline[[\"drug\"]].drop_duplicates())"
   ]
  },
  {
   "cell_type": "code",
   "execution_count": 14,
   "id": "ea21c153-75cb-4917-ac2c-233b014864e4",
   "metadata": {
    "execution": {
     "iopub.execute_input": "2023-06-30T05:14:18.377747Z",
     "iopub.status.busy": "2023-06-30T05:14:18.377747Z",
     "iopub.status.idle": "2023-06-30T05:14:19.251891Z",
     "shell.execute_reply": "2023-06-30T05:14:19.251891Z",
     "shell.execute_reply.started": "2023-06-30T05:14:18.377747Z"
    }
   },
   "outputs": [],
   "source": [
    "baseline.to_csv(working_dir+\"baseline.csv\", index=False)"
   ]
  },
  {
   "cell_type": "code",
   "execution_count": 15,
   "id": "d1971e0c-1f6a-4907-950c-80a48ff6e0f9",
   "metadata": {
    "execution": {
     "iopub.execute_input": "2023-06-30T05:14:19.251891Z",
     "iopub.status.busy": "2023-06-30T05:14:19.251891Z",
     "iopub.status.idle": "2023-06-30T05:14:19.985792Z",
     "shell.execute_reply": "2023-06-30T05:14:19.984785Z",
     "shell.execute_reply.started": "2023-06-30T05:14:19.251891Z"
    }
   },
   "outputs": [
    {
     "data": {
      "image/png": "[encoded data removed]",
      "text/plain": [
       "<Figure size 640x480 with 1 Axes>"
      ]
     },
     "metadata": {},
     "output_type": "display_data"
    }
   ],
   "source": [
    "coef_05[\"batch\"] = \"|Coef| > 0.5\"\n",
    "baseline[\"batch\"] = \"baseline\"\n",
    "\n",
    "combined = pd.concat([coef_05, baseline], ignore_index=True)\n",
    "combined = combined[[\"MSE\", \"pearsonR\", \"order\", \"drug\", \"batch\"]].drop_duplicates(ignore_index=True)\n",
    "sns.violinplot(data=combined, x=\"MSE\", y=\"order\", hue=\"batch\", cut=0, orient=\"h\" )\n",
    "plt.savefig(working_dir+\"img/mse.png\")"
   ]
  },
  {
   "cell_type": "code",
   "execution_count": null,
   "id": "6ad2b2eb-38ca-4914-b307-de1d6c8b6f2a",
   "metadata": {},
   "outputs": [],
   "source": []
  }
 ],
 "metadata": {
  "kernelspec": {
   "display_name": "Python 3 (ipykernel)",
   "language": "python",
   "name": "python3"
  },
  "language_info": {
   "codemirror_mode": {
    "name": "ipython",
    "version": 3
   },
   "file_extension": ".py",
   "mimetype": "text/x-python",
   "name": "python",
   "nbconvert_exporter": "python",
   "pygments_lexer": "ipython3",
   "version": "3.9.17"
  },
  "widgets": {
   "application/vnd.jupyter.widget-state+json": {
    "state": {},
    "version_major": 2,
    "version_minor": 0
   }
  }
 },
 "nbformat": 4,
 "nbformat_minor": 5
}
