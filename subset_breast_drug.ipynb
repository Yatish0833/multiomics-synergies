{
 "cells": [
  {
   "cell_type": "code",
   "execution_count": 1,
   "id": "4ac3fa28-4151-479a-b1d2-0aec692ec456",
   "metadata": {
    "execution": {
     "iopub.execute_input": "2023-10-03T22:53:42.076622Z",
     "iopub.status.busy": "2023-10-03T22:53:42.076622Z",
     "iopub.status.idle": "2023-10-03T22:53:44.097517Z",
     "shell.execute_reply": "2023-10-03T22:53:44.096520Z",
     "shell.execute_reply.started": "2023-10-03T22:53:42.076622Z"
    },
    "tags": []
   },
   "outputs": [],
   "source": [
    "import pandas as pd\n",
    "import numpy as np\n",
    "import os\n",
    "import sys\n",
    "import shutil\n",
    "import math\n",
    "\n",
    "import statsmodels.formula.api as smf\n",
    "from statsmodels.stats.multitest import fdrcorrection, multipletests\n",
    "from itertools import combinations\n",
    "\n",
    "import matplotlib.pyplot as plt\n",
    "\n",
    "from scipy.stats import pearsonr\n",
    "import seaborn as sns\n",
    "from random import sample, seed\n",
    "\n",
    "from sklearn.model_selection import train_test_split"
   ]
  },
  {
   "cell_type": "markdown",
   "id": "5bc4d3a1-76be-4c4f-8fab-c35348f38f0e",
   "metadata": {
    "jp-MarkdownHeadingCollapsed": true,
    "tags": []
   },
   "source": [
    "### ProCan train, BC test"
   ]
  },
  {
   "cell_type": "code",
   "execution_count": 11,
   "id": "bec6a3d7-518c-49b9-a308-3e575c2b236e",
   "metadata": {
    "execution": {
     "iopub.execute_input": "2023-10-03T23:01:42.217542Z",
     "iopub.status.busy": "2023-10-03T23:01:42.217542Z",
     "iopub.status.idle": "2023-10-03T23:02:11.924045Z",
     "shell.execute_reply": "2023-10-03T23:02:11.923057Z",
     "shell.execute_reply.started": "2023-10-03T23:01:42.217542Z"
    },
    "tags": []
   },
   "outputs": [],
   "source": [
    "x_input = 'data/ProCan-DepMapSanger_protein_matrix_6692_averaged.xlsx'\n",
    "x = pd.read_excel(x_input, engine='openpyxl').drop(columns=['Project_Identifier'])\n",
    "x.columns = x.columns.str.replace(';', '.')"
   ]
  },
  {
   "cell_type": "code",
   "execution_count": 5,
   "id": "fee24dc4-06a6-4626-90b5-3998966bcac8",
   "metadata": {
    "execution": {
     "iopub.execute_input": "2023-09-28T00:52:03.324742Z",
     "iopub.status.busy": "2023-09-28T00:52:03.324742Z",
     "iopub.status.idle": "2023-09-28T00:52:03.345672Z",
     "shell.execute_reply": "2023-09-28T00:52:03.344675Z",
     "shell.execute_reply.started": "2023-09-28T00:52:03.324742Z"
    },
    "tags": []
   },
   "outputs": [],
   "source": [
    "x = x.set_index('Cell_Line')"
   ]
  },
  {
   "cell_type": "code",
   "execution_count": 8,
   "id": "446682a3-781e-44d1-ab9c-bbc5334e248e",
   "metadata": {
    "execution": {
     "iopub.execute_input": "2023-09-28T00:53:08.433945Z",
     "iopub.status.busy": "2023-09-28T00:53:08.432949Z",
     "iopub.status.idle": "2023-09-28T00:53:08.451886Z",
     "shell.execute_reply": "2023-09-28T00:53:08.450890Z",
     "shell.execute_reply.started": "2023-09-28T00:53:08.433945Z"
    },
    "tags": []
   },
   "outputs": [
    {
     "data": {
      "text/plain": [
       "Index(['k052', 'te12', 'tmk1', 'sts0421', 'pl4', 'pci4b', 'pci30', 'hsc39',\n",
       "       'h3255', 'emcbac2',\n",
       "       ...\n",
       "       '451lu', 'mmacsf', 'be13', 'mcixc', 'ramos2g64c10', 'cgthw1', 'h9',\n",
       "       'grst', 'ymb1e', 'mm1s'],\n",
       "      dtype='object', name='Cell_Line', length=949)"
      ]
     },
     "execution_count": 8,
     "metadata": {},
     "output_type": "execute_result"
    }
   ],
   "source": [
    "x.index.str.lower().str.replace('-', '')"
   ]
  },
  {
   "cell_type": "code",
   "execution_count": 48,
   "id": "d0d5c5b5-55e8-4d4c-a12e-caf6b3cf7f6d",
   "metadata": {
    "execution": {
     "iopub.execute_input": "2023-10-03T23:18:31.869608Z",
     "iopub.status.busy": "2023-10-03T23:18:31.868604Z",
     "iopub.status.idle": "2023-10-03T23:18:40.711111Z",
     "shell.execute_reply": "2023-10-03T23:18:40.710061Z",
     "shell.execute_reply.started": "2023-10-03T23:18:31.869608Z"
    },
    "tags": []
   },
   "outputs": [],
   "source": [
    "file_bc = 'data/breast_cancer.xlsx'\n",
    "bc = pd.read_excel(file_bc, sheet_name=['B_protein_matrix','G_DrugResponse'])\n",
    "bc_drug = bc['G_DrugResponse']\n",
    "bc_protein = bc['B_protein_matrix']"
   ]
  },
  {
   "cell_type": "code",
   "execution_count": 4,
   "id": "c269fef2-de8b-402f-b895-b18f9ca5890f",
   "metadata": {
    "execution": {
     "iopub.execute_input": "2023-09-19T05:16:11.840083Z",
     "iopub.status.busy": "2023-09-19T05:16:11.839123Z",
     "iopub.status.idle": "2023-09-19T05:16:11.884894Z",
     "shell.execute_reply": "2023-09-19T05:16:11.883882Z",
     "shell.execute_reply.started": "2023-09-19T05:16:11.840083Z"
    },
    "tags": []
   },
   "outputs": [],
   "source": [
    "file_proCan = 'data/pc_drug_response.csv' # calling the table that I created in this notebook\n",
    "proCan = pd.read_csv(file_proCan, usecols=['drug_id','CHEMBL', 'cell_line_name', 'tissue', 'ln_IC50', 'drug_name', 'max_screening_conc', 'drug_owner', 'dataset','putative_target', 'putative_gene_target', 'target_pathway'])\n"
   ]
  },
  {
   "cell_type": "code",
   "execution_count": 5,
   "id": "d1d39c8d-fa52-473d-8e5d-8ed03910db2a",
   "metadata": {
    "execution": {
     "iopub.execute_input": "2023-09-19T05:16:11.885925Z",
     "iopub.status.busy": "2023-09-19T05:16:11.885925Z",
     "iopub.status.idle": "2023-09-19T05:16:11.915902Z",
     "shell.execute_reply": "2023-09-19T05:16:11.914897Z",
     "shell.execute_reply.started": "2023-09-19T05:16:11.885925Z"
    },
    "tags": []
   },
   "outputs": [
    {
     "data": {
      "text/html": [
       "<div>\n",
       "<style scoped>\n",
       "    .dataframe tbody tr th:only-of-type {\n",
       "        vertical-align: middle;\n",
       "    }\n",
       "\n",
       "    .dataframe tbody tr th {\n",
       "        vertical-align: top;\n",
       "    }\n",
       "\n",
       "    .dataframe thead th {\n",
       "        text-align: right;\n",
       "    }\n",
       "</style>\n",
       "<table border=\"1\" class=\"dataframe\">\n",
       "  <thead>\n",
       "    <tr style=\"text-align: right;\">\n",
       "      <th></th>\n",
       "      <th>Drug</th>\n",
       "      <th>CHEMBL</th>\n",
       "    </tr>\n",
       "  </thead>\n",
       "  <tbody>\n",
       "    <tr>\n",
       "      <th>0</th>\n",
       "      <td>17-AAG</td>\n",
       "      <td>CHEMBL109480</td>\n",
       "    </tr>\n",
       "    <tr>\n",
       "      <th>1</th>\n",
       "      <td>5-FU</td>\n",
       "      <td>CHEMBL185</td>\n",
       "    </tr>\n",
       "    <tr>\n",
       "      <th>2</th>\n",
       "      <td>5-FdUR</td>\n",
       "      <td>CHEMBL917</td>\n",
       "    </tr>\n",
       "    <tr>\n",
       "      <th>3</th>\n",
       "      <td>AG1478</td>\n",
       "      <td>CHEMBL7917</td>\n",
       "    </tr>\n",
       "    <tr>\n",
       "      <th>4</th>\n",
       "      <td>Triciribine</td>\n",
       "      <td>CHEMBL331237</td>\n",
       "    </tr>\n",
       "    <tr>\n",
       "      <th>...</th>\n",
       "      <td>...</td>\n",
       "      <td>...</td>\n",
       "    </tr>\n",
       "    <tr>\n",
       "      <th>68</th>\n",
       "      <td>VX-680</td>\n",
       "      <td>CHEMBL572878</td>\n",
       "    </tr>\n",
       "    <tr>\n",
       "      <th>69</th>\n",
       "      <td>Valproic acid</td>\n",
       "      <td>CHEMBL109</td>\n",
       "    </tr>\n",
       "    <tr>\n",
       "      <th>70</th>\n",
       "      <td>Velcade</td>\n",
       "      <td>CHEMBL325041</td>\n",
       "    </tr>\n",
       "    <tr>\n",
       "      <th>71</th>\n",
       "      <td>Vinorelbine</td>\n",
       "      <td>CHEMBL553025</td>\n",
       "    </tr>\n",
       "    <tr>\n",
       "      <th>72</th>\n",
       "      <td>ZM447439</td>\n",
       "      <td>CHEMBL202721</td>\n",
       "    </tr>\n",
       "  </tbody>\n",
       "</table>\n",
       "<p>73 rows × 2 columns</p>\n",
       "</div>"
      ],
      "text/plain": [
       "             Drug        CHEMBL\n",
       "0          17-AAG  CHEMBL109480\n",
       "1            5-FU     CHEMBL185\n",
       "2          5-FdUR     CHEMBL917\n",
       "3          AG1478    CHEMBL7917\n",
       "4     Triciribine  CHEMBL331237\n",
       "..            ...           ...\n",
       "68         VX-680  CHEMBL572878\n",
       "69  Valproic acid     CHEMBL109\n",
       "70        Velcade  CHEMBL325041\n",
       "71    Vinorelbine  CHEMBL553025\n",
       "72       ZM447439  CHEMBL202721\n",
       "\n",
       "[73 rows x 2 columns]"
      ]
     },
     "execution_count": 5,
     "metadata": {},
     "output_type": "execute_result"
    }
   ],
   "source": [
    "file_chembl = 'data/drug_chembl.txt'\n",
    "chembl = pd.read_csv(file_chembl, header=0, names=['Drug', 'CHEMBL'])\n",
    "chembl"
   ]
  },
  {
   "cell_type": "markdown",
   "id": "916c8f83-29bd-48c7-bc6b-8de59a8d54cc",
   "metadata": {
    "jp-MarkdownHeadingCollapsed": true,
    "tags": []
   },
   "source": [
    "#### creating drug response files"
   ]
  },
  {
   "cell_type": "code",
   "execution_count": 13,
   "id": "2dfe313f-4151-4249-bd82-bc3c9764d51a",
   "metadata": {
    "execution": {
     "iopub.execute_input": "2023-09-19T01:31:30.298398Z",
     "iopub.status.busy": "2023-09-19T01:31:30.297408Z",
     "iopub.status.idle": "2023-09-19T01:31:30.311138Z",
     "shell.execute_reply": "2023-09-19T01:31:30.310193Z",
     "shell.execute_reply.started": "2023-09-19T01:31:30.298398Z"
    },
    "tags": []
   },
   "outputs": [
    {
     "data": {
      "text/plain": [
       "array(['CHEMBL92', 'CHEMBL34259', 'CHEMBL939', 'CHEMBL98',\n",
       "       'CHEMBL1201182', 'CHEMBL288441', 'CHEMBL603469', 'CHEMBL109480',\n",
       "       'CHEMBL1173655', 'CHEMBL191334', 'CHEMBL202721', 'CHEMBL1879463',\n",
       "       'CHEMBL1614701', 'CHEMBL185', 'CHEMBL1351', 'CHEMBL428647',\n",
       "       'CHEMBL601719', 'CHEMBL413', 'CHEMBL1336', 'CHEMBL414804',\n",
       "       'CHEMBL553', 'CHEMBL888', 'CHEMBL325041', 'CHEMBL83',\n",
       "       'CHEMBL2103875', 'CHEMBL417', 'CHEMBL1231160', 'CHEMBL3137336',\n",
       "       'CHEMBL554', 'CHEMBL64925', 'CHEMBL553025'], dtype=object)"
      ]
     },
     "execution_count": 13,
     "metadata": {},
     "output_type": "execute_result"
    }
   ],
   "source": [
    "proCan.CHEMBL.unique()"
   ]
  },
  {
   "cell_type": "code",
   "execution_count": 6,
   "id": "53553f7d-12b0-440c-9d33-dd4a0cfde8f4",
   "metadata": {
    "execution": {
     "iopub.execute_input": "2023-09-19T05:16:11.916918Z",
     "iopub.status.busy": "2023-09-19T05:16:11.916918Z",
     "iopub.status.idle": "2023-09-19T05:16:11.930824Z",
     "shell.execute_reply": "2023-09-19T05:16:11.929815Z",
     "shell.execute_reply.started": "2023-09-19T05:16:11.916918Z"
    },
    "tags": []
   },
   "outputs": [],
   "source": [
    "bc_drug = bc['G_DrugResponse']\n",
    "bc_drug = bc_drug.merge(chembl, on='Drug' )\n",
    "bc_drug = bc_drug.set_index(['Drug', 'CHEMBL'])\n",
    "bc_drug = bc_drug.stack(dropna=True)"
   ]
  },
  {
   "cell_type": "code",
   "execution_count": 7,
   "id": "b7f0875e-3fb0-4028-a5dd-ca79d3f42a64",
   "metadata": {
    "execution": {
     "iopub.execute_input": "2023-09-19T05:16:11.932803Z",
     "iopub.status.busy": "2023-09-19T05:16:11.931806Z",
     "iopub.status.idle": "2023-09-19T05:16:11.946389Z",
     "shell.execute_reply": "2023-09-19T05:16:11.945396Z",
     "shell.execute_reply.started": "2023-09-19T05:16:11.932803Z"
    },
    "tags": []
   },
   "outputs": [],
   "source": [
    "df = bc_drug.index.to_frame( index=False)\n",
    "df['IC50'] = bc_drug.to_numpy()"
   ]
  },
  {
   "cell_type": "code",
   "execution_count": 8,
   "id": "4b6614fb-1095-49e7-8b93-f5a456911af0",
   "metadata": {
    "execution": {
     "iopub.execute_input": "2023-09-19T05:16:11.947385Z",
     "iopub.status.busy": "2023-09-19T05:16:11.946389Z",
     "iopub.status.idle": "2023-09-19T05:16:11.961182Z",
     "shell.execute_reply": "2023-09-19T05:16:11.960193Z",
     "shell.execute_reply.started": "2023-09-19T05:16:11.947385Z"
    },
    "tags": []
   },
   "outputs": [],
   "source": [
    "bc_drug = df"
   ]
  },
  {
   "cell_type": "code",
   "execution_count": 16,
   "id": "1578e661-e4b8-47bd-aef0-6c3656432568",
   "metadata": {
    "execution": {
     "iopub.execute_input": "2023-09-19T05:03:48.809051Z",
     "iopub.status.busy": "2023-09-19T05:03:48.809051Z",
     "iopub.status.idle": "2023-09-19T05:03:48.822654Z",
     "shell.execute_reply": "2023-09-19T05:03:48.821656Z",
     "shell.execute_reply.started": "2023-09-19T05:03:48.809051Z"
    },
    "tags": []
   },
   "outputs": [
    {
     "data": {
      "text/html": [
       "<div>\n",
       "<style scoped>\n",
       "    .dataframe tbody tr th:only-of-type {\n",
       "        vertical-align: middle;\n",
       "    }\n",
       "\n",
       "    .dataframe tbody tr th {\n",
       "        vertical-align: top;\n",
       "    }\n",
       "\n",
       "    .dataframe thead th {\n",
       "        text-align: right;\n",
       "    }\n",
       "</style>\n",
       "<table border=\"1\" class=\"dataframe\">\n",
       "  <thead>\n",
       "    <tr style=\"text-align: right;\">\n",
       "      <th></th>\n",
       "      <th>Drug</th>\n",
       "      <th>CHEMBL</th>\n",
       "      <th>2</th>\n",
       "      <th>IC50</th>\n",
       "    </tr>\n",
       "  </thead>\n",
       "  <tbody>\n",
       "    <tr>\n",
       "      <th>0</th>\n",
       "      <td>17-AAG</td>\n",
       "      <td>CHEMBL109480</td>\n",
       "      <td>184a1</td>\n",
       "      <td>7.93</td>\n",
       "    </tr>\n",
       "    <tr>\n",
       "      <th>1</th>\n",
       "      <td>17-AAG</td>\n",
       "      <td>CHEMBL109480</td>\n",
       "      <td>184b5</td>\n",
       "      <td>7.56</td>\n",
       "    </tr>\n",
       "    <tr>\n",
       "      <th>2</th>\n",
       "      <td>17-AAG</td>\n",
       "      <td>CHEMBL109480</td>\n",
       "      <td>600mpe</td>\n",
       "      <td>6.65</td>\n",
       "    </tr>\n",
       "    <tr>\n",
       "      <th>3</th>\n",
       "      <td>17-AAG</td>\n",
       "      <td>CHEMBL109480</td>\n",
       "      <td>au565</td>\n",
       "      <td>7.24</td>\n",
       "    </tr>\n",
       "    <tr>\n",
       "      <th>4</th>\n",
       "      <td>17-AAG</td>\n",
       "      <td>CHEMBL109480</td>\n",
       "      <td>bt474</td>\n",
       "      <td>5.84</td>\n",
       "    </tr>\n",
       "    <tr>\n",
       "      <th>...</th>\n",
       "      <td>...</td>\n",
       "      <td>...</td>\n",
       "      <td>...</td>\n",
       "      <td>...</td>\n",
       "    </tr>\n",
       "    <tr>\n",
       "      <th>3310</th>\n",
       "      <td>ZM447439</td>\n",
       "      <td>CHEMBL202721</td>\n",
       "      <td>sum225</td>\n",
       "      <td>4.98</td>\n",
       "    </tr>\n",
       "    <tr>\n",
       "      <th>3311</th>\n",
       "      <td>ZM447439</td>\n",
       "      <td>CHEMBL202721</td>\n",
       "      <td>sum229</td>\n",
       "      <td>5.93</td>\n",
       "    </tr>\n",
       "    <tr>\n",
       "      <th>3312</th>\n",
       "      <td>ZM447439</td>\n",
       "      <td>CHEMBL202721</td>\n",
       "      <td>sum52</td>\n",
       "      <td>5.46</td>\n",
       "    </tr>\n",
       "    <tr>\n",
       "      <th>3313</th>\n",
       "      <td>ZM447439</td>\n",
       "      <td>CHEMBL202721</td>\n",
       "      <td>t47d</td>\n",
       "      <td>4.94</td>\n",
       "    </tr>\n",
       "    <tr>\n",
       "      <th>3314</th>\n",
       "      <td>ZM447439</td>\n",
       "      <td>CHEMBL202721</td>\n",
       "      <td>zr751</td>\n",
       "      <td>5.47</td>\n",
       "    </tr>\n",
       "  </tbody>\n",
       "</table>\n",
       "<p>3315 rows × 4 columns</p>\n",
       "</div>"
      ],
      "text/plain": [
       "          Drug        CHEMBL       2  IC50\n",
       "0       17-AAG  CHEMBL109480   184a1  7.93\n",
       "1       17-AAG  CHEMBL109480   184b5  7.56\n",
       "2       17-AAG  CHEMBL109480  600mpe  6.65\n",
       "3       17-AAG  CHEMBL109480   au565  7.24\n",
       "4       17-AAG  CHEMBL109480   bt474  5.84\n",
       "...        ...           ...     ...   ...\n",
       "3310  ZM447439  CHEMBL202721  sum225  4.98\n",
       "3311  ZM447439  CHEMBL202721  sum229  5.93\n",
       "3312  ZM447439  CHEMBL202721   sum52  5.46\n",
       "3313  ZM447439  CHEMBL202721    t47d  4.94\n",
       "3314  ZM447439  CHEMBL202721   zr751  5.47\n",
       "\n",
       "[3315 rows x 4 columns]"
      ]
     },
     "execution_count": 16,
     "metadata": {},
     "output_type": "execute_result"
    }
   ],
   "source": [
    "bc_drug"
   ]
  },
  {
   "cell_type": "code",
   "execution_count": 9,
   "id": "e7025cfd-0acb-4839-8ee2-ccc57e85c00d",
   "metadata": {
    "execution": {
     "iopub.execute_input": "2023-09-19T05:16:11.962177Z",
     "iopub.status.busy": "2023-09-19T05:16:11.962177Z",
     "iopub.status.idle": "2023-09-19T05:16:11.977128Z",
     "shell.execute_reply": "2023-09-19T05:16:11.976141Z",
     "shell.execute_reply.started": "2023-09-19T05:16:11.962177Z"
    },
    "tags": []
   },
   "outputs": [
    {
     "data": {
      "text/html": [
       "<div>\n",
       "<style scoped>\n",
       "    .dataframe tbody tr th:only-of-type {\n",
       "        vertical-align: middle;\n",
       "    }\n",
       "\n",
       "    .dataframe tbody tr th {\n",
       "        vertical-align: top;\n",
       "    }\n",
       "\n",
       "    .dataframe thead th {\n",
       "        text-align: right;\n",
       "    }\n",
       "</style>\n",
       "<table border=\"1\" class=\"dataframe\">\n",
       "  <thead>\n",
       "    <tr style=\"text-align: right;\">\n",
       "      <th></th>\n",
       "      <th>Drug</th>\n",
       "      <th>CHEMBL</th>\n",
       "      <th>cell_line_name</th>\n",
       "      <th>IC50</th>\n",
       "      <th>ln_IC50</th>\n",
       "    </tr>\n",
       "  </thead>\n",
       "  <tbody>\n",
       "    <tr>\n",
       "      <th>0</th>\n",
       "      <td>17-AAG</td>\n",
       "      <td>CHEMBL109480</td>\n",
       "      <td>184a1</td>\n",
       "      <td>7.93</td>\n",
       "      <td>2.070653</td>\n",
       "    </tr>\n",
       "    <tr>\n",
       "      <th>1</th>\n",
       "      <td>17-AAG</td>\n",
       "      <td>CHEMBL109480</td>\n",
       "      <td>184b5</td>\n",
       "      <td>7.56</td>\n",
       "      <td>2.022871</td>\n",
       "    </tr>\n",
       "    <tr>\n",
       "      <th>2</th>\n",
       "      <td>17-AAG</td>\n",
       "      <td>CHEMBL109480</td>\n",
       "      <td>600mpe</td>\n",
       "      <td>6.65</td>\n",
       "      <td>1.894617</td>\n",
       "    </tr>\n",
       "    <tr>\n",
       "      <th>3</th>\n",
       "      <td>17-AAG</td>\n",
       "      <td>CHEMBL109480</td>\n",
       "      <td>au565</td>\n",
       "      <td>7.24</td>\n",
       "      <td>1.979621</td>\n",
       "    </tr>\n",
       "    <tr>\n",
       "      <th>4</th>\n",
       "      <td>17-AAG</td>\n",
       "      <td>CHEMBL109480</td>\n",
       "      <td>bt474</td>\n",
       "      <td>5.84</td>\n",
       "      <td>1.764731</td>\n",
       "    </tr>\n",
       "    <tr>\n",
       "      <th>...</th>\n",
       "      <td>...</td>\n",
       "      <td>...</td>\n",
       "      <td>...</td>\n",
       "      <td>...</td>\n",
       "      <td>...</td>\n",
       "    </tr>\n",
       "    <tr>\n",
       "      <th>3310</th>\n",
       "      <td>ZM447439</td>\n",
       "      <td>CHEMBL202721</td>\n",
       "      <td>sum225</td>\n",
       "      <td>4.98</td>\n",
       "      <td>1.605430</td>\n",
       "    </tr>\n",
       "    <tr>\n",
       "      <th>3311</th>\n",
       "      <td>ZM447439</td>\n",
       "      <td>CHEMBL202721</td>\n",
       "      <td>sum229</td>\n",
       "      <td>5.93</td>\n",
       "      <td>1.780024</td>\n",
       "    </tr>\n",
       "    <tr>\n",
       "      <th>3312</th>\n",
       "      <td>ZM447439</td>\n",
       "      <td>CHEMBL202721</td>\n",
       "      <td>sum52</td>\n",
       "      <td>5.46</td>\n",
       "      <td>1.697449</td>\n",
       "    </tr>\n",
       "    <tr>\n",
       "      <th>3313</th>\n",
       "      <td>ZM447439</td>\n",
       "      <td>CHEMBL202721</td>\n",
       "      <td>t47d</td>\n",
       "      <td>4.94</td>\n",
       "      <td>1.597365</td>\n",
       "    </tr>\n",
       "    <tr>\n",
       "      <th>3314</th>\n",
       "      <td>ZM447439</td>\n",
       "      <td>CHEMBL202721</td>\n",
       "      <td>zr751</td>\n",
       "      <td>5.47</td>\n",
       "      <td>1.699279</td>\n",
       "    </tr>\n",
       "  </tbody>\n",
       "</table>\n",
       "<p>3315 rows × 5 columns</p>\n",
       "</div>"
      ],
      "text/plain": [
       "          Drug        CHEMBL cell_line_name  IC50   ln_IC50\n",
       "0       17-AAG  CHEMBL109480          184a1  7.93  2.070653\n",
       "1       17-AAG  CHEMBL109480          184b5  7.56  2.022871\n",
       "2       17-AAG  CHEMBL109480         600mpe  6.65  1.894617\n",
       "3       17-AAG  CHEMBL109480          au565  7.24  1.979621\n",
       "4       17-AAG  CHEMBL109480          bt474  5.84  1.764731\n",
       "...        ...           ...            ...   ...       ...\n",
       "3310  ZM447439  CHEMBL202721         sum225  4.98  1.605430\n",
       "3311  ZM447439  CHEMBL202721         sum229  5.93  1.780024\n",
       "3312  ZM447439  CHEMBL202721          sum52  5.46  1.697449\n",
       "3313  ZM447439  CHEMBL202721           t47d  4.94  1.597365\n",
       "3314  ZM447439  CHEMBL202721          zr751  5.47  1.699279\n",
       "\n",
       "[3315 rows x 5 columns]"
      ]
     },
     "execution_count": 9,
     "metadata": {},
     "output_type": "execute_result"
    }
   ],
   "source": [
    "bc_drug.columns = ['Drug', 'CHEMBL', 'cell_line_name', 'IC50']\n",
    "bc_drug['ln_IC50'] = bc_drug.IC50.apply(np.log)\n",
    "bc_drug"
   ]
  },
  {
   "cell_type": "code",
   "execution_count": 18,
   "id": "44f7e367-05c0-4f75-873a-721825833705",
   "metadata": {
    "execution": {
     "iopub.execute_input": "2023-09-19T05:04:00.840612Z",
     "iopub.status.busy": "2023-09-19T05:04:00.840612Z",
     "iopub.status.idle": "2023-09-19T05:04:00.856192Z",
     "shell.execute_reply": "2023-09-19T05:04:00.855198Z",
     "shell.execute_reply.started": "2023-09-19T05:04:00.840612Z"
    },
    "tags": []
   },
   "outputs": [
    {
     "data": {
      "text/plain": [
       "CHEMBL325041     92\n",
       "CHEMBL319467     87\n",
       "CHEMBL1234354    49\n",
       "CHEMBL3545078    49\n",
       "CHEMBL1770916    49\n",
       "                 ..\n",
       "CHEMBL558642     42\n",
       "CHEMBL3137336    42\n",
       "CHEMBL1201182    40\n",
       "CHEMBL1173655    39\n",
       "CHEMBL1908360    39\n",
       "Name: CHEMBL, Length: 71, dtype: int64"
      ]
     },
     "execution_count": 18,
     "metadata": {},
     "output_type": "execute_result"
    }
   ],
   "source": [
    "bc_drug.CHEMBL.value_counts()"
   ]
  },
  {
   "cell_type": "code",
   "execution_count": 19,
   "id": "e2c936f4-f813-44a1-9adf-f70aba5e6b75",
   "metadata": {
    "execution": {
     "iopub.execute_input": "2023-09-19T05:04:05.529729Z",
     "iopub.status.busy": "2023-09-19T05:04:05.528703Z",
     "iopub.status.idle": "2023-09-19T05:04:05.553091Z",
     "shell.execute_reply": "2023-09-19T05:04:05.552101Z",
     "shell.execute_reply.started": "2023-09-19T05:04:05.529729Z"
    },
    "tags": []
   },
   "outputs": [],
   "source": [
    "bc_drug.to_csv('data/bc_drug_response.csv', index=False)"
   ]
  },
  {
   "cell_type": "markdown",
   "id": "23062526-f7a7-41cd-ac61-888bcfa1d4b1",
   "metadata": {
    "tags": []
   },
   "source": [
    "##### IC 50 distributions"
   ]
  },
  {
   "cell_type": "code",
   "execution_count": 61,
   "id": "a5a4f22d-e7d4-4698-b908-3cbc224f47ef",
   "metadata": {
    "execution": {
     "iopub.execute_input": "2023-09-19T02:28:32.230153Z",
     "iopub.status.busy": "2023-09-19T02:28:32.230153Z",
     "iopub.status.idle": "2023-09-19T02:28:32.342351Z",
     "shell.execute_reply": "2023-09-19T02:28:32.341276Z",
     "shell.execute_reply.started": "2023-09-19T02:28:32.230153Z"
    },
    "tags": []
   },
   "outputs": [
    {
     "data": {
      "text/plain": [
       "<Axes: >"
      ]
     },
     "execution_count": 61,
     "metadata": {},
     "output_type": "execute_result"
    },
    {
     "data": {
      "image/png": "[encoded data removed]",
      "text/plain": [
       "<Figure size 640x480 with 1 Axes>"
      ]
     },
     "metadata": {},
     "output_type": "display_data"
    }
   ],
   "source": [
    "bc_drug.IC50.hist()"
   ]
  },
  {
   "cell_type": "code",
   "execution_count": 68,
   "id": "bdb625dc-54ef-41b1-9bc0-5093dbb67b03",
   "metadata": {
    "execution": {
     "iopub.execute_input": "2023-09-19T02:32:03.420974Z",
     "iopub.status.busy": "2023-09-19T02:32:03.420974Z",
     "iopub.status.idle": "2023-09-19T02:32:03.531593Z",
     "shell.execute_reply": "2023-09-19T02:32:03.530603Z",
     "shell.execute_reply.started": "2023-09-19T02:32:03.420974Z"
    },
    "tags": []
   },
   "outputs": [
    {
     "data": {
      "text/plain": [
       "<Axes: >"
      ]
     },
     "execution_count": 68,
     "metadata": {},
     "output_type": "execute_result"
    },
    {
     "data": {
      "image/png": "[encoded data removed]",
      "text/plain": [
       "<Figure size 640x480 with 1 Axes>"
      ]
     },
     "metadata": {},
     "output_type": "display_data"
    }
   ],
   "source": [
    "bc_drug.ln_IC50.hist()"
   ]
  },
  {
   "cell_type": "code",
   "execution_count": 69,
   "id": "c9a09977-4a11-4dbb-b4d2-d4651809be41",
   "metadata": {
    "execution": {
     "iopub.execute_input": "2023-09-19T02:32:05.681171Z",
     "iopub.status.busy": "2023-09-19T02:32:05.681171Z",
     "iopub.status.idle": "2023-09-19T02:32:05.780427Z",
     "shell.execute_reply": "2023-09-19T02:32:05.779497Z",
     "shell.execute_reply.started": "2023-09-19T02:32:05.681171Z"
    },
    "tags": []
   },
   "outputs": [
    {
     "data": {
      "text/plain": [
       "<Axes: >"
      ]
     },
     "execution_count": 69,
     "metadata": {},
     "output_type": "execute_result"
    },
    {
     "data": {
      "image/png": "[encoded data removed]",
      "text/plain": [
       "<Figure size 640x480 with 1 Axes>"
      ]
     },
     "metadata": {},
     "output_type": "display_data"
    }
   ],
   "source": [
    "proCan[proCan.tissue=='Breast'].ln_IC50.hist()"
   ]
  },
  {
   "cell_type": "markdown",
   "id": "bd264201-339f-4327-84ca-6482f467b4be",
   "metadata": {
    "tags": []
   },
   "source": [
    "#### creating protein matrices"
   ]
  },
  {
   "cell_type": "code",
   "execution_count": 49,
   "id": "ce80a924-7b83-45e4-a8d2-59748252135b",
   "metadata": {
    "execution": {
     "iopub.execute_input": "2023-10-03T23:18:40.712123Z",
     "iopub.status.busy": "2023-10-03T23:18:40.712123Z",
     "iopub.status.idle": "2023-10-03T23:18:40.756791Z",
     "shell.execute_reply": "2023-10-03T23:18:40.756791Z",
     "shell.execute_reply.started": "2023-10-03T23:18:40.712123Z"
    },
    "tags": []
   },
   "outputs": [],
   "source": [
    "bc_protein = bc_protein.drop(['GeneName'], axis=1).set_index('UniprotID').transpose()\n",
    "bc_protein.index = bc_protein.index.str[:-2]\n",
    "bc_protein = bc_protein.groupby(level=0).mean(numeric_only=True)"
   ]
  },
  {
   "cell_type": "code",
   "execution_count": 50,
   "id": "73e16799-7280-4d09-87b7-ea2732c309c5",
   "metadata": {
    "execution": {
     "iopub.execute_input": "2023-10-03T23:18:40.757837Z",
     "iopub.status.busy": "2023-10-03T23:18:40.757837Z",
     "iopub.status.idle": "2023-10-03T23:18:40.773880Z",
     "shell.execute_reply": "2023-10-03T23:18:40.772883Z",
     "shell.execute_reply.started": "2023-10-03T23:18:40.757837Z"
    },
    "tags": []
   },
   "outputs": [],
   "source": [
    "bc_protein['Cell_Line'] = bc_protein.index"
   ]
  },
  {
   "cell_type": "code",
   "execution_count": 51,
   "id": "ea3b1eed-89ac-4174-aa9d-0745eba0a906",
   "metadata": {
    "execution": {
     "iopub.execute_input": "2023-10-03T23:18:47.286139Z",
     "iopub.status.busy": "2023-10-03T23:18:47.286139Z",
     "iopub.status.idle": "2023-10-03T23:18:47.307743Z",
     "shell.execute_reply": "2023-10-03T23:18:47.306754Z",
     "shell.execute_reply.started": "2023-10-03T23:18:47.286139Z"
    },
    "tags": []
   },
   "outputs": [],
   "source": [
    "bc_protein = bc_protein.set_index('Cell_Line')\n",
    "#x = x.set_index('Cell_Line')"
   ]
  },
  {
   "cell_type": "code",
   "execution_count": 52,
   "id": "66cc6fa5-b038-4668-8336-8074e26012c6",
   "metadata": {
    "execution": {
     "iopub.execute_input": "2023-10-03T23:18:50.022394Z",
     "iopub.status.busy": "2023-10-03T23:18:50.021395Z",
     "iopub.status.idle": "2023-10-03T23:18:50.037347Z",
     "shell.execute_reply": "2023-10-03T23:18:50.036353Z",
     "shell.execute_reply.started": "2023-10-03T23:18:50.022394Z"
    },
    "tags": []
   },
   "outputs": [],
   "source": [
    "bc_protein.iloc[:,:] = np.log2(bc_protein.to_numpy())"
   ]
  },
  {
   "cell_type": "code",
   "execution_count": null,
   "id": "ab72b21d-5fb1-44cc-adb9-1bfc48d7e465",
   "metadata": {
    "execution": {
     "iopub.status.busy": "2023-10-03T23:02:11.970392Z",
     "iopub.status.idle": "2023-10-03T23:02:11.970392Z",
     "shell.execute_reply": "2023-10-03T23:02:11.970392Z",
     "shell.execute_reply.started": "2023-10-03T23:02:11.970392Z"
    },
    "tags": []
   },
   "outputs": [],
   "source": [
    "x.columns = [p.split('.')[0] for p in x.columns.to_list()]"
   ]
  },
  {
   "cell_type": "code",
   "execution_count": 18,
   "id": "57484ddf-5016-48a0-9080-fbe4c17e2018",
   "metadata": {
    "execution": {
     "iopub.execute_input": "2023-09-19T05:20:00.393548Z",
     "iopub.status.busy": "2023-09-19T05:20:00.393548Z",
     "iopub.status.idle": "2023-09-19T05:20:01.022080Z",
     "shell.execute_reply": "2023-09-19T05:20:01.021145Z",
     "shell.execute_reply.started": "2023-09-19T05:20:00.393548Z"
    },
    "tags": []
   },
   "outputs": [
    {
     "data": {
      "text/plain": [
       "(5331, 5331)"
      ]
     },
     "execution_count": 18,
     "metadata": {},
     "output_type": "execute_result"
    }
   ],
   "source": [
    "pc_mask = [p in bc_protein.columns.to_list() for p in x.columns.to_list()]\n",
    "bc_mask = [p in x.columns.to_list() for p in bc_protein.columns.to_list()]\n",
    "sum(pc_mask), sum(bc_mask)"
   ]
  },
  {
   "cell_type": "code",
   "execution_count": 24,
   "id": "40c254e6-cd47-4772-aeaf-383bb2f5ee07",
   "metadata": {
    "execution": {
     "iopub.execute_input": "2023-09-19T05:48:12.013280Z",
     "iopub.status.busy": "2023-09-19T05:48:12.012281Z",
     "iopub.status.idle": "2023-09-19T05:48:12.021251Z",
     "shell.execute_reply": "2023-09-19T05:48:12.021251Z",
     "shell.execute_reply.started": "2023-09-19T05:48:12.013280Z"
    },
    "tags": []
   },
   "outputs": [],
   "source": [
    "pc_cell_line = proCan.cell_line_name.unique() # this does not need to be done, as the inner merging in create data will make sure we have the correct celll lines downstream"
   ]
  },
  {
   "cell_type": "code",
   "execution_count": 26,
   "id": "bb6adcdd-5ddf-4a15-a875-a60a7cba82fc",
   "metadata": {
    "execution": {
     "iopub.execute_input": "2023-09-19T05:48:30.373524Z",
     "iopub.status.busy": "2023-09-19T05:48:30.372529Z",
     "iopub.status.idle": "2023-09-19T05:48:30.422949Z",
     "shell.execute_reply": "2023-09-19T05:48:30.421952Z",
     "shell.execute_reply.started": "2023-09-19T05:48:30.372529Z"
    },
    "tags": []
   },
   "outputs": [],
   "source": [
    "x = x.loc[[c in pc_cell_line for c in x.index.to_list()]]"
   ]
  },
  {
   "cell_type": "code",
   "execution_count": 27,
   "id": "ae37aed6-9e1c-42a8-b1ef-b16b1756958a",
   "metadata": {
    "execution": {
     "iopub.execute_input": "2023-09-19T05:48:32.692275Z",
     "iopub.status.busy": "2023-09-19T05:48:32.692275Z",
     "iopub.status.idle": "2023-09-19T05:48:34.440229Z",
     "shell.execute_reply": "2023-09-19T05:48:34.440229Z",
     "shell.execute_reply.started": "2023-09-19T05:48:32.692275Z"
    },
    "tags": []
   },
   "outputs": [],
   "source": [
    "x[x.columns[pc_mask]].to_csv('data/pc_protein.csv')"
   ]
  },
  {
   "cell_type": "code",
   "execution_count": 22,
   "id": "dc20741d-ed18-4088-9fd2-9923808ae8ac",
   "metadata": {
    "execution": {
     "iopub.execute_input": "2023-09-19T05:21:23.846910Z",
     "iopub.status.busy": "2023-09-19T05:21:23.846910Z",
     "iopub.status.idle": "2023-09-19T05:21:24.075244Z",
     "shell.execute_reply": "2023-09-19T05:21:24.075244Z",
     "shell.execute_reply.started": "2023-09-19T05:21:23.846910Z"
    },
    "tags": []
   },
   "outputs": [],
   "source": [
    "bc_protein[bc_protein.columns[bc_mask]].to_csv('data/bc_protein.csv')"
   ]
  },
  {
   "cell_type": "markdown",
   "id": "473a00ae-ad51-4b98-9a51-f7eabdbe6ebf",
   "metadata": {
    "jp-MarkdownHeadingCollapsed": true,
    "tags": []
   },
   "source": [
    "#### Uniprot to prot name file"
   ]
  },
  {
   "cell_type": "code",
   "execution_count": 5,
   "id": "443c991b-6ded-49f7-b65e-bd390c3b6ef2",
   "metadata": {
    "execution": {
     "iopub.execute_input": "2023-09-20T06:36:26.917571Z",
     "iopub.status.busy": "2023-09-20T06:36:26.916575Z",
     "iopub.status.idle": "2023-09-20T06:36:26.923659Z",
     "shell.execute_reply": "2023-09-20T06:36:26.923659Z",
     "shell.execute_reply.started": "2023-09-20T06:36:26.917571Z"
    },
    "tags": []
   },
   "outputs": [],
   "source": [
    "prots = x.columns[1:].to_frame()"
   ]
  },
  {
   "cell_type": "code",
   "execution_count": 12,
   "id": "d76c9add-f1bf-4e27-a29f-5f95d2956337",
   "metadata": {
    "execution": {
     "iopub.execute_input": "2023-09-20T06:39:04.682773Z",
     "iopub.status.busy": "2023-09-20T06:39:04.682773Z",
     "iopub.status.idle": "2023-09-20T06:39:04.706713Z",
     "shell.execute_reply": "2023-09-20T06:39:04.706713Z",
     "shell.execute_reply.started": "2023-09-20T06:39:04.682773Z"
    },
    "tags": []
   },
   "outputs": [],
   "source": [
    "prots['UniProt'] = prots[0].str.split('.', expand=True)"
   ]
  },
  {
   "cell_type": "code",
   "execution_count": 13,
   "id": "ba85a898-936b-41cf-8185-38f28ba2e3ab",
   "metadata": {
    "execution": {
     "iopub.execute_input": "2023-09-20T06:39:44.289645Z",
     "iopub.status.busy": "2023-09-20T06:39:44.289645Z",
     "iopub.status.idle": "2023-09-20T06:39:44.313350Z",
     "shell.execute_reply": "2023-09-20T06:39:44.312352Z",
     "shell.execute_reply.started": "2023-09-20T06:39:44.289645Z"
    },
    "tags": []
   },
   "outputs": [],
   "source": [
    "prots['Protein'] = prots[1].str.split('_', expand=True)[0]"
   ]
  },
  {
   "cell_type": "code",
   "execution_count": 16,
   "id": "e4245865-9ebe-4209-93c2-d27f0a1ccfbe",
   "metadata": {
    "execution": {
     "iopub.execute_input": "2023-09-20T06:41:09.082319Z",
     "iopub.status.busy": "2023-09-20T06:41:09.081287Z",
     "iopub.status.idle": "2023-09-20T06:41:09.100676Z",
     "shell.execute_reply": "2023-09-20T06:41:09.100676Z",
     "shell.execute_reply.started": "2023-09-20T06:41:09.082319Z"
    },
    "tags": []
   },
   "outputs": [],
   "source": [
    "prots.drop(columns=[0,1]).to_csv('snakemake/data/uniprot_protein.csv', index=False)"
   ]
  },
  {
   "cell_type": "markdown",
   "id": "e08ded26-5594-42a7-b28a-f4604f37631a",
   "metadata": {
    "jp-MarkdownHeadingCollapsed": true,
    "tags": []
   },
   "source": [
    "### drug and tissue filtering"
   ]
  },
  {
   "cell_type": "code",
   "execution_count": 12,
   "id": "3047144b-e6fe-4873-ab35-69e7e6399574",
   "metadata": {
    "execution": {
     "iopub.execute_input": "2023-09-14T00:42:34.556557Z",
     "iopub.status.busy": "2023-09-14T00:42:34.556557Z",
     "iopub.status.idle": "2023-09-14T00:42:34.600787Z",
     "shell.execute_reply": "2023-09-14T00:42:34.599790Z",
     "shell.execute_reply.started": "2023-09-14T00:42:34.556557Z"
    },
    "tags": []
   },
   "outputs": [
    {
     "data": {
      "text/html": [
       "<div>\n",
       "<style scoped>\n",
       "    .dataframe tbody tr th:only-of-type {\n",
       "        vertical-align: middle;\n",
       "    }\n",
       "\n",
       "    .dataframe tbody tr th {\n",
       "        vertical-align: top;\n",
       "    }\n",
       "\n",
       "    .dataframe thead th {\n",
       "        text-align: right;\n",
       "    }\n",
       "</style>\n",
       "<table border=\"1\" class=\"dataframe\">\n",
       "  <thead>\n",
       "    <tr style=\"text-align: right;\">\n",
       "      <th></th>\n",
       "      <th>drug_id</th>\n",
       "      <th>putative_target</th>\n",
       "      <th>CHEMBL</th>\n",
       "      <th>cell_line_name</th>\n",
       "      <th>drug_name</th>\n",
       "      <th>putative_gene_target</th>\n",
       "      <th>dataset</th>\n",
       "      <th>ln_IC50</th>\n",
       "      <th>drug_owner</th>\n",
       "      <th>max_screening_conc</th>\n",
       "      <th>target_pathway</th>\n",
       "      <th>tissue</th>\n",
       "    </tr>\n",
       "  </thead>\n",
       "  <tbody>\n",
       "    <tr>\n",
       "      <th>0</th>\n",
       "      <td>1007</td>\n",
       "      <td>Microtubule stabiliser</td>\n",
       "      <td>CHEMBL92</td>\n",
       "      <td>5637</td>\n",
       "      <td>Docetaxel</td>\n",
       "      <td>NaN</td>\n",
       "      <td>GDSC2</td>\n",
       "      <td>-6.011902</td>\n",
       "      <td>GDSC</td>\n",
       "      <td>0.0125</td>\n",
       "      <td>Mitosis</td>\n",
       "      <td>Bladder</td>\n",
       "    </tr>\n",
       "    <tr>\n",
       "      <th>1</th>\n",
       "      <td>1007</td>\n",
       "      <td>Microtubule stabiliser</td>\n",
       "      <td>CHEMBL92</td>\n",
       "      <td>201T</td>\n",
       "      <td>Docetaxel</td>\n",
       "      <td>NaN</td>\n",
       "      <td>GDSC2</td>\n",
       "      <td>-5.263725</td>\n",
       "      <td>GDSC</td>\n",
       "      <td>0.0125</td>\n",
       "      <td>Mitosis</td>\n",
       "      <td>Lung</td>\n",
       "    </tr>\n",
       "    <tr>\n",
       "      <th>2</th>\n",
       "      <td>1007</td>\n",
       "      <td>Microtubule stabiliser</td>\n",
       "      <td>CHEMBL92</td>\n",
       "      <td>22RV1</td>\n",
       "      <td>Docetaxel</td>\n",
       "      <td>NaN</td>\n",
       "      <td>GDSC2</td>\n",
       "      <td>-3.534340</td>\n",
       "      <td>GDSC</td>\n",
       "      <td>0.0125</td>\n",
       "      <td>Mitosis</td>\n",
       "      <td>Prostate</td>\n",
       "    </tr>\n",
       "    <tr>\n",
       "      <th>3</th>\n",
       "      <td>1007</td>\n",
       "      <td>Microtubule stabiliser</td>\n",
       "      <td>CHEMBL92</td>\n",
       "      <td>23132-87</td>\n",
       "      <td>Docetaxel</td>\n",
       "      <td>NaN</td>\n",
       "      <td>GDSC2</td>\n",
       "      <td>-4.802981</td>\n",
       "      <td>GDSC</td>\n",
       "      <td>0.0125</td>\n",
       "      <td>Mitosis</td>\n",
       "      <td>Stomach</td>\n",
       "    </tr>\n",
       "    <tr>\n",
       "      <th>4</th>\n",
       "      <td>1007</td>\n",
       "      <td>Microtubule stabiliser</td>\n",
       "      <td>CHEMBL92</td>\n",
       "      <td>42-MG-BA</td>\n",
       "      <td>Docetaxel</td>\n",
       "      <td>NaN</td>\n",
       "      <td>GDSC2</td>\n",
       "      <td>-4.954833</td>\n",
       "      <td>GDSC</td>\n",
       "      <td>0.0125</td>\n",
       "      <td>Mitosis</td>\n",
       "      <td>Central Nervous System</td>\n",
       "    </tr>\n",
       "    <tr>\n",
       "      <th>...</th>\n",
       "      <td>...</td>\n",
       "      <td>...</td>\n",
       "      <td>...</td>\n",
       "      <td>...</td>\n",
       "      <td>...</td>\n",
       "      <td>...</td>\n",
       "      <td>...</td>\n",
       "      <td>...</td>\n",
       "      <td>...</td>\n",
       "      <td>...</td>\n",
       "      <td>...</td>\n",
       "      <td>...</td>\n",
       "    </tr>\n",
       "    <tr>\n",
       "      <th>25187</th>\n",
       "      <td>2106</td>\n",
       "      <td>AKT1, AKT2, AKT3</td>\n",
       "      <td>CHEMBL3137336</td>\n",
       "      <td>WM278</td>\n",
       "      <td>Uprosertib</td>\n",
       "      <td>AKT1;AKT2;AKT3</td>\n",
       "      <td>GDSC2</td>\n",
       "      <td>2.215269</td>\n",
       "      <td>GDSC</td>\n",
       "      <td>10.0000</td>\n",
       "      <td>PI3K/MTOR signaling</td>\n",
       "      <td>Skin</td>\n",
       "    </tr>\n",
       "    <tr>\n",
       "      <th>25188</th>\n",
       "      <td>2106</td>\n",
       "      <td>AKT1, AKT2, AKT3</td>\n",
       "      <td>CHEMBL3137336</td>\n",
       "      <td>WM35</td>\n",
       "      <td>Uprosertib</td>\n",
       "      <td>AKT1;AKT2;AKT3</td>\n",
       "      <td>GDSC2</td>\n",
       "      <td>2.572707</td>\n",
       "      <td>GDSC</td>\n",
       "      <td>10.0000</td>\n",
       "      <td>PI3K/MTOR signaling</td>\n",
       "      <td>Skin</td>\n",
       "    </tr>\n",
       "    <tr>\n",
       "      <th>25189</th>\n",
       "      <td>2106</td>\n",
       "      <td>AKT1, AKT2, AKT3</td>\n",
       "      <td>CHEMBL3137336</td>\n",
       "      <td>WM793B</td>\n",
       "      <td>Uprosertib</td>\n",
       "      <td>AKT1;AKT2;AKT3</td>\n",
       "      <td>GDSC2</td>\n",
       "      <td>1.661006</td>\n",
       "      <td>GDSC</td>\n",
       "      <td>10.0000</td>\n",
       "      <td>PI3K/MTOR signaling</td>\n",
       "      <td>Skin</td>\n",
       "    </tr>\n",
       "    <tr>\n",
       "      <th>25190</th>\n",
       "      <td>2106</td>\n",
       "      <td>AKT1, AKT2, AKT3</td>\n",
       "      <td>CHEMBL3137336</td>\n",
       "      <td>YAPC</td>\n",
       "      <td>Uprosertib</td>\n",
       "      <td>AKT1;AKT2;AKT3</td>\n",
       "      <td>GDSC2</td>\n",
       "      <td>6.535078</td>\n",
       "      <td>GDSC</td>\n",
       "      <td>10.0000</td>\n",
       "      <td>PI3K/MTOR signaling</td>\n",
       "      <td>Pancreas</td>\n",
       "    </tr>\n",
       "    <tr>\n",
       "      <th>25191</th>\n",
       "      <td>2106</td>\n",
       "      <td>AKT1, AKT2, AKT3</td>\n",
       "      <td>CHEMBL3137336</td>\n",
       "      <td>YH-13</td>\n",
       "      <td>Uprosertib</td>\n",
       "      <td>AKT1;AKT2;AKT3</td>\n",
       "      <td>GDSC2</td>\n",
       "      <td>2.432253</td>\n",
       "      <td>GDSC</td>\n",
       "      <td>10.0000</td>\n",
       "      <td>PI3K/MTOR signaling</td>\n",
       "      <td>Central Nervous System</td>\n",
       "    </tr>\n",
       "  </tbody>\n",
       "</table>\n",
       "<p>25192 rows × 12 columns</p>\n",
       "</div>"
      ],
      "text/plain": [
       "       drug_id         putative_target         CHEMBL cell_line_name  \\\n",
       "0         1007  Microtubule stabiliser       CHEMBL92           5637   \n",
       "1         1007  Microtubule stabiliser       CHEMBL92           201T   \n",
       "2         1007  Microtubule stabiliser       CHEMBL92          22RV1   \n",
       "3         1007  Microtubule stabiliser       CHEMBL92       23132-87   \n",
       "4         1007  Microtubule stabiliser       CHEMBL92       42-MG-BA   \n",
       "...        ...                     ...            ...            ...   \n",
       "25187     2106        AKT1, AKT2, AKT3  CHEMBL3137336          WM278   \n",
       "25188     2106        AKT1, AKT2, AKT3  CHEMBL3137336           WM35   \n",
       "25189     2106        AKT1, AKT2, AKT3  CHEMBL3137336         WM793B   \n",
       "25190     2106        AKT1, AKT2, AKT3  CHEMBL3137336           YAPC   \n",
       "25191     2106        AKT1, AKT2, AKT3  CHEMBL3137336          YH-13   \n",
       "\n",
       "        drug_name putative_gene_target dataset   ln_IC50 drug_owner  \\\n",
       "0       Docetaxel                  NaN   GDSC2 -6.011902       GDSC   \n",
       "1       Docetaxel                  NaN   GDSC2 -5.263725       GDSC   \n",
       "2       Docetaxel                  NaN   GDSC2 -3.534340       GDSC   \n",
       "3       Docetaxel                  NaN   GDSC2 -4.802981       GDSC   \n",
       "4       Docetaxel                  NaN   GDSC2 -4.954833       GDSC   \n",
       "...           ...                  ...     ...       ...        ...   \n",
       "25187  Uprosertib       AKT1;AKT2;AKT3   GDSC2  2.215269       GDSC   \n",
       "25188  Uprosertib       AKT1;AKT2;AKT3   GDSC2  2.572707       GDSC   \n",
       "25189  Uprosertib       AKT1;AKT2;AKT3   GDSC2  1.661006       GDSC   \n",
       "25190  Uprosertib       AKT1;AKT2;AKT3   GDSC2  6.535078       GDSC   \n",
       "25191  Uprosertib       AKT1;AKT2;AKT3   GDSC2  2.432253       GDSC   \n",
       "\n",
       "       max_screening_conc       target_pathway                  tissue  \n",
       "0                  0.0125              Mitosis                 Bladder  \n",
       "1                  0.0125              Mitosis                    Lung  \n",
       "2                  0.0125              Mitosis                Prostate  \n",
       "3                  0.0125              Mitosis                 Stomach  \n",
       "4                  0.0125              Mitosis  Central Nervous System  \n",
       "...                   ...                  ...                     ...  \n",
       "25187             10.0000  PI3K/MTOR signaling                    Skin  \n",
       "25188             10.0000  PI3K/MTOR signaling                    Skin  \n",
       "25189             10.0000  PI3K/MTOR signaling                    Skin  \n",
       "25190             10.0000  PI3K/MTOR signaling                Pancreas  \n",
       "25191             10.0000  PI3K/MTOR signaling  Central Nervous System  \n",
       "\n",
       "[25192 rows x 12 columns]"
      ]
     },
     "execution_count": 12,
     "metadata": {},
     "output_type": "execute_result"
    }
   ],
   "source": [
    "file_proCan = 'data/subset_drug_response.csv' # calling the table that I created in this notebook\n",
    "proCan = pd.read_csv(file_proCan, usecols=['drug_id','CHEMBL', 'cell_line_name', 'tissue', 'ln_IC50', 'drug_name', 'max_screening_conc', 'drug_owner', 'dataset','putative_target', 'putative_gene_target', 'target_pathway'])\n",
    "proCan"
   ]
  },
  {
   "cell_type": "code",
   "execution_count": 16,
   "id": "879fc7fd-03a7-4b2e-b0c3-138e587e198e",
   "metadata": {
    "execution": {
     "iopub.execute_input": "2023-09-14T00:43:08.548756Z",
     "iopub.status.busy": "2023-09-14T00:43:08.548756Z",
     "iopub.status.idle": "2023-09-14T00:43:08.581077Z",
     "shell.execute_reply": "2023-09-14T00:43:08.580386Z",
     "shell.execute_reply.started": "2023-09-14T00:43:08.548756Z"
    },
    "tags": []
   },
   "outputs": [
    {
     "name": "stderr",
     "output_type": "stream",
     "text": [
      "C:\\Users\\wen068\\AppData\\Local\\Temp\\ipykernel_16708\\3752269035.py:2: UserWarning: This pattern has match groups. To actually get the groups, use str.extract.\n",
      "  proCan = proCan[~proCan.drug_name.str.contains('(0.001)')]\n"
     ]
    }
   ],
   "source": [
    "proCan = proCan[~proCan.drug_name.str.contains('Cyclophosphamide')]\n",
    "proCan = proCan[~proCan.drug_name.str.contains('(0.001)')]"
   ]
  },
  {
   "cell_type": "code",
   "execution_count": 10,
   "id": "0a6103cc-8cf3-43d5-beb5-f5c944858942",
   "metadata": {
    "execution": {
     "iopub.execute_input": "2023-09-19T00:59:25.218150Z",
     "iopub.status.busy": "2023-09-19T00:59:25.218150Z",
     "iopub.status.idle": "2023-09-19T00:59:25.235133Z",
     "shell.execute_reply": "2023-09-19T00:59:25.234166Z",
     "shell.execute_reply.started": "2023-09-19T00:59:25.218150Z"
    },
    "tags": []
   },
   "outputs": [
    {
     "data": {
      "text/plain": [
       "ZM447439          819\n",
       "Afatinib          818\n",
       "Pevonedistat      818\n",
       "Dactolisib        818\n",
       "Tamoxifen         818\n",
       "Nutlin-3a (-)     818\n",
       "Docetaxel         818\n",
       "Vorinostat        818\n",
       "Gefitinib         818\n",
       "Trametinib        818\n",
       "MG-132            817\n",
       "Methotrexate      815\n",
       "Lestaurtinib      814\n",
       "Oxaliplatin       814\n",
       "Tanespimycin      813\n",
       "Bosutinib         813\n",
       "Selumetinib       813\n",
       "5-Fluorouracil    813\n",
       "Lapatinib         813\n",
       "Crizotinib        813\n",
       "Epirubicin        808\n",
       "Paclitaxel        808\n",
       "Erlotinib         808\n",
       "Sorafenib         808\n",
       "Bortezomib        807\n",
       "Gemcitabine       807\n",
       "Temsirolimus      806\n",
       "Vinorelbine       805\n",
       "Rapamycin         803\n",
       "Uprosertib        802\n",
       "Carboplatin       795\n",
       "Name: drug_name, dtype: int64"
      ]
     },
     "execution_count": 10,
     "metadata": {},
     "output_type": "execute_result"
    }
   ],
   "source": [
    "proCan.drug_name.value_counts()"
   ]
  },
  {
   "cell_type": "code",
   "execution_count": 11,
   "id": "2958b130-486e-4cbc-be68-040a03bd297a",
   "metadata": {
    "execution": {
     "iopub.execute_input": "2023-09-19T00:59:35.507368Z",
     "iopub.status.busy": "2023-09-19T00:59:35.507368Z",
     "iopub.status.idle": "2023-09-19T00:59:35.545245Z",
     "shell.execute_reply": "2023-09-19T00:59:35.544327Z",
     "shell.execute_reply.started": "2023-09-19T00:59:35.507368Z"
    },
    "tags": []
   },
   "outputs": [
    {
     "data": {
      "text/html": [
       "<div>\n",
       "<style scoped>\n",
       "    .dataframe tbody tr th:only-of-type {\n",
       "        vertical-align: middle;\n",
       "    }\n",
       "\n",
       "    .dataframe tbody tr th {\n",
       "        vertical-align: top;\n",
       "    }\n",
       "\n",
       "    .dataframe thead th {\n",
       "        text-align: right;\n",
       "    }\n",
       "</style>\n",
       "<table border=\"1\" class=\"dataframe\">\n",
       "  <thead>\n",
       "    <tr style=\"text-align: right;\">\n",
       "      <th></th>\n",
       "      <th>CHEMBL</th>\n",
       "      <th>putative_target</th>\n",
       "      <th>putative_gene_target</th>\n",
       "      <th>target_pathway</th>\n",
       "      <th>drug_name</th>\n",
       "    </tr>\n",
       "  </thead>\n",
       "  <tbody>\n",
       "    <tr>\n",
       "      <th>5702</th>\n",
       "      <td>CHEMBL109480</td>\n",
       "      <td>HSP90</td>\n",
       "      <td>HSP90AA1;HSP90AB1</td>\n",
       "      <td>Protein stability and degradation</td>\n",
       "      <td>Tanespimycin</td>\n",
       "    </tr>\n",
       "    <tr>\n",
       "      <th>6515</th>\n",
       "      <td>CHEMBL1173655</td>\n",
       "      <td>EGFR, ERBB2</td>\n",
       "      <td>EGFR;ERBB2</td>\n",
       "      <td>EGFR signaling</td>\n",
       "      <td>Afatinib</td>\n",
       "    </tr>\n",
       "    <tr>\n",
       "      <th>3269</th>\n",
       "      <td>CHEMBL1201182</td>\n",
       "      <td>MTOR</td>\n",
       "      <td>MTOR</td>\n",
       "      <td>PI3K/MTOR signaling</td>\n",
       "      <td>Temsirolimus</td>\n",
       "    </tr>\n",
       "    <tr>\n",
       "      <th>21121</th>\n",
       "      <td>CHEMBL1231160</td>\n",
       "      <td>NAE</td>\n",
       "      <td>NAE1</td>\n",
       "      <td>Other</td>\n",
       "      <td>Pevonedistat</td>\n",
       "    </tr>\n",
       "    <tr>\n",
       "      <th>14617</th>\n",
       "      <td>CHEMBL1336</td>\n",
       "      <td>PDGFR, KIT, VEGFR, RAF</td>\n",
       "      <td>FLT1;KIT;PDGFRA;PDGFRB;RAF1</td>\n",
       "      <td>Other, kinases</td>\n",
       "      <td>Sorafenib</td>\n",
       "    </tr>\n",
       "    <tr>\n",
       "      <th>11398</th>\n",
       "      <td>CHEMBL1351</td>\n",
       "      <td>DNA akylating agent</td>\n",
       "      <td>NaN</td>\n",
       "      <td>DNA replication</td>\n",
       "      <td>Carboplatin</td>\n",
       "    </tr>\n",
       "    <tr>\n",
       "      <th>9788</th>\n",
       "      <td>CHEMBL1614701</td>\n",
       "      <td>MEK1, MEK2</td>\n",
       "      <td>MAP2K1;MAP2K2</td>\n",
       "      <td>ERK MAPK signaling</td>\n",
       "      <td>Selumetinib</td>\n",
       "    </tr>\n",
       "    <tr>\n",
       "      <th>10585</th>\n",
       "      <td>CHEMBL185</td>\n",
       "      <td>Antimetabolite (DNA &amp; RNA)</td>\n",
       "      <td>NaN</td>\n",
       "      <td>Other</td>\n",
       "      <td>5-Fluorouracil</td>\n",
       "    </tr>\n",
       "    <tr>\n",
       "      <th>8970</th>\n",
       "      <td>CHEMBL1879463</td>\n",
       "      <td>PI3K (class 1), MTORC1, MTORC2</td>\n",
       "      <td>PIK3CA;PIK3CB;PIK3CD;PIK3CG;MTOR</td>\n",
       "      <td>PI3K/MTOR signaling</td>\n",
       "      <td>Dactolisib</td>\n",
       "    </tr>\n",
       "    <tr>\n",
       "      <th>7333</th>\n",
       "      <td>CHEMBL191334</td>\n",
       "      <td>MDM2</td>\n",
       "      <td>MDM2</td>\n",
       "      <td>p53 pathway</td>\n",
       "      <td>Nutlin-3a (-)</td>\n",
       "    </tr>\n",
       "    <tr>\n",
       "      <th>8151</th>\n",
       "      <td>CHEMBL202721</td>\n",
       "      <td>AURKA, AURKB</td>\n",
       "      <td>AURKA;AURKB</td>\n",
       "      <td>Mitosis</td>\n",
       "      <td>ZM447439</td>\n",
       "    </tr>\n",
       "    <tr>\n",
       "      <th>19479</th>\n",
       "      <td>CHEMBL2103875</td>\n",
       "      <td>MEK1, MEK2</td>\n",
       "      <td>MAP2K1;MAP2K2</td>\n",
       "      <td>ERK MAPK signaling</td>\n",
       "      <td>Trametinib</td>\n",
       "    </tr>\n",
       "    <tr>\n",
       "      <th>4075</th>\n",
       "      <td>CHEMBL288441</td>\n",
       "      <td>SRC, ABL, TEC</td>\n",
       "      <td>ABL1;SRC;TEC</td>\n",
       "      <td>Other, kinases</td>\n",
       "      <td>Bosutinib</td>\n",
       "    </tr>\n",
       "    <tr>\n",
       "      <th>21939</th>\n",
       "      <td>CHEMBL3137336</td>\n",
       "      <td>AKT1, AKT2, AKT3</td>\n",
       "      <td>AKT1;AKT2;AKT3</td>\n",
       "      <td>PI3K/MTOR signaling</td>\n",
       "      <td>Uprosertib</td>\n",
       "    </tr>\n",
       "    <tr>\n",
       "      <th>17854</th>\n",
       "      <td>CHEMBL325041</td>\n",
       "      <td>Proteasome</td>\n",
       "      <td>NaN</td>\n",
       "      <td>Protein stability and degradation</td>\n",
       "      <td>Bortezomib</td>\n",
       "    </tr>\n",
       "    <tr>\n",
       "      <th>818</th>\n",
       "      <td>CHEMBL34259</td>\n",
       "      <td>Antimetabolite</td>\n",
       "      <td>DHFR</td>\n",
       "      <td>DNA replication</td>\n",
       "      <td>Methotrexate</td>\n",
       "    </tr>\n",
       "    <tr>\n",
       "      <th>13814</th>\n",
       "      <td>CHEMBL413</td>\n",
       "      <td>MTORC1</td>\n",
       "      <td>MTOR</td>\n",
       "      <td>PI3K/MTOR signaling</td>\n",
       "      <td>Rapamycin</td>\n",
       "    </tr>\n",
       "    <tr>\n",
       "      <th>15425</th>\n",
       "      <td>CHEMBL414804</td>\n",
       "      <td>DNA alkylating agent</td>\n",
       "      <td>NaN</td>\n",
       "      <td>DNA replication</td>\n",
       "      <td>Oxaliplatin</td>\n",
       "    </tr>\n",
       "    <tr>\n",
       "      <th>20313</th>\n",
       "      <td>CHEMBL417</td>\n",
       "      <td>Anthracycline</td>\n",
       "      <td>TOP2A</td>\n",
       "      <td>DNA replication</td>\n",
       "      <td>Epirubicin</td>\n",
       "    </tr>\n",
       "    <tr>\n",
       "      <th>12193</th>\n",
       "      <td>CHEMBL428647</td>\n",
       "      <td>Microtubule stabiliser</td>\n",
       "      <td>BCL2;TUBB1</td>\n",
       "      <td>Mitosis</td>\n",
       "      <td>Paclitaxel</td>\n",
       "    </tr>\n",
       "    <tr>\n",
       "      <th>16239</th>\n",
       "      <td>CHEMBL553</td>\n",
       "      <td>EGFR</td>\n",
       "      <td>EGFR</td>\n",
       "      <td>EGFR signaling</td>\n",
       "      <td>Erlotinib</td>\n",
       "    </tr>\n",
       "    <tr>\n",
       "      <th>23811</th>\n",
       "      <td>CHEMBL553025</td>\n",
       "      <td>Microtubule destabiliser</td>\n",
       "      <td>NaN</td>\n",
       "      <td>Mitosis</td>\n",
       "      <td>Vinorelbine</td>\n",
       "    </tr>\n",
       "    <tr>\n",
       "      <th>22181</th>\n",
       "      <td>CHEMBL554</td>\n",
       "      <td>EGFR, ERBB2</td>\n",
       "      <td>EGFR;ERBB2</td>\n",
       "      <td>EGFR signaling</td>\n",
       "      <td>Lapatinib</td>\n",
       "    </tr>\n",
       "    <tr>\n",
       "      <th>13001</th>\n",
       "      <td>CHEMBL601719</td>\n",
       "      <td>MET, ALK, ROS1</td>\n",
       "      <td>ALK;MET;ROS1</td>\n",
       "      <td>RTK signaling</td>\n",
       "      <td>Crizotinib</td>\n",
       "    </tr>\n",
       "    <tr>\n",
       "      <th>4888</th>\n",
       "      <td>CHEMBL603469</td>\n",
       "      <td>FLT3, JAK2, NTRK1, NTRK2, NTRK3</td>\n",
       "      <td>FLT3;JAK2;NTRK1;NTRK2;NTRK3</td>\n",
       "      <td>Other, kinases</td>\n",
       "      <td>Lestaurtinib</td>\n",
       "    </tr>\n",
       "    <tr>\n",
       "      <th>22994</th>\n",
       "      <td>CHEMBL64925</td>\n",
       "      <td>Proteasome, CAPN1</td>\n",
       "      <td>NaN</td>\n",
       "      <td>Protein stability and degradation</td>\n",
       "      <td>MG-132</td>\n",
       "    </tr>\n",
       "    <tr>\n",
       "      <th>18661</th>\n",
       "      <td>CHEMBL83</td>\n",
       "      <td>ESR1</td>\n",
       "      <td>ESR1</td>\n",
       "      <td>Hormone-related</td>\n",
       "      <td>Tamoxifen</td>\n",
       "    </tr>\n",
       "    <tr>\n",
       "      <th>17047</th>\n",
       "      <td>CHEMBL888</td>\n",
       "      <td>Pyrimidine antimetabolite</td>\n",
       "      <td>NaN</td>\n",
       "      <td>DNA replication</td>\n",
       "      <td>Gemcitabine</td>\n",
       "    </tr>\n",
       "    <tr>\n",
       "      <th>0</th>\n",
       "      <td>CHEMBL92</td>\n",
       "      <td>Microtubule stabiliser</td>\n",
       "      <td>NaN</td>\n",
       "      <td>Mitosis</td>\n",
       "      <td>Docetaxel</td>\n",
       "    </tr>\n",
       "    <tr>\n",
       "      <th>1633</th>\n",
       "      <td>CHEMBL939</td>\n",
       "      <td>EGFR</td>\n",
       "      <td>EGFR</td>\n",
       "      <td>EGFR signaling</td>\n",
       "      <td>Gefitinib</td>\n",
       "    </tr>\n",
       "    <tr>\n",
       "      <th>2451</th>\n",
       "      <td>CHEMBL98</td>\n",
       "      <td>HDAC inhibitor Class I, IIa, IIb, IV</td>\n",
       "      <td>HDAC1;HDAC10;HDAC2;HDAC3;HDAC4;HDAC5;HDAC6;HDA...</td>\n",
       "      <td>Chromatin histone acetylation</td>\n",
       "      <td>Vorinostat</td>\n",
       "    </tr>\n",
       "  </tbody>\n",
       "</table>\n",
       "</div>"
      ],
      "text/plain": [
       "              CHEMBL                       putative_target  \\\n",
       "5702    CHEMBL109480                                 HSP90   \n",
       "6515   CHEMBL1173655                           EGFR, ERBB2   \n",
       "3269   CHEMBL1201182                                  MTOR   \n",
       "21121  CHEMBL1231160                                   NAE   \n",
       "14617     CHEMBL1336                PDGFR, KIT, VEGFR, RAF   \n",
       "11398     CHEMBL1351                   DNA akylating agent   \n",
       "9788   CHEMBL1614701                            MEK1, MEK2   \n",
       "10585      CHEMBL185            Antimetabolite (DNA & RNA)   \n",
       "8970   CHEMBL1879463        PI3K (class 1), MTORC1, MTORC2   \n",
       "7333    CHEMBL191334                                  MDM2   \n",
       "8151    CHEMBL202721                          AURKA, AURKB   \n",
       "19479  CHEMBL2103875                            MEK1, MEK2   \n",
       "4075    CHEMBL288441                         SRC, ABL, TEC   \n",
       "21939  CHEMBL3137336                      AKT1, AKT2, AKT3   \n",
       "17854   CHEMBL325041                            Proteasome   \n",
       "818      CHEMBL34259                        Antimetabolite   \n",
       "13814      CHEMBL413                                MTORC1   \n",
       "15425   CHEMBL414804                  DNA alkylating agent   \n",
       "20313      CHEMBL417                         Anthracycline   \n",
       "12193   CHEMBL428647                Microtubule stabiliser   \n",
       "16239      CHEMBL553                                  EGFR   \n",
       "23811   CHEMBL553025              Microtubule destabiliser   \n",
       "22181      CHEMBL554                           EGFR, ERBB2   \n",
       "13001   CHEMBL601719                        MET, ALK, ROS1   \n",
       "4888    CHEMBL603469       FLT3, JAK2, NTRK1, NTRK2, NTRK3   \n",
       "22994    CHEMBL64925                     Proteasome, CAPN1   \n",
       "18661       CHEMBL83                                  ESR1   \n",
       "17047      CHEMBL888             Pyrimidine antimetabolite   \n",
       "0           CHEMBL92                Microtubule stabiliser   \n",
       "1633       CHEMBL939                                  EGFR   \n",
       "2451        CHEMBL98  HDAC inhibitor Class I, IIa, IIb, IV   \n",
       "\n",
       "                                    putative_gene_target  \\\n",
       "5702                                   HSP90AA1;HSP90AB1   \n",
       "6515                                          EGFR;ERBB2   \n",
       "3269                                                MTOR   \n",
       "21121                                               NAE1   \n",
       "14617                        FLT1;KIT;PDGFRA;PDGFRB;RAF1   \n",
       "11398                                                NaN   \n",
       "9788                                       MAP2K1;MAP2K2   \n",
       "10585                                                NaN   \n",
       "8970                    PIK3CA;PIK3CB;PIK3CD;PIK3CG;MTOR   \n",
       "7333                                                MDM2   \n",
       "8151                                         AURKA;AURKB   \n",
       "19479                                      MAP2K1;MAP2K2   \n",
       "4075                                        ABL1;SRC;TEC   \n",
       "21939                                     AKT1;AKT2;AKT3   \n",
       "17854                                                NaN   \n",
       "818                                                 DHFR   \n",
       "13814                                               MTOR   \n",
       "15425                                                NaN   \n",
       "20313                                              TOP2A   \n",
       "12193                                         BCL2;TUBB1   \n",
       "16239                                               EGFR   \n",
       "23811                                                NaN   \n",
       "22181                                         EGFR;ERBB2   \n",
       "13001                                       ALK;MET;ROS1   \n",
       "4888                         FLT3;JAK2;NTRK1;NTRK2;NTRK3   \n",
       "22994                                                NaN   \n",
       "18661                                               ESR1   \n",
       "17047                                                NaN   \n",
       "0                                                    NaN   \n",
       "1633                                                EGFR   \n",
       "2451   HDAC1;HDAC10;HDAC2;HDAC3;HDAC4;HDAC5;HDAC6;HDA...   \n",
       "\n",
       "                          target_pathway       drug_name  \n",
       "5702   Protein stability and degradation    Tanespimycin  \n",
       "6515                      EGFR signaling        Afatinib  \n",
       "3269                 PI3K/MTOR signaling    Temsirolimus  \n",
       "21121                              Other    Pevonedistat  \n",
       "14617                     Other, kinases       Sorafenib  \n",
       "11398                    DNA replication     Carboplatin  \n",
       "9788                  ERK MAPK signaling     Selumetinib  \n",
       "10585                              Other  5-Fluorouracil  \n",
       "8970                 PI3K/MTOR signaling      Dactolisib  \n",
       "7333                         p53 pathway   Nutlin-3a (-)  \n",
       "8151                             Mitosis        ZM447439  \n",
       "19479                 ERK MAPK signaling      Trametinib  \n",
       "4075                      Other, kinases       Bosutinib  \n",
       "21939                PI3K/MTOR signaling      Uprosertib  \n",
       "17854  Protein stability and degradation      Bortezomib  \n",
       "818                      DNA replication    Methotrexate  \n",
       "13814                PI3K/MTOR signaling       Rapamycin  \n",
       "15425                    DNA replication     Oxaliplatin  \n",
       "20313                    DNA replication      Epirubicin  \n",
       "12193                            Mitosis      Paclitaxel  \n",
       "16239                     EGFR signaling       Erlotinib  \n",
       "23811                            Mitosis     Vinorelbine  \n",
       "22181                     EGFR signaling       Lapatinib  \n",
       "13001                      RTK signaling      Crizotinib  \n",
       "4888                      Other, kinases    Lestaurtinib  \n",
       "22994  Protein stability and degradation          MG-132  \n",
       "18661                    Hormone-related       Tamoxifen  \n",
       "17047                    DNA replication     Gemcitabine  \n",
       "0                                Mitosis       Docetaxel  \n",
       "1633                      EGFR signaling       Gefitinib  \n",
       "2451       Chromatin histone acetylation      Vorinostat  "
      ]
     },
     "execution_count": 11,
     "metadata": {},
     "output_type": "execute_result"
    }
   ],
   "source": [
    "proCan[['CHEMBL','putative_target', 'putative_gene_target', 'target_pathway', 'drug_name']].drop_duplicates().sort_values('CHEMBL')"
   ]
  },
  {
   "cell_type": "code",
   "execution_count": 19,
   "id": "2f7250a3-741b-40bf-a5b3-8441c9b53774",
   "metadata": {
    "execution": {
     "iopub.execute_input": "2023-09-14T00:44:19.381032Z",
     "iopub.status.busy": "2023-09-14T00:44:19.380027Z",
     "iopub.status.idle": "2023-09-14T00:44:19.406980Z",
     "shell.execute_reply": "2023-09-14T00:44:19.405985Z",
     "shell.execute_reply.started": "2023-09-14T00:44:19.381032Z"
    },
    "tags": []
   },
   "outputs": [
    {
     "data": {
      "text/html": [
       "<div>\n",
       "<style scoped>\n",
       "    .dataframe tbody tr th:only-of-type {\n",
       "        vertical-align: middle;\n",
       "    }\n",
       "\n",
       "    .dataframe tbody tr th {\n",
       "        vertical-align: top;\n",
       "    }\n",
       "\n",
       "    .dataframe thead th {\n",
       "        text-align: right;\n",
       "    }\n",
       "</style>\n",
       "<table border=\"1\" class=\"dataframe\">\n",
       "  <thead>\n",
       "    <tr style=\"text-align: right;\">\n",
       "      <th></th>\n",
       "      <th>Drug</th>\n",
       "      <th>chEMBL</th>\n",
       "    </tr>\n",
       "  </thead>\n",
       "  <tbody>\n",
       "    <tr>\n",
       "      <th>0</th>\n",
       "      <td>17-AAG</td>\n",
       "      <td>CHEMBL109480</td>\n",
       "    </tr>\n",
       "    <tr>\n",
       "      <th>1</th>\n",
       "      <td>5-FU</td>\n",
       "      <td>CHEMBL185</td>\n",
       "    </tr>\n",
       "    <tr>\n",
       "      <th>2</th>\n",
       "      <td>5-FdUR</td>\n",
       "      <td>CHEMBL917</td>\n",
       "    </tr>\n",
       "    <tr>\n",
       "      <th>3</th>\n",
       "      <td>AG1478</td>\n",
       "      <td>CHEMBL7917</td>\n",
       "    </tr>\n",
       "    <tr>\n",
       "      <th>4</th>\n",
       "      <td>Triciribine</td>\n",
       "      <td>CHEMBL331237</td>\n",
       "    </tr>\n",
       "    <tr>\n",
       "      <th>...</th>\n",
       "      <td>...</td>\n",
       "      <td>...</td>\n",
       "    </tr>\n",
       "    <tr>\n",
       "      <th>68</th>\n",
       "      <td>VX-680</td>\n",
       "      <td>CHEMBL572878</td>\n",
       "    </tr>\n",
       "    <tr>\n",
       "      <th>69</th>\n",
       "      <td>Valproic acid</td>\n",
       "      <td>CHEMBL109</td>\n",
       "    </tr>\n",
       "    <tr>\n",
       "      <th>70</th>\n",
       "      <td>Velcade</td>\n",
       "      <td>CHEMBL325041</td>\n",
       "    </tr>\n",
       "    <tr>\n",
       "      <th>71</th>\n",
       "      <td>Vinorelbine</td>\n",
       "      <td>CHEMBL553025</td>\n",
       "    </tr>\n",
       "    <tr>\n",
       "      <th>72</th>\n",
       "      <td>ZM447439</td>\n",
       "      <td>CHEMBL202721</td>\n",
       "    </tr>\n",
       "  </tbody>\n",
       "</table>\n",
       "<p>73 rows × 2 columns</p>\n",
       "</div>"
      ],
      "text/plain": [
       "             Drug        chEMBL\n",
       "0          17-AAG  CHEMBL109480\n",
       "1            5-FU     CHEMBL185\n",
       "2          5-FdUR     CHEMBL917\n",
       "3          AG1478    CHEMBL7917\n",
       "4     Triciribine  CHEMBL331237\n",
       "..            ...           ...\n",
       "68         VX-680  CHEMBL572878\n",
       "69  Valproic acid     CHEMBL109\n",
       "70        Velcade  CHEMBL325041\n",
       "71    Vinorelbine  CHEMBL553025\n",
       "72       ZM447439  CHEMBL202721\n",
       "\n",
       "[73 rows x 2 columns]"
      ]
     },
     "execution_count": 19,
     "metadata": {},
     "output_type": "execute_result"
    }
   ],
   "source": [
    "file_chembl = 'data/drug_chembl.txt'\n",
    "chembl = pd.read_csv(file_chembl)\n",
    "chembl"
   ]
  },
  {
   "cell_type": "code",
   "execution_count": 20,
   "id": "616ef47c-6640-4e83-81f6-ad485def5038",
   "metadata": {
    "execution": {
     "iopub.execute_input": "2023-09-14T00:45:30.875365Z",
     "iopub.status.busy": "2023-09-14T00:45:30.875365Z",
     "iopub.status.idle": "2023-09-14T00:45:30.990573Z",
     "shell.execute_reply": "2023-09-14T00:45:30.989591Z",
     "shell.execute_reply.started": "2023-09-14T00:45:30.875365Z"
    },
    "tags": []
   },
   "outputs": [],
   "source": [
    "mask = [d in chembl.chEMBL.to_list() for d in proCan.CHEMBL]\n",
    "drug_merge = proCan[mask].copy()"
   ]
  },
  {
   "cell_type": "code",
   "execution_count": 21,
   "id": "dcb085f1-f3eb-4263-a874-2e2fbb8a5ccc",
   "metadata": {
    "execution": {
     "iopub.execute_input": "2023-09-14T00:45:31.913202Z",
     "iopub.status.busy": "2023-09-14T00:45:31.912206Z",
     "iopub.status.idle": "2023-09-14T00:45:31.936045Z",
     "shell.execute_reply": "2023-09-14T00:45:31.935409Z",
     "shell.execute_reply.started": "2023-09-14T00:45:31.913202Z"
    },
    "tags": []
   },
   "outputs": [
    {
     "data": {
      "text/plain": [
       "drug_name       drug_id  max_screening_conc  dataset  drug_owner\n",
       "5-Fluorouracil  1073     32.0000             GDSC2    GDSC          52\n",
       "Vorinostat      1012     10.0000             GDSC2    GDSC          52\n",
       "Docetaxel       1007     0.0125              GDSC2    GDSC          52\n",
       "Nutlin-3a (-)   1047     10.0000             GDSC2    GDSC          52\n",
       "MG-132          1862     4.0000              GDSC2    GDSC          52\n",
       "Gemcitabine     1190     10.0000             GDSC2    GDSC          51\n",
       "Vinorelbine     2048     0.1000              GDSC2    GDSC          51\n",
       "Trametinib      1372     1.0000              GDSC2    GDSC          51\n",
       "Tamoxifen       1199     10.0000             GDSC2    GDSC          51\n",
       "Sorafenib       1085     10.0000             GDSC2    GDSC          51\n",
       "dtype: int64"
      ]
     },
     "execution_count": 21,
     "metadata": {},
     "output_type": "execute_result"
    }
   ],
   "source": [
    "drug_merge[['drug_name', 'drug_id', 'max_screening_conc','dataset', 'drug_owner']][drug_merge.tissue == 'Breast'].value_counts().head(10)"
   ]
  },
  {
   "cell_type": "markdown",
   "id": "aed3078f-ac49-426e-bdb9-77e110de0b0b",
   "metadata": {},
   "source": [
    "#### all cell lines but \"Haematopoietic and Lymphoid\""
   ]
  },
  {
   "cell_type": "code",
   "execution_count": 8,
   "id": "6169c9d3-822e-4639-9d70-a7314ef5a085",
   "metadata": {
    "execution": {
     "iopub.execute_input": "2023-09-07T01:47:21.276219Z",
     "iopub.status.busy": "2023-09-07T01:47:21.275222Z",
     "iopub.status.idle": "2023-09-07T01:47:21.316313Z",
     "shell.execute_reply": "2023-09-07T01:47:21.315360Z",
     "shell.execute_reply.started": "2023-09-07T01:47:21.276219Z"
    },
    "tags": []
   },
   "outputs": [
    {
     "data": {
      "text/plain": [
       "drug_name       drug_id  max_screening_conc  dataset  drug_owner\n",
       "MG-132          1862     4.0000              GDSC2    GDSC          817\n",
       "Nutlin-3a (-)   1047     10.0000             GDSC2    GDSC          815\n",
       "Docetaxel       1007     0.0125              GDSC2    GDSC          814\n",
       "Trametinib      1372     1.0000              GDSC2    GDSC          814\n",
       "Oxaliplatin     1089     10.0000             GDSC2    GDSC          814\n",
       "Afatinib        1032     10.0000             GDSC2    GDSC          814\n",
       "Crizotinib      1083     10.0000             GDSC2    GDSC          813\n",
       "5-Fluorouracil  1073     32.0000             GDSC2    GDSC          813\n",
       "Lapatinib       1558     10.0000             GDSC2    GDSC          813\n",
       "Vorinostat      1012     10.0000             GDSC2    GDSC          809\n",
       "dtype: int64"
      ]
     },
     "execution_count": 8,
     "metadata": {},
     "output_type": "execute_result"
    }
   ],
   "source": [
    "drug_merge[['drug_name', 'drug_id', 'max_screening_conc','dataset', 'drug_owner']][drug_merge.tissue != \"Haematopoietic and Lymphoid\"].value_counts().head(10)"
   ]
  },
  {
   "cell_type": "code",
   "execution_count": 22,
   "id": "29051f2f-d112-4065-828c-2a13614a5e09",
   "metadata": {
    "execution": {
     "iopub.execute_input": "2023-09-14T00:45:39.012807Z",
     "iopub.status.busy": "2023-09-14T00:45:39.012807Z",
     "iopub.status.idle": "2023-09-14T00:45:39.052352Z",
     "shell.execute_reply": "2023-09-14T00:45:39.052352Z",
     "shell.execute_reply.started": "2023-09-14T00:45:39.012807Z"
    },
    "tags": []
   },
   "outputs": [
    {
     "data": {
      "text/html": [
       "<div>\n",
       "<style scoped>\n",
       "    .dataframe tbody tr th:only-of-type {\n",
       "        vertical-align: middle;\n",
       "    }\n",
       "\n",
       "    .dataframe tbody tr th {\n",
       "        vertical-align: top;\n",
       "    }\n",
       "\n",
       "    .dataframe thead th {\n",
       "        text-align: right;\n",
       "    }\n",
       "</style>\n",
       "<table border=\"1\" class=\"dataframe\">\n",
       "  <thead>\n",
       "    <tr style=\"text-align: right;\">\n",
       "      <th></th>\n",
       "      <th>drug_id</th>\n",
       "      <th>putative_target</th>\n",
       "      <th>CHEMBL</th>\n",
       "      <th>cell_line_name</th>\n",
       "      <th>drug_name</th>\n",
       "      <th>putative_gene_target</th>\n",
       "      <th>dataset</th>\n",
       "      <th>ln_IC50</th>\n",
       "      <th>drug_owner</th>\n",
       "      <th>max_screening_conc</th>\n",
       "      <th>target_pathway</th>\n",
       "      <th>tissue</th>\n",
       "    </tr>\n",
       "  </thead>\n",
       "  <tbody>\n",
       "    <tr>\n",
       "      <th>0</th>\n",
       "      <td>1007</td>\n",
       "      <td>Microtubule stabiliser</td>\n",
       "      <td>CHEMBL92</td>\n",
       "      <td>5637</td>\n",
       "      <td>Docetaxel</td>\n",
       "      <td>NaN</td>\n",
       "      <td>GDSC2</td>\n",
       "      <td>-6.011902</td>\n",
       "      <td>GDSC</td>\n",
       "      <td>0.0125</td>\n",
       "      <td>Mitosis</td>\n",
       "      <td>Bladder</td>\n",
       "    </tr>\n",
       "    <tr>\n",
       "      <th>1</th>\n",
       "      <td>1007</td>\n",
       "      <td>Microtubule stabiliser</td>\n",
       "      <td>CHEMBL92</td>\n",
       "      <td>201T</td>\n",
       "      <td>Docetaxel</td>\n",
       "      <td>NaN</td>\n",
       "      <td>GDSC2</td>\n",
       "      <td>-5.263725</td>\n",
       "      <td>GDSC</td>\n",
       "      <td>0.0125</td>\n",
       "      <td>Mitosis</td>\n",
       "      <td>Lung</td>\n",
       "    </tr>\n",
       "    <tr>\n",
       "      <th>2</th>\n",
       "      <td>1007</td>\n",
       "      <td>Microtubule stabiliser</td>\n",
       "      <td>CHEMBL92</td>\n",
       "      <td>22RV1</td>\n",
       "      <td>Docetaxel</td>\n",
       "      <td>NaN</td>\n",
       "      <td>GDSC2</td>\n",
       "      <td>-3.534340</td>\n",
       "      <td>GDSC</td>\n",
       "      <td>0.0125</td>\n",
       "      <td>Mitosis</td>\n",
       "      <td>Prostate</td>\n",
       "    </tr>\n",
       "    <tr>\n",
       "      <th>3</th>\n",
       "      <td>1007</td>\n",
       "      <td>Microtubule stabiliser</td>\n",
       "      <td>CHEMBL92</td>\n",
       "      <td>23132-87</td>\n",
       "      <td>Docetaxel</td>\n",
       "      <td>NaN</td>\n",
       "      <td>GDSC2</td>\n",
       "      <td>-4.802981</td>\n",
       "      <td>GDSC</td>\n",
       "      <td>0.0125</td>\n",
       "      <td>Mitosis</td>\n",
       "      <td>Stomach</td>\n",
       "    </tr>\n",
       "    <tr>\n",
       "      <th>4</th>\n",
       "      <td>1007</td>\n",
       "      <td>Microtubule stabiliser</td>\n",
       "      <td>CHEMBL92</td>\n",
       "      <td>42-MG-BA</td>\n",
       "      <td>Docetaxel</td>\n",
       "      <td>NaN</td>\n",
       "      <td>GDSC2</td>\n",
       "      <td>-4.954833</td>\n",
       "      <td>GDSC</td>\n",
       "      <td>0.0125</td>\n",
       "      <td>Mitosis</td>\n",
       "      <td>Central Nervous System</td>\n",
       "    </tr>\n",
       "    <tr>\n",
       "      <th>...</th>\n",
       "      <td>...</td>\n",
       "      <td>...</td>\n",
       "      <td>...</td>\n",
       "      <td>...</td>\n",
       "      <td>...</td>\n",
       "      <td>...</td>\n",
       "      <td>...</td>\n",
       "      <td>...</td>\n",
       "      <td>...</td>\n",
       "      <td>...</td>\n",
       "      <td>...</td>\n",
       "      <td>...</td>\n",
       "    </tr>\n",
       "    <tr>\n",
       "      <th>25187</th>\n",
       "      <td>2106</td>\n",
       "      <td>AKT1, AKT2, AKT3</td>\n",
       "      <td>CHEMBL3137336</td>\n",
       "      <td>WM278</td>\n",
       "      <td>Uprosertib</td>\n",
       "      <td>AKT1;AKT2;AKT3</td>\n",
       "      <td>GDSC2</td>\n",
       "      <td>2.215269</td>\n",
       "      <td>GDSC</td>\n",
       "      <td>10.0000</td>\n",
       "      <td>PI3K/MTOR signaling</td>\n",
       "      <td>Skin</td>\n",
       "    </tr>\n",
       "    <tr>\n",
       "      <th>25188</th>\n",
       "      <td>2106</td>\n",
       "      <td>AKT1, AKT2, AKT3</td>\n",
       "      <td>CHEMBL3137336</td>\n",
       "      <td>WM35</td>\n",
       "      <td>Uprosertib</td>\n",
       "      <td>AKT1;AKT2;AKT3</td>\n",
       "      <td>GDSC2</td>\n",
       "      <td>2.572707</td>\n",
       "      <td>GDSC</td>\n",
       "      <td>10.0000</td>\n",
       "      <td>PI3K/MTOR signaling</td>\n",
       "      <td>Skin</td>\n",
       "    </tr>\n",
       "    <tr>\n",
       "      <th>25189</th>\n",
       "      <td>2106</td>\n",
       "      <td>AKT1, AKT2, AKT3</td>\n",
       "      <td>CHEMBL3137336</td>\n",
       "      <td>WM793B</td>\n",
       "      <td>Uprosertib</td>\n",
       "      <td>AKT1;AKT2;AKT3</td>\n",
       "      <td>GDSC2</td>\n",
       "      <td>1.661006</td>\n",
       "      <td>GDSC</td>\n",
       "      <td>10.0000</td>\n",
       "      <td>PI3K/MTOR signaling</td>\n",
       "      <td>Skin</td>\n",
       "    </tr>\n",
       "    <tr>\n",
       "      <th>25190</th>\n",
       "      <td>2106</td>\n",
       "      <td>AKT1, AKT2, AKT3</td>\n",
       "      <td>CHEMBL3137336</td>\n",
       "      <td>YAPC</td>\n",
       "      <td>Uprosertib</td>\n",
       "      <td>AKT1;AKT2;AKT3</td>\n",
       "      <td>GDSC2</td>\n",
       "      <td>6.535078</td>\n",
       "      <td>GDSC</td>\n",
       "      <td>10.0000</td>\n",
       "      <td>PI3K/MTOR signaling</td>\n",
       "      <td>Pancreas</td>\n",
       "    </tr>\n",
       "    <tr>\n",
       "      <th>25191</th>\n",
       "      <td>2106</td>\n",
       "      <td>AKT1, AKT2, AKT3</td>\n",
       "      <td>CHEMBL3137336</td>\n",
       "      <td>YH-13</td>\n",
       "      <td>Uprosertib</td>\n",
       "      <td>AKT1;AKT2;AKT3</td>\n",
       "      <td>GDSC2</td>\n",
       "      <td>2.432253</td>\n",
       "      <td>GDSC</td>\n",
       "      <td>10.0000</td>\n",
       "      <td>PI3K/MTOR signaling</td>\n",
       "      <td>Central Nervous System</td>\n",
       "    </tr>\n",
       "  </tbody>\n",
       "</table>\n",
       "<p>25176 rows × 12 columns</p>\n",
       "</div>"
      ],
      "text/plain": [
       "       drug_id         putative_target         CHEMBL cell_line_name  \\\n",
       "0         1007  Microtubule stabiliser       CHEMBL92           5637   \n",
       "1         1007  Microtubule stabiliser       CHEMBL92           201T   \n",
       "2         1007  Microtubule stabiliser       CHEMBL92          22RV1   \n",
       "3         1007  Microtubule stabiliser       CHEMBL92       23132-87   \n",
       "4         1007  Microtubule stabiliser       CHEMBL92       42-MG-BA   \n",
       "...        ...                     ...            ...            ...   \n",
       "25187     2106        AKT1, AKT2, AKT3  CHEMBL3137336          WM278   \n",
       "25188     2106        AKT1, AKT2, AKT3  CHEMBL3137336           WM35   \n",
       "25189     2106        AKT1, AKT2, AKT3  CHEMBL3137336         WM793B   \n",
       "25190     2106        AKT1, AKT2, AKT3  CHEMBL3137336           YAPC   \n",
       "25191     2106        AKT1, AKT2, AKT3  CHEMBL3137336          YH-13   \n",
       "\n",
       "        drug_name putative_gene_target dataset   ln_IC50 drug_owner  \\\n",
       "0       Docetaxel                  NaN   GDSC2 -6.011902       GDSC   \n",
       "1       Docetaxel                  NaN   GDSC2 -5.263725       GDSC   \n",
       "2       Docetaxel                  NaN   GDSC2 -3.534340       GDSC   \n",
       "3       Docetaxel                  NaN   GDSC2 -4.802981       GDSC   \n",
       "4       Docetaxel                  NaN   GDSC2 -4.954833       GDSC   \n",
       "...           ...                  ...     ...       ...        ...   \n",
       "25187  Uprosertib       AKT1;AKT2;AKT3   GDSC2  2.215269       GDSC   \n",
       "25188  Uprosertib       AKT1;AKT2;AKT3   GDSC2  2.572707       GDSC   \n",
       "25189  Uprosertib       AKT1;AKT2;AKT3   GDSC2  1.661006       GDSC   \n",
       "25190  Uprosertib       AKT1;AKT2;AKT3   GDSC2  6.535078       GDSC   \n",
       "25191  Uprosertib       AKT1;AKT2;AKT3   GDSC2  2.432253       GDSC   \n",
       "\n",
       "       max_screening_conc       target_pathway                  tissue  \n",
       "0                  0.0125              Mitosis                 Bladder  \n",
       "1                  0.0125              Mitosis                    Lung  \n",
       "2                  0.0125              Mitosis                Prostate  \n",
       "3                  0.0125              Mitosis                 Stomach  \n",
       "4                  0.0125              Mitosis  Central Nervous System  \n",
       "...                   ...                  ...                     ...  \n",
       "25187             10.0000  PI3K/MTOR signaling                    Skin  \n",
       "25188             10.0000  PI3K/MTOR signaling                    Skin  \n",
       "25189             10.0000  PI3K/MTOR signaling                    Skin  \n",
       "25190             10.0000  PI3K/MTOR signaling                Pancreas  \n",
       "25191             10.0000  PI3K/MTOR signaling  Central Nervous System  \n",
       "\n",
       "[25176 rows x 12 columns]"
      ]
     },
     "execution_count": 22,
     "metadata": {},
     "output_type": "execute_result"
    }
   ],
   "source": [
    "subset = drug_merge[(drug_merge.tissue != \"Haematopoietic and Lymphoid\") & (drug_merge.drug_owner == 'GDSC')].copy()\n",
    "subset = subset.sort_values(['drug_id', 'max_screening_conc', 'dataset'], ascending=[True, False, False]).drop_duplicates(subset=['CHEMBL', 'cell_line_name'])\n",
    "subset"
   ]
  },
  {
   "cell_type": "code",
   "execution_count": 24,
   "id": "e856572b-0530-4d78-87cd-959b471e6d95",
   "metadata": {
    "execution": {
     "iopub.execute_input": "2023-09-14T00:45:57.234051Z",
     "iopub.status.busy": "2023-09-14T00:45:57.234051Z",
     "iopub.status.idle": "2023-09-14T00:45:57.339519Z",
     "shell.execute_reply": "2023-09-14T00:45:57.337501Z",
     "shell.execute_reply.started": "2023-09-14T00:45:57.234051Z"
    },
    "tags": []
   },
   "outputs": [],
   "source": [
    "drug_list = subset.CHEMBL.value_counts()[subset.CHEMBL.value_counts() >= 600].index.to_list()\n",
    "drug_mask = [d in drug_list for d in subset.CHEMBL]\n",
    "subset[drug_mask].to_csv('data/subset_drug_response.csv', index=False)"
   ]
  },
  {
   "cell_type": "code",
   "execution_count": null,
   "id": "259cacf9-c477-4694-8743-c9d559f624c8",
   "metadata": {},
   "outputs": [],
   "source": [
    "subset[drug_mask].to_csv('data/subset_drug_response.csv', index=False)"
   ]
  },
  {
   "cell_type": "markdown",
   "id": "da25dfff-68e4-44d3-ba1a-4c4fb09f2741",
   "metadata": {
    "jp-MarkdownHeadingCollapsed": true,
    "tags": []
   },
   "source": [
    "### Cell Lines Filtering and Overlap"
   ]
  },
  {
   "cell_type": "code",
   "execution_count": 3,
   "id": "82fbb1b2-6bbf-44a0-9da5-4f52d084dcf9",
   "metadata": {
    "execution": {
     "iopub.execute_input": "2023-09-15T00:21:46.047747Z",
     "iopub.status.busy": "2023-09-15T00:21:46.047747Z",
     "iopub.status.idle": "2023-09-15T00:22:21.331408Z",
     "shell.execute_reply": "2023-09-15T00:22:21.330412Z",
     "shell.execute_reply.started": "2023-09-15T00:21:46.047747Z"
    },
    "tags": []
   },
   "outputs": [],
   "source": [
    "x_input = 'data/ProCan-DepMapSanger_protein_matrix_6692_averaged.xlsx'\n",
    "x = pd.read_excel(x_input, engine='openpyxl').drop(columns=['Project_Identifier'])\n",
    "x.columns = x.columns.str.replace(';', '.')"
   ]
  },
  {
   "cell_type": "code",
   "execution_count": 23,
   "id": "b8c61703-1793-46f5-b57b-a4ea2c4dd7b9",
   "metadata": {
    "execution": {
     "iopub.execute_input": "2023-09-15T00:38:51.860452Z",
     "iopub.status.busy": "2023-09-15T00:38:51.860452Z",
     "iopub.status.idle": "2023-09-15T00:38:51.947782Z",
     "shell.execute_reply": "2023-09-15T00:38:51.946777Z",
     "shell.execute_reply.started": "2023-09-15T00:38:51.860452Z"
    },
    "tags": []
   },
   "outputs": [],
   "source": [
    "abundance = x.set_index('Cell_Line').to_numpy().reshape([1,-1])\n",
    "abundance = abundance[~np.isnan(abundance)]"
   ]
  },
  {
   "cell_type": "code",
   "execution_count": 24,
   "id": "f471d8e4-b36f-4625-a383-520582d9aa27",
   "metadata": {
    "execution": {
     "iopub.execute_input": "2023-09-15T00:38:52.683410Z",
     "iopub.status.busy": "2023-09-15T00:38:52.682437Z",
     "iopub.status.idle": "2023-09-15T00:38:52.691952Z",
     "shell.execute_reply": "2023-09-15T00:38:52.690984Z",
     "shell.execute_reply.started": "2023-09-15T00:38:52.683410Z"
    },
    "tags": []
   },
   "outputs": [
    {
     "data": {
      "text/plain": [
       "(3307910,)"
      ]
     },
     "execution_count": 24,
     "metadata": {},
     "output_type": "execute_result"
    }
   ],
   "source": [
    "abundance.shape"
   ]
  },
  {
   "cell_type": "code",
   "execution_count": 28,
   "id": "261d6d9c-19e5-4b44-988d-e9948c4c042c",
   "metadata": {
    "execution": {
     "iopub.execute_input": "2023-09-15T00:40:10.367233Z",
     "iopub.status.busy": "2023-09-15T00:40:10.366242Z",
     "iopub.status.idle": "2023-09-15T00:40:10.397442Z",
     "shell.execute_reply": "2023-09-15T00:40:10.397442Z",
     "shell.execute_reply.started": "2023-09-15T00:40:10.367233Z"
    },
    "tags": []
   },
   "outputs": [],
   "source": [
    "abundance = abundance[abundance != abundance.max()] #the max value is an extreme outlier of ~39000"
   ]
  },
  {
   "cell_type": "code",
   "execution_count": 36,
   "id": "9cb937c5-628a-4158-a6d2-965f5724702e",
   "metadata": {
    "execution": {
     "iopub.execute_input": "2023-09-15T01:06:55.013769Z",
     "iopub.status.busy": "2023-09-15T01:06:55.013769Z",
     "iopub.status.idle": "2023-09-15T01:06:56.727972Z",
     "shell.execute_reply": "2023-09-15T01:06:56.727972Z",
     "shell.execute_reply.started": "2023-09-15T01:06:55.013769Z"
    },
    "tags": []
   },
   "outputs": [
    {
     "data": {
      "image/png": "[encoded data removed]",
      "text/plain": [
       "<Figure size 640x480 with 1 Axes>"
      ]
     },
     "metadata": {},
     "output_type": "display_data"
    }
   ],
   "source": [
    "sns.histplot(np.power(2,abundance), bins=100, log=True)\n",
    "plt.axvline(2, 0, c=\"#6D2077\")\n",
    "plt.show()"
   ]
  },
  {
   "cell_type": "code",
   "execution_count": null,
   "id": "1ea4b925-814c-4532-8d9b-ac69a6a5c782",
   "metadata": {
    "execution": {
     "iopub.execute_input": "2023-09-07T01:55:46.941905Z",
     "iopub.status.busy": "2023-09-07T01:55:46.941905Z",
     "iopub.status.idle": "2023-09-07T01:55:46.955371Z",
     "shell.execute_reply": "2023-09-07T01:55:46.955371Z",
     "shell.execute_reply.started": "2023-09-07T01:55:46.941905Z"
    },
    "tags": []
   },
   "outputs": [
    {
     "data": {
      "text/plain": [
       "(41, 11)"
      ]
     },
     "execution_count": 13,
     "metadata": {},
     "output_type": "execute_result"
    }
   ],
   "source": [
    "cell_lines = breast.cell_line_name.unique()\n",
    "cl_train, cl_test = train_test_split(cell_lines, test_size=0.2, train_size=0.8, random_state=42)\n",
    "len(cl_train), len(cl_test)"
   ]
  },
  {
   "cell_type": "code",
   "execution_count": null,
   "id": "edfb8a57-de73-4569-bb68-a5b5b494c466",
   "metadata": {
    "execution": {
     "iopub.execute_input": "2023-09-07T01:55:46.957352Z",
     "iopub.status.busy": "2023-09-07T01:55:46.956355Z",
     "iopub.status.idle": "2023-09-07T01:55:46.986543Z",
     "shell.execute_reply": "2023-09-07T01:55:46.985720Z",
     "shell.execute_reply.started": "2023-09-07T01:55:46.956355Z"
    },
    "tags": []
   },
   "outputs": [
    {
     "data": {
      "text/plain": [
       "(39, 11)"
      ]
     },
     "execution_count": 14,
     "metadata": {},
     "output_type": "execute_result"
    }
   ],
   "source": [
    "train_mask = [c in cl_train for c in x.Cell_Line]\n",
    "test_mask = [c in cl_test for c in x.Cell_Line]\n",
    "sum(train_mask), sum(test_mask)"
   ]
  },
  {
   "cell_type": "code",
   "execution_count": 2,
   "id": "cda0cbce-9226-4751-a445-d3b6c8ebb8cc",
   "metadata": {
    "execution": {
     "iopub.execute_input": "2023-09-19T00:46:35.154707Z",
     "iopub.status.busy": "2023-09-19T00:46:35.154707Z",
     "iopub.status.idle": "2023-09-19T00:46:44.927378Z",
     "shell.execute_reply": "2023-09-19T00:46:44.926330Z",
     "shell.execute_reply.started": "2023-09-19T00:46:35.154707Z"
    },
    "tags": []
   },
   "outputs": [],
   "source": [
    "file_bc = 'data/breast_cancer.xlsx'\n",
    "bc = pd.read_excel(file_bc, sheet_name=['B_protein_matrix','G_DrugResponse'])\n",
    "bc_drug = bc['G_DrugResponse']\n",
    "bc_protein = bc['B_protein_matrix']"
   ]
  },
  {
   "cell_type": "code",
   "execution_count": 16,
   "id": "fb80bef2-119f-4514-a050-34088da552df",
   "metadata": {
    "execution": {
     "iopub.execute_input": "2023-09-07T01:56:03.189465Z",
     "iopub.status.busy": "2023-09-07T01:56:03.189465Z",
     "iopub.status.idle": "2023-09-07T01:56:03.204187Z",
     "shell.execute_reply": "2023-09-07T01:56:03.203191Z",
     "shell.execute_reply.started": "2023-09-07T01:56:03.189465Z"
    },
    "tags": []
   },
   "outputs": [
    {
     "data": {
      "text/plain": [
       "array([[2.07065304, 2.02287119, 1.89461685, ..., 1.92132467,        nan,\n",
       "        1.98375629],\n",
       "       [1.35583515, 0.54232429, 1.41342303, ..., 1.50851199,        nan,\n",
       "        1.59938758],\n",
       "       [1.30019166, 1.29472717, 1.75958057, ..., 1.71379793,        nan,\n",
       "        1.64093658],\n",
       "       ...,\n",
       "       [       nan,        nan, 1.78674693, ..., 1.99741771,        nan,\n",
       "        2.08567209],\n",
       "       [1.87180218, 1.87946505, 1.35583515, ..., 1.77664583,        nan,\n",
       "        1.77495235],\n",
       "       [1.45861502, 1.45861502, 1.38629436, ..., 1.69927862,        nan,\n",
       "               nan]])"
      ]
     },
     "execution_count": 16,
     "metadata": {},
     "output_type": "execute_result"
    }
   ],
   "source": [
    "np.log(bc_drug.set_index('Drug').to_numpy())"
   ]
  },
  {
   "cell_type": "code",
   "execution_count": 17,
   "id": "ba0093c5-d450-4394-a0f8-ec931ed7ac8f",
   "metadata": {
    "execution": {
     "iopub.execute_input": "2023-09-07T01:56:03.204187Z",
     "iopub.status.busy": "2023-09-07T01:56:03.204187Z",
     "iopub.status.idle": "2023-09-07T01:56:03.219592Z",
     "shell.execute_reply": "2023-09-07T01:56:03.218557Z",
     "shell.execute_reply.started": "2023-09-07T01:56:03.204187Z"
    },
    "tags": []
   },
   "outputs": [
    {
     "data": {
      "text/plain": [
       "66"
      ]
     },
     "execution_count": 17,
     "metadata": {},
     "output_type": "execute_result"
    }
   ],
   "source": [
    "# BC dataset cell lines\n",
    "len(bc_drug.columns.to_list())"
   ]
  },
  {
   "cell_type": "code",
   "execution_count": 18,
   "id": "bcc60878-91fb-4f8b-a6ef-900b26a24a35",
   "metadata": {
    "execution": {
     "iopub.execute_input": "2023-09-07T01:56:03.220556Z",
     "iopub.status.busy": "2023-09-07T01:56:03.220556Z",
     "iopub.status.idle": "2023-09-07T01:56:03.576892Z",
     "shell.execute_reply": "2023-09-07T01:56:03.576892Z",
     "shell.execute_reply.started": "2023-09-07T01:56:03.220556Z"
    },
    "tags": []
   },
   "outputs": [
    {
     "data": {
      "text/plain": [
       "41"
      ]
     },
     "execution_count": 18,
     "metadata": {},
     "output_type": "execute_result"
    }
   ],
   "source": [
    "# Overlap\n",
    "sum([c.upper() in drug_merge[drug_merge.tissue == 'Breast'].cell_line_name.str.replace('-', '').unique() for c in bc_drug.columns.to_list()])"
   ]
  },
  {
   "cell_type": "code",
   "execution_count": 19,
   "id": "0e2a9cae-2119-49a3-a633-18a9b2c9a168",
   "metadata": {
    "execution": {
     "iopub.execute_input": "2023-09-07T01:56:03.578888Z",
     "iopub.status.busy": "2023-09-07T01:56:03.577885Z",
     "iopub.status.idle": "2023-09-07T01:56:03.592241Z",
     "shell.execute_reply": "2023-09-07T01:56:03.592241Z",
     "shell.execute_reply.started": "2023-09-07T01:56:03.577885Z"
    },
    "tags": []
   },
   "outputs": [
    {
     "data": {
      "text/plain": [
       "52"
      ]
     },
     "execution_count": 19,
     "metadata": {},
     "output_type": "execute_result"
    }
   ],
   "source": [
    "# drug response cell lines\n",
    "len(drug_merge[drug_merge.tissue == 'Breast'].cell_line_name.unique())"
   ]
  },
  {
   "cell_type": "code",
   "execution_count": 20,
   "id": "f0c0948d-71bb-4739-b78f-52119108e703",
   "metadata": {
    "execution": {
     "iopub.execute_input": "2023-09-07T01:56:03.594232Z",
     "iopub.status.busy": "2023-09-07T01:56:03.593236Z",
     "iopub.status.idle": "2023-09-07T01:56:03.609183Z",
     "shell.execute_reply": "2023-09-07T01:56:03.608185Z",
     "shell.execute_reply.started": "2023-09-07T01:56:03.594232Z"
    },
    "tags": []
   },
   "outputs": [
    {
     "data": {
      "text/plain": [
       "50"
      ]
     },
     "execution_count": 20,
     "metadata": {},
     "output_type": "execute_result"
    }
   ],
   "source": [
    "# protein matrix cell lines\n",
    "sum([c in cell_lines for c in x.Cell_Line])"
   ]
  },
  {
   "cell_type": "code",
   "execution_count": 21,
   "id": "f6605799-2336-4324-998f-818038303b0b",
   "metadata": {
    "execution": {
     "iopub.execute_input": "2023-09-07T01:56:03.611177Z",
     "iopub.status.busy": "2023-09-07T01:56:03.611177Z",
     "iopub.status.idle": "2023-09-07T01:56:03.655065Z",
     "shell.execute_reply": "2023-09-07T01:56:03.654106Z",
     "shell.execute_reply.started": "2023-09-07T01:56:03.611177Z"
    },
    "tags": []
   },
   "outputs": [
    {
     "data": {
      "text/plain": [
       "40"
      ]
     },
     "execution_count": 21,
     "metadata": {},
     "output_type": "execute_result"
    }
   ],
   "source": [
    "# protein matrix to breast\n",
    "sum([c.upper() in x.Cell_Line.str.replace('-', '').unique() for c in bc_drug.columns.to_list()])"
   ]
  },
  {
   "cell_type": "code",
   "execution_count": 3,
   "id": "670ab092-507d-45f3-8442-b24d590f2345",
   "metadata": {
    "execution": {
     "iopub.execute_input": "2023-09-19T00:48:08.732689Z",
     "iopub.status.busy": "2023-09-19T00:48:08.731698Z",
     "iopub.status.idle": "2023-09-19T00:48:08.757359Z",
     "shell.execute_reply": "2023-09-19T00:48:08.756356Z",
     "shell.execute_reply.started": "2023-09-19T00:48:08.732689Z"
    },
    "tags": []
   },
   "outputs": [],
   "source": [
    "bc_protein = bc_protein.drop(['GeneName'], axis=1).set_index('UniprotID').transpose()"
   ]
  },
  {
   "cell_type": "code",
   "execution_count": 4,
   "id": "e29ea03b-39a7-43cc-a51e-ec5b265639a7",
   "metadata": {
    "execution": {
     "iopub.execute_input": "2023-09-19T00:48:10.566935Z",
     "iopub.status.busy": "2023-09-19T00:48:10.566935Z",
     "iopub.status.idle": "2023-09-19T00:48:10.601004Z",
     "shell.execute_reply": "2023-09-19T00:48:10.600048Z",
     "shell.execute_reply.started": "2023-09-19T00:48:10.566935Z"
    },
    "tags": []
   },
   "outputs": [
    {
     "data": {
      "text/html": [
       "<div>\n",
       "<style scoped>\n",
       "    .dataframe tbody tr th:only-of-type {\n",
       "        vertical-align: middle;\n",
       "    }\n",
       "\n",
       "    .dataframe tbody tr th {\n",
       "        vertical-align: top;\n",
       "    }\n",
       "\n",
       "    .dataframe thead th {\n",
       "        text-align: right;\n",
       "    }\n",
       "</style>\n",
       "<table border=\"1\" class=\"dataframe\">\n",
       "  <thead>\n",
       "    <tr style=\"text-align: right;\">\n",
       "      <th>UniprotID</th>\n",
       "      <th>A0AV96</th>\n",
       "      <th>A0AVT1</th>\n",
       "      <th>A0FGR8</th>\n",
       "      <th>A0MZ66</th>\n",
       "      <th>A0PJW6</th>\n",
       "      <th>A1L0T0</th>\n",
       "      <th>A1L390</th>\n",
       "      <th>A1X283</th>\n",
       "      <th>A2RRP1</th>\n",
       "      <th>A3KMH1</th>\n",
       "      <th>...</th>\n",
       "      <th>Q9Y6V7</th>\n",
       "      <th>Q9Y6W3</th>\n",
       "      <th>Q9Y6W5</th>\n",
       "      <th>Q9Y6X3</th>\n",
       "      <th>Q9Y6X4</th>\n",
       "      <th>Q9Y6X5</th>\n",
       "      <th>Q9Y6X8</th>\n",
       "      <th>Q9Y6X9</th>\n",
       "      <th>Q9Y6Y0</th>\n",
       "      <th>Q9Y6Y8</th>\n",
       "    </tr>\n",
       "  </thead>\n",
       "  <tbody>\n",
       "    <tr>\n",
       "      <th>184a1</th>\n",
       "      <td>NaN</td>\n",
       "      <td>13.7158</td>\n",
       "      <td>38.31570</td>\n",
       "      <td>NaN</td>\n",
       "      <td>NaN</td>\n",
       "      <td>NaN</td>\n",
       "      <td>12.02410</td>\n",
       "      <td>NaN</td>\n",
       "      <td>12.01090</td>\n",
       "      <td>30.75640</td>\n",
       "      <td>...</td>\n",
       "      <td>5.62445</td>\n",
       "      <td>NaN</td>\n",
       "      <td>10.5656</td>\n",
       "      <td>NaN</td>\n",
       "      <td>2.52737</td>\n",
       "      <td>NaN</td>\n",
       "      <td>NaN</td>\n",
       "      <td>NaN</td>\n",
       "      <td>NaN</td>\n",
       "      <td>8.27729</td>\n",
       "    </tr>\n",
       "    <tr>\n",
       "      <th>cal148</th>\n",
       "      <td>11.39620</td>\n",
       "      <td>62.2443</td>\n",
       "      <td>7.54967</td>\n",
       "      <td>31.83140</td>\n",
       "      <td>NaN</td>\n",
       "      <td>4.34349</td>\n",
       "      <td>NaN</td>\n",
       "      <td>5.31872</td>\n",
       "      <td>6.89759</td>\n",
       "      <td>1.61165</td>\n",
       "      <td>...</td>\n",
       "      <td>NaN</td>\n",
       "      <td>NaN</td>\n",
       "      <td>15.6373</td>\n",
       "      <td>NaN</td>\n",
       "      <td>NaN</td>\n",
       "      <td>3.07059</td>\n",
       "      <td>NaN</td>\n",
       "      <td>NaN</td>\n",
       "      <td>NaN</td>\n",
       "      <td>23.04620</td>\n",
       "    </tr>\n",
       "    <tr>\n",
       "      <th>hcc1599</th>\n",
       "      <td>14.86650</td>\n",
       "      <td>74.9893</td>\n",
       "      <td>30.95200</td>\n",
       "      <td>35.22680</td>\n",
       "      <td>NaN</td>\n",
       "      <td>10.79930</td>\n",
       "      <td>7.69869</td>\n",
       "      <td>77.24460</td>\n",
       "      <td>9.43528</td>\n",
       "      <td>19.44780</td>\n",
       "      <td>...</td>\n",
       "      <td>5.76010</td>\n",
       "      <td>5.87079</td>\n",
       "      <td>61.0741</td>\n",
       "      <td>NaN</td>\n",
       "      <td>NaN</td>\n",
       "      <td>NaN</td>\n",
       "      <td>6.60313</td>\n",
       "      <td>15.40790</td>\n",
       "      <td>3.4497</td>\n",
       "      <td>12.19540</td>\n",
       "    </tr>\n",
       "    <tr>\n",
       "      <th>hcc1806</th>\n",
       "      <td>NaN</td>\n",
       "      <td>24.3564</td>\n",
       "      <td>43.64930</td>\n",
       "      <td>13.71210</td>\n",
       "      <td>NaN</td>\n",
       "      <td>23.36850</td>\n",
       "      <td>18.10510</td>\n",
       "      <td>17.91770</td>\n",
       "      <td>7.32378</td>\n",
       "      <td>32.65990</td>\n",
       "      <td>...</td>\n",
       "      <td>4.73728</td>\n",
       "      <td>NaN</td>\n",
       "      <td>48.5096</td>\n",
       "      <td>NaN</td>\n",
       "      <td>5.19427</td>\n",
       "      <td>NaN</td>\n",
       "      <td>NaN</td>\n",
       "      <td>8.98626</td>\n",
       "      <td>NaN</td>\n",
       "      <td>13.64630</td>\n",
       "    </tr>\n",
       "    <tr>\n",
       "      <th>hcc1937</th>\n",
       "      <td>23.13140</td>\n",
       "      <td>23.8761</td>\n",
       "      <td>32.98270</td>\n",
       "      <td>4.58101</td>\n",
       "      <td>NaN</td>\n",
       "      <td>20.03130</td>\n",
       "      <td>16.81150</td>\n",
       "      <td>4.45660</td>\n",
       "      <td>9.94062</td>\n",
       "      <td>21.22400</td>\n",
       "      <td>...</td>\n",
       "      <td>NaN</td>\n",
       "      <td>NaN</td>\n",
       "      <td>31.8257</td>\n",
       "      <td>9.43315</td>\n",
       "      <td>NaN</td>\n",
       "      <td>20.70120</td>\n",
       "      <td>9.46561</td>\n",
       "      <td>NaN</td>\n",
       "      <td>NaN</td>\n",
       "      <td>8.67879</td>\n",
       "    </tr>\n",
       "    <tr>\n",
       "      <th>...</th>\n",
       "      <td>...</td>\n",
       "      <td>...</td>\n",
       "      <td>...</td>\n",
       "      <td>...</td>\n",
       "      <td>...</td>\n",
       "      <td>...</td>\n",
       "      <td>...</td>\n",
       "      <td>...</td>\n",
       "      <td>...</td>\n",
       "      <td>...</td>\n",
       "      <td>...</td>\n",
       "      <td>...</td>\n",
       "      <td>...</td>\n",
       "      <td>...</td>\n",
       "      <td>...</td>\n",
       "      <td>...</td>\n",
       "      <td>...</td>\n",
       "      <td>...</td>\n",
       "      <td>...</td>\n",
       "      <td>...</td>\n",
       "      <td>...</td>\n",
       "    </tr>\n",
       "    <tr>\n",
       "      <th>hcc1187</th>\n",
       "      <td>NaN</td>\n",
       "      <td>47.5081</td>\n",
       "      <td>3.56366</td>\n",
       "      <td>14.95320</td>\n",
       "      <td>NaN</td>\n",
       "      <td>1.16499</td>\n",
       "      <td>NaN</td>\n",
       "      <td>24.22160</td>\n",
       "      <td>7.55196</td>\n",
       "      <td>16.56110</td>\n",
       "      <td>...</td>\n",
       "      <td>2.77604</td>\n",
       "      <td>NaN</td>\n",
       "      <td>11.0935</td>\n",
       "      <td>NaN</td>\n",
       "      <td>NaN</td>\n",
       "      <td>NaN</td>\n",
       "      <td>NaN</td>\n",
       "      <td>2.82842</td>\n",
       "      <td>11.4304</td>\n",
       "      <td>14.08190</td>\n",
       "    </tr>\n",
       "    <tr>\n",
       "      <th>hcc1395</th>\n",
       "      <td>NaN</td>\n",
       "      <td>43.9696</td>\n",
       "      <td>16.58260</td>\n",
       "      <td>4.85285</td>\n",
       "      <td>NaN</td>\n",
       "      <td>6.83762</td>\n",
       "      <td>NaN</td>\n",
       "      <td>22.84010</td>\n",
       "      <td>1.07305</td>\n",
       "      <td>8.20341</td>\n",
       "      <td>...</td>\n",
       "      <td>2.68106</td>\n",
       "      <td>NaN</td>\n",
       "      <td>28.4184</td>\n",
       "      <td>NaN</td>\n",
       "      <td>NaN</td>\n",
       "      <td>NaN</td>\n",
       "      <td>NaN</td>\n",
       "      <td>NaN</td>\n",
       "      <td>NaN</td>\n",
       "      <td>25.93250</td>\n",
       "    </tr>\n",
       "    <tr>\n",
       "      <th>hcc1419</th>\n",
       "      <td>22.15880</td>\n",
       "      <td>60.1592</td>\n",
       "      <td>9.17667</td>\n",
       "      <td>30.24370</td>\n",
       "      <td>NaN</td>\n",
       "      <td>45.63430</td>\n",
       "      <td>NaN</td>\n",
       "      <td>NaN</td>\n",
       "      <td>25.37850</td>\n",
       "      <td>7.86560</td>\n",
       "      <td>...</td>\n",
       "      <td>NaN</td>\n",
       "      <td>14.66430</td>\n",
       "      <td>33.2965</td>\n",
       "      <td>NaN</td>\n",
       "      <td>NaN</td>\n",
       "      <td>NaN</td>\n",
       "      <td>10.02580</td>\n",
       "      <td>NaN</td>\n",
       "      <td>NaN</td>\n",
       "      <td>19.77580</td>\n",
       "    </tr>\n",
       "    <tr>\n",
       "      <th>hcc1428</th>\n",
       "      <td>NaN</td>\n",
       "      <td>16.2026</td>\n",
       "      <td>37.89820</td>\n",
       "      <td>34.44580</td>\n",
       "      <td>NaN</td>\n",
       "      <td>32.10960</td>\n",
       "      <td>NaN</td>\n",
       "      <td>5.66725</td>\n",
       "      <td>15.70810</td>\n",
       "      <td>2.13953</td>\n",
       "      <td>...</td>\n",
       "      <td>NaN</td>\n",
       "      <td>NaN</td>\n",
       "      <td>72.3176</td>\n",
       "      <td>NaN</td>\n",
       "      <td>NaN</td>\n",
       "      <td>NaN</td>\n",
       "      <td>NaN</td>\n",
       "      <td>7.99899</td>\n",
       "      <td>NaN</td>\n",
       "      <td>36.10790</td>\n",
       "    </tr>\n",
       "    <tr>\n",
       "      <th>hcc1569</th>\n",
       "      <td>9.01609</td>\n",
       "      <td>24.1082</td>\n",
       "      <td>106.43600</td>\n",
       "      <td>11.98910</td>\n",
       "      <td>NaN</td>\n",
       "      <td>12.54020</td>\n",
       "      <td>NaN</td>\n",
       "      <td>22.57560</td>\n",
       "      <td>17.15360</td>\n",
       "      <td>19.74760</td>\n",
       "      <td>...</td>\n",
       "      <td>NaN</td>\n",
       "      <td>NaN</td>\n",
       "      <td>10.1748</td>\n",
       "      <td>NaN</td>\n",
       "      <td>NaN</td>\n",
       "      <td>NaN</td>\n",
       "      <td>NaN</td>\n",
       "      <td>4.21015</td>\n",
       "      <td>NaN</td>\n",
       "      <td>17.50470</td>\n",
       "    </tr>\n",
       "  </tbody>\n",
       "</table>\n",
       "<p>300 rows × 6091 columns</p>\n",
       "</div>"
      ],
      "text/plain": [
       "UniprotID    A0AV96   A0AVT1     A0FGR8    A0MZ66  A0PJW6    A1L0T0    A1L390  \\\n",
       "184a1           NaN  13.7158   38.31570       NaN     NaN       NaN  12.02410   \n",
       "cal148     11.39620  62.2443    7.54967  31.83140     NaN   4.34349       NaN   \n",
       "hcc1599    14.86650  74.9893   30.95200  35.22680     NaN  10.79930   7.69869   \n",
       "hcc1806         NaN  24.3564   43.64930  13.71210     NaN  23.36850  18.10510   \n",
       "hcc1937    23.13140  23.8761   32.98270   4.58101     NaN  20.03130  16.81150   \n",
       "...             ...      ...        ...       ...     ...       ...       ...   \n",
       "hcc1187         NaN  47.5081    3.56366  14.95320     NaN   1.16499       NaN   \n",
       "hcc1395         NaN  43.9696   16.58260   4.85285     NaN   6.83762       NaN   \n",
       "hcc1419    22.15880  60.1592    9.17667  30.24370     NaN  45.63430       NaN   \n",
       "hcc1428         NaN  16.2026   37.89820  34.44580     NaN  32.10960       NaN   \n",
       "hcc1569     9.01609  24.1082  106.43600  11.98910     NaN  12.54020       NaN   \n",
       "\n",
       "UniprotID    A1X283    A2RRP1    A3KMH1  ...   Q9Y6V7    Q9Y6W3   Q9Y6W5  \\\n",
       "184a1           NaN  12.01090  30.75640  ...  5.62445       NaN  10.5656   \n",
       "cal148      5.31872   6.89759   1.61165  ...      NaN       NaN  15.6373   \n",
       "hcc1599    77.24460   9.43528  19.44780  ...  5.76010   5.87079  61.0741   \n",
       "hcc1806    17.91770   7.32378  32.65990  ...  4.73728       NaN  48.5096   \n",
       "hcc1937     4.45660   9.94062  21.22400  ...      NaN       NaN  31.8257   \n",
       "...             ...       ...       ...  ...      ...       ...      ...   \n",
       "hcc1187    24.22160   7.55196  16.56110  ...  2.77604       NaN  11.0935   \n",
       "hcc1395    22.84010   1.07305   8.20341  ...  2.68106       NaN  28.4184   \n",
       "hcc1419         NaN  25.37850   7.86560  ...      NaN  14.66430  33.2965   \n",
       "hcc1428     5.66725  15.70810   2.13953  ...      NaN       NaN  72.3176   \n",
       "hcc1569    22.57560  17.15360  19.74760  ...      NaN       NaN  10.1748   \n",
       "\n",
       "UniprotID   Q9Y6X3   Q9Y6X4    Q9Y6X5    Q9Y6X8    Q9Y6X9   Q9Y6Y0    Q9Y6Y8  \n",
       "184a1          NaN  2.52737       NaN       NaN       NaN      NaN   8.27729  \n",
       "cal148         NaN      NaN   3.07059       NaN       NaN      NaN  23.04620  \n",
       "hcc1599        NaN      NaN       NaN   6.60313  15.40790   3.4497  12.19540  \n",
       "hcc1806        NaN  5.19427       NaN       NaN   8.98626      NaN  13.64630  \n",
       "hcc1937    9.43315      NaN  20.70120   9.46561       NaN      NaN   8.67879  \n",
       "...            ...      ...       ...       ...       ...      ...       ...  \n",
       "hcc1187        NaN      NaN       NaN       NaN   2.82842  11.4304  14.08190  \n",
       "hcc1395        NaN      NaN       NaN       NaN       NaN      NaN  25.93250  \n",
       "hcc1419        NaN      NaN       NaN  10.02580       NaN      NaN  19.77580  \n",
       "hcc1428        NaN      NaN       NaN       NaN   7.99899      NaN  36.10790  \n",
       "hcc1569        NaN      NaN       NaN       NaN   4.21015      NaN  17.50470  \n",
       "\n",
       "[300 rows x 6091 columns]"
      ]
     },
     "execution_count": 4,
     "metadata": {},
     "output_type": "execute_result"
    }
   ],
   "source": [
    "bc_protein.index = bc_protein.index.str[:-2]\n",
    "bc_protein"
   ]
  },
  {
   "cell_type": "code",
   "execution_count": 5,
   "id": "872c7d5e-cceb-451c-a6f3-862a06bc946b",
   "metadata": {
    "execution": {
     "iopub.execute_input": "2023-09-19T00:48:22.609324Z",
     "iopub.status.busy": "2023-09-19T00:48:22.609324Z",
     "iopub.status.idle": "2023-09-19T00:48:22.622287Z",
     "shell.execute_reply": "2023-09-19T00:48:22.622287Z",
     "shell.execute_reply.started": "2023-09-19T00:48:22.609324Z"
    },
    "tags": []
   },
   "outputs": [
    {
     "data": {
      "text/plain": [
       "184a1       4\n",
       "efm192a     4\n",
       "uacc3199    4\n",
       "t47d        4\n",
       "sw527       4\n",
       "           ..\n",
       "mcf12a      4\n",
       "cal120      3\n",
       "hcc70       3\n",
       "sum44       3\n",
       "hcc2688     3\n",
       "Length: 76, dtype: int64"
      ]
     },
     "execution_count": 5,
     "metadata": {},
     "output_type": "execute_result"
    }
   ],
   "source": [
    "# maybe take average per cell line?\n",
    "bc_protein.index.value_counts()"
   ]
  },
  {
   "cell_type": "code",
   "execution_count": 6,
   "id": "306a60d2-0066-4e9c-864e-80def7900877",
   "metadata": {
    "execution": {
     "iopub.execute_input": "2023-09-19T00:48:26.395586Z",
     "iopub.status.busy": "2023-09-19T00:48:26.395586Z",
     "iopub.status.idle": "2023-09-19T00:48:26.548102Z",
     "shell.execute_reply": "2023-09-19T00:48:26.547073Z",
     "shell.execute_reply.started": "2023-09-19T00:48:26.395586Z"
    },
    "tags": []
   },
   "outputs": [
    {
     "data": {
      "text/plain": [
       "<Axes: >"
      ]
     },
     "execution_count": 6,
     "metadata": {},
     "output_type": "execute_result"
    },
    {
     "data": {
      "image/png": "[encoded data removed]",
      "text/plain": [
       "<Figure size 640x480 with 1 Axes>"
      ]
     },
     "metadata": {},
     "output_type": "display_data"
    }
   ],
   "source": [
    "bc_protein.isna().sum().hist()"
   ]
  },
  {
   "cell_type": "code",
   "execution_count": 44,
   "id": "bd914d31-cef8-47b2-a2a7-d986b4dcf6e3",
   "metadata": {
    "execution": {
     "iopub.execute_input": "2023-09-15T01:14:55.211574Z",
     "iopub.status.busy": "2023-09-15T01:14:55.211574Z",
     "iopub.status.idle": "2023-09-15T01:14:55.236491Z",
     "shell.execute_reply": "2023-09-15T01:14:55.235494Z",
     "shell.execute_reply.started": "2023-09-15T01:14:55.211574Z"
    },
    "tags": []
   },
   "outputs": [],
   "source": [
    "bc_abundance = bc_protein.to_numpy().reshape([1,-1])\n",
    "bc_abundance = bc_abundance[~np.isnan(bc_abundance)]"
   ]
  },
  {
   "cell_type": "code",
   "execution_count": 45,
   "id": "20d9524b-f021-4c0c-be7f-f4930eccdeb3",
   "metadata": {
    "execution": {
     "iopub.execute_input": "2023-09-15T01:14:56.529468Z",
     "iopub.status.busy": "2023-09-15T01:14:56.529468Z",
     "iopub.status.idle": "2023-09-15T01:14:56.540432Z",
     "shell.execute_reply": "2023-09-15T01:14:56.539434Z",
     "shell.execute_reply.started": "2023-09-15T01:14:56.529468Z"
    },
    "tags": []
   },
   "outputs": [
    {
     "data": {
      "text/plain": [
       "(1198080,)"
      ]
     },
     "execution_count": 45,
     "metadata": {},
     "output_type": "execute_result"
    }
   ],
   "source": [
    "bc_abundance.shape"
   ]
  },
  {
   "cell_type": "code",
   "execution_count": 28,
   "id": "541c4b49-4016-4b2e-9683-88537367439f",
   "metadata": {
    "execution": {
     "iopub.execute_input": "2023-09-15T00:40:10.367233Z",
     "iopub.status.busy": "2023-09-15T00:40:10.366242Z",
     "iopub.status.idle": "2023-09-15T00:40:10.397442Z",
     "shell.execute_reply": "2023-09-15T00:40:10.397442Z",
     "shell.execute_reply.started": "2023-09-15T00:40:10.367233Z"
    },
    "tags": []
   },
   "outputs": [],
   "source": [
    "bc_abundance = abundance[abundance != abundance.max()] #the max value is an extreme outlier of ~39000"
   ]
  },
  {
   "cell_type": "code",
   "execution_count": 49,
   "id": "caea8586-944f-43be-ad95-55abd0412e66",
   "metadata": {
    "execution": {
     "iopub.execute_input": "2023-09-15T01:44:04.492165Z",
     "iopub.status.busy": "2023-09-15T01:44:04.492165Z",
     "iopub.status.idle": "2023-09-15T01:44:04.511118Z",
     "shell.execute_reply": "2023-09-15T01:44:04.511118Z",
     "shell.execute_reply.started": "2023-09-15T01:44:04.492165Z"
    }
   },
   "outputs": [
    {
     "data": {
      "text/plain": [
       "0.0285404"
      ]
     },
     "execution_count": 49,
     "metadata": {},
     "output_type": "execute_result"
    }
   ],
   "source": [
    "bc_abundance.min()"
   ]
  },
  {
   "cell_type": "code",
   "execution_count": 48,
   "id": "ae8adde6-8475-467d-b551-d032f84b6652",
   "metadata": {
    "execution": {
     "iopub.execute_input": "2023-09-15T01:16:46.514560Z",
     "iopub.status.busy": "2023-09-15T01:16:46.514560Z",
     "iopub.status.idle": "2023-09-15T01:16:47.077702Z",
     "shell.execute_reply": "2023-09-15T01:16:47.076732Z",
     "shell.execute_reply.started": "2023-09-15T01:16:46.514560Z"
    },
    "tags": []
   },
   "outputs": [
    {
     "data": {
      "image/png": "[encoded data removed]",
      "text/plain": [
       "<Figure size 640x480 with 1 Axes>"
      ]
     },
     "metadata": {},
     "output_type": "display_data"
    }
   ],
   "source": [
    "sns.histplot(np.log2(bc_abundance), bins=100)\n",
    "plt.axvline(1, 0, c=\"#6D2077\")\n",
    "plt.show()"
   ]
  },
  {
   "cell_type": "code",
   "execution_count": 55,
   "id": "a5f35e93-21d9-4b32-8f78-7bc1d4b0a0f0",
   "metadata": {
    "execution": {
     "iopub.execute_input": "2023-09-05T01:25:22.307454Z",
     "iopub.status.busy": "2023-09-05T01:25:22.307454Z",
     "iopub.status.idle": "2023-09-05T01:25:22.313433Z",
     "shell.execute_reply": "2023-09-05T01:25:22.313433Z",
     "shell.execute_reply.started": "2023-09-05T01:25:22.307454Z"
    }
   },
   "outputs": [
    {
     "data": {
      "text/plain": [
       "(300, 6091)"
      ]
     },
     "execution_count": 55,
     "metadata": {},
     "output_type": "execute_result"
    }
   ],
   "source": [
    "bc_protein.shape"
   ]
  },
  {
   "cell_type": "code",
   "execution_count": 17,
   "id": "89f9d4b2-ff2a-4a47-86b1-a4e2a096c4c7",
   "metadata": {
    "execution": {
     "iopub.execute_input": "2023-09-06T00:51:34.961970Z",
     "iopub.status.busy": "2023-09-06T00:51:34.961970Z",
     "iopub.status.idle": "2023-09-06T00:51:40.029431Z",
     "shell.execute_reply": "2023-09-06T00:51:40.029431Z",
     "shell.execute_reply.started": "2023-09-06T00:51:34.961970Z"
    },
    "tags": []
   },
   "outputs": [
    {
     "data": {
      "text/plain": [
       "5331"
      ]
     },
     "execution_count": 17,
     "metadata": {},
     "output_type": "execute_result"
    }
   ],
   "source": [
    "# overlap proteins\n",
    "sum([p in x.columns.str[:6].to_list() for p in bc_protein.columns])"
   ]
  },
  {
   "cell_type": "code",
   "execution_count": 24,
   "id": "1dbaaf0a-a35e-49fb-9d7e-3842d0e6b939",
   "metadata": {
    "execution": {
     "iopub.execute_input": "2023-09-07T01:56:03.701957Z",
     "iopub.status.busy": "2023-09-07T01:56:03.701957Z",
     "iopub.status.idle": "2023-09-07T01:56:03.732853Z",
     "shell.execute_reply": "2023-09-07T01:56:03.731945Z",
     "shell.execute_reply.started": "2023-09-07T01:56:03.701957Z"
    },
    "tags": []
   },
   "outputs": [],
   "source": [
    "x = x.set_index('Cell_Line')"
   ]
  },
  {
   "cell_type": "code",
   "execution_count": 25,
   "id": "3e93d00b-f9ed-4bc6-828f-7986326450bc",
   "metadata": {
    "execution": {
     "iopub.execute_input": "2023-09-07T01:56:03.733849Z",
     "iopub.status.busy": "2023-09-07T01:56:03.733849Z",
     "iopub.status.idle": "2023-09-07T01:56:03.747371Z",
     "shell.execute_reply": "2023-09-07T01:56:03.747371Z",
     "shell.execute_reply.started": "2023-09-07T01:56:03.733849Z"
    },
    "tags": []
   },
   "outputs": [
    {
     "data": {
      "text/plain": [
       "5331"
      ]
     },
     "execution_count": 25,
     "metadata": {},
     "output_type": "execute_result"
    }
   ],
   "source": [
    "protein_mask = [p in bc_protein for p in x.columns.str[:6]]\n",
    "sum(protein_mask)"
   ]
  },
  {
   "cell_type": "markdown",
   "id": "a9805c11-fba4-4665-8591-bf22df75d249",
   "metadata": {},
   "source": [
    "Take only overlap proteins, but all breast cancer cell lines"
   ]
  },
  {
   "cell_type": "code",
   "execution_count": 26,
   "id": "3b5cce5d-e211-4ad5-8d71-9f00a8395b93",
   "metadata": {
    "execution": {
     "iopub.execute_input": "2023-09-07T01:56:03.749390Z",
     "iopub.status.busy": "2023-09-07T01:56:03.748452Z",
     "iopub.status.idle": "2023-09-07T01:56:03.779265Z",
     "shell.execute_reply": "2023-09-07T01:56:03.778374Z",
     "shell.execute_reply.started": "2023-09-07T01:56:03.749390Z"
    },
    "tags": []
   },
   "outputs": [
    {
     "data": {
      "text/plain": [
       "(949, 5331)"
      ]
     },
     "execution_count": 26,
     "metadata": {},
     "output_type": "execute_result"
    }
   ],
   "source": [
    "x = x[x.columns[protein_mask]]\n",
    "x.shape"
   ]
  },
  {
   "cell_type": "code",
   "execution_count": 87,
   "id": "74dfcc40-c778-46b2-8cbe-7a89ba287ae0",
   "metadata": {
    "execution": {
     "iopub.execute_input": "2023-09-05T04:29:27.504357Z",
     "iopub.status.busy": "2023-09-05T04:29:27.504357Z",
     "iopub.status.idle": "2023-09-05T04:29:27.532872Z",
     "shell.execute_reply": "2023-09-05T04:29:27.532872Z",
     "shell.execute_reply.started": "2023-09-05T04:29:27.504357Z"
    },
    "tags": []
   },
   "outputs": [
    {
     "data": {
      "text/html": [
       "<div>\n",
       "<style scoped>\n",
       "    .dataframe tbody tr th:only-of-type {\n",
       "        vertical-align: middle;\n",
       "    }\n",
       "\n",
       "    .dataframe tbody tr th {\n",
       "        vertical-align: top;\n",
       "    }\n",
       "\n",
       "    .dataframe thead th {\n",
       "        text-align: right;\n",
       "    }\n",
       "</style>\n",
       "<table border=\"1\" class=\"dataframe\">\n",
       "  <thead>\n",
       "    <tr style=\"text-align: right;\">\n",
       "      <th></th>\n",
       "      <th>P37108.SRP14_HUMAN</th>\n",
       "      <th>Q96JP5.ZFP91_HUMAN</th>\n",
       "      <th>Q9Y4H2.IRS2_HUMAN</th>\n",
       "      <th>P36578.RL4_HUMAN</th>\n",
       "      <th>Q6SPF0.SAMD1_HUMAN</th>\n",
       "      <th>O76031.CLPX_HUMAN</th>\n",
       "      <th>Q8WUQ7.CATIN_HUMAN</th>\n",
       "      <th>A6NIH7.U119B_HUMAN</th>\n",
       "      <th>Q9BTD8.RBM42_HUMAN</th>\n",
       "      <th>Q9P258.RCC2_HUMAN</th>\n",
       "      <th>...</th>\n",
       "      <th>Q9NRY2.SOSSC_HUMAN</th>\n",
       "      <th>Q9UHN1.DPOG2_HUMAN</th>\n",
       "      <th>Q9GZQ3.COMD5_HUMAN</th>\n",
       "      <th>Q8IUR0.TPPC5_HUMAN</th>\n",
       "      <th>O15484.CAN5_HUMAN</th>\n",
       "      <th>Q9HBF4.ZFYV1_HUMAN</th>\n",
       "      <th>Q96RT7.GCP6_HUMAN</th>\n",
       "      <th>Q8IVH4.MMAA_HUMAN</th>\n",
       "      <th>Q86SZ2.TPC6B_HUMAN</th>\n",
       "      <th>Q5TA45.INT11_HUMAN</th>\n",
       "    </tr>\n",
       "    <tr>\n",
       "      <th>Cell_Line</th>\n",
       "      <th></th>\n",
       "      <th></th>\n",
       "      <th></th>\n",
       "      <th></th>\n",
       "      <th></th>\n",
       "      <th></th>\n",
       "      <th></th>\n",
       "      <th></th>\n",
       "      <th></th>\n",
       "      <th></th>\n",
       "      <th></th>\n",
       "      <th></th>\n",
       "      <th></th>\n",
       "      <th></th>\n",
       "      <th></th>\n",
       "      <th></th>\n",
       "      <th></th>\n",
       "      <th></th>\n",
       "      <th></th>\n",
       "      <th></th>\n",
       "      <th></th>\n",
       "    </tr>\n",
       "  </thead>\n",
       "  <tbody>\n",
       "    <tr>\n",
       "      <th>K052</th>\n",
       "      <td>7.109545</td>\n",
       "      <td>3.414941</td>\n",
       "      <td>NaN</td>\n",
       "      <td>7.866614</td>\n",
       "      <td>3.895467</td>\n",
       "      <td>4.196655</td>\n",
       "      <td>NaN</td>\n",
       "      <td>NaN</td>\n",
       "      <td>3.190877</td>\n",
       "      <td>7.358065</td>\n",
       "      <td>...</td>\n",
       "      <td>NaN</td>\n",
       "      <td>NaN</td>\n",
       "      <td>2.033698</td>\n",
       "      <td>3.311837</td>\n",
       "      <td>NaN</td>\n",
       "      <td>NaN</td>\n",
       "      <td>1.35322</td>\n",
       "      <td>NaN</td>\n",
       "      <td>NaN</td>\n",
       "      <td>2.639977</td>\n",
       "    </tr>\n",
       "    <tr>\n",
       "      <th>TE-12</th>\n",
       "      <td>6.828022</td>\n",
       "      <td>4.143455</td>\n",
       "      <td>2.237808</td>\n",
       "      <td>7.628785</td>\n",
       "      <td>3.198109</td>\n",
       "      <td>4.609018</td>\n",
       "      <td>NaN</td>\n",
       "      <td>2.47059</td>\n",
       "      <td>3.695348</td>\n",
       "      <td>5.707904</td>\n",
       "      <td>...</td>\n",
       "      <td>NaN</td>\n",
       "      <td>2.802152</td>\n",
       "      <td>NaN</td>\n",
       "      <td>2.328577</td>\n",
       "      <td>NaN</td>\n",
       "      <td>NaN</td>\n",
       "      <td>NaN</td>\n",
       "      <td>NaN</td>\n",
       "      <td>3.13888</td>\n",
       "      <td>3.196077</td>\n",
       "    </tr>\n",
       "    <tr>\n",
       "      <th>TMK-1</th>\n",
       "      <td>7.014256</td>\n",
       "      <td>4.199872</td>\n",
       "      <td>2.440552</td>\n",
       "      <td>8.124585</td>\n",
       "      <td>NaN</td>\n",
       "      <td>4.768811</td>\n",
       "      <td>NaN</td>\n",
       "      <td>NaN</td>\n",
       "      <td>NaN</td>\n",
       "      <td>5.522833</td>\n",
       "      <td>...</td>\n",
       "      <td>1.086323</td>\n",
       "      <td>NaN</td>\n",
       "      <td>NaN</td>\n",
       "      <td>3.337898</td>\n",
       "      <td>NaN</td>\n",
       "      <td>NaN</td>\n",
       "      <td>NaN</td>\n",
       "      <td>NaN</td>\n",
       "      <td>NaN</td>\n",
       "      <td>NaN</td>\n",
       "    </tr>\n",
       "    <tr>\n",
       "      <th>STS-0421</th>\n",
       "      <td>5.285911</td>\n",
       "      <td>3.357894</td>\n",
       "      <td>NaN</td>\n",
       "      <td>7.972680</td>\n",
       "      <td>NaN</td>\n",
       "      <td>4.520923</td>\n",
       "      <td>NaN</td>\n",
       "      <td>NaN</td>\n",
       "      <td>2.730884</td>\n",
       "      <td>4.294287</td>\n",
       "      <td>...</td>\n",
       "      <td>NaN</td>\n",
       "      <td>NaN</td>\n",
       "      <td>NaN</td>\n",
       "      <td>NaN</td>\n",
       "      <td>NaN</td>\n",
       "      <td>NaN</td>\n",
       "      <td>NaN</td>\n",
       "      <td>NaN</td>\n",
       "      <td>NaN</td>\n",
       "      <td>2.790234</td>\n",
       "    </tr>\n",
       "    <tr>\n",
       "      <th>PL4</th>\n",
       "      <td>5.707857</td>\n",
       "      <td>NaN</td>\n",
       "      <td>NaN</td>\n",
       "      <td>6.225738</td>\n",
       "      <td>NaN</td>\n",
       "      <td>4.495795</td>\n",
       "      <td>NaN</td>\n",
       "      <td>NaN</td>\n",
       "      <td>2.879809</td>\n",
       "      <td>NaN</td>\n",
       "      <td>...</td>\n",
       "      <td>NaN</td>\n",
       "      <td>3.737752</td>\n",
       "      <td>NaN</td>\n",
       "      <td>NaN</td>\n",
       "      <td>NaN</td>\n",
       "      <td>NaN</td>\n",
       "      <td>NaN</td>\n",
       "      <td>NaN</td>\n",
       "      <td>NaN</td>\n",
       "      <td>NaN</td>\n",
       "    </tr>\n",
       "    <tr>\n",
       "      <th>...</th>\n",
       "      <td>...</td>\n",
       "      <td>...</td>\n",
       "      <td>...</td>\n",
       "      <td>...</td>\n",
       "      <td>...</td>\n",
       "      <td>...</td>\n",
       "      <td>...</td>\n",
       "      <td>...</td>\n",
       "      <td>...</td>\n",
       "      <td>...</td>\n",
       "      <td>...</td>\n",
       "      <td>...</td>\n",
       "      <td>...</td>\n",
       "      <td>...</td>\n",
       "      <td>...</td>\n",
       "      <td>...</td>\n",
       "      <td>...</td>\n",
       "      <td>...</td>\n",
       "      <td>...</td>\n",
       "      <td>...</td>\n",
       "      <td>...</td>\n",
       "    </tr>\n",
       "    <tr>\n",
       "      <th>CGTH-W-1</th>\n",
       "      <td>6.316308</td>\n",
       "      <td>4.869332</td>\n",
       "      <td>NaN</td>\n",
       "      <td>7.624330</td>\n",
       "      <td>3.926891</td>\n",
       "      <td>4.472120</td>\n",
       "      <td>NaN</td>\n",
       "      <td>NaN</td>\n",
       "      <td>3.484641</td>\n",
       "      <td>5.439826</td>\n",
       "      <td>...</td>\n",
       "      <td>NaN</td>\n",
       "      <td>NaN</td>\n",
       "      <td>NaN</td>\n",
       "      <td>NaN</td>\n",
       "      <td>NaN</td>\n",
       "      <td>NaN</td>\n",
       "      <td>NaN</td>\n",
       "      <td>NaN</td>\n",
       "      <td>NaN</td>\n",
       "      <td>NaN</td>\n",
       "    </tr>\n",
       "    <tr>\n",
       "      <th>H9</th>\n",
       "      <td>6.230865</td>\n",
       "      <td>2.716858</td>\n",
       "      <td>NaN</td>\n",
       "      <td>7.235027</td>\n",
       "      <td>3.420646</td>\n",
       "      <td>4.717799</td>\n",
       "      <td>NaN</td>\n",
       "      <td>NaN</td>\n",
       "      <td>3.625137</td>\n",
       "      <td>6.155179</td>\n",
       "      <td>...</td>\n",
       "      <td>NaN</td>\n",
       "      <td>NaN</td>\n",
       "      <td>NaN</td>\n",
       "      <td>2.680997</td>\n",
       "      <td>NaN</td>\n",
       "      <td>NaN</td>\n",
       "      <td>NaN</td>\n",
       "      <td>NaN</td>\n",
       "      <td>NaN</td>\n",
       "      <td>NaN</td>\n",
       "    </tr>\n",
       "    <tr>\n",
       "      <th>GR-ST</th>\n",
       "      <td>7.004074</td>\n",
       "      <td>NaN</td>\n",
       "      <td>NaN</td>\n",
       "      <td>7.581500</td>\n",
       "      <td>NaN</td>\n",
       "      <td>4.590818</td>\n",
       "      <td>NaN</td>\n",
       "      <td>NaN</td>\n",
       "      <td>3.329604</td>\n",
       "      <td>6.430465</td>\n",
       "      <td>...</td>\n",
       "      <td>NaN</td>\n",
       "      <td>NaN</td>\n",
       "      <td>NaN</td>\n",
       "      <td>NaN</td>\n",
       "      <td>NaN</td>\n",
       "      <td>NaN</td>\n",
       "      <td>NaN</td>\n",
       "      <td>NaN</td>\n",
       "      <td>NaN</td>\n",
       "      <td>NaN</td>\n",
       "    </tr>\n",
       "    <tr>\n",
       "      <th>YMB-1-E</th>\n",
       "      <td>6.765316</td>\n",
       "      <td>3.757772</td>\n",
       "      <td>NaN</td>\n",
       "      <td>7.241326</td>\n",
       "      <td>3.054766</td>\n",
       "      <td>4.740301</td>\n",
       "      <td>NaN</td>\n",
       "      <td>NaN</td>\n",
       "      <td>2.562678</td>\n",
       "      <td>4.247670</td>\n",
       "      <td>...</td>\n",
       "      <td>1.411235</td>\n",
       "      <td>NaN</td>\n",
       "      <td>2.718422</td>\n",
       "      <td>NaN</td>\n",
       "      <td>NaN</td>\n",
       "      <td>NaN</td>\n",
       "      <td>NaN</td>\n",
       "      <td>NaN</td>\n",
       "      <td>NaN</td>\n",
       "      <td>2.463809</td>\n",
       "    </tr>\n",
       "    <tr>\n",
       "      <th>MM1S</th>\n",
       "      <td>6.919821</td>\n",
       "      <td>3.702843</td>\n",
       "      <td>NaN</td>\n",
       "      <td>6.783193</td>\n",
       "      <td>1.895493</td>\n",
       "      <td>4.402940</td>\n",
       "      <td>NaN</td>\n",
       "      <td>NaN</td>\n",
       "      <td>2.727669</td>\n",
       "      <td>4.861987</td>\n",
       "      <td>...</td>\n",
       "      <td>NaN</td>\n",
       "      <td>NaN</td>\n",
       "      <td>NaN</td>\n",
       "      <td>NaN</td>\n",
       "      <td>NaN</td>\n",
       "      <td>NaN</td>\n",
       "      <td>NaN</td>\n",
       "      <td>NaN</td>\n",
       "      <td>NaN</td>\n",
       "      <td>NaN</td>\n",
       "    </tr>\n",
       "  </tbody>\n",
       "</table>\n",
       "<p>949 rows × 5331 columns</p>\n",
       "</div>"
      ],
      "text/plain": [
       "           P37108.SRP14_HUMAN  Q96JP5.ZFP91_HUMAN  Q9Y4H2.IRS2_HUMAN  \\\n",
       "Cell_Line                                                              \n",
       "K052                 7.109545            3.414941                NaN   \n",
       "TE-12                6.828022            4.143455           2.237808   \n",
       "TMK-1                7.014256            4.199872           2.440552   \n",
       "STS-0421             5.285911            3.357894                NaN   \n",
       "PL4                  5.707857                 NaN                NaN   \n",
       "...                       ...                 ...                ...   \n",
       "CGTH-W-1             6.316308            4.869332                NaN   \n",
       "H9                   6.230865            2.716858                NaN   \n",
       "GR-ST                7.004074                 NaN                NaN   \n",
       "YMB-1-E              6.765316            3.757772                NaN   \n",
       "MM1S                 6.919821            3.702843                NaN   \n",
       "\n",
       "           P36578.RL4_HUMAN  Q6SPF0.SAMD1_HUMAN  O76031.CLPX_HUMAN  \\\n",
       "Cell_Line                                                            \n",
       "K052               7.866614            3.895467           4.196655   \n",
       "TE-12              7.628785            3.198109           4.609018   \n",
       "TMK-1              8.124585                 NaN           4.768811   \n",
       "STS-0421           7.972680                 NaN           4.520923   \n",
       "PL4                6.225738                 NaN           4.495795   \n",
       "...                     ...                 ...                ...   \n",
       "CGTH-W-1           7.624330            3.926891           4.472120   \n",
       "H9                 7.235027            3.420646           4.717799   \n",
       "GR-ST              7.581500                 NaN           4.590818   \n",
       "YMB-1-E            7.241326            3.054766           4.740301   \n",
       "MM1S               6.783193            1.895493           4.402940   \n",
       "\n",
       "           Q8WUQ7.CATIN_HUMAN  A6NIH7.U119B_HUMAN  Q9BTD8.RBM42_HUMAN  \\\n",
       "Cell_Line                                                               \n",
       "K052                      NaN                 NaN            3.190877   \n",
       "TE-12                     NaN             2.47059            3.695348   \n",
       "TMK-1                     NaN                 NaN                 NaN   \n",
       "STS-0421                  NaN                 NaN            2.730884   \n",
       "PL4                       NaN                 NaN            2.879809   \n",
       "...                       ...                 ...                 ...   \n",
       "CGTH-W-1                  NaN                 NaN            3.484641   \n",
       "H9                        NaN                 NaN            3.625137   \n",
       "GR-ST                     NaN                 NaN            3.329604   \n",
       "YMB-1-E                   NaN                 NaN            2.562678   \n",
       "MM1S                      NaN                 NaN            2.727669   \n",
       "\n",
       "           Q9P258.RCC2_HUMAN  ...  Q9NRY2.SOSSC_HUMAN  Q9UHN1.DPOG2_HUMAN  \\\n",
       "Cell_Line                     ...                                           \n",
       "K052                7.358065  ...                 NaN                 NaN   \n",
       "TE-12               5.707904  ...                 NaN            2.802152   \n",
       "TMK-1               5.522833  ...            1.086323                 NaN   \n",
       "STS-0421            4.294287  ...                 NaN                 NaN   \n",
       "PL4                      NaN  ...                 NaN            3.737752   \n",
       "...                      ...  ...                 ...                 ...   \n",
       "CGTH-W-1            5.439826  ...                 NaN                 NaN   \n",
       "H9                  6.155179  ...                 NaN                 NaN   \n",
       "GR-ST               6.430465  ...                 NaN                 NaN   \n",
       "YMB-1-E             4.247670  ...            1.411235                 NaN   \n",
       "MM1S                4.861987  ...                 NaN                 NaN   \n",
       "\n",
       "           Q9GZQ3.COMD5_HUMAN  Q8IUR0.TPPC5_HUMAN  O15484.CAN5_HUMAN  \\\n",
       "Cell_Line                                                              \n",
       "K052                 2.033698            3.311837                NaN   \n",
       "TE-12                     NaN            2.328577                NaN   \n",
       "TMK-1                     NaN            3.337898                NaN   \n",
       "STS-0421                  NaN                 NaN                NaN   \n",
       "PL4                       NaN                 NaN                NaN   \n",
       "...                       ...                 ...                ...   \n",
       "CGTH-W-1                  NaN                 NaN                NaN   \n",
       "H9                        NaN            2.680997                NaN   \n",
       "GR-ST                     NaN                 NaN                NaN   \n",
       "YMB-1-E              2.718422                 NaN                NaN   \n",
       "MM1S                      NaN                 NaN                NaN   \n",
       "\n",
       "           Q9HBF4.ZFYV1_HUMAN  Q96RT7.GCP6_HUMAN  Q8IVH4.MMAA_HUMAN  \\\n",
       "Cell_Line                                                             \n",
       "K052                      NaN            1.35322                NaN   \n",
       "TE-12                     NaN                NaN                NaN   \n",
       "TMK-1                     NaN                NaN                NaN   \n",
       "STS-0421                  NaN                NaN                NaN   \n",
       "PL4                       NaN                NaN                NaN   \n",
       "...                       ...                ...                ...   \n",
       "CGTH-W-1                  NaN                NaN                NaN   \n",
       "H9                        NaN                NaN                NaN   \n",
       "GR-ST                     NaN                NaN                NaN   \n",
       "YMB-1-E                   NaN                NaN                NaN   \n",
       "MM1S                      NaN                NaN                NaN   \n",
       "\n",
       "           Q86SZ2.TPC6B_HUMAN  Q5TA45.INT11_HUMAN  \n",
       "Cell_Line                                          \n",
       "K052                      NaN            2.639977  \n",
       "TE-12                 3.13888            3.196077  \n",
       "TMK-1                     NaN                 NaN  \n",
       "STS-0421                  NaN            2.790234  \n",
       "PL4                       NaN                 NaN  \n",
       "...                       ...                 ...  \n",
       "CGTH-W-1                  NaN                 NaN  \n",
       "H9                        NaN                 NaN  \n",
       "GR-ST                     NaN                 NaN  \n",
       "YMB-1-E                   NaN            2.463809  \n",
       "MM1S                      NaN                 NaN  \n",
       "\n",
       "[949 rows x 5331 columns]"
      ]
     },
     "execution_count": 87,
     "metadata": {},
     "output_type": "execute_result"
    }
   ],
   "source": [
    "x"
   ]
  },
  {
   "cell_type": "code",
   "execution_count": 88,
   "id": "65139d49-bb95-4a89-9ea5-e99489163c1a",
   "metadata": {
    "execution": {
     "iopub.execute_input": "2023-09-05T04:30:21.422354Z",
     "iopub.status.busy": "2023-09-05T04:30:21.422354Z",
     "iopub.status.idle": "2023-09-05T04:30:21.583328Z",
     "shell.execute_reply": "2023-09-05T04:30:21.582338Z",
     "shell.execute_reply.started": "2023-09-05T04:30:21.422354Z"
    },
    "tags": []
   },
   "outputs": [],
   "source": [
    "x[train_mask].to_csv(\"data/train_breast_matrix.csv\", index=True) \n",
    "x[test_mask].to_csv(\"data/test_breast_matrix.csv\", index=True)"
   ]
  },
  {
   "cell_type": "code",
   "execution_count": 73,
   "id": "e2331ba0-b644-4072-a123-42f90ff6d120",
   "metadata": {
    "execution": {
     "iopub.execute_input": "2023-09-05T03:25:26.519565Z",
     "iopub.status.busy": "2023-09-05T03:25:26.519565Z",
     "iopub.status.idle": "2023-09-05T03:25:31.655124Z",
     "shell.execute_reply": "2023-09-05T03:25:31.655124Z",
     "shell.execute_reply.started": "2023-09-05T03:25:26.519565Z"
    },
    "tags": []
   },
   "outputs": [
    {
     "data": {
      "text/plain": [
       "Index(['A0PJW6', 'A4D1U4', 'A5A3E0', 'A5PLN9', 'A6ND36', 'A6NGQ2', 'A6NL28',\n",
       "       'A7E2V4', 'A7KAX9', 'C9JI98',\n",
       "       ...\n",
       "       'Q9Y6A9', 'Q9Y6G3', 'Q9Y6G5', 'Q9Y6I4', 'Q9Y6I8', 'Q9Y6J9', 'Q9Y6K0',\n",
       "       'Q9Y6R4', 'Q9Y6W3', 'Q9Y6X3'],\n",
       "      dtype='object', name='UniprotID', length=760)"
      ]
     },
     "execution_count": 73,
     "metadata": {},
     "output_type": "execute_result"
    }
   ],
   "source": [
    "bc_protein.columns[[p not in x.columns.str[:6].to_list() for p in bc_protein.columns]]"
   ]
  },
  {
   "cell_type": "markdown",
   "id": "54edad9d-10c8-4b06-acb9-b41244b77114",
   "metadata": {},
   "source": [
    "bc uses gene names and not protein names, use only uniport handle to compare"
   ]
  },
  {
   "cell_type": "markdown",
   "id": "6bf5f383-2f83-4b26-99d2-ce09b92e5144",
   "metadata": {},
   "source": [
    "#### subset"
   ]
  },
  {
   "cell_type": "code",
   "execution_count": 27,
   "id": "703fb6a9-9050-47da-89d1-1763b98cbf10",
   "metadata": {
    "execution": {
     "iopub.execute_input": "2023-09-07T01:56:03.780262Z",
     "iopub.status.busy": "2023-09-07T01:56:03.780262Z",
     "iopub.status.idle": "2023-09-07T01:56:03.795213Z",
     "shell.execute_reply": "2023-09-07T01:56:03.794215Z",
     "shell.execute_reply.started": "2023-09-07T01:56:03.780262Z"
    },
    "tags": []
   },
   "outputs": [
    {
     "data": {
      "text/plain": [
       "(655, 164)"
      ]
     },
     "execution_count": 27,
     "metadata": {},
     "output_type": "execute_result"
    }
   ],
   "source": [
    "cell_lines = subset.cell_line_name.unique()\n",
    "cl_train, cl_test = train_test_split(cell_lines, test_size=0.2, train_size=0.8, random_state=42)\n",
    "len(cl_train), len(cl_test)"
   ]
  },
  {
   "cell_type": "code",
   "execution_count": 28,
   "id": "bafbf9bd-2f8c-4208-87c2-2f278cfbf231",
   "metadata": {
    "execution": {
     "iopub.execute_input": "2023-09-07T01:56:03.796208Z",
     "iopub.status.busy": "2023-09-07T01:56:03.796208Z",
     "iopub.status.idle": "2023-09-07T01:56:03.840061Z",
     "shell.execute_reply": "2023-09-07T01:56:03.840061Z",
     "shell.execute_reply.started": "2023-09-07T01:56:03.796208Z"
    },
    "tags": []
   },
   "outputs": [
    {
     "data": {
      "text/plain": [
       "(629, 155)"
      ]
     },
     "execution_count": 28,
     "metadata": {},
     "output_type": "execute_result"
    }
   ],
   "source": [
    "train_mask = [c in cl_train for c in x.index]\n",
    "test_mask = [c in cl_test for c in x.index]\n",
    "sum(train_mask), sum(test_mask)"
   ]
  },
  {
   "cell_type": "code",
   "execution_count": 24,
   "id": "9271d954-1af5-45c6-92ff-0bf6d2903ec4",
   "metadata": {
    "execution": {
     "iopub.execute_input": "2023-09-06T00:54:43.185864Z",
     "iopub.status.busy": "2023-09-06T00:54:43.184869Z",
     "iopub.status.idle": "2023-09-06T00:54:44.849262Z",
     "shell.execute_reply": "2023-09-06T00:54:44.849262Z",
     "shell.execute_reply.started": "2023-09-06T00:54:43.185864Z"
    },
    "tags": []
   },
   "outputs": [],
   "source": [
    "x[train_mask].to_csv(\"data/train_subset_matrix.csv\", index=True) \n",
    "x[test_mask].to_csv(\"data/test_subset_matrix.csv\", index=True)"
   ]
  },
  {
   "cell_type": "code",
   "execution_count": 34,
   "id": "6db60fd6-c4ad-4031-a25b-4270199c76dd",
   "metadata": {
    "execution": {
     "iopub.execute_input": "2023-09-07T01:58:54.712775Z",
     "iopub.status.busy": "2023-09-07T01:58:54.711778Z",
     "iopub.status.idle": "2023-09-07T01:58:57.528397Z",
     "shell.execute_reply": "2023-09-07T01:58:57.527428Z",
     "shell.execute_reply.started": "2023-09-07T01:58:54.712775Z"
    },
    "tags": []
   },
   "outputs": [],
   "source": [
    "x[np.add(train_mask, test_mask)].to_csv(\"data/subset_matrix.csv\", index=True)"
   ]
  },
  {
   "cell_type": "code",
   "execution_count": 33,
   "id": "2bc8fc0e-b4af-49b0-a9a8-f3f1b24f14f6",
   "metadata": {
    "execution": {
     "iopub.execute_input": "2023-09-07T01:58:46.680471Z",
     "iopub.status.busy": "2023-09-07T01:58:46.679475Z",
     "iopub.status.idle": "2023-09-07T01:58:46.688988Z",
     "shell.execute_reply": "2023-09-07T01:58:46.688988Z",
     "shell.execute_reply.started": "2023-09-07T01:58:46.680471Z"
    },
    "tags": []
   },
   "outputs": [
    {
     "data": {
      "text/plain": [
       "(949,)"
      ]
     },
     "execution_count": 33,
     "metadata": {},
     "output_type": "execute_result"
    }
   ],
   "source": [
    "np.add(train_mask, test_mask).shape"
   ]
  },
  {
   "cell_type": "markdown",
   "id": "65e48d1c-64f7-4224-b059-9948f7d2efe7",
   "metadata": {},
   "source": [
    "### PCA"
   ]
  },
  {
   "cell_type": "code",
   "execution_count": 2,
   "id": "f8f24e59-e36d-4a16-b041-a88c7a3bf0ec",
   "metadata": {
    "execution": {
     "iopub.execute_input": "2023-10-03T22:53:54.408927Z",
     "iopub.status.busy": "2023-10-03T22:53:54.408927Z",
     "iopub.status.idle": "2023-10-03T22:53:54.527060Z",
     "shell.execute_reply": "2023-10-03T22:53:54.526435Z",
     "shell.execute_reply.started": "2023-10-03T22:53:54.408927Z"
    },
    "tags": []
   },
   "outputs": [],
   "source": [
    "from sklearn.decomposition import PCA"
   ]
  },
  {
   "cell_type": "code",
   "execution_count": 163,
   "id": "74b22e10-b022-45cb-9e61-6ada4d0d066d",
   "metadata": {
    "execution": {
     "iopub.execute_input": "2023-10-04T03:16:11.841969Z",
     "iopub.status.busy": "2023-10-04T03:16:11.840963Z",
     "iopub.status.idle": "2023-10-04T03:16:12.719833Z",
     "shell.execute_reply": "2023-10-04T03:16:12.717844Z",
     "shell.execute_reply.started": "2023-10-04T03:16:11.841969Z"
    },
    "tags": []
   },
   "outputs": [],
   "source": [
    "bc = pd.read_csv('data/bc_protein.csv').set_index('Cell_Line')  # updated to log2 values\n",
    "pc = pd.read_csv('data/pc_protein.csv').set_index('Cell_Line')"
   ]
  },
  {
   "cell_type": "code",
   "execution_count": 167,
   "id": "0f5b0471-7b1d-4ef3-92b1-e7cf10355f59",
   "metadata": {
    "execution": {
     "iopub.execute_input": "2023-10-04T03:18:04.495156Z",
     "iopub.status.busy": "2023-10-04T03:18:04.495156Z",
     "iopub.status.idle": "2023-10-04T03:18:04.514055Z",
     "shell.execute_reply": "2023-10-04T03:18:04.513059Z",
     "shell.execute_reply.started": "2023-10-04T03:18:04.495156Z"
    },
    "tags": []
   },
   "outputs": [],
   "source": [
    "proteins = bc.columns.to_numpy()"
   ]
  },
  {
   "cell_type": "code",
   "execution_count": 123,
   "id": "298518b9-a9df-4027-b385-f8662f6385d8",
   "metadata": {
    "execution": {
     "iopub.execute_input": "2023-10-04T02:56:18.027215Z",
     "iopub.status.busy": "2023-10-04T02:56:18.026219Z",
     "iopub.status.idle": "2023-10-04T02:56:18.116914Z",
     "shell.execute_reply": "2023-10-04T02:56:18.116914Z",
     "shell.execute_reply.started": "2023-10-04T02:56:18.027215Z"
    },
    "tags": []
   },
   "outputs": [],
   "source": [
    "def shift(x, oldLow=-5, oldHigh=16, newLow=0, newHigh=21):\n",
    "    return ((x - oldLow) / (oldHigh - oldLow) * (newHigh - newLow) + newLow )\n",
    "\n",
    "pc = pc.apply(shift, raw=True)\n",
    "bc = bc.apply(shift, raw=True)"
   ]
  },
  {
   "cell_type": "code",
   "execution_count": 97,
   "id": "dfa5592b-93f3-4ca4-8774-3b28676f6790",
   "metadata": {
    "execution": {
     "iopub.execute_input": "2023-10-03T23:29:35.158546Z",
     "iopub.status.busy": "2023-10-03T23:29:35.157542Z",
     "iopub.status.idle": "2023-10-03T23:29:35.168622Z",
     "shell.execute_reply": "2023-10-03T23:29:35.168622Z",
     "shell.execute_reply.started": "2023-10-03T23:29:35.158546Z"
    },
    "tags": []
   },
   "outputs": [],
   "source": [
    "def remove_nan(x, test):\n",
    "    t = 0.2\n",
    "    n = x.shape[0]\n",
    "    # count missing over full data set?\n",
    "    na_count = x.isna().sum(axis=0)\n",
    "    mask = na_count.iloc[:].apply(lambda x: x > t * n)  # ture for all proteins, that have more nan than the threshold t\n",
    "    x = x.drop(columns=na_count.index[mask])\n",
    "    test = test.drop(columns=na_count.index[mask])\n",
    "    return x, test"
   ]
  },
  {
   "cell_type": "code",
   "execution_count": 98,
   "id": "8ee195b6-0c98-4126-8b64-76cc6ae6d1cc",
   "metadata": {
    "execution": {
     "iopub.execute_input": "2023-10-03T23:29:35.769317Z",
     "iopub.status.busy": "2023-10-03T23:29:35.768273Z",
     "iopub.status.idle": "2023-10-03T23:29:35.802007Z",
     "shell.execute_reply": "2023-10-03T23:29:35.802007Z",
     "shell.execute_reply.started": "2023-10-03T23:29:35.769317Z"
    },
    "tags": []
   },
   "outputs": [
    {
     "data": {
      "text/plain": [
       "(784, 2335)"
      ]
     },
     "execution_count": 98,
     "metadata": {},
     "output_type": "execute_result"
    }
   ],
   "source": [
    "pc, bc = remove_nan(pc, bc)\n",
    "pc.shape"
   ]
  },
  {
   "cell_type": "code",
   "execution_count": 124,
   "id": "23511e68-a83e-4cfa-9c7d-254fb79e76f1",
   "metadata": {
    "execution": {
     "iopub.execute_input": "2023-10-04T02:56:25.323666Z",
     "iopub.status.busy": "2023-10-04T02:56:25.323666Z",
     "iopub.status.idle": "2023-10-04T02:56:25.576867Z",
     "shell.execute_reply": "2023-10-04T02:56:25.575877Z",
     "shell.execute_reply.started": "2023-10-04T02:56:25.323666Z"
    },
    "tags": []
   },
   "outputs": [
    {
     "data": {
      "image/png": "[encoded data removed]",
      "text/plain": [
       "<Figure size 640x480 with 1 Axes>"
      ]
     },
     "metadata": {},
     "output_type": "display_data"
    }
   ],
   "source": [
    "pca = PCA(n_components=2).fit(pc.fillna(0).values[:, :-1])\n",
    "pc_trans = pca.transform(pc.fillna(0).values[:,:-1])\n",
    "\n",
    "bc_trans = pca.transform(bc.fillna(0).values[:,:-1])\n",
    "\n",
    "fig = plt.figure()\n",
    "ax1 = fig.add_subplot(111)\n",
    "\n",
    "ax1.scatter(x=pc_trans[:,0], y=pc_trans[:,1],c = 'b', label='pc', alpha=0.7)\n",
    "ax1.scatter(x=bc_trans[:,0], y=bc_trans[:,1],c = 'r', label='bc', alpha=0.7)\n",
    "\n",
    "plt.legend(loc='upper right')\n",
    "plt.show()"
   ]
  },
  {
   "cell_type": "code",
   "execution_count": 125,
   "id": "f87c4418-6fba-4438-9c3b-688169a2421b",
   "metadata": {
    "execution": {
     "iopub.execute_input": "2023-10-04T02:56:35.949489Z",
     "iopub.status.busy": "2023-10-04T02:56:35.949489Z",
     "iopub.status.idle": "2023-10-04T02:56:36.021248Z",
     "shell.execute_reply": "2023-10-04T02:56:36.020256Z",
     "shell.execute_reply.started": "2023-10-04T02:56:35.949489Z"
    },
    "tags": []
   },
   "outputs": [],
   "source": [
    "bc['data'] = 'bc'\n",
    "pc['data'] = 'pc'\n",
    "\n",
    "data = pd.concat([bc, pc], join = 'inner').fillna(0)"
   ]
  },
  {
   "cell_type": "code",
   "execution_count": 126,
   "id": "7a862850-99df-4f65-8e6e-d7cac9d67f51",
   "metadata": {
    "execution": {
     "iopub.execute_input": "2023-10-04T02:56:37.498500Z",
     "iopub.status.busy": "2023-10-04T02:56:37.497495Z",
     "iopub.status.idle": "2023-10-04T02:56:38.002899Z",
     "shell.execute_reply": "2023-10-04T02:56:38.001944Z",
     "shell.execute_reply.started": "2023-10-04T02:56:37.498500Z"
    },
    "tags": []
   },
   "outputs": [],
   "source": [
    "pca = PCA(n_components=2).fit(data.values[:, :-1])\n",
    "transformed = pca.transform(data.values[:,:-1])"
   ]
  },
  {
   "cell_type": "code",
   "execution_count": 127,
   "id": "487454d0-e738-4b84-b694-ff64c58155d8",
   "metadata": {
    "execution": {
     "iopub.execute_input": "2023-10-04T02:56:38.754011Z",
     "iopub.status.busy": "2023-10-04T02:56:38.754011Z",
     "iopub.status.idle": "2023-10-04T02:56:38.967135Z",
     "shell.execute_reply": "2023-10-04T02:56:38.966137Z",
     "shell.execute_reply.started": "2023-10-04T02:56:38.754011Z"
    },
    "tags": []
   },
   "outputs": [
    {
     "data": {
      "image/png": "[encoded data removed]",
      "text/plain": [
       "<Figure size 566.5x500 with 1 Axes>"
      ]
     },
     "metadata": {},
     "output_type": "display_data"
    }
   ],
   "source": [
    "pca_plot = sns.relplot(x=transformed[:,0], y=transformed[:,1], hue  = data.data)\n",
    "\n",
    "plt.show()"
   ]
  },
  {
   "cell_type": "code",
   "execution_count": 192,
   "id": "7852d755-6335-43fc-b2ca-cfc6d22bde4f",
   "metadata": {
    "execution": {
     "iopub.execute_input": "2023-10-04T03:22:43.070812Z",
     "iopub.status.busy": "2023-10-04T03:22:43.070812Z",
     "iopub.status.idle": "2023-10-04T03:22:43.090303Z",
     "shell.execute_reply": "2023-10-04T03:22:43.090303Z",
     "shell.execute_reply.started": "2023-10-04T03:22:43.070812Z"
    },
    "tags": []
   },
   "outputs": [
    {
     "data": {
      "text/plain": [
       "pc    46\n",
       "bc    44\n",
       "Name: data, dtype: int64"
      ]
     },
     "execution_count": 192,
     "metadata": {},
     "output_type": "execute_result"
    }
   ],
   "source": [
    "data.index = data.index.str.replace('-', '').str.lower()\n",
    "\n",
    "overlap = data[data.index.duplicated(keep=False)]\n",
    "\n",
    "overlap.data.value_counts()"
   ]
  },
  {
   "cell_type": "code",
   "execution_count": 193,
   "id": "971b59fe-66b6-4d56-891b-96daf6fb3c97",
   "metadata": {
    "execution": {
     "iopub.execute_input": "2023-10-04T03:22:43.948714Z",
     "iopub.status.busy": "2023-10-04T03:22:43.947717Z",
     "iopub.status.idle": "2023-10-04T03:22:44.029783Z",
     "shell.execute_reply": "2023-10-04T03:22:44.028780Z",
     "shell.execute_reply.started": "2023-10-04T03:22:43.948714Z"
    },
    "tags": []
   },
   "outputs": [],
   "source": [
    "pca = PCA(n_components=6).fit(overlap.values[:, :-1])\n",
    "transformed = pca.transform(overlap.values[:,:-1])"
   ]
  },
  {
   "cell_type": "code",
   "execution_count": 195,
   "id": "6b4cd1b2-4ea1-44e1-931b-07d05db59781",
   "metadata": {
    "execution": {
     "iopub.execute_input": "2023-10-04T03:23:03.716162Z",
     "iopub.status.busy": "2023-10-04T03:23:03.716162Z",
     "iopub.status.idle": "2023-10-04T03:23:03.907762Z",
     "shell.execute_reply": "2023-10-04T03:23:03.906769Z",
     "shell.execute_reply.started": "2023-10-04T03:23:03.716162Z"
    },
    "tags": []
   },
   "outputs": [
    {
     "data": {
      "image/png": "[encoded data removed]",
      "text/plain": [
       "<Figure size 566.5x500 with 1 Axes>"
      ]
     },
     "metadata": {},
     "output_type": "display_data"
    }
   ],
   "source": [
    "pca_plot = sns.relplot(x=transformed[:,0], y=transformed[:,1], hue  = overlap.data)\n",
    "\n",
    "plt.show()"
   ]
  },
  {
   "cell_type": "code",
   "execution_count": 196,
   "id": "47564135-11ec-4a3a-a68c-e75efd64d155",
   "metadata": {
    "execution": {
     "iopub.execute_input": "2023-10-04T03:23:08.712890Z",
     "iopub.status.busy": "2023-10-04T03:23:08.712890Z",
     "iopub.status.idle": "2023-10-04T03:23:08.733869Z",
     "shell.execute_reply": "2023-10-04T03:23:08.732890Z",
     "shell.execute_reply.started": "2023-10-04T03:23:08.712890Z"
    },
    "tags": []
   },
   "outputs": [
    {
     "data": {
      "text/plain": [
       "array([0.31289081, 0.08318471, 0.04597506, 0.03085004, 0.02704558,\n",
       "       0.02389305])"
      ]
     },
     "execution_count": 196,
     "metadata": {},
     "output_type": "execute_result"
    }
   ],
   "source": [
    "pca.explained_variance_ratio_"
   ]
  },
  {
   "cell_type": "code",
   "execution_count": 161,
   "id": "8ebe244b-0bee-4950-b7b0-6c13cbccc5cf",
   "metadata": {
    "execution": {
     "iopub.execute_input": "2023-10-04T03:12:26.246245Z",
     "iopub.status.busy": "2023-10-04T03:12:26.245252Z",
     "iopub.status.idle": "2023-10-04T03:12:26.259212Z",
     "shell.execute_reply": "2023-10-04T03:12:26.258215Z",
     "shell.execute_reply.started": "2023-10-04T03:12:26.246245Z"
    },
    "tags": []
   },
   "outputs": [
    {
     "data": {
      "text/plain": [
       "(5331,)"
      ]
     },
     "execution_count": 161,
     "metadata": {},
     "output_type": "execute_result"
    }
   ],
   "source": [
    "pca.components_[0].shape"
   ]
  },
  {
   "cell_type": "code",
   "execution_count": 322,
   "id": "9652fafc-5a34-4949-a3e6-702892d142ea",
   "metadata": {
    "execution": {
     "iopub.execute_input": "2023-10-04T05:00:49.813414Z",
     "iopub.status.busy": "2023-10-04T05:00:49.813414Z",
     "iopub.status.idle": "2023-10-04T05:00:49.950867Z",
     "shell.execute_reply": "2023-10-04T05:00:49.950867Z",
     "shell.execute_reply.started": "2023-10-04T05:00:49.813414Z"
    },
    "tags": []
   },
   "outputs": [
    {
     "data": {
      "text/plain": [
       "<matplotlib.lines.Line2D at 0x1ffa722c310>"
      ]
     },
     "execution_count": 322,
     "metadata": {},
     "output_type": "execute_result"
    },
    {
     "data": {
      "image/png": "[encoded data removed]",
      "text/plain": [
       "<Figure size 640x480 with 1 Axes>"
      ]
     },
     "metadata": {},
     "output_type": "display_data"
    }
   ],
   "source": [
    "plt.scatter(range(5331), sorted(pca.components_[0]))\n",
    "plt.axhline(0.005, 0, c=\"#6D2077\")\n",
    "plt.axhline(-0.005, 0, c=\"#6D2077\")"
   ]
  },
  {
   "cell_type": "code",
   "execution_count": 270,
   "id": "9dcc2d92-d5ce-4258-b05b-d571e4ac6d6a",
   "metadata": {
    "execution": {
     "iopub.execute_input": "2023-10-04T03:43:10.680365Z",
     "iopub.status.busy": "2023-10-04T03:43:10.679359Z",
     "iopub.status.idle": "2023-10-04T03:43:10.698281Z",
     "shell.execute_reply": "2023-10-04T03:43:10.697284Z",
     "shell.execute_reply.started": "2023-10-04T03:43:10.680365Z"
    },
    "tags": []
   },
   "outputs": [],
   "source": [
    "pca_prots = proteins[(pca.components_[0] < 0.005) & (pca.components_[0] > -0.005)]"
   ]
  },
  {
   "cell_type": "code",
   "execution_count": 271,
   "id": "0f3a871d-942d-4c18-a851-0eab15e812ab",
   "metadata": {
    "execution": {
     "iopub.execute_input": "2023-10-04T03:43:11.563277Z",
     "iopub.status.busy": "2023-10-04T03:43:11.563277Z",
     "iopub.status.idle": "2023-10-04T03:43:11.569257Z",
     "shell.execute_reply": "2023-10-04T03:43:11.569257Z",
     "shell.execute_reply.started": "2023-10-04T03:43:11.563277Z"
    },
    "tags": []
   },
   "outputs": [
    {
     "data": {
      "text/plain": [
       "(951,)"
      ]
     },
     "execution_count": 271,
     "metadata": {},
     "output_type": "execute_result"
    }
   ],
   "source": [
    "pca_prots.shape"
   ]
  },
  {
   "cell_type": "code",
   "execution_count": 272,
   "id": "e91157fe-951e-43b9-8d09-d7b4363bed68",
   "metadata": {
    "execution": {
     "iopub.execute_input": "2023-10-04T03:43:12.403830Z",
     "iopub.status.busy": "2023-10-04T03:43:12.403830Z",
     "iopub.status.idle": "2023-10-04T03:43:12.474781Z",
     "shell.execute_reply": "2023-10-04T03:43:12.474781Z",
     "shell.execute_reply.started": "2023-10-04T03:43:12.403830Z"
    },
    "tags": []
   },
   "outputs": [],
   "source": [
    "bc['data'] = 'bc'\n",
    "pc['data'] = 'pc'\n",
    "\n",
    "data = pd.concat([bc, pc], join = 'inner').fillna(0)"
   ]
  },
  {
   "cell_type": "code",
   "execution_count": 273,
   "id": "2eeb7e37-0e6e-4e60-a11a-ef511986ef16",
   "metadata": {
    "execution": {
     "iopub.execute_input": "2023-10-04T03:43:12.959607Z",
     "iopub.status.busy": "2023-10-04T03:43:12.959607Z",
     "iopub.status.idle": "2023-10-04T03:43:12.976995Z",
     "shell.execute_reply": "2023-10-04T03:43:12.975998Z",
     "shell.execute_reply.started": "2023-10-04T03:43:12.959607Z"
    },
    "tags": []
   },
   "outputs": [],
   "source": [
    "data.index = data.index.str.replace('-', '').str.lower()"
   ]
  },
  {
   "cell_type": "code",
   "execution_count": 274,
   "id": "b5900dee-0942-4fb4-8c6a-aa271f0a2d71",
   "metadata": {
    "execution": {
     "iopub.execute_input": "2023-10-04T03:43:13.395873Z",
     "iopub.status.busy": "2023-10-04T03:43:13.395873Z",
     "iopub.status.idle": "2023-10-04T03:43:13.416892Z",
     "shell.execute_reply": "2023-10-04T03:43:13.415894Z",
     "shell.execute_reply.started": "2023-10-04T03:43:13.395873Z"
    },
    "tags": []
   },
   "outputs": [],
   "source": [
    "pca_data = data[list(pca_prots) + ['data']]"
   ]
  },
  {
   "cell_type": "code",
   "execution_count": 281,
   "id": "1d91e8f1-e015-4cc1-a572-c96ad5106be9",
   "metadata": {
    "execution": {
     "iopub.execute_input": "2023-10-04T03:43:52.321826Z",
     "iopub.status.busy": "2023-10-04T03:43:52.321826Z",
     "iopub.status.idle": "2023-10-04T03:43:52.341440Z",
     "shell.execute_reply": "2023-10-04T03:43:52.341440Z",
     "shell.execute_reply.started": "2023-10-04T03:43:52.321826Z"
    },
    "tags": []
   },
   "outputs": [
    {
     "data": {
      "text/plain": [
       "pc    46\n",
       "bc    44\n",
       "Name: data, dtype: int64"
      ]
     },
     "execution_count": 281,
     "metadata": {},
     "output_type": "execute_result"
    }
   ],
   "source": [
    "pca_overlap = pca_data[pca_data.index.duplicated(keep=False)]\n",
    "\n",
    "pca_overlap.data.value_counts()"
   ]
  },
  {
   "cell_type": "code",
   "execution_count": 282,
   "id": "9d9ee319-193f-441d-b4e1-35d6689ee767",
   "metadata": {
    "execution": {
     "iopub.execute_input": "2023-10-04T03:43:52.928652Z",
     "iopub.status.busy": "2023-10-04T03:43:52.928652Z",
     "iopub.status.idle": "2023-10-04T03:43:52.964952Z",
     "shell.execute_reply": "2023-10-04T03:43:52.963962Z",
     "shell.execute_reply.started": "2023-10-04T03:43:52.928652Z"
    },
    "tags": []
   },
   "outputs": [],
   "source": [
    "pca_new = PCA(n_components=6).fit(pca_overlap.values[:, :-1])\n",
    "transformed_new = pca_new.transform(pca_overlap.values[:,:-1])"
   ]
  },
  {
   "cell_type": "code",
   "execution_count": 287,
   "id": "4f0e7602-502f-4975-9080-eb6ce37aac39",
   "metadata": {
    "execution": {
     "iopub.execute_input": "2023-10-04T03:58:16.860018Z",
     "iopub.status.busy": "2023-10-04T03:58:16.859011Z",
     "iopub.status.idle": "2023-10-04T03:58:17.052477Z",
     "shell.execute_reply": "2023-10-04T03:58:17.052477Z",
     "shell.execute_reply.started": "2023-10-04T03:58:16.860018Z"
    },
    "tags": []
   },
   "outputs": [
    {
     "data": {
      "image/png": "[encoded data removed]",
      "text/plain": [
       "<Figure size 566.5x500 with 1 Axes>"
      ]
     },
     "metadata": {},
     "output_type": "display_data"
    }
   ],
   "source": [
    "pca_plot = sns.relplot(x=transformed_new[:,0], y=transformed_new[:,1], hue  = pca_overlap.data)\n",
    "\n",
    "plt.show()"
   ]
  },
  {
   "cell_type": "code",
   "execution_count": 284,
   "id": "9e4afdce-a8ab-4eda-beae-0bf503f5a8f6",
   "metadata": {
    "execution": {
     "iopub.execute_input": "2023-10-04T03:57:51.385507Z",
     "iopub.status.busy": "2023-10-04T03:57:51.385507Z",
     "iopub.status.idle": "2023-10-04T03:57:51.403447Z",
     "shell.execute_reply": "2023-10-04T03:57:51.402478Z",
     "shell.execute_reply.started": "2023-10-04T03:57:51.385507Z"
    },
    "tags": []
   },
   "outputs": [
    {
     "data": {
      "text/plain": [
       "array([0.15788349, 0.07579112, 0.04876242, 0.04102634, 0.03437371,\n",
       "       0.03202705])"
      ]
     },
     "execution_count": 284,
     "metadata": {},
     "output_type": "execute_result"
    }
   ],
   "source": [
    "pca_new.explained_variance_ratio_"
   ]
  },
  {
   "cell_type": "code",
   "execution_count": 288,
   "id": "e41d80c6-757f-47d6-962c-3831c6bdd0bb",
   "metadata": {
    "execution": {
     "iopub.execute_input": "2023-10-04T04:00:19.852623Z",
     "iopub.status.busy": "2023-10-04T04:00:19.851640Z",
     "iopub.status.idle": "2023-10-04T04:00:20.777306Z",
     "shell.execute_reply": "2023-10-04T04:00:20.776316Z",
     "shell.execute_reply.started": "2023-10-04T04:00:19.852623Z"
    },
    "tags": []
   },
   "outputs": [],
   "source": [
    "bc = pd.read_csv('data/bc_protein.csv').set_index('Cell_Line')  # updated to log2 values\n",
    "pc = pd.read_csv('data/pc_protein.csv').set_index('Cell_Line')"
   ]
  },
  {
   "cell_type": "code",
   "execution_count": 291,
   "id": "e4fa5f50-ee8e-4e32-8585-471eaaeeeac1",
   "metadata": {
    "execution": {
     "iopub.execute_input": "2023-10-04T04:02:15.774691Z",
     "iopub.status.busy": "2023-10-04T04:02:15.774691Z",
     "iopub.status.idle": "2023-10-04T04:02:16.179574Z",
     "shell.execute_reply": "2023-10-04T04:02:16.178654Z",
     "shell.execute_reply.started": "2023-10-04T04:02:15.774691Z"
    },
    "tags": []
   },
   "outputs": [],
   "source": [
    "pc[pca_prots].to_csv('data/pc_pca_protein.csv')\n",
    "bc[pca_prots].to_csv('data/bc_pca_protein.csv')"
   ]
  },
  {
   "cell_type": "markdown",
   "id": "d4897cdd-a42b-4474-8c92-1035f68e81a2",
   "metadata": {},
   "source": [
    "### Correlation IC 50 values"
   ]
  },
  {
   "cell_type": "code",
   "execution_count": 300,
   "id": "93222d59-15cb-4c2d-b922-a406e8a15048",
   "metadata": {
    "execution": {
     "iopub.execute_input": "2023-10-04T04:15:24.385029Z",
     "iopub.status.busy": "2023-10-04T04:15:24.384034Z",
     "iopub.status.idle": "2023-10-04T04:15:24.436504Z",
     "shell.execute_reply": "2023-10-04T04:15:24.435498Z",
     "shell.execute_reply.started": "2023-10-04T04:15:24.385029Z"
    },
    "tags": []
   },
   "outputs": [],
   "source": [
    "bc_response = pd.read_csv('data/bc_drug_response.csv').set_index('cell_line_name')\n",
    "pc_response = pd.read_csv('data/pc_drug_response.csv').set_index('cell_line_name')"
   ]
  },
  {
   "cell_type": "code",
   "execution_count": 301,
   "id": "6e62a542-017d-4d58-80a3-18dd54aa5fb9",
   "metadata": {
    "execution": {
     "iopub.execute_input": "2023-10-04T04:15:25.492845Z",
     "iopub.status.busy": "2023-10-04T04:15:25.491841Z",
     "iopub.status.idle": "2023-10-04T04:15:25.510882Z",
     "shell.execute_reply": "2023-10-04T04:15:25.509832Z",
     "shell.execute_reply.started": "2023-10-04T04:15:25.492845Z"
    },
    "tags": []
   },
   "outputs": [
    {
     "data": {
      "text/html": [
       "<div>\n",
       "<style scoped>\n",
       "    .dataframe tbody tr th:only-of-type {\n",
       "        vertical-align: middle;\n",
       "    }\n",
       "\n",
       "    .dataframe tbody tr th {\n",
       "        vertical-align: top;\n",
       "    }\n",
       "\n",
       "    .dataframe thead th {\n",
       "        text-align: right;\n",
       "    }\n",
       "</style>\n",
       "<table border=\"1\" class=\"dataframe\">\n",
       "  <thead>\n",
       "    <tr style=\"text-align: right;\">\n",
       "      <th></th>\n",
       "      <th>Drug</th>\n",
       "      <th>CHEMBL</th>\n",
       "      <th>IC50</th>\n",
       "      <th>ln_IC50</th>\n",
       "    </tr>\n",
       "    <tr>\n",
       "      <th>cell_line_name</th>\n",
       "      <th></th>\n",
       "      <th></th>\n",
       "      <th></th>\n",
       "      <th></th>\n",
       "    </tr>\n",
       "  </thead>\n",
       "  <tbody>\n",
       "    <tr>\n",
       "      <th>184a1</th>\n",
       "      <td>17-AAG</td>\n",
       "      <td>CHEMBL109480</td>\n",
       "      <td>7.93</td>\n",
       "      <td>2.070653</td>\n",
       "    </tr>\n",
       "    <tr>\n",
       "      <th>184b5</th>\n",
       "      <td>17-AAG</td>\n",
       "      <td>CHEMBL109480</td>\n",
       "      <td>7.56</td>\n",
       "      <td>2.022871</td>\n",
       "    </tr>\n",
       "    <tr>\n",
       "      <th>600mpe</th>\n",
       "      <td>17-AAG</td>\n",
       "      <td>CHEMBL109480</td>\n",
       "      <td>6.65</td>\n",
       "      <td>1.894617</td>\n",
       "    </tr>\n",
       "    <tr>\n",
       "      <th>au565</th>\n",
       "      <td>17-AAG</td>\n",
       "      <td>CHEMBL109480</td>\n",
       "      <td>7.24</td>\n",
       "      <td>1.979621</td>\n",
       "    </tr>\n",
       "    <tr>\n",
       "      <th>bt474</th>\n",
       "      <td>17-AAG</td>\n",
       "      <td>CHEMBL109480</td>\n",
       "      <td>5.84</td>\n",
       "      <td>1.764731</td>\n",
       "    </tr>\n",
       "    <tr>\n",
       "      <th>...</th>\n",
       "      <td>...</td>\n",
       "      <td>...</td>\n",
       "      <td>...</td>\n",
       "      <td>...</td>\n",
       "    </tr>\n",
       "    <tr>\n",
       "      <th>sum225</th>\n",
       "      <td>ZM447439</td>\n",
       "      <td>CHEMBL202721</td>\n",
       "      <td>4.98</td>\n",
       "      <td>1.605430</td>\n",
       "    </tr>\n",
       "    <tr>\n",
       "      <th>sum229</th>\n",
       "      <td>ZM447439</td>\n",
       "      <td>CHEMBL202721</td>\n",
       "      <td>5.93</td>\n",
       "      <td>1.780024</td>\n",
       "    </tr>\n",
       "    <tr>\n",
       "      <th>sum52</th>\n",
       "      <td>ZM447439</td>\n",
       "      <td>CHEMBL202721</td>\n",
       "      <td>5.46</td>\n",
       "      <td>1.697449</td>\n",
       "    </tr>\n",
       "    <tr>\n",
       "      <th>t47d</th>\n",
       "      <td>ZM447439</td>\n",
       "      <td>CHEMBL202721</td>\n",
       "      <td>4.94</td>\n",
       "      <td>1.597365</td>\n",
       "    </tr>\n",
       "    <tr>\n",
       "      <th>zr751</th>\n",
       "      <td>ZM447439</td>\n",
       "      <td>CHEMBL202721</td>\n",
       "      <td>5.47</td>\n",
       "      <td>1.699279</td>\n",
       "    </tr>\n",
       "  </tbody>\n",
       "</table>\n",
       "<p>3315 rows × 4 columns</p>\n",
       "</div>"
      ],
      "text/plain": [
       "                    Drug        CHEMBL  IC50   ln_IC50\n",
       "cell_line_name                                        \n",
       "184a1             17-AAG  CHEMBL109480  7.93  2.070653\n",
       "184b5             17-AAG  CHEMBL109480  7.56  2.022871\n",
       "600mpe            17-AAG  CHEMBL109480  6.65  1.894617\n",
       "au565             17-AAG  CHEMBL109480  7.24  1.979621\n",
       "bt474             17-AAG  CHEMBL109480  5.84  1.764731\n",
       "...                  ...           ...   ...       ...\n",
       "sum225          ZM447439  CHEMBL202721  4.98  1.605430\n",
       "sum229          ZM447439  CHEMBL202721  5.93  1.780024\n",
       "sum52           ZM447439  CHEMBL202721  5.46  1.697449\n",
       "t47d            ZM447439  CHEMBL202721  4.94  1.597365\n",
       "zr751           ZM447439  CHEMBL202721  5.47  1.699279\n",
       "\n",
       "[3315 rows x 4 columns]"
      ]
     },
     "execution_count": 301,
     "metadata": {},
     "output_type": "execute_result"
    }
   ],
   "source": [
    "bc_response"
   ]
  },
  {
   "cell_type": "code",
   "execution_count": 306,
   "id": "ebce46c9-5aff-498c-a858-580cd7e17ab7",
   "metadata": {
    "execution": {
     "iopub.execute_input": "2023-10-04T04:17:28.955214Z",
     "iopub.status.busy": "2023-10-04T04:17:28.955214Z",
     "iopub.status.idle": "2023-10-04T04:17:28.987650Z",
     "shell.execute_reply": "2023-10-04T04:17:28.986641Z",
     "shell.execute_reply.started": "2023-10-04T04:17:28.955214Z"
    }
   },
   "outputs": [],
   "source": [
    "pc_response.index = pc_response.index.str.replace('-', '').str.lower()"
   ]
  },
  {
   "cell_type": "code",
   "execution_count": 307,
   "id": "ecf5bb06-226b-43fe-a2df-025216de8d6e",
   "metadata": {
    "execution": {
     "iopub.execute_input": "2023-10-04T04:17:29.922127Z",
     "iopub.status.busy": "2023-10-04T04:17:29.921130Z",
     "iopub.status.idle": "2023-10-04T04:17:29.951038Z",
     "shell.execute_reply": "2023-10-04T04:17:29.950040Z",
     "shell.execute_reply.started": "2023-10-04T04:17:29.922127Z"
    },
    "tags": []
   },
   "outputs": [
    {
     "data": {
      "text/html": [
       "<div>\n",
       "<style scoped>\n",
       "    .dataframe tbody tr th:only-of-type {\n",
       "        vertical-align: middle;\n",
       "    }\n",
       "\n",
       "    .dataframe tbody tr th {\n",
       "        vertical-align: top;\n",
       "    }\n",
       "\n",
       "    .dataframe thead th {\n",
       "        text-align: right;\n",
       "    }\n",
       "</style>\n",
       "<table border=\"1\" class=\"dataframe\">\n",
       "  <thead>\n",
       "    <tr style=\"text-align: right;\">\n",
       "      <th></th>\n",
       "      <th>drug_id</th>\n",
       "      <th>putative_target</th>\n",
       "      <th>CHEMBL</th>\n",
       "      <th>drug_name</th>\n",
       "      <th>putative_gene_target</th>\n",
       "      <th>dataset</th>\n",
       "      <th>ln_IC50</th>\n",
       "      <th>drug_owner</th>\n",
       "      <th>max_screening_conc</th>\n",
       "      <th>target_pathway</th>\n",
       "      <th>tissue</th>\n",
       "    </tr>\n",
       "    <tr>\n",
       "      <th>cell_line_name</th>\n",
       "      <th></th>\n",
       "      <th></th>\n",
       "      <th></th>\n",
       "      <th></th>\n",
       "      <th></th>\n",
       "      <th></th>\n",
       "      <th></th>\n",
       "      <th></th>\n",
       "      <th></th>\n",
       "      <th></th>\n",
       "      <th></th>\n",
       "    </tr>\n",
       "  </thead>\n",
       "  <tbody>\n",
       "    <tr>\n",
       "      <th>au565</th>\n",
       "      <td>1007</td>\n",
       "      <td>Microtubule stabiliser</td>\n",
       "      <td>CHEMBL92</td>\n",
       "      <td>Docetaxel</td>\n",
       "      <td>NaN</td>\n",
       "      <td>GDSC2</td>\n",
       "      <td>-5.471333</td>\n",
       "      <td>GDSC</td>\n",
       "      <td>0.0125</td>\n",
       "      <td>Mitosis</td>\n",
       "      <td>Breast</td>\n",
       "    </tr>\n",
       "    <tr>\n",
       "      <th>au565</th>\n",
       "      <td>1008</td>\n",
       "      <td>Antimetabolite</td>\n",
       "      <td>CHEMBL34259</td>\n",
       "      <td>Methotrexate</td>\n",
       "      <td>DHFR</td>\n",
       "      <td>GDSC2</td>\n",
       "      <td>-2.389451</td>\n",
       "      <td>GDSC</td>\n",
       "      <td>1.0000</td>\n",
       "      <td>DNA replication</td>\n",
       "      <td>Breast</td>\n",
       "    </tr>\n",
       "    <tr>\n",
       "      <th>au565</th>\n",
       "      <td>1010</td>\n",
       "      <td>EGFR</td>\n",
       "      <td>CHEMBL939</td>\n",
       "      <td>Gefitinib</td>\n",
       "      <td>EGFR</td>\n",
       "      <td>GDSC2</td>\n",
       "      <td>1.453729</td>\n",
       "      <td>GDSC</td>\n",
       "      <td>2.0000</td>\n",
       "      <td>EGFR signaling</td>\n",
       "      <td>Breast</td>\n",
       "    </tr>\n",
       "    <tr>\n",
       "      <th>au565</th>\n",
       "      <td>1012</td>\n",
       "      <td>HDAC inhibitor Class I, IIa, IIb, IV</td>\n",
       "      <td>CHEMBL98</td>\n",
       "      <td>Vorinostat</td>\n",
       "      <td>HDAC1;HDAC10;HDAC2;HDAC3;HDAC4;HDAC5;HDAC6;HDA...</td>\n",
       "      <td>GDSC2</td>\n",
       "      <td>1.327033</td>\n",
       "      <td>GDSC</td>\n",
       "      <td>10.0000</td>\n",
       "      <td>Chromatin histone acetylation</td>\n",
       "      <td>Breast</td>\n",
       "    </tr>\n",
       "    <tr>\n",
       "      <th>au565</th>\n",
       "      <td>1016</td>\n",
       "      <td>MTOR</td>\n",
       "      <td>CHEMBL1201182</td>\n",
       "      <td>Temsirolimus</td>\n",
       "      <td>MTOR</td>\n",
       "      <td>GDSC1</td>\n",
       "      <td>-2.155877</td>\n",
       "      <td>GDSC</td>\n",
       "      <td>0.2000</td>\n",
       "      <td>PI3K/MTOR signaling</td>\n",
       "      <td>Breast</td>\n",
       "    </tr>\n",
       "    <tr>\n",
       "      <th>...</th>\n",
       "      <td>...</td>\n",
       "      <td>...</td>\n",
       "      <td>...</td>\n",
       "      <td>...</td>\n",
       "      <td>...</td>\n",
       "      <td>...</td>\n",
       "      <td>...</td>\n",
       "      <td>...</td>\n",
       "      <td>...</td>\n",
       "      <td>...</td>\n",
       "      <td>...</td>\n",
       "    </tr>\n",
       "    <tr>\n",
       "      <th>uacc893</th>\n",
       "      <td>1529</td>\n",
       "      <td>NAE</td>\n",
       "      <td>CHEMBL1231160</td>\n",
       "      <td>Pevonedistat</td>\n",
       "      <td>NAE1</td>\n",
       "      <td>GDSC2</td>\n",
       "      <td>3.257162</td>\n",
       "      <td>GDSC</td>\n",
       "      <td>10.0000</td>\n",
       "      <td>Other</td>\n",
       "      <td>Breast</td>\n",
       "    </tr>\n",
       "    <tr>\n",
       "      <th>uacc893</th>\n",
       "      <td>1553</td>\n",
       "      <td>AKT1, AKT2, AKT3</td>\n",
       "      <td>CHEMBL3137336</td>\n",
       "      <td>Uprosertib</td>\n",
       "      <td>AKT1;AKT2;AKT3</td>\n",
       "      <td>GDSC2</td>\n",
       "      <td>-0.422976</td>\n",
       "      <td>GDSC</td>\n",
       "      <td>10.0000</td>\n",
       "      <td>PI3K/MTOR signaling</td>\n",
       "      <td>Breast</td>\n",
       "    </tr>\n",
       "    <tr>\n",
       "      <th>uacc893</th>\n",
       "      <td>1558</td>\n",
       "      <td>EGFR, ERBB2</td>\n",
       "      <td>CHEMBL554</td>\n",
       "      <td>Lapatinib</td>\n",
       "      <td>EGFR;ERBB2</td>\n",
       "      <td>GDSC2</td>\n",
       "      <td>-0.576150</td>\n",
       "      <td>GDSC</td>\n",
       "      <td>10.0000</td>\n",
       "      <td>EGFR signaling</td>\n",
       "      <td>Breast</td>\n",
       "    </tr>\n",
       "    <tr>\n",
       "      <th>uacc893</th>\n",
       "      <td>1862</td>\n",
       "      <td>Proteasome, CAPN1</td>\n",
       "      <td>CHEMBL64925</td>\n",
       "      <td>MG-132</td>\n",
       "      <td>NaN</td>\n",
       "      <td>GDSC2</td>\n",
       "      <td>1.859101</td>\n",
       "      <td>GDSC</td>\n",
       "      <td>4.0000</td>\n",
       "      <td>Protein stability and degradation</td>\n",
       "      <td>Breast</td>\n",
       "    </tr>\n",
       "    <tr>\n",
       "      <th>uacc893</th>\n",
       "      <td>2048</td>\n",
       "      <td>Microtubule destabiliser</td>\n",
       "      <td>CHEMBL553025</td>\n",
       "      <td>Vinorelbine</td>\n",
       "      <td>NaN</td>\n",
       "      <td>GDSC2</td>\n",
       "      <td>-1.146481</td>\n",
       "      <td>GDSC</td>\n",
       "      <td>0.1000</td>\n",
       "      <td>Mitosis</td>\n",
       "      <td>Breast</td>\n",
       "    </tr>\n",
       "  </tbody>\n",
       "</table>\n",
       "<p>2848 rows × 11 columns</p>\n",
       "</div>"
      ],
      "text/plain": [
       "                drug_id                       putative_target         CHEMBL  \\\n",
       "cell_line_name                                                                 \n",
       "au565              1007                Microtubule stabiliser       CHEMBL92   \n",
       "au565              1008                        Antimetabolite    CHEMBL34259   \n",
       "au565              1010                                  EGFR      CHEMBL939   \n",
       "au565              1012  HDAC inhibitor Class I, IIa, IIb, IV       CHEMBL98   \n",
       "au565              1016                                  MTOR  CHEMBL1201182   \n",
       "...                 ...                                   ...            ...   \n",
       "uacc893            1529                                   NAE  CHEMBL1231160   \n",
       "uacc893            1553                      AKT1, AKT2, AKT3  CHEMBL3137336   \n",
       "uacc893            1558                           EGFR, ERBB2      CHEMBL554   \n",
       "uacc893            1862                     Proteasome, CAPN1    CHEMBL64925   \n",
       "uacc893            2048              Microtubule destabiliser   CHEMBL553025   \n",
       "\n",
       "                   drug_name  \\\n",
       "cell_line_name                 \n",
       "au565              Docetaxel   \n",
       "au565           Methotrexate   \n",
       "au565              Gefitinib   \n",
       "au565             Vorinostat   \n",
       "au565           Temsirolimus   \n",
       "...                      ...   \n",
       "uacc893         Pevonedistat   \n",
       "uacc893           Uprosertib   \n",
       "uacc893            Lapatinib   \n",
       "uacc893               MG-132   \n",
       "uacc893          Vinorelbine   \n",
       "\n",
       "                                             putative_gene_target dataset  \\\n",
       "cell_line_name                                                              \n",
       "au565                                                         NaN   GDSC2   \n",
       "au565                                                        DHFR   GDSC2   \n",
       "au565                                                        EGFR   GDSC2   \n",
       "au565           HDAC1;HDAC10;HDAC2;HDAC3;HDAC4;HDAC5;HDAC6;HDA...   GDSC2   \n",
       "au565                                                        MTOR   GDSC1   \n",
       "...                                                           ...     ...   \n",
       "uacc893                                                      NAE1   GDSC2   \n",
       "uacc893                                            AKT1;AKT2;AKT3   GDSC2   \n",
       "uacc893                                                EGFR;ERBB2   GDSC2   \n",
       "uacc893                                                       NaN   GDSC2   \n",
       "uacc893                                                       NaN   GDSC2   \n",
       "\n",
       "                 ln_IC50 drug_owner  max_screening_conc  \\\n",
       "cell_line_name                                            \n",
       "au565          -5.471333       GDSC              0.0125   \n",
       "au565          -2.389451       GDSC              1.0000   \n",
       "au565           1.453729       GDSC              2.0000   \n",
       "au565           1.327033       GDSC             10.0000   \n",
       "au565          -2.155877       GDSC              0.2000   \n",
       "...                  ...        ...                 ...   \n",
       "uacc893         3.257162       GDSC             10.0000   \n",
       "uacc893        -0.422976       GDSC             10.0000   \n",
       "uacc893        -0.576150       GDSC             10.0000   \n",
       "uacc893         1.859101       GDSC              4.0000   \n",
       "uacc893        -1.146481       GDSC              0.1000   \n",
       "\n",
       "                                   target_pathway  tissue  \n",
       "cell_line_name                                             \n",
       "au565                                     Mitosis  Breast  \n",
       "au565                             DNA replication  Breast  \n",
       "au565                              EGFR signaling  Breast  \n",
       "au565               Chromatin histone acetylation  Breast  \n",
       "au565                         PI3K/MTOR signaling  Breast  \n",
       "...                                           ...     ...  \n",
       "uacc893                                     Other  Breast  \n",
       "uacc893                       PI3K/MTOR signaling  Breast  \n",
       "uacc893                            EGFR signaling  Breast  \n",
       "uacc893         Protein stability and degradation  Breast  \n",
       "uacc893                                   Mitosis  Breast  \n",
       "\n",
       "[2848 rows x 11 columns]"
      ]
     },
     "execution_count": 307,
     "metadata": {},
     "output_type": "execute_result"
    }
   ],
   "source": [
    "pc_response.loc[pca_overlap.index.to_list(),]"
   ]
  },
  {
   "cell_type": "code",
   "execution_count": 311,
   "id": "28121189-5831-4b78-9847-42d07adee12e",
   "metadata": {
    "execution": {
     "iopub.execute_input": "2023-10-04T04:27:56.094202Z",
     "iopub.status.busy": "2023-10-04T04:27:56.093205Z",
     "iopub.status.idle": "2023-10-04T04:27:56.120616Z",
     "shell.execute_reply": "2023-10-04T04:27:56.119109Z",
     "shell.execute_reply.started": "2023-10-04T04:27:56.094202Z"
    },
    "tags": []
   },
   "outputs": [],
   "source": [
    "response = pd.merge(pc_response, bc_response, on=['CHEMBL', 'cell_line_name'])"
   ]
  },
  {
   "cell_type": "code",
   "execution_count": 320,
   "id": "c9ecdfd1-950a-483b-8f50-f39dea98f4bd",
   "metadata": {
    "execution": {
     "iopub.execute_input": "2023-10-04T04:47:39.651764Z",
     "iopub.status.busy": "2023-10-04T04:47:39.651764Z",
     "iopub.status.idle": "2023-10-04T04:47:39.802385Z",
     "shell.execute_reply": "2023-10-04T04:47:39.802385Z",
     "shell.execute_reply.started": "2023-10-04T04:47:39.651764Z"
    },
    "tags": []
   },
   "outputs": [
    {
     "data": {
      "text/plain": [
       "<Axes: >"
      ]
     },
     "execution_count": 320,
     "metadata": {},
     "output_type": "execute_result"
    },
    {
     "data": {
      "image/png": "[encoded data removed]",
      "text/plain": [
       "<Figure size 640x480 with 1 Axes>"
      ]
     },
     "metadata": {},
     "output_type": "display_data"
    }
   ],
   "source": [
    "response.groupby('CHEMBL')[['ln_IC50_x', 'ln_IC50_y']].corr().unstack().iloc[:,1].hist()"
   ]
  },
  {
   "cell_type": "code",
   "execution_count": null,
   "id": "a3c5f8fc-a6e2-42be-b495-1777777f140f",
   "metadata": {},
   "outputs": [],
   "source": []
  }
 ],
 "metadata": {
  "kernelspec": {
   "display_name": "Python 3 (ipykernel)",
   "language": "python",
   "name": "python3"
  },
  "language_info": {
   "codemirror_mode": {
    "name": "ipython",
    "version": 3
   },
   "file_extension": ".py",
   "mimetype": "text/x-python",
   "name": "python",
   "nbconvert_exporter": "python",
   "pygments_lexer": "ipython3",
   "version": "3.9.17"
  },
  "widgets": {
   "application/vnd.jupyter.widget-state+json": {
    "state": {},
    "version_major": 2,
    "version_minor": 0
   }
  }
 },
 "nbformat": 4,
 "nbformat_minor": 5
}
